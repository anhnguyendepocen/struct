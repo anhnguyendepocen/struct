{
 "cells": [
  {
   "cell_type": "code",
   "execution_count": 32,
   "metadata": {},
   "outputs": [],
   "source": [
    "import pandas as pd\n",
    "import math\n",
    "import numpy as np\n",
    "import matplotlib.pyplot as plt\n",
    "import statsmodels.api as sm\n",
    "from scipy.stats import norm\n",
    "from statsmodels.sandbox.regression.gmm import GMM\n",
    "from statsmodels.base.model import GenericLikelihoodModel"
   ]
  },
  {
   "cell_type": "code",
   "execution_count": 33,
   "metadata": {},
   "outputs": [
    {
     "name": "stdout",
     "output_type": "stream",
     "text": [
      "Market_ID             600.000000\n",
      "Plan_ID                16.000000\n",
      "PPO                     1.000000\n",
      "Network Score           0.920000\n",
      "Satisfaction Score      0.925000\n",
      "Premium                 3.090915\n",
      "Inside Good Share       0.355610\n",
      "dtype: float64\n",
      "\n",
      "\n",
      "Market_ID             353.530303\n",
      "Plan_ID                 8.570606\n",
      "PPO                     0.494545\n",
      "Network Score           0.871382\n",
      "Satisfaction Score      0.842170\n",
      "Premium                 2.465963\n",
      "Inside Good Share       0.155441\n",
      "Outside Good Share      0.134506\n",
      "Nest Market Size        0.521274\n",
      "dtype: float64\n"
     ]
    }
   ],
   "source": [
    "data = pd.read_csv('data.csv')\n",
    "print data.max()\n",
    "print '\\n'\n",
    "|\n",
    "#pre-processing to calculate outside good shares\n",
    "shares = data[['Market_ID','Inside Good Share','PPO']].copy()\n",
    "shares['PPO Share'] = data['Inside Good Share'] * data['PPO']\n",
    "shares['HMO Share'] = data['Inside Good Share'] * 1 - data['PPO']\n",
    "\n",
    "group_shares = shares.groupby('Market_ID').sum()\n",
    "\n",
    "group_shares['Nest Market Size'] = group_shares[['PPO Share','HMO Share']].max(axis=1)\n",
    "group_shares['Outside Good Share'] = 1 - group_shares['Inside Good Share']\n",
    "\n",
    "data = pd.merge(data,group_shares[['Outside Good Share','Nest Market Size']], \n",
    "                right_index=True, left_on = 'Market_ID')\n",
    "\n",
    "print data.mean()\n",
    "\n",
    "#calculate ln(Inside Good Share)\n",
    "data['ln(Inside Good Share)'] = np.log( data['Inside Good Share']/data['Nest Market Size'] ) "
   ]
  },
  {
   "cell_type": "code",
   "execution_count": 69,
   "metadata": {},
   "outputs": [],
   "source": [
    "#calculate hausmann insturments\n",
    "mkt_dum = pd.get_dummies(data['Market_ID'],prefix='mkt',drop_first=True)\n",
    "plan_dum = pd.get_dummies(data['Plan_ID'],prefix='plan',drop_first=True)\n",
    "hausman_instr = pd.concat([market_dum,plan_dum],axis=1)\n",
    "\n",
    "\n",
    "#hausman_model = sm.OLS(data['Premium'],x_hausman)\n",
    "#hausman_result = hausman_model.fit()\n",
    "#data['Hausman'] = hausman_result.fittedvalues"
   ]
  },
  {
   "cell_type": "code",
   "execution_count": 70,
   "metadata": {},
   "outputs": [],
   "source": [
    "#set up data for logit\n",
    "y = data[['Inside Good Share','Outside Good Share']]\n",
    "x =  data[['Network Score','Satisfaction Score','Premium']]\n",
    "\n",
    "# add ln(inside good share) as regressor like formula\n",
    "x_nested = data[['Network Score','Satisfaction Score','Premium','ln(Inside Good Share)']]"
   ]
  },
  {
   "cell_type": "code",
   "execution_count": 71,
   "metadata": {},
   "outputs": [
    {
     "name": "stdout",
     "output_type": "stream",
     "text": [
      "Optimization terminated successfully.\n",
      "         Current function value: 0.002812\n",
      "         Iterations: 163\n",
      "         Function evaluations: 294\n",
      "Optimization terminated successfully.\n",
      "         Current function value: 0.595419\n",
      "         Iterations: 99\n",
      "         Function evaluations: 180\n",
      "                                             logit Results                                             \n",
      "=======================================================================================================\n",
      "Dep. Variable:     ['Inside Good Share', 'Outside Good Share']   Hansen J:                        1965.\n",
      "Model:                                                   logit   Prob (Hansen J):             1.79e-141\n",
      "Method:                                                    GMM                                         \n",
      "Date:                                         Tue, 02 Oct 2018                                         \n",
      "Time:                                                 09:37:25                                         \n",
      "No. Observations:                                         3300                                         \n",
      "======================================================================================\n",
      "                         coef    std err          z      P>|z|      [0.025      0.975]\n",
      "--------------------------------------------------------------------------------------\n",
      "Network Score         -3.2717      0.081    -40.469      0.000      -3.430      -3.113\n",
      "Satisfaction Score     1.9577      0.067     29.270      0.000       1.827       2.089\n",
      "Premium                0.5387      0.017     31.670      0.000       0.505       0.572\n",
      "======================================================================================\n"
     ]
    }
   ],
   "source": [
    "#first estimate using logit\n",
    "class logit(GMM):\n",
    "    \n",
    "    def __init__(self, *args, **kwds):\n",
    "        # set appropriate counts for moment conditions and parameters\n",
    "        super(logit, self).__init__(*args, **kwds)\n",
    "\n",
    "        \n",
    "    def momcond(self, params):\n",
    "        #unwrap stuff\n",
    "        shares = np.array(self.endog).transpose()\n",
    "        exog = np.array(self.exog)\n",
    "        instr = np.array(self.instrument)\n",
    "        \n",
    "        lshare = np.log(shares[0]) -  np.log(shares[1])\n",
    "        lshare = lshare.transpose()\n",
    "       \n",
    "        lshare_fit = np.matmul(exog,params) #linear equation    \n",
    "        \n",
    "        xi = lshare_fit - lshare\n",
    "        g = instr * xi[:, np.newaxis]\n",
    "        \n",
    "        return g \n",
    "\n",
    "    \n",
    "#set up initial est\n",
    "beta_init = np.full(len(x.columns),1)\n",
    "\n",
    "#set up model\n",
    "model1 = logit(y , x, hausman_instr)\n",
    "\n",
    "result1 = model1.fit(beta_init, maxiter=2, optim_method='nm', wargs=dict(centered=False))\n",
    "print(result1.summary())"
   ]
  },
  {
   "cell_type": "code",
   "execution_count": 72,
   "metadata": {},
   "outputs": [
    {
     "name": "stdout",
     "output_type": "stream",
     "text": [
      "Optimization terminated successfully.\n",
      "         Current function value: 0.000343\n",
      "         Iterations: 236\n",
      "         Function evaluations: 393\n",
      "Optimization terminated successfully.\n",
      "         Current function value: 0.383234\n",
      "         Iterations: 305\n",
      "         Function evaluations: 504\n",
      "                                             logit Results                                             \n",
      "=======================================================================================================\n",
      "Dep. Variable:     ['Inside Good Share', 'Outside Good Share']   Hansen J:                        1265.\n",
      "Model:                                                   logit   Prob (Hansen J):              7.98e-48\n",
      "Method:                                                    GMM                                         \n",
      "Date:                                         Tue, 02 Oct 2018                                         \n",
      "Time:                                                 09:37:45                                         \n",
      "No. Observations:                                         3300                                         \n",
      "=========================================================================================\n",
      "                            coef    std err          z      P>|z|      [0.025      0.975]\n",
      "-----------------------------------------------------------------------------------------\n",
      "Network Score            -1.5498      0.105    -14.781      0.000      -1.755      -1.344\n",
      "Satisfaction Score        0.5968      0.087      6.857      0.000       0.426       0.767\n",
      "Premium                   0.6421      0.023     27.401      0.000       0.596       0.688\n",
      "ln(Inside Good Share)     0.4819      0.006     84.921      0.000       0.471       0.493\n",
      "=========================================================================================\n"
     ]
    }
   ],
   "source": [
    "#set up and run model\n",
    "beta_nested = np.full(len(x_nested.columns),1)\n",
    "model2 = logit(y , x_nested, hausman_instr)\n",
    "result2 = model2.fit(beta_nested, maxiter=2, optim_method='nm', wargs=dict(centered=False))\n",
    "\n",
    "print(result2.summary())"
   ]
  },
  {
   "cell_type": "code",
   "execution_count": null,
   "metadata": {},
   "outputs": [],
   "source": []
  }
 ],
 "metadata": {
  "kernelspec": {
   "display_name": "Python 2",
   "language": "python",
   "name": "python2"
  },
  "language_info": {
   "codemirror_mode": {
    "name": "ipython",
    "version": 2
   },
   "file_extension": ".py",
   "mimetype": "text/x-python",
   "name": "python",
   "nbconvert_exporter": "python",
   "pygments_lexer": "ipython2",
   "version": "2.7.15"
  }
 },
 "nbformat": 4,
 "nbformat_minor": 2
}
