{
 "cells": [
  {
   "cell_type": "code",
   "execution_count": 1,
   "metadata": {},
   "outputs": [],
   "source": [
    "import pandas as pd\n",
    "import math\n",
    "import numpy as np\n",
    "import matplotlib.pyplot as plt\n",
    "import statsmodels.api as sm\n",
    "from scipy.stats import norm\n",
    "from statsmodels.sandbox.regression.gmm import GMM\n",
    "from statsmodels.base.model import GenericLikelihoodModel"
   ]
  },
  {
   "cell_type": "code",
   "execution_count": 6,
   "metadata": {},
   "outputs": [
    {
     "name": "stdout",
     "output_type": "stream",
     "text": [
      "Market_ID             600.000000\n",
      "Plan_ID                16.000000\n",
      "PPO                     1.000000\n",
      "Network Score           0.920000\n",
      "Satisfaction Score      0.925000\n",
      "Premium                 3.090915\n",
      "Inside Good Share       0.355610\n",
      "dtype: float64\n",
      "\n",
      "\n",
      "Market_ID             353.530303\n",
      "Plan_ID                 8.570606\n",
      "PPO                     0.494545\n",
      "Network Score           0.871382\n",
      "Satisfaction Score      0.842170\n",
      "Premium                 2.465963\n",
      "Inside Good Share       0.155441\n",
      "Outside Good Share      0.134506\n",
      "Nest Market Size        0.521274\n",
      "dtype: float64\n"
     ]
    }
   ],
   "source": [
    "data = pd.read_csv('data.csv')\n",
    "print data.max()\n",
    "print '\\n'\n",
    "\n",
    "#pre-processing to calculate outside good shares\n",
    "shares = data[['Market_ID','Inside Good Share','PPO']].copy()\n",
    "shares['PPO Share'] = data['Inside Good Share'] * data['PPO']\n",
    "shares['HMO Share'] = data['Inside Good Share'] * 1 - data['PPO']\n",
    "\n",
    "group_shares = shares.groupby('Market_ID').sum()\n",
    "\n",
    "group_shares['Nest Market Size'] = group_shares[['PPO Share','HMO Share']].max(axis=1)\n",
    "group_shares['Outside Good Share'] = 1 - group_shares['Inside Good Share']\n",
    "\n",
    "data = pd.merge(data,group_shares[['Outside Good Share','Nest Market Size']], \n",
    "                right_index=True, left_on = 'Market_ID')\n",
    "\n",
    "print data.mean()\n",
    "\n",
    "#calculate ln(Inside Good Share)\n",
    "data['ln(Inside Good Share)'] = np.log( data['Inside Good Share']/data['Nest Market Size'] ) "
   ]
  },
  {
   "cell_type": "code",
   "execution_count": 8,
   "metadata": {},
   "outputs": [],
   "source": [
    "#calculate hausmann insturments\n",
    "mkt_dum = pd.get_dummies(data['Market_ID'],prefix='mkt',drop_first=True)\n",
    "plan_dum = pd.get_dummies(data['Plan_ID'],prefix='plan',drop_first=True)\n",
    "hausman_instr = pd.concat([mkt_dum,plan_dum],axis=1)\n",
    "\n",
    "\n",
    "#hausman_model = sm.OLS(data['Premium'],x_hausman)\n",
    "#hausman_result = hausman_model.fit()\n",
    "#data['Hausman'] = hausman_result.fittedvalues"
   ]
  },
  {
   "cell_type": "code",
   "execution_count": 12,
   "metadata": {},
   "outputs": [],
   "source": [
    "#set up data for logit\n",
    "y = data[['Inside Good Share','Outside Good Share']]\n",
    "x =  data[['Network Score','Satisfaction Score','Premium','PPO']]\n",
    "\n",
    "# add ln(inside good share) as regressor like formula\n",
    "x_nested = data[['Network Score','Satisfaction Score','Premium','PPO','ln(Inside Good Share)']]"
   ]
  },
  {
   "cell_type": "code",
   "execution_count": 10,
   "metadata": {},
   "outputs": [
    {
     "name": "stdout",
     "output_type": "stream",
     "text": [
      "Optimization terminated successfully.\n",
      "         Current function value: 0.000042\n",
      "         Iterations: 290\n",
      "         Function evaluations: 501\n",
      "Optimization terminated successfully.\n",
      "         Current function value: 0.598377\n",
      "         Iterations: 187\n",
      "         Function evaluations: 318\n",
      "                                             logit Results                                             \n",
      "=======================================================================================================\n",
      "Dep. Variable:     ['Inside Good Share', 'Outside Good Share']   Hansen J:                        1975.\n",
      "Model:                                                   logit   Prob (Hansen J):             1.90e-143\n",
      "Method:                                                    GMM                                         \n",
      "Date:                                         Wed, 03 Oct 2018                                         \n",
      "Time:                                                 19:58:54                                         \n",
      "No. Observations:                                         3300                                         \n",
      "======================================================================================\n",
      "                         coef    std err          z      P>|z|      [0.025      0.975]\n",
      "--------------------------------------------------------------------------------------\n",
      "Network Score          2.1226      0.080     26.601      0.000       1.966       2.279\n",
      "Satisfaction Score     1.8338      0.056     32.669      0.000       1.724       1.944\n",
      "Premium               -1.4755      0.023    -63.765      0.000      -1.521      -1.430\n",
      "PPO                    0.6814      0.007    103.705      0.000       0.669       0.694\n",
      "======================================================================================\n"
     ]
    }
   ],
   "source": [
    "#first estimate using logit\n",
    "class logit(GMM):\n",
    "    \n",
    "    def __init__(self, *args, **kwds):\n",
    "        # set appropriate counts for moment conditions and parameters\n",
    "        super(logit, self).__init__(*args, **kwds)\n",
    "\n",
    "        \n",
    "    def momcond(self, params):\n",
    "        #unwrap stuff\n",
    "        shares = np.array(self.endog).transpose()\n",
    "        exog = np.array(self.exog)\n",
    "        instr = np.array(self.instrument)\n",
    "        \n",
    "        lshare = np.log(shares[0]) -  np.log(shares[1])\n",
    "        lshare = lshare.transpose()\n",
    "       \n",
    "        lshare_fit = np.matmul(exog,params) #linear equation    \n",
    "        \n",
    "        xi = lshare_fit - lshare\n",
    "        g = instr * xi[:, np.newaxis]\n",
    "        \n",
    "        return g \n",
    "\n",
    "    \n",
    "#set up initial est\n",
    "beta_init = np.full(len(x.columns),1)\n",
    "\n",
    "#set up model\n",
    "model1 = logit(y , x, hausman_instr)\n",
    "\n",
    "result1 = model1.fit(beta_init, maxiter=2, optim_method='nm', wargs=dict(centered=False))\n",
    "print(result1.summary())"
   ]
  },
  {
   "cell_type": "code",
   "execution_count": 13,
   "metadata": {},
   "outputs": [
    {
     "name": "stdout",
     "output_type": "stream",
     "text": [
      "Optimization terminated successfully.\n",
      "         Current function value: 0.000010\n",
      "         Iterations: 607\n",
      "         Function evaluations: 979\n",
      "Optimization terminated successfully.\n",
      "         Current function value: 0.513649\n",
      "         Iterations: 275\n",
      "         Function evaluations: 452\n",
      "                                             logit Results                                             \n",
      "=======================================================================================================\n",
      "Dep. Variable:     ['Inside Good Share', 'Outside Good Share']   Hansen J:                        1695.\n",
      "Model:                                                   logit   Prob (Hansen J):             4.42e-103\n",
      "Method:                                                    GMM                                         \n",
      "Date:                                         Wed, 03 Oct 2018                                         \n",
      "Time:                                                 19:59:57                                         \n",
      "No. Observations:                                         3300                                         \n",
      "=========================================================================================\n",
      "                            coef    std err          z      P>|z|      [0.025      0.975]\n",
      "-----------------------------------------------------------------------------------------\n",
      "Network Score             2.3964      0.038     62.443      0.000       2.321       2.472\n",
      "Satisfaction Score        1.4019      0.027     51.715      0.000       1.349       1.455\n",
      "Premium                  -1.2846      0.012   -109.891      0.000      -1.308      -1.262\n",
      "PPO                       0.6169      0.003    191.979      0.000       0.611       0.623\n",
      "ln(Inside Good Share)     0.2506      0.002    148.767      0.000       0.247       0.254\n",
      "=========================================================================================\n"
     ]
    }
   ],
   "source": [
    "#set up and run model\n",
    "beta_nested = np.full(len(x_nested.columns),1)\n",
    "model2 = logit(y , x_nested, hausman_instr)\n",
    "result2 = model2.fit(beta_nested, maxiter=2, optim_method='nm', wargs=dict(centered=False))\n",
    "\n",
    "print(result2.summary())"
   ]
  },
  {
   "cell_type": "code",
   "execution_count": null,
   "metadata": {},
   "outputs": [],
   "source": []
  }
 ],
 "metadata": {
  "kernelspec": {
   "display_name": "Python 2",
   "language": "python",
   "name": "python2"
  },
  "language_info": {
   "codemirror_mode": {
    "name": "ipython",
    "version": 2
   },
   "file_extension": ".py",
   "mimetype": "text/x-python",
   "name": "python",
   "nbconvert_exporter": "python",
   "pygments_lexer": "ipython2",
   "version": "2.7.15"
  }
 },
 "nbformat": 4,
 "nbformat_minor": 2
}
