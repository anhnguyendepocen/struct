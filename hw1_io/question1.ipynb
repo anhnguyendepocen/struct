{
 "cells": [
  {
   "cell_type": "code",
   "execution_count": 49,
   "metadata": {},
   "outputs": [],
   "source": [
    "import pandas as pd\n",
    "import math\n",
    "import numpy as np\n",
    "import matplotlib.pyplot as plt\n",
    "import statsmodels.api as sm\n",
    "from scipy.stats import norm\n",
    "from statsmodels.sandbox.regression.gmm import GMM\n",
    "from statsmodels.base.model import GenericLikelihoodModel"
   ]
  },
  {
   "cell_type": "code",
   "execution_count": 50,
   "metadata": {},
   "outputs": [
    {
     "name": "stdout",
     "output_type": "stream",
     "text": [
      "Market_ID                1.000000\n",
      "Plan_ID                  1.000000\n",
      "PPO                      0.000000\n",
      "Network Score            0.780000\n",
      "Satisfaction Score       0.725000\n",
      "Premium                  2.269728\n",
      "Inside Good Share        0.037670\n",
      "Outside Good Share       0.096070\n",
      "PPO Share                0.000000\n",
      "HMO Share                0.000000\n",
      "Nest Market Size         0.000000\n",
      "ln(Inside Good Share)   -2.428602\n",
      "dtype: float64\n"
     ]
    }
   ],
   "source": [
    "data = pd.read_csv('data.csv')\n",
    "\n",
    "#pre-processing to calculate outside good shares\n",
    "shares = data[['Market_ID','Inside Good Share','PPO']].copy()\n",
    "shares['PPO Share'] = data['Inside Good Share'] * data['PPO']\n",
    "shares['HMO Share'] = data['Inside Good Share'] * (1 - data['PPO'])\n",
    "\n",
    "group_shares = shares.groupby('Market_ID').sum()\n",
    "group_shares['Outside Good Share'] = 1 - group_shares['Inside Good Share']\n",
    "\n",
    "data = pd.merge(data,group_shares[['Outside Good Share','PPO Share','HMO Share']], \n",
    "                right_index=True, left_on = 'Market_ID')\n",
    "\n",
    "data['Nest Market Size'] = ( (data['Inside Good Share'] * data['PPO']) / data['PPO Share'] \n",
    "                            + (data['Inside Good Share'] * (1 - data['PPO'])) /data['HMO Share'])\n",
    "\n",
    "#calculate ln(Inside Good Share)\n",
    "data['ln(Inside Good Share)'] = np.log( data['Inside Good Share']/data['Nest Market Size'] ) \n",
    "data = data.fillna(0) #necessary for log(1), unsure why\n",
    "\n",
    "print data.min()"
   ]
  },
  {
   "cell_type": "code",
   "execution_count": 51,
   "metadata": {},
   "outputs": [],
   "source": [
    "#calculate hausmann insturments\n",
    "mkt_dum = pd.get_dummies(data['Market_ID'],prefix='mkt',drop_first=True)\n",
    "plan_dum = pd.get_dummies(data['Plan_ID'],prefix='plan',drop_first=True)\n",
    "#hausman_instr = pd.concat([mkt_dum,plan_dum],axis=1)\n",
    "hausman_instr = plan_dum"
   ]
  },
  {
   "cell_type": "code",
   "execution_count": 52,
   "metadata": {},
   "outputs": [],
   "source": [
    "#set up data for logit\n",
    "y = data[['Inside Good Share','Outside Good Share']]\n",
    "x =  data[['Network Score','Satisfaction Score','PPO','Premium']]\n",
    "\n",
    "# add ln(inside good share) as regressor like formula\n",
    "x_nested = data[['Network Score','Satisfaction Score','PPO','Premium','ln(Inside Good Share)']]"
   ]
  },
  {
   "cell_type": "code",
   "execution_count": 53,
   "metadata": {},
   "outputs": [
    {
     "name": "stdout",
     "output_type": "stream",
     "text": [
      "Optimization terminated successfully.\n",
      "         Current function value: 0.000008\n",
      "         Iterations: 292\n",
      "         Function evaluations: 497\n",
      "Optimization terminated successfully.\n",
      "         Current function value: 0.005149\n",
      "         Iterations: 139\n",
      "         Function evaluations: 249\n",
      "                                             logit Results                                             \n",
      "=======================================================================================================\n",
      "Dep. Variable:     ['Inside Good Share', 'Outside Good Share']   Hansen J:                        16.99\n",
      "Model:                                                   logit   Prob (Hansen J):                 0.108\n",
      "Method:                                                    GMM                                         \n",
      "Date:                                         Tue, 09 Oct 2018                                         \n",
      "Time:                                                 16:18:07                                         \n",
      "No. Observations:                                         3300                                         \n",
      "======================================================================================\n",
      "                         coef    std err          z      P>|z|      [0.025      0.975]\n",
      "--------------------------------------------------------------------------------------\n",
      "Network Score          3.5117      0.124     28.301      0.000       3.268       3.755\n",
      "Satisfaction Score     2.0384      0.072     28.355      0.000       1.897       2.179\n",
      "PPO                    0.8185      0.011     76.023      0.000       0.797       0.840\n",
      "Premium               -2.0615      0.040    -52.076      0.000      -2.139      -1.984\n",
      "======================================================================================\n"
     ]
    }
   ],
   "source": [
    "#first estimate using logit\n",
    "class logit(GMM):\n",
    "    \n",
    "    def __init__(self, *args, **kwds):\n",
    "        # set appropriate counts for moment conditions and parameters\n",
    "        super(logit, self).__init__(*args, **kwds)\n",
    "\n",
    "        \n",
    "    def momcond(self, params):\n",
    "        #unwrap stuff\n",
    "        shares = np.array(self.endog).transpose()\n",
    "        exog = np.array(self.exog)\n",
    "        instr = np.array(self.instrument)\n",
    "        \n",
    "        lshare = np.log(shares[0]) -  np.log(shares[1])\n",
    "        lshare = lshare.transpose()\n",
    "       \n",
    "        lshare_fit = np.matmul(exog,params) #linear equation    \n",
    "        \n",
    "        xi = lshare_fit - lshare\n",
    "        g = instr * xi[:, np.newaxis]\n",
    "        \n",
    "        return g \n",
    "\n",
    "    \n",
    "#set up initial est\n",
    "beta_init = np.full(len(x.columns),1)\n",
    "\n",
    "#set up model\n",
    "model1 = logit(y , x, hausman_instr)\n",
    "\n",
    "result1 = model1.fit(beta_init, maxiter=2, optim_method='nm', wargs=dict(centered=False))\n",
    "print(result1.summary())"
   ]
  },
  {
   "cell_type": "code",
   "execution_count": 54,
   "metadata": {},
   "outputs": [
    {
     "name": "stdout",
     "output_type": "stream",
     "text": [
      "Optimization terminated successfully.\n",
      "         Current function value: 0.000008\n",
      "         Iterations: 524\n",
      "         Function evaluations: 850\n",
      "Optimization terminated successfully.\n",
      "         Current function value: 0.004920\n",
      "         Iterations: 153\n",
      "         Function evaluations: 267\n",
      "                                             logit Results                                             \n",
      "=======================================================================================================\n",
      "Dep. Variable:     ['Inside Good Share', 'Outside Good Share']   Hansen J:                        16.24\n",
      "Model:                                                   logit   Prob (Hansen J):                0.0931\n",
      "Method:                                                    GMM                                         \n",
      "Date:                                         Tue, 09 Oct 2018                                         \n",
      "Time:                                                 16:18:07                                         \n",
      "No. Observations:                                         3300                                         \n",
      "=========================================================================================\n",
      "                            coef    std err          z      P>|z|      [0.025      0.975]\n",
      "-----------------------------------------------------------------------------------------\n",
      "Network Score             3.5476      0.212     16.729      0.000       3.132       3.963\n",
      "Satisfaction Score        2.0465      0.090     22.851      0.000       1.871       2.222\n",
      "PPO                       0.8450      0.103      8.244      0.000       0.644       1.046\n",
      "Premium                  -2.0994      0.167    -12.541      0.000      -2.427      -1.771\n",
      "ln(Inside Good Share)    -0.0542      0.199     -0.272      0.786      -0.445       0.336\n",
      "=========================================================================================\n"
     ]
    }
   ],
   "source": [
    "#set up and run model\n",
    "beta_nested = np.full(len(x_nested.columns),1)\n",
    "model2 = logit(y , x_nested, hausman_instr)\n",
    "result2 = model2.fit(beta_nested, maxiter=2, optim_method='nm', wargs=dict(centered=False))\n",
    "\n",
    "print(result2.summary())"
   ]
  },
  {
   "cell_type": "code",
   "execution_count": 67,
   "metadata": {},
   "outputs": [
    {
     "name": "stdout",
     "output_type": "stream",
     "text": [
      "Plan_ID          47.138333\n",
      "PPO               2.720000\n",
      "Premium          13.562795\n",
      "exp_delta         6.297526\n",
      "sum_exp_delta    44.228315\n",
      "fitted_share      0.843098\n",
      "dtype: float64\n",
      "0.3211705667781474 0.04175067681732296 0.153290506773 0.0527060652944428\n"
     ]
    }
   ],
   "source": [
    "#compute exp(delta_j)\n",
    "delta = data.copy()[['Plan_ID','Market_ID','PPO','Premium']]\n",
    "x = np.array(x)\n",
    "beta1 = result1.params\n",
    "alpha1 = abs(beta1[3])\n",
    "delta['exp_delta'] = np.exp(np.matmul(x,beta1))\n",
    "\n",
    "#compute 1 + sum_j exp(delta_j)\n",
    "sum_delta = delta.groupby('Market_ID').sum()\n",
    "sum_delta['sum_exp_delta'] = 1 + sum_delta['exp_delta'] \n",
    "\n",
    "delta = pd.merge(delta, sum_delta[['sum_exp_delta']], \n",
    "                right_index=True, left_on = 'Market_ID')\n",
    "\n",
    "#compute s_j\n",
    "delta['fitted_share'] = delta['exp_delta']/delta['sum_exp_delta']\n",
    "\n",
    "print delta.groupby('Market_ID').sum().mean()\n",
    "\n",
    "print delta['fitted_share'].max(), delta['fitted_share'].min(), delta['fitted_share'].mean(), np.sqrt(delta['fitted_share'].var())"
   ]
  },
  {
   "cell_type": "code",
   "execution_count": 39,
   "metadata": {},
   "outputs": [
    {
     "name": "stdout",
     "output_type": "stream",
     "text": [
      "-4.308596601690402 0.5554552982100271 0.5554552982100271\n"
     ]
    }
   ],
   "source": [
    "#agregate elasticities\n",
    "delta = delta.groupby('Plan_ID').mean()\n",
    "\n",
    "shares = np.array(delta['fitted_share'])\n",
    "price = np.array(delta['Premium'])\n",
    "\n",
    "own_price = np.identity(len(shares))\n",
    "cross_price = 1 - own_price\n",
    "\n",
    "cross_elasticity = shares * alpha1 * price\n",
    "own_elasticity  = -(1-shares) * alpha1 * price\n",
    "\n",
    "elasticity =  cross_price*cross_elasticity + own_price *own_elasticity\n",
    "\n",
    "print elasticity[1][1],elasticity[2][1],elasticity[3][1] #second index tells you wrt what good i.e. denom"
   ]
  },
  {
   "cell_type": "code",
   "execution_count": 40,
   "metadata": {},
   "outputs": [
    {
     "name": "stdout",
     "output_type": "stream",
     "text": [
      "0.5186716445245331 0.01170248845783048 0.0732291327029 0.07212266746307026\n"
     ]
    }
   ],
   "source": [
    "#compute exp(delta_j)\n",
    "delta_nest = data.copy()[['Market_ID','Plan_ID','PPO','Premium']]\n",
    "beta2 = result2.params[:-1]\n",
    "alpha2 = abs(beta2[3])\n",
    "sigma = abs(result2.params[-1]) #not sure about this, feel like it should be positive?\n",
    "delta_nest['exp_delta'] = np.exp(np.matmul(x,beta2)/(1-sigma))\n",
    "\n",
    "#compute Dg = sum_j|g exp(delta_j)\n",
    "s1 = delta_nest[['Market_ID','exp_delta','PPO']].copy()\n",
    "s1['PPO_delta'] = delta_nest['exp_delta'] * delta_nest['PPO']\n",
    "s1['HMO_delta'] = delta_nest['exp_delta'] * (1 - delta_nest['PPO'])\n",
    "\n",
    "group_s1 = s1.groupby('Market_ID').sum()\n",
    "group_s1['PP0_delta_sigma'] = group_s1['PPO_delta']**(sigma)\n",
    "group_s1['HMO_delta_sigma'] = group_s1['HMO_delta']**(sigma)\n",
    "group_s1['sum_g'] = group_s1['PPO_delta']**(1-sigma) + group_s1['HMO_delta']**(1-sigma)\n",
    "\n",
    "delta_nest = pd.merge(delta_nest,group_s1[['PPO_delta','HMO_delta','PP0_delta_sigma','sum_g']], \n",
    "                right_index=True, left_on = 'Market_ID')\n",
    "\n",
    "#compute sum_g Dg^(1-sigma)\n",
    "delta_nest['denom'] = ( (1 - delta_nest['PPO'])*delta_nest['HMO_delta']  +\n",
    "                 delta_nest['PPO']*delta_nest['PPO_delta']) * (delta_nest['sum_g'])\n",
    "\n",
    "delta_nest['fitted_share'] = delta_nest['exp_delta']/delta_nest['denom']\n",
    "\n",
    "print delta_nest['fitted_share'].max(),delta_nest['fitted_share'].min(),delta_nest['fitted_share'].mean(), np.sqrt(delta_nest['fitted_share'].var())"
   ]
  },
  {
   "cell_type": "code",
   "execution_count": 41,
   "metadata": {},
   "outputs": [],
   "source": [
    "#fitted nest share\n",
    "fitted_shares = delta_nest[['Market_ID','fitted_share','PPO']].copy()\n",
    "fitted_shares['fitted_ppo'] = delta_nest['fitted_share'] * delta_nest['PPO']\n",
    "fitted_shares['fitted_hmo'] = delta_nest['fitted_share'] * (1 - delta_nest['PPO'])\n",
    "\n",
    "group_s2 = fitted_shares.groupby('Market_ID').sum()\n",
    "delta_nest = pd.merge(delta_nest,group_s2[['fitted_ppo','fitted_hmo']], \n",
    "                right_index=True, left_on = 'Market_ID')\n",
    "\n",
    "delta_nest['fitted_nest_share'] = ( (delta_nest['fitted_share'] * delta_nest['PPO']) / delta_nest['fitted_ppo'] \n",
    "                            + (delta_nest['fitted_share'] * (1 - delta_nest['PPO'])) /delta_nest['fitted_hmo'])"
   ]
  },
  {
   "cell_type": "code",
   "execution_count": 42,
   "metadata": {},
   "outputs": [
    {
     "name": "stdout",
     "output_type": "stream",
     "text": [
      "[[0. 1. 0. 0. 1. 1. 0. 1. 0. 1. 1. 0. 0. 1. 0. 1.]\n",
      " [1. 0. 1. 1. 0. 0. 1. 0. 1. 0. 0. 1. 1. 0. 1. 0.]\n",
      " [0. 1. 0. 0. 1. 1. 0. 1. 0. 1. 1. 0. 0. 1. 0. 1.]\n",
      " [0. 1. 0. 0. 1. 1. 0. 1. 0. 1. 1. 0. 0. 1. 0. 1.]\n",
      " [1. 0. 1. 1. 0. 0. 1. 0. 1. 0. 0. 1. 1. 0. 1. 0.]\n",
      " [1. 0. 1. 1. 0. 0. 1. 0. 1. 0. 0. 1. 1. 0. 1. 0.]\n",
      " [0. 1. 0. 0. 1. 1. 0. 1. 0. 1. 1. 0. 0. 1. 0. 1.]\n",
      " [1. 0. 1. 1. 0. 0. 1. 0. 1. 0. 0. 1. 1. 0. 1. 0.]\n",
      " [0. 1. 0. 0. 1. 1. 0. 1. 0. 1. 1. 0. 0. 1. 0. 1.]\n",
      " [1. 0. 1. 1. 0. 0. 1. 0. 1. 0. 0. 1. 1. 0. 1. 0.]\n",
      " [1. 0. 1. 1. 0. 0. 1. 0. 1. 0. 0. 1. 1. 0. 1. 0.]\n",
      " [0. 1. 0. 0. 1. 1. 0. 1. 0. 1. 1. 0. 0. 1. 0. 1.]\n",
      " [0. 1. 0. 0. 1. 1. 0. 1. 0. 1. 1. 0. 0. 1. 0. 1.]\n",
      " [1. 0. 1. 1. 0. 0. 1. 0. 1. 0. 0. 1. 1. 0. 1. 0.]\n",
      " [0. 1. 0. 0. 1. 1. 0. 1. 0. 1. 1. 0. 0. 1. 0. 1.]\n",
      " [1. 0. 1. 1. 0. 0. 1. 0. 1. 0. 0. 1. 1. 0. 1. 0.]]\n",
      "-4.381805375785701\n",
      "0.33923356160990165 0.33923356160990165\n",
      "0.4327571052033485 0.4321921035146931\n"
     ]
    }
   ],
   "source": [
    "#aggregate elasticities\n",
    "delta_nest = delta_nest.groupby('Plan_ID').mean()\n",
    "\n",
    "#diagonal formula\n",
    "nest_shares = np.array(delta_nest['fitted_nest_share'])\n",
    "sharesn = np.array(delta_nest['fitted_share'])\n",
    "prices = np.array(delta_nest['Premium'])\n",
    "ppo = np.array([delta_nest['PPO']]) #this one is a matrix\n",
    "\n",
    "#selector matrices\n",
    "inside_nest = np.matmul(ppo.transpose(),ppo) + np.matmul((1-ppo.transpose()),(1-ppo))\n",
    "outside_nest = 1 - inside_nest \n",
    "own_price = np.identity(len(sharesn))\n",
    "\n",
    "#elasticity variables\n",
    "inside_elasticity = np.matmul( np.array( [ (sigma/(1-sigma) * nest_shares + sharesn)/sharesn ] ).transpose(),\n",
    "          np.array([alpha2*price*sharesn]))\n",
    "\n",
    "own_elasticity = -alpha2*((1/(1-sigma)) - sigma/(1-sigma) * nest_shares - sharesn)*prices\n",
    "\n",
    "outside_elasticity =  sharesn * alpha2 * prices\n",
    "\n",
    "nest_elasticity = own_price*own_elasticity + inside_nest*inside_elasticity + outside_nest*outside_elasticity\n",
    "\n",
    "\n",
    "print outside_nest\n",
    "print nest_elasticity[1][1]\n",
    "print nest_elasticity[0][1],nest_elasticity[2][1] #should be the same (outside nest)\n",
    "print nest_elasticity[4][1],nest_elasticity[5][1] #should be different"
   ]
  },
  {
   "cell_type": "code",
   "execution_count": 43,
   "metadata": {},
   "outputs": [
    {
     "name": "stdout",
     "output_type": "stream",
     "text": [
      "0.08048610885751606\n"
     ]
    }
   ],
   "source": [
    "print (shares - sharesn).mean()"
   ]
  },
  {
   "cell_type": "code",
   "execution_count": 45,
   "metadata": {},
   "outputs": [
    {
     "name": "stdout",
     "output_type": "stream",
     "text": [
      "12.410684346595144 12.410684346595144\n",
      "[2.59083602 2.35673823 2.60768873 2.52299844 2.33739461 2.35360695\n",
      " 2.59488989 2.40818186 2.52999745 2.33440917 2.32182747 2.59993908\n",
      " 2.51966688 2.40866557 2.59619547 2.36380635]\n"
     ]
    }
   ],
   "source": [
    "#solve for marginal costs\n",
    "p_divide_q = (1/shares * np.ones( (len(shares), len(shares)) )).transpose() * price\n",
    "\n",
    "print p_divide_q[0][1], prices[1]/shares[0]\n",
    "\n",
    "inv_derivative = np.linalg.inv( elasticity * p_divide_q)\n",
    "\n",
    "mc = np.array([prices]).transpose() - np.matmul(inv_derivative, np.array([shares]).transpose()) \n",
    "\n",
    "mc = mc.transpose()[0]\n",
    "\n",
    "print mc"
   ]
  },
  {
   "cell_type": "code",
   "execution_count": 75,
   "metadata": {},
   "outputs": [
    {
     "data": {
      "text/plain": [
       "-0.2511224321308708"
      ]
     },
     "execution_count": 75,
     "metadata": {},
     "output_type": "execute_result"
    }
   ],
   "source": [
    "#simplified version to get things working\n",
    "\n",
    "def profits(p):\n",
    "    p[p < 0] = 0 #set things if necessary?\n",
    "    xes =  data[['Plan_ID','Network Score','Satisfaction Score','PPO']].groupby('Plan_ID').mean()\n",
    "    constant = np.exp(np.matmul(xes,beta1[:-1]))\n",
    "    delta_js = constant*np.exp(alpha1*p)\n",
    "    denom = 1+sum(delta_js)\n",
    "    s_js = delta_js/denom\n",
    "    return - np.matmul(s_js, np.array([prices-mc+.25]).transpose())\n",
    "\n",
    "prices = np.array(delta_nest['Premium'])\n",
    "\n",
    "sum(profits(prices))"
   ]
  },
  {
   "cell_type": "code",
   "execution_count": 76,
   "metadata": {},
   "outputs": [
    {
     "name": "stdout",
     "output_type": "stream",
     "text": [
      "Optimization terminated successfully.\n",
      "         Current function value: -0.252226\n",
      "         Iterations: 285\n",
      "         Function evaluations: 853\n",
      "[1.00271692e-02 9.75547188e-02 1.11861770e-01 4.75887662e+00\n",
      " 1.24817262e+01 7.04289160e+00 3.91753341e+00 8.20092864e+00\n",
      " 9.78134182e+00 1.68702280e+01 3.86840732e-01 3.28303747e+00\n",
      " 2.09218577e+01 3.69849983e+01 4.98921183e-02 1.37640899e+01]\n"
     ]
    }
   ],
   "source": [
    "import numpy as np\n",
    "from scipy.optimize import minimize\n",
    "\n",
    "res = minimize(profits, prices, method='nelder-mead',\n",
    "     options={'xtol': 1e-8, 'disp': True})\n",
    "\n",
    "print(res.x) #doesn't seem right"
   ]
  },
  {
   "cell_type": "code",
   "execution_count": null,
   "metadata": {},
   "outputs": [],
   "source": [
    "#profits per enrollee\n",
    "#outside good shares"
   ]
  },
  {
   "cell_type": "code",
   "execution_count": null,
   "metadata": {},
   "outputs": [],
   "source": [
    "#consumer surplus"
   ]
  }
 ],
 "metadata": {
  "kernelspec": {
   "display_name": "Python 2",
   "language": "python",
   "name": "python2"
  },
  "language_info": {
   "codemirror_mode": {
    "name": "ipython",
    "version": 2
   },
   "file_extension": ".py",
   "mimetype": "text/x-python",
   "name": "python",
   "nbconvert_exporter": "python",
   "pygments_lexer": "ipython2",
   "version": "2.7.15"
  }
 },
 "nbformat": 4,
 "nbformat_minor": 2
}
