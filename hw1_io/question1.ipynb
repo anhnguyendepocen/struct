{
 "cells": [
  {
   "cell_type": "code",
   "execution_count": 1,
   "metadata": {},
   "outputs": [],
   "source": [
    "import pandas as pd\n",
    "import math\n",
    "import numpy as np\n",
    "import matplotlib.pyplot as plt\n",
    "import statsmodels.api as sm\n",
    "from scipy.stats import norm\n",
    "from statsmodels.sandbox.regression.gmm import GMM\n",
    "from statsmodels.base.model import GenericLikelihoodModel"
   ]
  },
  {
   "cell_type": "code",
   "execution_count": 22,
   "metadata": {},
   "outputs": [
    {
     "name": "stdout",
     "output_type": "stream",
     "text": [
      "Market_ID                1.000000\n",
      "Plan_ID                  1.000000\n",
      "PPO                      0.000000\n",
      "Network Score            0.780000\n",
      "Satisfaction Score       0.725000\n",
      "Premium                  2.269728\n",
      "Inside Good Share        0.037670\n",
      "Outside Good Share       0.096070\n",
      "PPO Share                0.000000\n",
      "HMO Share                0.000000\n",
      "Nest Market Size         0.000000\n",
      "ln(Inside Good Share)   -2.428602\n",
      "dtype: float64\n"
     ]
    }
   ],
   "source": [
    "data = pd.read_csv('data.csv')\n",
    "\n",
    "#pre-processing to calculate outside good shares\n",
    "shares = data[['Market_ID','Inside Good Share','PPO']].copy()\n",
    "shares['PPO Share'] = data['Inside Good Share'] * data['PPO']\n",
    "shares['HMO Share'] = data['Inside Good Share'] * (1 - data['PPO'])\n",
    "\n",
    "group_shares = shares.groupby('Market_ID').sum()\n",
    "group_shares['Outside Good Share'] = 1 - group_shares['Inside Good Share']\n",
    "\n",
    "data = pd.merge(data,group_shares[['Outside Good Share','PPO Share','HMO Share']], \n",
    "                right_index=True, left_on = 'Market_ID')\n",
    "\n",
    "data['Nest Market Size'] = ( (data['Inside Good Share'] * data['PPO']) / data['PPO Share'] \n",
    "                            + (data['Inside Good Share'] * (1 - data['PPO'])) /data['HMO Share'])\n",
    "\n",
    "#calculate ln(Inside Good Share)\n",
    "data['ln(Inside Good Share)'] = np.log( data['Inside Good Share']/data['Nest Market Size'] ) \n",
    "data = data.fillna(0) #necessary for log(1), unsure why\n",
    "\n",
    "print data.min()"
   ]
  },
  {
   "cell_type": "code",
   "execution_count": 23,
   "metadata": {},
   "outputs": [],
   "source": [
    "#calculate hausmann insturments\n",
    "mkt_dum = pd.get_dummies(data['Market_ID'],prefix='mkt',drop_first=True)\n",
    "plan_dum = pd.get_dummies(data['Plan_ID'],prefix='plan',drop_first=True)\n",
    "#hausman_instr = pd.concat([mkt_dum,plan_dum],axis=1)\n",
    "hausman_instr = plan_dum"
   ]
  },
  {
   "cell_type": "code",
   "execution_count": 24,
   "metadata": {},
   "outputs": [],
   "source": [
    "#set up data for logit\n",
    "y = data[['Inside Good Share','Outside Good Share']]\n",
    "x =  data[['Network Score','Satisfaction Score','Premium','PPO']]\n",
    "\n",
    "# add ln(inside good share) as regressor like formula\n",
    "x_nested = data[['Network Score','Satisfaction Score','Premium','PPO','ln(Inside Good Share)']]"
   ]
  },
  {
   "cell_type": "code",
   "execution_count": 25,
   "metadata": {},
   "outputs": [
    {
     "name": "stdout",
     "output_type": "stream",
     "text": [
      "Optimization terminated successfully.\n",
      "         Current function value: 0.000008\n",
      "         Iterations: 292\n",
      "         Function evaluations: 497\n",
      "Optimization terminated successfully.\n",
      "         Current function value: 0.005149\n",
      "         Iterations: 139\n",
      "         Function evaluations: 249\n",
      "                                             logit Results                                             \n",
      "=======================================================================================================\n",
      "Dep. Variable:     ['Inside Good Share', 'Outside Good Share']   Hansen J:                        16.99\n",
      "Model:                                                   logit   Prob (Hansen J):                 0.108\n",
      "Method:                                                    GMM                                         \n",
      "Date:                                         Fri, 05 Oct 2018                                         \n",
      "Time:                                                 14:57:04                                         \n",
      "No. Observations:                                         3300                                         \n",
      "======================================================================================\n",
      "                         coef    std err          z      P>|z|      [0.025      0.975]\n",
      "--------------------------------------------------------------------------------------\n",
      "Network Score          3.5117      0.124     28.301      0.000       3.268       3.755\n",
      "Satisfaction Score     2.0384      0.072     28.355      0.000       1.897       2.179\n",
      "Premium               -2.0615      0.040    -52.076      0.000      -2.139      -1.984\n",
      "PPO                    0.8185      0.011     76.023      0.000       0.797       0.840\n",
      "======================================================================================\n"
     ]
    }
   ],
   "source": [
    "#first estimate using logit\n",
    "class logit(GMM):\n",
    "    \n",
    "    def __init__(self, *args, **kwds):\n",
    "        # set appropriate counts for moment conditions and parameters\n",
    "        super(logit, self).__init__(*args, **kwds)\n",
    "\n",
    "        \n",
    "    def momcond(self, params):\n",
    "        #unwrap stuff\n",
    "        shares = np.array(self.endog).transpose()\n",
    "        exog = np.array(self.exog)\n",
    "        instr = np.array(self.instrument)\n",
    "        \n",
    "        lshare = np.log(shares[0]) -  np.log(shares[1])\n",
    "        lshare = lshare.transpose()\n",
    "       \n",
    "        lshare_fit = np.matmul(exog,params) #linear equation    \n",
    "        \n",
    "        xi = lshare_fit - lshare\n",
    "        g = instr * xi[:, np.newaxis]\n",
    "        \n",
    "        return g \n",
    "\n",
    "    \n",
    "#set up initial est\n",
    "beta_init = np.full(len(x.columns),1)\n",
    "\n",
    "#set up model\n",
    "model1 = logit(y , x, hausman_instr)\n",
    "\n",
    "result1 = model1.fit(beta_init, maxiter=2, optim_method='nm', wargs=dict(centered=False))\n",
    "print(result1.summary())"
   ]
  },
  {
   "cell_type": "code",
   "execution_count": 26,
   "metadata": {},
   "outputs": [
    {
     "name": "stdout",
     "output_type": "stream",
     "text": [
      "Optimization terminated successfully.\n",
      "         Current function value: 0.000008\n",
      "         Iterations: 524\n",
      "         Function evaluations: 850\n",
      "Optimization terminated successfully.\n",
      "         Current function value: 0.004920\n",
      "         Iterations: 153\n",
      "         Function evaluations: 267\n",
      "                                             logit Results                                             \n",
      "=======================================================================================================\n",
      "Dep. Variable:     ['Inside Good Share', 'Outside Good Share']   Hansen J:                        16.24\n",
      "Model:                                                   logit   Prob (Hansen J):                0.0931\n",
      "Method:                                                    GMM                                         \n",
      "Date:                                         Fri, 05 Oct 2018                                         \n",
      "Time:                                                 14:57:06                                         \n",
      "No. Observations:                                         3300                                         \n",
      "=========================================================================================\n",
      "                            coef    std err          z      P>|z|      [0.025      0.975]\n",
      "-----------------------------------------------------------------------------------------\n",
      "Network Score             3.5476      0.212     16.729      0.000       3.132       3.963\n",
      "Satisfaction Score        2.0465      0.090     22.851      0.000       1.871       2.222\n",
      "Premium                  -2.0994      0.167    -12.541      0.000      -2.427      -1.771\n",
      "PPO                       0.8450      0.103      8.244      0.000       0.644       1.046\n",
      "ln(Inside Good Share)    -0.0542      0.199     -0.272      0.786      -0.445       0.336\n",
      "=========================================================================================\n"
     ]
    }
   ],
   "source": [
    "#set up and run model\n",
    "beta_nested = np.full(len(x_nested.columns),1)\n",
    "model2 = logit(y , x_nested, hausman_instr)\n",
    "result2 = model2.fit(beta_nested, maxiter=2, optim_method='nm', wargs=dict(centered=False))\n",
    "\n",
    "print(result2.summary())"
   ]
  },
  {
   "cell_type": "code",
   "execution_count": 46,
   "metadata": {},
   "outputs": [
    {
     "name": "stdout",
     "output_type": "stream",
     "text": [
      "(3300, 1)\n",
      "(1, 3300)\n",
      "(3300, 3300)\n"
     ]
    }
   ],
   "source": [
    "#compute exp(delta_j)\n",
    "delta = data.copy()[['Market_ID','PPO','Premium']]\n",
    "\n",
    "x = np.array(x)\n",
    "beta1 = result1.params\n",
    "\n",
    "delta['exp_delta'] = np.exp(np.matmul(x,beta1))\n",
    "\n",
    "#compute 1 + sum_j exp(delta_j)\n",
    "sum_delta = delta.groupby('Market_ID').sum()\n",
    "sum_delta['sum_exp_delta'] = 1 + sum_delta['exp_delta'] \n",
    "\n",
    "delta = pd.merge(delta, sum_delta[['sum_exp_delta']], \n",
    "                right_index=True, left_on = 'Market_ID')\n",
    "\n",
    "#compute s_j\n",
    "delta['fitted_share'] = delta['exp_delta']/delta['sum_exp_delta']\n",
    "\n",
    "#compute cross price\n",
    "shares = np.array([delta['fitted_share']]).transpose()\n",
    "price = np.array([delta['Premium']])\n",
    "\n",
    "elasticity = np.matmul(shares * beta1[3],price )\n",
    "\n",
    "print shares.shape\n",
    "print price.shape\n",
    "print elasticity.shape\n",
    "\n",
    "#correct diagonal for own price\n",
    "for i in range(len(shares)):\n",
    "    elasticity[i][i] = (1-shares[i][0])* beta1[3] * price[0][i]"
   ]
  },
  {
   "cell_type": "code",
   "execution_count": null,
   "metadata": {},
   "outputs": [],
   "source": []
  }
 ],
 "metadata": {
  "kernelspec": {
   "display_name": "Python 2",
   "language": "python",
   "name": "python2"
  },
  "language_info": {
   "codemirror_mode": {
    "name": "ipython",
    "version": 2
   },
   "file_extension": ".py",
   "mimetype": "text/x-python",
   "name": "python",
   "nbconvert_exporter": "python",
   "pygments_lexer": "ipython2",
   "version": "2.7.15"
  }
 },
 "nbformat": 4,
 "nbformat_minor": 2
}
