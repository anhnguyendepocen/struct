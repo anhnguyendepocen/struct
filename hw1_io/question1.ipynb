{
 "cells": [
  {
   "cell_type": "code",
   "execution_count": 2,
   "metadata": {},
   "outputs": [],
   "source": [
    "import pandas as pd\n",
    "import math\n",
    "import numpy as np\n",
    "import matplotlib.pyplot as plt\n",
    "import statsmodels.api as sm\n",
    "from scipy.stats import norm\n",
    "from statsmodels.sandbox.regression.gmm import GMM\n",
    "from statsmodels.base.model import GenericLikelihoodModel"
   ]
  },
  {
   "cell_type": "code",
   "execution_count": 72,
   "metadata": {},
   "outputs": [
    {
     "name": "stdout",
     "output_type": "stream",
     "text": [
      "Market_ID             353.530303\n",
      "Plan_ID                 8.570606\n",
      "PPO                     0.494545\n",
      "Network Score           0.871382\n",
      "Satisfaction Score      0.842170\n",
      "Premium                 2.465963\n",
      "Inside Good Share       0.155441\n",
      "dtype: float64\n",
      "Market_ID             353.530303\n",
      "Plan_ID                 8.570606\n",
      "PPO                     0.494545\n",
      "Network Score           0.871382\n",
      "Satisfaction Score      0.842170\n",
      "Premium                 2.465963\n",
      "Inside Good Share       0.155441\n",
      "Outside Good Share      0.134506\n",
      "dtype: float64\n"
     ]
    }
   ],
   "source": [
    "data = pd.read_csv('data.csv')\n",
    "print data.mean()\n",
    "\n",
    "#pre-processing to calculate outside good shares\n",
    "shares = data[['Market_ID','Inside Good Share']]\n",
    "group_shares = shares.groupby('Market_ID').sum()\n",
    "group_shares['Outside Good Share'] = 1 - group_shares['Inside Good Share']\n",
    "data = pd.merge(data,group_shares[['Outside Good Share']], right_index=True, left_on = 'Market_ID')\n",
    "print data.mean()\n",
    "\n",
    "#calculate hausmann insturments\n",
    "data['Hausman'] = 1"
   ]
  },
  {
   "cell_type": "code",
   "execution_count": 75,
   "metadata": {},
   "outputs": [
    {
     "name": "stdout",
     "output_type": "stream",
     "text": [
      "Optimization terminated successfully.\n",
      "         Current function value: 0.000010\n",
      "         Iterations: 49\n",
      "         Function evaluations: 98\n",
      "Optimization terminated successfully.\n",
      "         Current function value: 0.000000\n",
      "         Iterations: 93\n",
      "         Function evaluations: 170\n",
      "                                             logit Results                                             \n",
      "=======================================================================================================\n",
      "Dep. Variable:     ['Inside Good Share', 'Outside Good Share']   Hansen J:                    1.321e-07\n",
      "Model:                                                   logit   Prob (Hansen J):                   nan\n",
      "Method:                                                    GMM                                         \n",
      "Date:                                         Mon, 01 Oct 2018                                         \n",
      "Time:                                                 19:52:58                                         \n",
      "No. Observations:                                         3300                                         \n",
      "======================================================================================\n",
      "                         coef    std err          z      P>|z|      [0.025      0.975]\n",
      "--------------------------------------------------------------------------------------\n",
      "Network Score          1.3248      0.200      6.614      0.000       0.932       1.717\n",
      "Satisfaction Score     3.2961      0.165     19.920      0.000       2.972       3.620\n",
      "Premium               -1.5542      0.073    -21.170      0.000      -1.698      -1.410\n",
      "======================================================================================\n"
     ]
    }
   ],
   "source": [
    "#first estimate using logit\n",
    "class logit(GMM):\n",
    "    \n",
    "    def __init__(self, *args, **kwds):\n",
    "        # set appropriate counts for moment conditions and parameters\n",
    "        super(logit, self).__init__(*args, **kwds)\n",
    "\n",
    "        \n",
    "    def momcond(self, params):\n",
    "        #unwrap stuff\n",
    "        shares = np.array(self.endog).transpose()\n",
    "        exog = np.array(self.exog)\n",
    "        instr = np.array(self.instrument)\n",
    "        \n",
    "        lshare = np.log(shares[0]) -  np.log(shares[1])\n",
    "        lshare = lshare.transpose()\n",
    "       \n",
    "        lshare_fit = np.matmul(exog,params) #linear equation    \n",
    "        \n",
    "        xi = lshare_fit - lshare\n",
    "        g = instr * xi[:, np.newaxis]\n",
    "        \n",
    "        return g \n",
    "\n",
    "    \n",
    "#set up data\n",
    "y = data[['Inside Good Share','Outside Good Share']]\n",
    "x =  data[['Network Score','Satisfaction Score','Premium']]\n",
    "z = data[['Network Score','Satisfaction Score','Hausman']]\n",
    "\n",
    "#set up\n",
    "beta_init = np.full(len(x.columns),1)\n",
    "\n",
    "#set up model\n",
    "model1 = logit(y , x, z)\n",
    "\n",
    "result1 = model1.fit(beta_init, maxiter=2, optim_method='nm', wargs=dict(centered=False))\n",
    "print(result1.summary())"
   ]
  },
  {
   "cell_type": "code",
   "execution_count": 27,
   "metadata": {},
   "outputs": [],
   "source": [
    "class logit(GMM):\n",
    "    def __init__(self, *args, **kwds):\n",
    "        # set appropriate counts for moment conditions and parameters\n",
    "        super(logit, self).__init__(*args, **kwds)\n",
    "\n",
    "        \n",
    "    def momcond(self, params):\n",
    "        #unwrap stuff\n",
    "        shares = self.endog\n",
    "        exog = self.exog\n",
    "        #instr = self.instrument\n",
    "\n",
    "        lshare = np.log(shares['Inside Good Share']) -  np.log(shares['Outside Good Share']) #my market share \n",
    "        lshare_fit = np.matmul(exog,params) #linear equation    \n",
    "        \n",
    "        xi = lshare_fit - lshare\n",
    "        g = exog * xi[:, np.newaxis]\n",
    "        return g "
   ]
  },
  {
   "cell_type": "code",
   "execution_count": null,
   "metadata": {},
   "outputs": [],
   "source": []
  }
 ],
 "metadata": {
  "kernelspec": {
   "display_name": "Python 2",
   "language": "python",
   "name": "python2"
  },
  "language_info": {
   "codemirror_mode": {
    "name": "ipython",
    "version": 2
   },
   "file_extension": ".py",
   "mimetype": "text/x-python",
   "name": "python",
   "nbconvert_exporter": "python",
   "pygments_lexer": "ipython2",
   "version": "2.7.15"
  }
 },
 "nbformat": 4,
 "nbformat_minor": 2
}
