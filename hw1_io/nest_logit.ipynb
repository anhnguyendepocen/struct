{
 "cells": [
  {
   "cell_type": "code",
   "execution_count": 1,
   "metadata": {},
   "outputs": [],
   "source": [
    "import pandas as pd\n",
    "import math\n",
    "import numpy as np\n",
    "import matplotlib.pyplot as plt\n",
    "import statsmodels.api as sm\n",
    "from scipy.stats import norm\n",
    "from statsmodels.sandbox.regression.gmm import GMM\n",
    "from statsmodels.base.model import GenericLikelihoodModel"
   ]
  },
  {
   "cell_type": "code",
   "execution_count": 2,
   "metadata": {},
   "outputs": [
    {
     "name": "stdout",
     "output_type": "stream",
     "text": [
      "Market_ID                1.000000\n",
      "Plan_ID                  1.000000\n",
      "PPO                      0.000000\n",
      "Network Score            0.780000\n",
      "Satisfaction Score       0.725000\n",
      "Premium                  2.269728\n",
      "Inside Good Share        0.037670\n",
      "Outside Good Share       0.096070\n",
      "PPO Share                0.000000\n",
      "HMO Share                0.000000\n",
      "Nest Market Size         0.000000\n",
      "ln(Inside Good Share)   -2.428602\n",
      "dtype: float64\n"
     ]
    }
   ],
   "source": [
    "data = pd.read_csv('data.csv')\n",
    "\n",
    "#pre-processing to calculate outside good shares\n",
    "shares = data[['Market_ID','Inside Good Share','PPO']].copy()\n",
    "shares['PPO Share'] = data['Inside Good Share'] * data['PPO']\n",
    "shares['HMO Share'] = data['Inside Good Share'] * (1 - data['PPO'])\n",
    "\n",
    "group_shares = shares.groupby('Market_ID').sum()\n",
    "group_shares['Outside Good Share'] = 1 - group_shares['Inside Good Share']\n",
    "\n",
    "data = pd.merge(data,group_shares[['Outside Good Share','PPO Share','HMO Share']], \n",
    "                right_index=True, left_on = 'Market_ID')\n",
    "\n",
    "data['Nest Market Size'] = ( (data['Inside Good Share'] * data['PPO']) / data['PPO Share'] \n",
    "                            + (data['Inside Good Share'] * (1 - data['PPO'])) /data['HMO Share'])\n",
    "\n",
    "#calculate ln(Inside Good Share)\n",
    "data['ln(Inside Good Share)'] = np.log( data['Inside Good Share']/data['Nest Market Size'] ) \n",
    "data = data.fillna(0) #necessary for log(1), unsure why\n",
    "\n",
    "print data.min()"
   ]
  },
  {
   "cell_type": "code",
   "execution_count": 3,
   "metadata": {},
   "outputs": [],
   "source": [
    "#first estimate using logit\n",
    "class logit(GMM):\n",
    "    \n",
    "    def __init__(self, *args, **kwds):\n",
    "        # set appropriate counts for moment conditions and parameters\n",
    "        super(logit, self).__init__(*args, **kwds)\n",
    "\n",
    "        \n",
    "    def momcond(self, params):\n",
    "        #unwrap stuff\n",
    "        shares = np.array(self.endog).transpose()\n",
    "        exog = np.array(self.exog)\n",
    "        instr = np.array(self.instrument)\n",
    "        \n",
    "        lshare = np.log(shares[0]) -  np.log(shares[1])\n",
    "        lshare = lshare.transpose()\n",
    "       \n",
    "        lshare_fit = np.matmul(exog,params) #linear equation    \n",
    "        \n",
    "        xi = lshare_fit - lshare\n",
    "        g = instr * xi[:, np.newaxis]\n",
    "        \n",
    "        return g"
   ]
  },
  {
   "cell_type": "code",
   "execution_count": 4,
   "metadata": {},
   "outputs": [],
   "source": [
    "#calculate hausmann insturments\n",
    "mkt_dum = pd.get_dummies(data['Market_ID'],prefix='mkt',drop_first=True)\n",
    "plan_dum = pd.get_dummies(data['Plan_ID'],prefix='plan',drop_first=True)\n",
    "hausman_instr = plan_dum\n",
    "\n",
    "#set up data for logit\n",
    "y = data[['Inside Good Share','Outside Good Share']]\n",
    "\n",
    "# add ln(inside good share) as regressor like formula\n",
    "x_nested = data[['Network Score','Satisfaction Score','PPO','Premium','ln(Inside Good Share)']]"
   ]
  },
  {
   "cell_type": "code",
   "execution_count": 5,
   "metadata": {},
   "outputs": [
    {
     "name": "stdout",
     "output_type": "stream",
     "text": [
      "Optimization terminated successfully.\n",
      "         Current function value: 0.000008\n",
      "         Iterations: 524\n",
      "         Function evaluations: 850\n",
      "Optimization terminated successfully.\n",
      "         Current function value: 0.004920\n",
      "         Iterations: 153\n",
      "         Function evaluations: 267\n",
      "                                             logit Results                                             \n",
      "=======================================================================================================\n",
      "Dep. Variable:     ['Inside Good Share', 'Outside Good Share']   Hansen J:                        16.24\n",
      "Model:                                                   logit   Prob (Hansen J):                0.0931\n",
      "Method:                                                    GMM                                         \n",
      "Date:                                         Tue, 09 Oct 2018                                         \n",
      "Time:                                                 17:09:27                                         \n",
      "No. Observations:                                         3300                                         \n",
      "=========================================================================================\n",
      "                            coef    std err          z      P>|z|      [0.025      0.975]\n",
      "-----------------------------------------------------------------------------------------\n",
      "Network Score             3.5476      0.212     16.729      0.000       3.132       3.963\n",
      "Satisfaction Score        2.0465      0.090     22.851      0.000       1.871       2.222\n",
      "PPO                       0.8450      0.103      8.244      0.000       0.644       1.046\n",
      "Premium                  -2.0994      0.167    -12.541      0.000      -2.427      -1.771\n",
      "ln(Inside Good Share)    -0.0542      0.199     -0.272      0.786      -0.445       0.336\n",
      "=========================================================================================\n"
     ]
    }
   ],
   "source": [
    "#set up and run model\n",
    "beta_nested = np.full(len(x_nested.columns),1)\n",
    "model = logit(y , x_nested, hausman_instr)\n",
    "result = model.fit(beta_nested, maxiter=2, optim_method='nm', wargs=dict(centered=False))\n",
    "\n",
    "print(result.summary())"
   ]
  },
  {
   "cell_type": "code",
   "execution_count": 6,
   "metadata": {},
   "outputs": [],
   "source": [
    "#compute market shares\n",
    "\n",
    "#compute exp(delta_j)\n",
    "delta_nest = data.copy()[['Market_ID','Plan_ID','PPO','Premium']]\n",
    "x = np.array(x_nested[['Network Score','Satisfaction Score','PPO','Premium']])\n",
    "beta = result.params[:-1]\n",
    "alpha = abs(beta[3])\n",
    "sigma = abs(result.params[-1]) #not sure about this, feel like it should be positive?\n",
    "delta_nest['exp_delta'] = np.exp(np.matmul(x,beta)/(1-sigma))\n",
    "\n",
    "#compute Dg = sum_j|g exp(delta_j)\n",
    "s1 = delta_nest[['Market_ID','exp_delta','PPO']].copy()\n",
    "s1['PPO_delta'] = delta_nest['exp_delta'] * delta_nest['PPO']\n",
    "s1['HMO_delta'] = delta_nest['exp_delta'] * (1 - delta_nest['PPO'])\n",
    "\n",
    "group_s1 = s1.groupby('Market_ID').sum()\n",
    "group_s1['PP0_delta_sigma'] = group_s1['PPO_delta']**(sigma)\n",
    "group_s1['HMO_delta_sigma'] = group_s1['HMO_delta']**(sigma)\n",
    "group_s1['sum_g'] = group_s1['PPO_delta']**(1-sigma) + group_s1['HMO_delta']**(1-sigma)\n",
    "#not sure if there should be a 1 at the end of this... (for outside good?)\n",
    "\n",
    "delta_nest = pd.merge(delta_nest,group_s1[['PPO_delta','HMO_delta','PP0_delta_sigma','sum_g']], \n",
    "                right_index=True, left_on = 'Market_ID')\n",
    "\n",
    "#compute sum_g Dg^(1-sigma)\n",
    "delta_nest['denom'] = ( (1 - delta_nest['PPO'])*delta_nest['HMO_delta']  +\n",
    "                 delta_nest['PPO']*delta_nest['PPO_delta']) * (delta_nest['sum_g'])\n",
    "\n",
    "delta_nest['fitted_share'] = delta_nest['exp_delta']/delta_nest['denom']"
   ]
  },
  {
   "cell_type": "code",
   "execution_count": 7,
   "metadata": {},
   "outputs": [
    {
     "name": "stdout",
     "output_type": "stream",
     "text": [
      "0.5186716445245331 0.01170248845783048 0.0732291327029 0.07212266746307026\n"
     ]
    }
   ],
   "source": [
    "print delta_nest['fitted_share'].max(),delta_nest['fitted_share'].min(),delta_nest['fitted_share'].mean(), np.sqrt(delta_nest['fitted_share'].var())"
   ]
  },
  {
   "cell_type": "code",
   "execution_count": 8,
   "metadata": {},
   "outputs": [],
   "source": [
    "#compute total share of each nest\n",
    "fitted_shares = delta_nest[['Market_ID','fitted_share','PPO']].copy()\n",
    "fitted_shares['fitted_ppo'] = delta_nest['fitted_share'] * delta_nest['PPO']\n",
    "fitted_shares['fitted_hmo'] = delta_nest['fitted_share'] * (1 - delta_nest['PPO'])\n",
    "\n",
    "group_s2 = fitted_shares.groupby('Market_ID').sum()\n",
    "delta_nest = pd.merge(delta_nest,group_s2[['fitted_ppo','fitted_hmo']], \n",
    "                right_index=True, left_on = 'Market_ID')\n",
    "\n",
    "delta_nest['fitted_nest_share'] = ( (delta_nest['fitted_share'] * delta_nest['PPO']) / delta_nest['fitted_ppo'] \n",
    "                            + (delta_nest['fitted_share'] * (1 - delta_nest['PPO'])) /delta_nest['fitted_hmo'])"
   ]
  },
  {
   "cell_type": "code",
   "execution_count": 9,
   "metadata": {},
   "outputs": [
    {
     "name": "stdout",
     "output_type": "stream",
     "text": [
      "[[0. 1. 0. 0. 1. 1. 0. 1. 0. 1. 1. 0. 0. 1. 0. 1.]\n",
      " [1. 0. 1. 1. 0. 0. 1. 0. 1. 0. 0. 1. 1. 0. 1. 0.]\n",
      " [0. 1. 0. 0. 1. 1. 0. 1. 0. 1. 1. 0. 0. 1. 0. 1.]\n",
      " [0. 1. 0. 0. 1. 1. 0. 1. 0. 1. 1. 0. 0. 1. 0. 1.]\n",
      " [1. 0. 1. 1. 0. 0. 1. 0. 1. 0. 0. 1. 1. 0. 1. 0.]\n",
      " [1. 0. 1. 1. 0. 0. 1. 0. 1. 0. 0. 1. 1. 0. 1. 0.]\n",
      " [0. 1. 0. 0. 1. 1. 0. 1. 0. 1. 1. 0. 0. 1. 0. 1.]\n",
      " [1. 0. 1. 1. 0. 0. 1. 0. 1. 0. 0. 1. 1. 0. 1. 0.]\n",
      " [0. 1. 0. 0. 1. 1. 0. 1. 0. 1. 1. 0. 0. 1. 0. 1.]\n",
      " [1. 0. 1. 1. 0. 0. 1. 0. 1. 0. 0. 1. 1. 0. 1. 0.]\n",
      " [1. 0. 1. 1. 0. 0. 1. 0. 1. 0. 0. 1. 1. 0. 1. 0.]\n",
      " [0. 1. 0. 0. 1. 1. 0. 1. 0. 1. 1. 0. 0. 1. 0. 1.]\n",
      " [0. 1. 0. 0. 1. 1. 0. 1. 0. 1. 1. 0. 0. 1. 0. 1.]\n",
      " [1. 0. 1. 1. 0. 0. 1. 0. 1. 0. 0. 1. 1. 0. 1. 0.]\n",
      " [0. 1. 0. 0. 1. 1. 0. 1. 0. 1. 1. 0. 0. 1. 0. 1.]\n",
      " [1. 0. 1. 1. 0. 0. 1. 0. 1. 0. 0. 1. 1. 0. 1. 0.]]\n",
      "-4.381805375785701\n",
      "0.33923356160990165 0.33923356160990165\n",
      "0.4327571052033485 0.4321921035146931\n"
     ]
    }
   ],
   "source": [
    "#aggregate elasticities\n",
    "delta_nest = delta_nest.groupby('Plan_ID').mean()\n",
    "\n",
    "#diagonal formula\n",
    "nest_shares = np.array(delta_nest['fitted_nest_share'])\n",
    "sharesn = np.array(delta_nest['fitted_share'])\n",
    "prices = np.array(delta_nest['Premium'])\n",
    "ppo = np.array([delta_nest['PPO']]) #this one is a matrix\n",
    "\n",
    "#selector matrices\n",
    "inside_nest = np.matmul(ppo.transpose(),ppo) + np.matmul((1-ppo.transpose()),(1-ppo))\n",
    "outside_nest = 1 - inside_nest \n",
    "own_price = np.identity(len(sharesn))\n",
    "\n",
    "#elasticity variables\n",
    "inside_elasticity = np.matmul( np.array( [ (sigma/(1-sigma) * nest_shares + sharesn)/sharesn ] ).transpose(),\n",
    "          np.array([alpha*prices*sharesn]))\n",
    "\n",
    "own_elasticity = -alpha*((1/(1-sigma)) - sigma/(1-sigma) * nest_shares - sharesn)*prices\n",
    "\n",
    "outside_elasticity =  sharesn * alpha * prices\n",
    "\n",
    "nest_elasticity = own_price*own_elasticity + inside_nest*inside_elasticity + outside_nest*outside_elasticity\n",
    "\n",
    "\n",
    "print outside_nest\n",
    "print nest_elasticity[1][1]\n",
    "print nest_elasticity[0][1],nest_elasticity[2][1] #should be the same (outside nest)\n",
    "print nest_elasticity[4][1],nest_elasticity[5][1] #should be different"
   ]
  },
  {
   "cell_type": "code",
   "execution_count": null,
   "metadata": {},
   "outputs": [],
   "source": []
  }
 ],
 "metadata": {
  "kernelspec": {
   "display_name": "Python 2",
   "language": "python",
   "name": "python2"
  },
  "language_info": {
   "codemirror_mode": {
    "name": "ipython",
    "version": 2
   },
   "file_extension": ".py",
   "mimetype": "text/x-python",
   "name": "python",
   "nbconvert_exporter": "python",
   "pygments_lexer": "ipython2",
   "version": "2.7.15"
  }
 },
 "nbformat": 4,
 "nbformat_minor": 2
}
