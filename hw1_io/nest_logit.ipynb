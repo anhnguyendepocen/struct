{
 "cells": [
  {
   "cell_type": "code",
   "execution_count": 1,
   "metadata": {},
   "outputs": [],
   "source": [
    "import pandas as pd\n",
    "import math\n",
    "import numpy as np\n",
    "import matplotlib.pyplot as plt\n",
    "import statsmodels.api as sm\n",
    "from scipy.stats import norm\n",
    "from statsmodels.sandbox.regression.gmm import GMM\n",
    "from statsmodels.base.model import GenericLikelihoodModel"
   ]
  },
  {
   "cell_type": "code",
   "execution_count": 2,
   "metadata": {},
   "outputs": [
    {
     "name": "stdout",
     "output_type": "stream",
     "text": [
      "Market_ID             1.000000\n",
      "Plan_ID               1.000000\n",
      "PPO                   0.000000\n",
      "Network Score         0.780000\n",
      "Satisfaction Score    0.725000\n",
      "Premium               2.269728\n",
      "Inside Good Share     0.037670\n",
      "Outside Good Share    0.096070\n",
      "dtype: float64\n"
     ]
    }
   ],
   "source": [
    "data = pd.read_csv('data.csv')\n",
    "\n",
    "#pre-processing to calculate outside good shares\n",
    "shares = data[['Market_ID','Inside Good Share','PPO']].copy()\n",
    "shares['PPO Share'] = data['Inside Good Share'] * data['PPO']\n",
    "shares['HMO Share'] = data['Inside Good Share'] * (1 - data['PPO'])\n",
    "\n",
    "group_shares = shares.groupby('Market_ID').sum()\n",
    "group_shares['Outside Good Share'] = 1 - group_shares['Inside Good Share']\n",
    "\n",
    "data = pd.merge(data,group_shares[['Outside Good Share']], \n",
    "                right_index=True, left_on = 'Market_ID')\n",
    "\n",
    "print data.min()"
   ]
  },
  {
   "cell_type": "code",
   "execution_count": 3,
   "metadata": {},
   "outputs": [],
   "source": [
    "def comp_nest_shares(x,name):\n",
    "    \"\"\"calculate shares within nest\"\"\"\n",
    "    nest_x = x[['Market_ID',name,'PPO']].copy()\n",
    "    nest_x['ppo_share'] = nest_x[name] * nest_x['PPO']\n",
    "    nest_x['hmo_share'] = nest_x[name] * (1 - nest_x['PPO'])\n",
    "    \n",
    "    group_shares = nest_x.groupby('Market_ID').sum()\n",
    "    \n",
    "    x = pd.merge(x, group_shares[['hmo_share','ppo_share']], right_index=True, left_on = 'Market_ID')\n",
    "    \n",
    "    x['nest_size'] =   x['PPO'] * x['ppo_share'] + (1 - x['PPO']) * x['hmo_share']\n",
    "    x = x.drop(labels=['ppo_share','hmo_share'],axis=1)\n",
    "    return x\n",
    "\n",
    "\n",
    "#calculate nest shares\n",
    "data = comp_nest_shares(data,'Inside Good Share')\n",
    "data['ln(Within Nest Share)'] = np.log( data['Inside Good Share']/data['nest_size'] )"
   ]
  },
  {
   "cell_type": "code",
   "execution_count": 4,
   "metadata": {},
   "outputs": [],
   "source": [
    "#first estimate using logit\n",
    "class logit(GMM):\n",
    "    \n",
    "    def __init__(self, *args, **kwds):\n",
    "        # set appropriate counts for moment conditions and parameters\n",
    "        super(logit, self).__init__(*args, **kwds)\n",
    "\n",
    "        \n",
    "    def momcond(self, params):\n",
    "        #unwrap stuff\n",
    "        shares = np.array(self.endog).transpose()\n",
    "        exog = np.array(self.exog)\n",
    "        instr = np.array(self.instrument)\n",
    "        \n",
    "        lshare = np.log(shares[0]) -  np.log(shares[1])\n",
    "        lshare = lshare.transpose()\n",
    "       \n",
    "        lshare_fit = np.matmul(exog,params) #linear equation    \n",
    "        \n",
    "        xi = lshare_fit - lshare\n",
    "        g = instr * xi[:, np.newaxis]\n",
    "        \n",
    "        return g"
   ]
  },
  {
   "cell_type": "code",
   "execution_count": 5,
   "metadata": {},
   "outputs": [],
   "source": [
    "#calculate hausmann insturments\n",
    "plan_dum = pd.get_dummies(data['Plan_ID'], prefix='plan',drop_first=True)\n",
    "mkt_dum = pd.get_dummies(data['Market_ID'], prefix='plan',drop_first=True)\n",
    "#hausman_instr =  pd.concat( [data[['Network Score','Satisfaction Score','PPO']], mkt_dum],axis=1)\n",
    "\n",
    "hausman_instr = plan_dum #unsure if this is right...\n",
    "\n",
    "#set up data for logit\n",
    "y = data[['Inside Good Share','Outside Good Share']]\n",
    "\n",
    "# add ln(inside good share) as regressor like formula\n",
    "x_nested = data[['Network Score','Satisfaction Score','PPO','Premium','ln(Within Nest Share)']]"
   ]
  },
  {
   "cell_type": "code",
   "execution_count": 6,
   "metadata": {},
   "outputs": [
    {
     "name": "stdout",
     "output_type": "stream",
     "text": [
      "Optimization terminated successfully.\n",
      "         Current function value: 0.000006\n",
      "         Iterations: 571\n",
      "         Function evaluations: 928\n",
      "Optimization terminated successfully.\n",
      "         Current function value: 0.005680\n",
      "         Iterations: 235\n",
      "         Function evaluations: 380\n",
      "                                             logit Results                                             \n",
      "=======================================================================================================\n",
      "Dep. Variable:     ['Inside Good Share', 'Outside Good Share']   Hansen J:                        18.74\n",
      "Model:                                                   logit   Prob (Hansen J):                0.0437\n",
      "Method:                                                    GMM                                         \n",
      "Date:                                         Wed, 10 Oct 2018                                         \n",
      "Time:                                                 16:10:35                                         \n",
      "No. Observations:                                         3300                                         \n",
      "=========================================================================================\n",
      "                            coef    std err          z      P>|z|      [0.025      0.975]\n",
      "-----------------------------------------------------------------------------------------\n",
      "Network Score             2.2683      0.360      6.304      0.000       1.563       2.974\n",
      "Satisfaction Score        1.1985      0.228      5.266      0.000       0.752       1.645\n",
      "PPO                       0.6065      0.059     10.220      0.000       0.490       0.723\n",
      "Premium                  -1.0951      0.270     -4.059      0.000      -1.624      -0.566\n",
      "ln(Within Nest Share)     0.4254      0.123      3.466      0.001       0.185       0.666\n",
      "=========================================================================================\n"
     ]
    }
   ],
   "source": [
    "#set up and run model\n",
    "beta_nested = np.full(len(x_nested.columns),1)\n",
    "model = logit(y , x_nested, hausman_instr)\n",
    "result = model.fit(beta_nested, maxiter=2, optim_method='nm', wargs=dict(centered=False))\n",
    "\n",
    "print(result.summary())"
   ]
  },
  {
   "cell_type": "code",
   "execution_count": 11,
   "metadata": {},
   "outputs": [],
   "source": [
    "#compute market shares\n",
    "\n",
    "def comp_shares(x,beta,sigma):\n",
    "    x = x.copy()\n",
    "    characs = np.array(x[['Network Score','Satisfaction Score','PPO','Premium']])\n",
    "    x['exp_delta'] = np.exp(np.matmul(characs,beta)/(1-sigma))\n",
    "    \n",
    "    #compute Dg = sum_j|g exp(delta_j)\n",
    "    shares = x[['Market_ID','exp_delta','PPO']].copy()\n",
    "    shares['PPO_delta'] = x['exp_delta'] * x['PPO']\n",
    "    shares['HMO_delta'] = x['exp_delta'] * (1 - x['PPO'])\n",
    "    \n",
    "    group_shares =  shares.groupby('Market_ID').sum()\n",
    "    group_shares['PP0_delta_sigma'] = group_shares['PPO_delta']**(sigma)\n",
    "    group_shares['HMO_delta_sigma'] = group_shares['HMO_delta']**(sigma)\n",
    "    group_shares['sum_g'] = group_shares['PPO_delta']**(1-sigma) + group_shares['HMO_delta']**(1-sigma)\n",
    "    #not sure if there should be a 1 at the end of this... (for outside good?)\n",
    "    x = pd.merge(x,group_shares[['PPO_delta','HMO_delta','PP0_delta_sigma','sum_g']], \n",
    "                right_index=True, left_on = 'Market_ID')\n",
    "\n",
    "    #compute sum_g Dg^(1-sigma)\n",
    "    x['denom'] = ( (1 - x['PPO'])*x['HMO_delta']**sigma + x['PPO']*x['PPO_delta']**sigma) * (x['sum_g'])\n",
    "    x['fitted_share'] = x['exp_delta']/x['denom']\n",
    "    return x[['Market_ID','Plan_ID','PPO','fitted_share']]"
   ]
  },
  {
   "cell_type": "code",
   "execution_count": 12,
   "metadata": {},
   "outputs": [
    {
     "name": "stdout",
     "output_type": "stream",
     "text": [
      "0.5029674056550822 0.05517143427539584\n",
      "0.181818181818 0.0792519438840621\n"
     ]
    }
   ],
   "source": [
    "characs = data[['Market_ID','Plan_ID','Network Score','Satisfaction Score','PPO','Premium']]\n",
    "beta = result.params[:-1]\n",
    "alpha = abs(beta[3])\n",
    "sigma = abs(result.params[-1]) #not sure about this, feel like it should be positive?\n",
    "\n",
    "fitted_shares = comp_shares(characs,beta,sigma)\n",
    "\n",
    "print fitted_shares['fitted_share'].max(),fitted_shares['fitted_share'].min()\n",
    "print fitted_shares['fitted_share'].mean(), np.sqrt(fitted_shares['fitted_share'].var())"
   ]
  },
  {
   "cell_type": "code",
   "execution_count": 13,
   "metadata": {},
   "outputs": [],
   "source": [
    "#compute total share of each nest\n",
    "fitted_shares = comp_nest_shares(fitted_shares,'fitted_share')\n",
    "fitted_shares['nest_shares'] = fitted_shares['fitted_share']/fitted_shares['nest_size']"
   ]
  },
  {
   "cell_type": "code",
   "execution_count": 14,
   "metadata": {},
   "outputs": [
    {
     "name": "stdout",
     "output_type": "stream",
     "text": [
      "[[0. 1. 0. 0. 1. 1. 0. 1. 0. 1. 1. 0. 0. 1. 0. 1.]\n",
      " [1. 0. 1. 1. 0. 0. 1. 0. 1. 0. 0. 1. 1. 0. 1. 0.]\n",
      " [0. 1. 0. 0. 1. 1. 0. 1. 0. 1. 1. 0. 0. 1. 0. 1.]\n",
      " [0. 1. 0. 0. 1. 1. 0. 1. 0. 1. 1. 0. 0. 1. 0. 1.]\n",
      " [1. 0. 1. 1. 0. 0. 1. 0. 1. 0. 0. 1. 1. 0. 1. 0.]\n",
      " [1. 0. 1. 1. 0. 0. 1. 0. 1. 0. 0. 1. 1. 0. 1. 0.]\n",
      " [0. 1. 0. 0. 1. 1. 0. 1. 0. 1. 1. 0. 0. 1. 0. 1.]\n",
      " [1. 0. 1. 1. 0. 0. 1. 0. 1. 0. 0. 1. 1. 0. 1. 0.]\n",
      " [0. 1. 0. 0. 1. 1. 0. 1. 0. 1. 1. 0. 0. 1. 0. 1.]\n",
      " [1. 0. 1. 1. 0. 0. 1. 0. 1. 0. 0. 1. 1. 0. 1. 0.]\n",
      " [1. 0. 1. 1. 0. 0. 1. 0. 1. 0. 0. 1. 1. 0. 1. 0.]\n",
      " [0. 1. 0. 0. 1. 1. 0. 1. 0. 1. 1. 0. 0. 1. 0. 1.]\n",
      " [0. 1. 0. 0. 1. 1. 0. 1. 0. 1. 1. 0. 0. 1. 0. 1.]\n",
      " [1. 0. 1. 1. 0. 0. 1. 0. 1. 0. 0. 1. 1. 0. 1. 0.]\n",
      " [0. 1. 0. 0. 1. 1. 0. 1. 0. 1. 1. 0. 0. 1. 0. 1.]\n",
      " [1. 0. 1. 1. 0. 0. 1. 0. 1. 0. 0. 1. 1. 0. 1. 0.]]\n",
      "-3.565235846680758\n",
      "0.3439468873809879 0.3439468873809879\n",
      "0.9450527859032544 0.9123970611579443\n"
     ]
    }
   ],
   "source": [
    "#aggregate elasticities\n",
    "fitted_shares['Premium'] = data['Premium']\n",
    "#can uncomment to get averages\n",
    "fitted_shares = fitted_shares.groupby('Plan_ID').mean()\n",
    "\n",
    "#diagonal formula\n",
    "nest_shares = np.array(fitted_shares['nest_shares'])\n",
    "shares = np.array(fitted_shares['fitted_share'])\n",
    "prices = np.array(fitted_shares['Premium'])\n",
    "ppo = np.array([fitted_shares['PPO']]) #this one is a matrix\n",
    "\n",
    "#selector matrices\n",
    "own_price = np.identity(len(shares))\n",
    "inside_nest = np.matmul(ppo.transpose(),ppo) + np.matmul((1-ppo.transpose()),(1-ppo)) - own_price\n",
    "outside_nest = 1 - inside_nest - own_price\n",
    "\n",
    "\n",
    "#elasticity variables\n",
    "inside_elasticity = np.matmul( np.array( [ (sigma/(1-sigma) * nest_shares + shares)/shares ] ).transpose(),\n",
    "          np.array([alpha*prices*shares]))\n",
    "\n",
    "own_elasticity = -alpha*((1/(1-sigma)) - sigma/(1-sigma) * nest_shares - shares)*prices\n",
    "\n",
    "outside_elasticity =  shares * alpha * prices\n",
    "\n",
    "nest_elasticity = own_price*own_elasticity + inside_nest*inside_elasticity + outside_nest*outside_elasticity\n",
    "\n",
    "\n",
    "print outside_nest\n",
    "print nest_elasticity[1][1]\n",
    "print nest_elasticity[0][1],nest_elasticity[2][1] #should be the same (outside nest)\n",
    "print nest_elasticity[4][1],nest_elasticity[5][1] #should be different"
   ]
  },
  {
   "cell_type": "code",
   "execution_count": null,
   "metadata": {},
   "outputs": [],
   "source": []
  },
  {
   "cell_type": "code",
   "execution_count": null,
   "metadata": {},
   "outputs": [],
   "source": []
  }
 ],
 "metadata": {
  "kernelspec": {
   "display_name": "Python 2",
   "language": "python",
   "name": "python2"
  },
  "language_info": {
   "codemirror_mode": {
    "name": "ipython",
    "version": 2
   },
   "file_extension": ".py",
   "mimetype": "text/x-python",
   "name": "python",
   "nbconvert_exporter": "python",
   "pygments_lexer": "ipython2",
   "version": "2.7.15"
  }
 },
 "nbformat": 4,
 "nbformat_minor": 2
}
