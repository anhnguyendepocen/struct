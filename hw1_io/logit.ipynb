{
 "cells": [
  {
   "cell_type": "code",
   "execution_count": 1,
   "metadata": {},
   "outputs": [],
   "source": [
    "import pandas as pd\n",
    "import math\n",
    "import numpy as np\n",
    "from scipy.optimize import minimize\n",
    "import statsmodels.api as sm\n",
    "from scipy.stats import norm\n",
    "from statsmodels.sandbox.regression.gmm import GMM\n",
    "from statsmodels.base.model import GenericLikelihoodModel"
   ]
  },
  {
   "cell_type": "code",
   "execution_count": 2,
   "metadata": {},
   "outputs": [
    {
     "name": "stdout",
     "output_type": "stream",
     "text": [
      "Market_ID             1.000000\n",
      "Plan_ID               1.000000\n",
      "PPO                   0.000000\n",
      "Network Score         0.780000\n",
      "Satisfaction Score    0.725000\n",
      "Premium               2.269728\n",
      "Inside Good Share     0.037670\n",
      "Outside Good Share    0.096070\n",
      "dtype: float64\n"
     ]
    }
   ],
   "source": [
    "data = pd.read_csv('data.csv')\n",
    "\n",
    "#pre-processing to calculate outside good shares\n",
    "shares = data[['Market_ID','Inside Good Share','PPO']].copy()\n",
    "shares['PPO Share'] = data['Inside Good Share'] * data['PPO']\n",
    "shares['HMO Share'] = data['Inside Good Share'] * (1 - data['PPO'])\n",
    "\n",
    "group_shares = shares.groupby('Market_ID').sum()\n",
    "group_shares['Outside Good Share'] = 1 - group_shares['Inside Good Share']\n",
    "\n",
    "data = pd.merge(data,group_shares[['Outside Good Share']], \n",
    "                right_index=True, left_on = 'Market_ID')\n",
    "\n",
    "print data.min()"
   ]
  },
  {
   "cell_type": "code",
   "execution_count": 3,
   "metadata": {},
   "outputs": [],
   "source": [
    "#first estimate using logit\n",
    "class logit(GMM):\n",
    "    \n",
    "    def __init__(self, *args, **kwds):\n",
    "        # set appropriate counts for moment conditions and parameters\n",
    "        super(logit, self).__init__(*args, **kwds)\n",
    "\n",
    "        \n",
    "    def momcond(self, params):\n",
    "        #unwrap stuff\n",
    "        shares = np.array(self.endog).transpose()\n",
    "        exog = np.array(self.exog)\n",
    "        instr = np.array(self.instrument)\n",
    "        \n",
    "        lshare = np.log(shares[0]) -  np.log(shares[1])\n",
    "        lshare = lshare.transpose()\n",
    "       \n",
    "        lshare_fit = np.matmul(exog,params) #linear equation    \n",
    "        \n",
    "        xi = lshare_fit - lshare\n",
    "        g = instr * xi[:, np.newaxis]\n",
    "        \n",
    "        return g"
   ]
  },
  {
   "cell_type": "code",
   "execution_count": 4,
   "metadata": {},
   "outputs": [],
   "source": [
    "#calculate hausmann insturments\n",
    "mkt_dum = pd.get_dummies(data['Market_ID'],prefix='mkt',drop_first=True)\n",
    "plan_dum = pd.get_dummies(data['Plan_ID'],prefix='plan',drop_first=True)\n",
    "hausman_instr = join(plan_dum\n",
    "\n",
    "#set up x and y\n",
    "y = data[['Inside Good Share','Outside Good Share']]\n",
    "x =  data[['Network Score','Satisfaction Score','PPO','Premium']]"
   ]
  },
  {
   "cell_type": "code",
   "execution_count": 5,
   "metadata": {},
   "outputs": [
    {
     "name": "stdout",
     "output_type": "stream",
     "text": [
      "Optimization terminated successfully.\n",
      "         Current function value: 0.000008\n",
      "         Iterations: 292\n",
      "         Function evaluations: 497\n",
      "Optimization terminated successfully.\n",
      "         Current function value: 0.005149\n",
      "         Iterations: 139\n",
      "         Function evaluations: 249\n",
      "                                             logit Results                                             \n",
      "=======================================================================================================\n",
      "Dep. Variable:     ['Inside Good Share', 'Outside Good Share']   Hansen J:                        16.99\n",
      "Model:                                                   logit   Prob (Hansen J):                 0.108\n",
      "Method:                                                    GMM                                         \n",
      "Date:                                         Wed, 10 Oct 2018                                         \n",
      "Time:                                                 13:32:44                                         \n",
      "No. Observations:                                         3300                                         \n",
      "======================================================================================\n",
      "                         coef    std err          z      P>|z|      [0.025      0.975]\n",
      "--------------------------------------------------------------------------------------\n",
      "Network Score          3.5117      0.124     28.301      0.000       3.268       3.755\n",
      "Satisfaction Score     2.0384      0.072     28.355      0.000       1.897       2.179\n",
      "PPO                    0.8185      0.011     76.023      0.000       0.797       0.840\n",
      "Premium               -2.0615      0.040    -52.076      0.000      -2.139      -1.984\n",
      "======================================================================================\n"
     ]
    }
   ],
   "source": [
    "#set up initial est\n",
    "beta_init = np.full(len(x.columns),1)\n",
    "\n",
    "#set up model\n",
    "model = logit(y , x, hausman_instr)\n",
    "\n",
    "result = model.fit(beta_init, maxiter=2, optim_method='nm', wargs=dict(centered=False))\n",
    "print(result.summary())"
   ]
  },
  {
   "cell_type": "code",
   "execution_count": 26,
   "metadata": {},
   "outputs": [
    {
     "name": "stdout",
     "output_type": "stream",
     "text": [
      "[0.17502021 0.23839869 0.29850248 ... 0.09512126 0.09887772 0.13083635]\n"
     ]
    }
   ],
   "source": [
    "#correct way to compute shares...\n",
    "\n",
    "def comp_shares(x,p,alpha,beta,labels=False):\n",
    "    #compute exp(delta_j)\n",
    "    x = x.copy()\n",
    "    x['exp_delta'] =  np.exp ( np.matmul(x[['Network Score','Satisfaction Score','PPO']],beta) - alpha*p )\n",
    "    #print x['exp_delta']\n",
    "    \n",
    "    #compute 1 + sum_j exp(delta_j)\n",
    "    sum_delta = x.groupby('Market_ID').sum()\n",
    "    sum_delta['sum_exp_delta'] = 1 + sum_delta['exp_delta'] \n",
    "    \n",
    "    x = pd.merge(x, sum_delta[['sum_exp_delta']], \n",
    "                right_index=True, left_on = 'Market_ID')\n",
    "\n",
    "    #compute s_j\n",
    "    x['fitted_share'] = x['exp_delta']/x['sum_exp_delta']\n",
    "    \n",
    "    if labels: \n",
    "        return x[['Plan_ID','Market_ID','fitted_share']]\n",
    "    \n",
    "    return np.array(x['fitted_share']).squeeze()\n",
    "        \n",
    "\n",
    "#set up parameters \n",
    "observ = data[['Plan_ID','Market_ID','Network Score','Satisfaction Score','PPO']]\n",
    "prices = np.array( data['Premium'] ) #needed for later...\n",
    "\n",
    "beta = result.params[:-1]\n",
    "alpha = abs(result.params[3])\n",
    "\n",
    "shares = comp_shares(observ,prices,alpha,beta)\n",
    "\n",
    "print shares"
   ]
  },
  {
   "cell_type": "code",
   "execution_count": 16,
   "metadata": {},
   "outputs": [
    {
     "name": "stdout",
     "output_type": "stream",
     "text": [
      "-3.8405528281901504 1.2021812009896957 1.2021812009896957\n",
      "[[-4.32655865  0.5554553   1.08916071  0.82684009  0.5712068   0.71449052\n",
      "   1.00282018  0.7442054   0.83712214  0.45917062  0.59919906  1.00264945\n",
      "   0.76680516  0.67056723  1.07787354  0.67651484]\n",
      " [ 1.01565942 -4.3085966   1.08916071  0.82684009  0.5712068   0.71449052\n",
      "   1.00282018  0.7442054   0.83712214  0.45917062  0.59919906  1.00264945\n",
      "   0.76680516  0.67056723  1.07787354  0.67651484]\n",
      " [ 1.01565942  0.5554553  -4.2870623   0.82684009  0.5712068   0.71449052\n",
      "   1.00282018  0.7442054   0.83712214  0.45917062  0.59919906  1.00264945\n",
      "   0.76680516  0.67056723  1.07787354  0.67651484]\n",
      " [ 1.01565942  0.5554553   1.08916071 -4.37731375  0.5712068   0.71449052\n",
      "   1.00282018  0.7442054   0.83712214  0.45917062  0.59919906  1.00264945\n",
      "   0.76680516  0.67056723  1.07787354  0.67651484]\n",
      " [ 1.01565942  0.5554553   1.08916071  0.82684009 -4.25288515  0.71449052\n",
      "   1.00282018  0.7442054   0.83712214  0.45917062  0.59919906  1.00264945\n",
      "   0.76680516  0.67056723  1.07787354  0.67651484]\n",
      " [ 1.01565942  0.5554553   1.08916071  0.82684009  0.5712068  -4.14157398\n",
      "   1.00282018  0.7442054   0.83712214  0.45917062  0.59919906  1.00264945\n",
      "   0.76680516  0.67056723  1.07787354  0.67651484]\n",
      " [ 1.01565942  0.5554553   1.08916071  0.82684009  0.5712068   0.71449052\n",
      "  -4.34790206  0.7442054   0.83712214  0.45917062  0.59919906  1.00264945\n",
      "   0.76680516  0.67056723  1.07787354  0.67651484]\n",
      " [ 1.01565942  0.5554553   1.08916071  0.82684009  0.5712068   0.71449052\n",
      "   1.00282018 -4.22404057  0.83712214  0.45917062  0.59919906  1.00264945\n",
      "   0.76680516  0.67056723  1.07787354  0.67651484]\n",
      " [ 1.01565942  0.5554553   1.08916071  0.82684009  0.5712068   0.71449052\n",
      "   1.00282018  0.7442054  -4.38136659  0.45917062  0.59919906  1.00264945\n",
      "   0.76680516  0.67056723  1.07787354  0.67651484]\n",
      " [ 1.01565942  0.5554553   1.08916071  0.82684009  0.5712068   0.71449052\n",
      "   1.00282018  0.7442054   0.83712214 -4.35968339  0.59919906  1.00264945\n",
      "   0.76680516  0.67056723  1.07787354  0.67651484]\n",
      " [ 1.01565942  0.5554553   1.08916071  0.82684009  0.5712068   0.71449052\n",
      "   1.00282018  0.7442054   0.83712214  0.45917062 -4.19257883  1.00264945\n",
      "   0.76680516  0.67056723  1.07787354  0.67651484]\n",
      " [ 1.01565942  0.5554553   1.08916071  0.82684009  0.5712068   0.71449052\n",
      "   1.00282018  0.7442054   0.83712214  0.45917062  0.59919906 -4.35849785\n",
      "   0.76680516  0.67056723  1.07787354  0.67651484]\n",
      " [ 1.01565942  0.5554553   1.08916071  0.82684009  0.5712068   0.71449052\n",
      "   1.00282018  0.7442054   0.83712214  0.45917062  0.59919906  1.00264945\n",
      "  -4.43103563  0.67056723  1.07787354  0.67651484]\n",
      " [ 1.01565942  0.5554553   1.08916071  0.82684009  0.5712068   0.71449052\n",
      "   1.00282018  0.7442054   0.83712214  0.45917062  0.59919906  1.00264945\n",
      "   0.76680516 -4.29940152  1.07787354  0.67651484]\n",
      " [ 1.01565942  0.5554553   1.08916071  0.82684009  0.5712068   0.71449052\n",
      "   1.00282018  0.7442054   0.83712214  0.45917062  0.59919906  1.00264945\n",
      "   0.76680516  0.67056723 -4.27473428  0.67651484]\n",
      " [ 1.01565942  0.5554553   1.08916071  0.82684009  0.5712068   0.71449052\n",
      "   1.00282018  0.7442054   0.83712214  0.45917062  0.59919906  1.00264945\n",
      "   0.76680516  0.67056723  1.07787354 -4.20096922]]\n"
     ]
    }
   ],
   "source": [
    "def comp_elasticity(shares, prices, alpha):\n",
    "    #set up matrix skeleton\n",
    "    own_price = np.identity(len(shares))\n",
    "    cross_price = 1 - own_price\n",
    "\n",
    "    #actually calculate elasticity\n",
    "    cross_elasticity = shares * alpha * prices\n",
    "    own_elasticity  = -(1-shares) * alpha * prices\n",
    "\n",
    "    return cross_price*cross_elasticity + own_price *own_elasticity\n",
    "\n",
    "\n",
    "#agregate elasticities\n",
    "elasticity = comp_elasticity(shares, prices, alpha)\n",
    "print elasticity[1][1],elasticity[2][1],elasticity[3][1] #second index tells you wrt what good i.e. denom\n",
    "\n",
    "\n",
    "#average elasticity\n",
    "avg_shares =  np.array( comp_shares(observ,prices,alpha,beta,\n",
    "                                    labels=True).groupby('Plan_ID').mean()['fitted_share']).squeeze()\n",
    "avg_price = np.array( data[['Plan_ID','Premium']].groupby('Plan_ID').mean() ).squeeze()\n",
    "avg_elasticity = comp_elasticity(avg_shares, avg_price, alpha)\n",
    "print avg_elasticity"
   ]
  },
  {
   "cell_type": "code",
   "execution_count": 22,
   "metadata": {},
   "outputs": [
    {
     "name": "stdout",
     "output_type": "stream",
     "text": [
      "[0.00096085 0.00096085 0.00096085 ... 0.00096085 0.00096085 0.00096085]\n",
      "[2.49680175 2.44522855 2.79422575 ... 2.66357285 2.35594355 2.52566855]\n"
     ]
    }
   ],
   "source": [
    "#solve for marginal costs\n",
    "def comp_markup(shares):\n",
    "    shares_vector = np.array([shares])\n",
    "    \n",
    "    #set up matrix    \n",
    "    own_price = np.identity(len(shares))\n",
    "    cross_price = 1 - own_price\n",
    "    #caclulate formula\n",
    "    cross_deriv = alpha * np.matmul(shares_vector.transpose() , shares_vector )\n",
    "    own_deriv  = - alpha * (1-shares)  * shares\n",
    "    \n",
    "    derivative =  cross_price*cross_deriv + own_price *own_deriv\n",
    "    #take inverse and calc markup\n",
    "    inv_derivative = np.linalg.inv(derivative)\n",
    "\n",
    "    markup = np.matmul(inv_derivative, shares_vector.transpose()) \n",
    "    return markup.transpose()[0]\n",
    "\n",
    "\n",
    "markup = comp_markup(shares)\n",
    "mc = prices - markup\n",
    "print markup\n",
    "print mc"
   ]
  },
  {
   "cell_type": "code",
   "execution_count": 23,
   "metadata": {},
   "outputs": [
    {
     "name": "stdout",
     "output_type": "stream",
     "text": [
      "[-0.48605274]\n"
     ]
    }
   ],
   "source": [
    "def profits(p, rebate=.25, x=observ, beta=beta):\n",
    "    shares = comp_shares(x, p, alpha, beta)\n",
    "    return - np.matmul(shares, np.array([prices-mc]).transpose())\n",
    "\n",
    "print profits(prices, rebate = 0)"
   ]
  },
  {
   "cell_type": "code",
   "execution_count": 25,
   "metadata": {},
   "outputs": [
    {
     "ename": "KeyboardInterrupt",
     "evalue": "",
     "output_type": "error",
     "traceback": [
      "\u001b[0;31m---------------------------------------------------------------------------\u001b[0m",
      "\u001b[0;31mKeyboardInterrupt\u001b[0m                         Traceback (most recent call last)",
      "\u001b[0;32m<ipython-input-25-51b11d623902>\u001b[0m in \u001b[0;36m<module>\u001b[0;34m()\u001b[0m\n\u001b[1;32m      3\u001b[0m \u001b[0;34m\u001b[0m\u001b[0m\n\u001b[1;32m      4\u001b[0m res = minimize(profits, prices, method='nelder-mead',\n\u001b[0;32m----> 5\u001b[0;31m      options={'xtol': 1e-4, 'disp': True})\n\u001b[0m\u001b[1;32m      6\u001b[0m \u001b[0;34m\u001b[0m\u001b[0m\n\u001b[1;32m      7\u001b[0m \u001b[0;32mprint\u001b[0m\u001b[0;34m(\u001b[0m\u001b[0mres\u001b[0m\u001b[0;34m.\u001b[0m\u001b[0mx\u001b[0m\u001b[0;34m)\u001b[0m \u001b[0;31m#doesn't seem right\u001b[0m\u001b[0;34m\u001b[0m\u001b[0m\n",
      "\u001b[0;32m/home/erichschulman/anaconda2/lib/python2.7/site-packages/scipy/optimize/_minimize.pyc\u001b[0m in \u001b[0;36mminimize\u001b[0;34m(fun, x0, args, method, jac, hess, hessp, bounds, constraints, tol, callback, options)\u001b[0m\n\u001b[1;32m    589\u001b[0m                       callback=callback, **options)\n\u001b[1;32m    590\u001b[0m     \u001b[0;32melif\u001b[0m \u001b[0mmeth\u001b[0m \u001b[0;34m==\u001b[0m \u001b[0;34m'nelder-mead'\u001b[0m\u001b[0;34m:\u001b[0m\u001b[0;34m\u001b[0m\u001b[0m\n\u001b[0;32m--> 591\u001b[0;31m         \u001b[0;32mreturn\u001b[0m \u001b[0m_minimize_neldermead\u001b[0m\u001b[0;34m(\u001b[0m\u001b[0mfun\u001b[0m\u001b[0;34m,\u001b[0m \u001b[0mx0\u001b[0m\u001b[0;34m,\u001b[0m \u001b[0margs\u001b[0m\u001b[0;34m,\u001b[0m \u001b[0mcallback\u001b[0m\u001b[0;34m,\u001b[0m \u001b[0;34m**\u001b[0m\u001b[0moptions\u001b[0m\u001b[0;34m)\u001b[0m\u001b[0;34m\u001b[0m\u001b[0m\n\u001b[0m\u001b[1;32m    592\u001b[0m     \u001b[0;32melif\u001b[0m \u001b[0mmeth\u001b[0m \u001b[0;34m==\u001b[0m \u001b[0;34m'powell'\u001b[0m\u001b[0;34m:\u001b[0m\u001b[0;34m\u001b[0m\u001b[0m\n\u001b[1;32m    593\u001b[0m         \u001b[0;32mreturn\u001b[0m \u001b[0m_minimize_powell\u001b[0m\u001b[0;34m(\u001b[0m\u001b[0mfun\u001b[0m\u001b[0;34m,\u001b[0m \u001b[0mx0\u001b[0m\u001b[0;34m,\u001b[0m \u001b[0margs\u001b[0m\u001b[0;34m,\u001b[0m \u001b[0mcallback\u001b[0m\u001b[0;34m,\u001b[0m \u001b[0;34m**\u001b[0m\u001b[0moptions\u001b[0m\u001b[0;34m)\u001b[0m\u001b[0;34m\u001b[0m\u001b[0m\n",
      "\u001b[0;32m/home/erichschulman/anaconda2/lib/python2.7/site-packages/scipy/optimize/optimize.pyc\u001b[0m in \u001b[0;36m_minimize_neldermead\u001b[0;34m(func, x0, args, callback, maxiter, maxfev, disp, return_all, initial_simplex, xatol, fatol, adaptive, **unknown_options)\u001b[0m\n\u001b[1;32m    611\u001b[0m \u001b[0;34m\u001b[0m\u001b[0m\n\u001b[1;32m    612\u001b[0m         \u001b[0mind\u001b[0m \u001b[0;34m=\u001b[0m \u001b[0mnumpy\u001b[0m\u001b[0;34m.\u001b[0m\u001b[0margsort\u001b[0m\u001b[0;34m(\u001b[0m\u001b[0mfsim\u001b[0m\u001b[0;34m)\u001b[0m\u001b[0;34m\u001b[0m\u001b[0m\n\u001b[0;32m--> 613\u001b[0;31m         \u001b[0msim\u001b[0m \u001b[0;34m=\u001b[0m \u001b[0mnumpy\u001b[0m\u001b[0;34m.\u001b[0m\u001b[0mtake\u001b[0m\u001b[0;34m(\u001b[0m\u001b[0msim\u001b[0m\u001b[0;34m,\u001b[0m \u001b[0mind\u001b[0m\u001b[0;34m,\u001b[0m \u001b[0;36m0\u001b[0m\u001b[0;34m)\u001b[0m\u001b[0;34m\u001b[0m\u001b[0m\n\u001b[0m\u001b[1;32m    614\u001b[0m         \u001b[0mfsim\u001b[0m \u001b[0;34m=\u001b[0m \u001b[0mnumpy\u001b[0m\u001b[0;34m.\u001b[0m\u001b[0mtake\u001b[0m\u001b[0;34m(\u001b[0m\u001b[0mfsim\u001b[0m\u001b[0;34m,\u001b[0m \u001b[0mind\u001b[0m\u001b[0;34m,\u001b[0m \u001b[0;36m0\u001b[0m\u001b[0;34m)\u001b[0m\u001b[0;34m\u001b[0m\u001b[0m\n\u001b[1;32m    615\u001b[0m         \u001b[0;32mif\u001b[0m \u001b[0mcallback\u001b[0m \u001b[0;32mis\u001b[0m \u001b[0;32mnot\u001b[0m \u001b[0mNone\u001b[0m\u001b[0;34m:\u001b[0m\u001b[0;34m\u001b[0m\u001b[0m\n",
      "\u001b[0;32m/home/erichschulman/anaconda2/lib/python2.7/site-packages/numpy/core/fromnumeric.pyc\u001b[0m in \u001b[0;36mtake\u001b[0;34m(a, indices, axis, out, mode)\u001b[0m\n\u001b[1;32m    157\u001b[0m            [5, 7]])\n\u001b[1;32m    158\u001b[0m     \"\"\"\n\u001b[0;32m--> 159\u001b[0;31m     \u001b[0;32mreturn\u001b[0m \u001b[0m_wrapfunc\u001b[0m\u001b[0;34m(\u001b[0m\u001b[0ma\u001b[0m\u001b[0;34m,\u001b[0m \u001b[0;34m'take'\u001b[0m\u001b[0;34m,\u001b[0m \u001b[0mindices\u001b[0m\u001b[0;34m,\u001b[0m \u001b[0maxis\u001b[0m\u001b[0;34m=\u001b[0m\u001b[0maxis\u001b[0m\u001b[0;34m,\u001b[0m \u001b[0mout\u001b[0m\u001b[0;34m=\u001b[0m\u001b[0mout\u001b[0m\u001b[0;34m,\u001b[0m \u001b[0mmode\u001b[0m\u001b[0;34m=\u001b[0m\u001b[0mmode\u001b[0m\u001b[0;34m)\u001b[0m\u001b[0;34m\u001b[0m\u001b[0m\n\u001b[0m\u001b[1;32m    160\u001b[0m \u001b[0;34m\u001b[0m\u001b[0m\n\u001b[1;32m    161\u001b[0m \u001b[0;34m\u001b[0m\u001b[0m\n",
      "\u001b[0;32m/home/erichschulman/anaconda2/lib/python2.7/site-packages/numpy/core/fromnumeric.pyc\u001b[0m in \u001b[0;36m_wrapfunc\u001b[0;34m(obj, method, *args, **kwds)\u001b[0m\n\u001b[1;32m     50\u001b[0m \u001b[0;32mdef\u001b[0m \u001b[0m_wrapfunc\u001b[0m\u001b[0;34m(\u001b[0m\u001b[0mobj\u001b[0m\u001b[0;34m,\u001b[0m \u001b[0mmethod\u001b[0m\u001b[0;34m,\u001b[0m \u001b[0;34m*\u001b[0m\u001b[0margs\u001b[0m\u001b[0;34m,\u001b[0m \u001b[0;34m**\u001b[0m\u001b[0mkwds\u001b[0m\u001b[0;34m)\u001b[0m\u001b[0;34m:\u001b[0m\u001b[0;34m\u001b[0m\u001b[0m\n\u001b[1;32m     51\u001b[0m     \u001b[0;32mtry\u001b[0m\u001b[0;34m:\u001b[0m\u001b[0;34m\u001b[0m\u001b[0m\n\u001b[0;32m---> 52\u001b[0;31m         \u001b[0;32mreturn\u001b[0m \u001b[0mgetattr\u001b[0m\u001b[0;34m(\u001b[0m\u001b[0mobj\u001b[0m\u001b[0;34m,\u001b[0m \u001b[0mmethod\u001b[0m\u001b[0;34m)\u001b[0m\u001b[0;34m(\u001b[0m\u001b[0;34m*\u001b[0m\u001b[0margs\u001b[0m\u001b[0;34m,\u001b[0m \u001b[0;34m**\u001b[0m\u001b[0mkwds\u001b[0m\u001b[0;34m)\u001b[0m\u001b[0;34m\u001b[0m\u001b[0m\n\u001b[0m\u001b[1;32m     53\u001b[0m \u001b[0;34m\u001b[0m\u001b[0m\n\u001b[1;32m     54\u001b[0m     \u001b[0;31m# An AttributeError occurs if the object does not have\u001b[0m\u001b[0;34m\u001b[0m\u001b[0;34m\u001b[0m\u001b[0m\n",
      "\u001b[0;31mKeyboardInterrupt\u001b[0m: "
     ]
    }
   ],
   "source": [
    "res = minimize(profits, prices, method='nelder-mead',\n",
    "     options={'xtol': 1e-4, 'disp': True})\n",
    "\n",
    "print(res.x) #doesn't seem right"
   ]
  },
  {
   "cell_type": "code",
   "execution_count": null,
   "metadata": {},
   "outputs": [],
   "source": [
    "#profits per enrollee\n",
    "#outside good shares\n"
   ]
  },
  {
   "cell_type": "code",
   "execution_count": null,
   "metadata": {},
   "outputs": [],
   "source": [
    "#consumer surplus\n",
    "#1/alpha *  ( sum(np.exp(delta1_j)) - sum(np.exp(delta0_j)) )"
   ]
  },
  {
   "cell_type": "code",
   "execution_count": null,
   "metadata": {},
   "outputs": [],
   "source": []
  },
  {
   "cell_type": "code",
   "execution_count": null,
   "metadata": {},
   "outputs": [],
   "source": []
  }
 ],
 "metadata": {
  "kernelspec": {
   "display_name": "Python 2",
   "language": "python",
   "name": "python2"
  },
  "language_info": {
   "codemirror_mode": {
    "name": "ipython",
    "version": 2
   },
   "file_extension": ".py",
   "mimetype": "text/x-python",
   "name": "python",
   "nbconvert_exporter": "python",
   "pygments_lexer": "ipython2",
   "version": "2.7.15"
  }
 },
 "nbformat": 4,
 "nbformat_minor": 2
}
