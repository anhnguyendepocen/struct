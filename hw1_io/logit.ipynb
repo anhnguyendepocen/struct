{
 "cells": [
  {
   "cell_type": "code",
   "execution_count": 1,
   "metadata": {},
   "outputs": [],
   "source": [
    "import pandas as pd\n",
    "import math\n",
    "import numpy as np\n",
    "import matplotlib.pyplot as plt\n",
    "import statsmodels.api as sm\n",
    "from scipy.stats import norm\n",
    "from statsmodels.sandbox.regression.gmm import GMM\n",
    "from statsmodels.base.model import GenericLikelihoodModel"
   ]
  },
  {
   "cell_type": "code",
   "execution_count": 2,
   "metadata": {},
   "outputs": [
    {
     "name": "stdout",
     "output_type": "stream",
     "text": [
      "Market_ID             1.000000\n",
      "Plan_ID               1.000000\n",
      "PPO                   0.000000\n",
      "Network Score         0.780000\n",
      "Satisfaction Score    0.725000\n",
      "Premium               2.269728\n",
      "Inside Good Share     0.037670\n",
      "Outside Good Share    0.096070\n",
      "dtype: float64\n"
     ]
    }
   ],
   "source": [
    "data = pd.read_csv('data.csv')\n",
    "\n",
    "#pre-processing to calculate outside good shares\n",
    "shares = data[['Market_ID','Inside Good Share','PPO']].copy()\n",
    "shares['PPO Share'] = data['Inside Good Share'] * data['PPO']\n",
    "shares['HMO Share'] = data['Inside Good Share'] * (1 - data['PPO'])\n",
    "\n",
    "group_shares = shares.groupby('Market_ID').sum()\n",
    "group_shares['Outside Good Share'] = 1 - group_shares['Inside Good Share']\n",
    "\n",
    "data = pd.merge(data,group_shares[['Outside Good Share']], \n",
    "                right_index=True, left_on = 'Market_ID')\n",
    "\n",
    "print data.min()"
   ]
  },
  {
   "cell_type": "code",
   "execution_count": 3,
   "metadata": {},
   "outputs": [],
   "source": [
    "#first estimate using logit\n",
    "class logit(GMM):\n",
    "    \n",
    "    def __init__(self, *args, **kwds):\n",
    "        # set appropriate counts for moment conditions and parameters\n",
    "        super(logit, self).__init__(*args, **kwds)\n",
    "\n",
    "        \n",
    "    def momcond(self, params):\n",
    "        #unwrap stuff\n",
    "        shares = np.array(self.endog).transpose()\n",
    "        exog = np.array(self.exog)\n",
    "        instr = np.array(self.instrument)\n",
    "        \n",
    "        lshare = np.log(shares[0]) -  np.log(shares[1])\n",
    "        lshare = lshare.transpose()\n",
    "       \n",
    "        lshare_fit = np.matmul(exog,params) #linear equation    \n",
    "        \n",
    "        xi = lshare_fit - lshare\n",
    "        g = instr * xi[:, np.newaxis]\n",
    "        \n",
    "        return g"
   ]
  },
  {
   "cell_type": "code",
   "execution_count": 4,
   "metadata": {},
   "outputs": [],
   "source": [
    "#calculate hausmann insturments\n",
    "mkt_dum = pd.get_dummies(data['Market_ID'],prefix='mkt',drop_first=True)\n",
    "plan_dum = pd.get_dummies(data['Plan_ID'],prefix='plan',drop_first=True)\n",
    "hausman_instr = plan_dum\n",
    "\n",
    "#set up x and y\n",
    "y = data[['Inside Good Share','Outside Good Share']]\n",
    "x =  data[['Network Score','Satisfaction Score','PPO','Premium']]"
   ]
  },
  {
   "cell_type": "code",
   "execution_count": 5,
   "metadata": {},
   "outputs": [
    {
     "name": "stdout",
     "output_type": "stream",
     "text": [
      "Optimization terminated successfully.\n",
      "         Current function value: 0.000008\n",
      "         Iterations: 292\n",
      "         Function evaluations: 497\n",
      "Optimization terminated successfully.\n",
      "         Current function value: 0.005149\n",
      "         Iterations: 139\n",
      "         Function evaluations: 249\n",
      "                                             logit Results                                             \n",
      "=======================================================================================================\n",
      "Dep. Variable:     ['Inside Good Share', 'Outside Good Share']   Hansen J:                        16.99\n",
      "Model:                                                   logit   Prob (Hansen J):                 0.108\n",
      "Method:                                                    GMM                                         \n",
      "Date:                                         Wed, 10 Oct 2018                                         \n",
      "Time:                                                 09:59:56                                         \n",
      "No. Observations:                                         3300                                         \n",
      "======================================================================================\n",
      "                         coef    std err          z      P>|z|      [0.025      0.975]\n",
      "--------------------------------------------------------------------------------------\n",
      "Network Score          3.5117      0.124     28.301      0.000       3.268       3.755\n",
      "Satisfaction Score     2.0384      0.072     28.355      0.000       1.897       2.179\n",
      "PPO                    0.8185      0.011     76.023      0.000       0.797       0.840\n",
      "Premium               -2.0615      0.040    -52.076      0.000      -2.139      -1.984\n",
      "======================================================================================\n"
     ]
    }
   ],
   "source": [
    "#set up initial est\n",
    "beta_init = np.full(len(x.columns),1)\n",
    "\n",
    "#set up model\n",
    "model = logit(y , x, hausman_instr)\n",
    "\n",
    "result = model.fit(beta_init, maxiter=2, optim_method='nm', wargs=dict(centered=False))\n",
    "print(result.summary())"
   ]
  },
  {
   "cell_type": "code",
   "execution_count": 72,
   "metadata": {},
   "outputs": [
    {
     "name": "stdout",
     "output_type": "stream",
     "text": [
      "Plan_ID          47.138333\n",
      "PPO               2.720000\n",
      "Premium          13.562795\n",
      "exp_delta         6.297526\n",
      "sum_exp_delta    44.228315\n",
      "fitted_share      0.843098\n",
      "dtype: float64\n",
      "0.3211705667781474 0.04175067681732296 0.153290506773 0.0527060652944428\n"
     ]
    }
   ],
   "source": [
    "#correct way to compute shares...\n",
    "\n",
    "#compute exp(delta_j)\n",
    "delta = data.copy()[['Plan_ID','Market_ID','PPO','Premium']]\n",
    "x = np.array(x)\n",
    "beta = result.params\n",
    "alpha = abs(beta[3])\n",
    "delta['exp_delta'] = np.exp(np.matmul(x,beta))\n",
    "\n",
    "#compute 1 + sum_j exp(delta_j)\n",
    "sum_delta = delta.groupby('Market_ID').sum()\n",
    "sum_delta['sum_exp_delta'] = 1 + sum_delta['exp_delta'] \n",
    "\n",
    "delta = pd.merge(delta, sum_delta[['sum_exp_delta']], \n",
    "                right_index=True, left_on = 'Market_ID')\n",
    "\n",
    "#compute s_j\n",
    "delta['fitted_share'] = delta['exp_delta']/delta['sum_exp_delta']\n",
    "\n",
    "print delta.groupby('Market_ID').sum().mean()\n",
    "\n",
    "print delta['fitted_share'].max(), delta['fitted_share'].min(), delta['fitted_share'].mean(), np.sqrt(delta['fitted_share'].var())"
   ]
  },
  {
   "cell_type": "code",
   "execution_count": 73,
   "metadata": {},
   "outputs": [
    {
     "name": "stdout",
     "output_type": "stream",
     "text": [
      "[0.07777855 0.04112888 0.08286704 0.0605475  0.04363872 0.05471835\n",
      " 0.07445872 0.06017672 0.06119211 0.03388444 0.04466438 0.07627382\n",
      " 0.05354786 0.05155689 0.08099884 0.05066723]\n"
     ]
    }
   ],
   "source": [
    "#simplified way to calculate shares\n",
    "\n",
    "def comp_shares(x,p,alpha,beta):\n",
    "    beta = beta[:-1]\n",
    "    delta_js = np.matmul(x,beta) - alpha*p\n",
    "    numer = np.exp(delta_js)\n",
    "    denom = 1+sum(np.exp(delta_js))\n",
    "    return numer/denom\n",
    "\n",
    "#parameters\n",
    "alpha = abs(result.params[3])\n",
    "\n",
    "#data\n",
    "xes = np.array( data[['Plan_ID','Network Score','Satisfaction Score','PPO']].groupby('Plan_ID').mean() )\n",
    "prices = np.array( data[['Plan_ID','Premium']].groupby('Plan_ID').mean() ).squeeze()\n",
    "\n",
    "#calc\n",
    "shares = comp_shares(xes, prices,alpha,beta)\n",
    "\n",
    "print shares"
   ]
  },
  {
   "cell_type": "code",
   "execution_count": 74,
   "metadata": {},
   "outputs": [
    {
     "name": "stdout",
     "output_type": "stream",
     "text": [
      "-4.308596601690402 0.5554552982100271 0.5554552982100271\n",
      "[[-4.32655865  0.5554553   1.08916071  0.82684009  0.5712068   0.71449052\n",
      "   1.00282018  0.7442054   0.83712214  0.45917062  0.59919906  1.00264945\n",
      "   0.76680516  0.67056723  1.07787354  0.67651484]\n",
      " [ 1.01565942 -4.3085966   1.08916071  0.82684009  0.5712068   0.71449052\n",
      "   1.00282018  0.7442054   0.83712214  0.45917062  0.59919906  1.00264945\n",
      "   0.76680516  0.67056723  1.07787354  0.67651484]\n",
      " [ 1.01565942  0.5554553  -4.2870623   0.82684009  0.5712068   0.71449052\n",
      "   1.00282018  0.7442054   0.83712214  0.45917062  0.59919906  1.00264945\n",
      "   0.76680516  0.67056723  1.07787354  0.67651484]\n",
      " [ 1.01565942  0.5554553   1.08916071 -4.37731375  0.5712068   0.71449052\n",
      "   1.00282018  0.7442054   0.83712214  0.45917062  0.59919906  1.00264945\n",
      "   0.76680516  0.67056723  1.07787354  0.67651484]\n",
      " [ 1.01565942  0.5554553   1.08916071  0.82684009 -4.25288515  0.71449052\n",
      "   1.00282018  0.7442054   0.83712214  0.45917062  0.59919906  1.00264945\n",
      "   0.76680516  0.67056723  1.07787354  0.67651484]\n",
      " [ 1.01565942  0.5554553   1.08916071  0.82684009  0.5712068  -4.14157398\n",
      "   1.00282018  0.7442054   0.83712214  0.45917062  0.59919906  1.00264945\n",
      "   0.76680516  0.67056723  1.07787354  0.67651484]\n",
      " [ 1.01565942  0.5554553   1.08916071  0.82684009  0.5712068   0.71449052\n",
      "  -4.34790206  0.7442054   0.83712214  0.45917062  0.59919906  1.00264945\n",
      "   0.76680516  0.67056723  1.07787354  0.67651484]\n",
      " [ 1.01565942  0.5554553   1.08916071  0.82684009  0.5712068   0.71449052\n",
      "   1.00282018 -4.22404057  0.83712214  0.45917062  0.59919906  1.00264945\n",
      "   0.76680516  0.67056723  1.07787354  0.67651484]\n",
      " [ 1.01565942  0.5554553   1.08916071  0.82684009  0.5712068   0.71449052\n",
      "   1.00282018  0.7442054  -4.38136659  0.45917062  0.59919906  1.00264945\n",
      "   0.76680516  0.67056723  1.07787354  0.67651484]\n",
      " [ 1.01565942  0.5554553   1.08916071  0.82684009  0.5712068   0.71449052\n",
      "   1.00282018  0.7442054   0.83712214 -4.35968339  0.59919906  1.00264945\n",
      "   0.76680516  0.67056723  1.07787354  0.67651484]\n",
      " [ 1.01565942  0.5554553   1.08916071  0.82684009  0.5712068   0.71449052\n",
      "   1.00282018  0.7442054   0.83712214  0.45917062 -4.19257883  1.00264945\n",
      "   0.76680516  0.67056723  1.07787354  0.67651484]\n",
      " [ 1.01565942  0.5554553   1.08916071  0.82684009  0.5712068   0.71449052\n",
      "   1.00282018  0.7442054   0.83712214  0.45917062  0.59919906 -4.35849785\n",
      "   0.76680516  0.67056723  1.07787354  0.67651484]\n",
      " [ 1.01565942  0.5554553   1.08916071  0.82684009  0.5712068   0.71449052\n",
      "   1.00282018  0.7442054   0.83712214  0.45917062  0.59919906  1.00264945\n",
      "  -4.43103563  0.67056723  1.07787354  0.67651484]\n",
      " [ 1.01565942  0.5554553   1.08916071  0.82684009  0.5712068   0.71449052\n",
      "   1.00282018  0.7442054   0.83712214  0.45917062  0.59919906  1.00264945\n",
      "   0.76680516 -4.29940152  1.07787354  0.67651484]\n",
      " [ 1.01565942  0.5554553   1.08916071  0.82684009  0.5712068   0.71449052\n",
      "   1.00282018  0.7442054   0.83712214  0.45917062  0.59919906  1.00264945\n",
      "   0.76680516  0.67056723 -4.27473428  0.67651484]\n",
      " [ 1.01565942  0.5554553   1.08916071  0.82684009  0.5712068   0.71449052\n",
      "   1.00282018  0.7442054   0.83712214  0.45917062  0.59919906  1.00264945\n",
      "   0.76680516  0.67056723  1.07787354 -4.20096922]]\n"
     ]
    }
   ],
   "source": [
    "#agregate elasticities\n",
    "\n",
    "#shares = comp_shares(xes, prices,alpha,beta)\n",
    "shares = np.array(delta[['Plan_ID','fitted_share']].groupby('Plan_ID').mean()).squeeze()\n",
    "\n",
    "\n",
    "#set up matrix skeleton\n",
    "own_price = np.identity(len(shares))\n",
    "cross_price = 1 - own_price\n",
    "\n",
    "#actually calculate elasticity\n",
    "cross_elasticity = shares * alpha * prices\n",
    "own_elasticity  = -(1-shares) * alpha * prices\n",
    "\n",
    "elasticity =  cross_price*cross_elasticity + own_price *own_elasticity\n",
    "\n",
    "print elasticity[1][1],elasticity[2][1],elasticity[3][1] #second index tells you wrt what good i.e. denom\n",
    "\n",
    "print elasticity"
   ]
  },
  {
   "cell_type": "code",
   "execution_count": 75,
   "metadata": {},
   "outputs": [
    {
     "name": "stdout",
     "output_type": "stream",
     "text": [
      "0.04769156636161652 0.04769156636161652\n",
      "0.04769156636161652 0.04769156636161652\n",
      "[0.33252165 0.33252165 0.33252165 0.33252165 0.33252165 0.33252165\n",
      " 0.33252165 0.33252165 0.33252165 0.33252165 0.33252165 0.33252165\n",
      " 0.33252165 0.33252165 0.33252165 0.33252165]\n",
      "[2.25894503 2.0269905  2.27544055 2.19197119 2.00760625 2.02311588\n",
      " 2.26307034 2.0775342  2.19892493 2.00506537 1.99193096 2.26812745\n",
      " 2.18890878 2.0783699  2.26398501 2.03350633]\n"
     ]
    }
   ],
   "source": [
    "#solve for marginal costs\n",
    "shares_vector = np.array([shares])\n",
    "\n",
    "#actually calculate elasticity\n",
    "cross_deriv = alpha * np.matmul(shares_vector.transpose() , shares_vector )\n",
    "own_deriv  = - alpha * (1-shares)  * shares\n",
    "derivative =  cross_price*cross_deriv + own_price *own_deriv\n",
    "\n",
    "print derivative[1][2], derivative[2][1]\n",
    "print shares[1]*shares[2]*alpha, derivative[1][2]\n",
    "\n",
    "#take inverse and calc markup\n",
    "inv_derivative = np.linalg.inv(derivative)\n",
    "\n",
    "markup = np.matmul(inv_derivative, shares_vector.transpose()) \n",
    "\n",
    "#get MC\n",
    "mc = prices - markup.transpose()[0]\n",
    "\n",
    "print markup.transpose()[0]\n",
    "print mc"
   ]
  },
  {
   "cell_type": "code",
   "execution_count": 76,
   "metadata": {},
   "outputs": [
    {
     "name": "stdout",
     "output_type": "stream",
     "text": [
      "[-0.31526378]\n"
     ]
    }
   ],
   "source": [
    "def profits(p, rebate=.25, x=xes, beta=beta):\n",
    "    #p[p < 0] = 0 #set things if necessary?\n",
    "    s_js = comp_shares(x, p, alpha, beta)\n",
    "    return - np.matmul(s_js, np.array([prices-mc]).transpose())\n",
    "\n",
    "print profits(prices)"
   ]
  },
  {
   "cell_type": "code",
   "execution_count": 77,
   "metadata": {},
   "outputs": [
    {
     "name": "stdout",
     "output_type": "stream",
     "text": [
      "Optimization terminated successfully.\n",
      "         Current function value: -0.332522\n",
      "         Iterations: 261\n",
      "         Function evaluations: 787\n",
      "[-19.43519922  -7.01400183  -2.88970246  -2.21091796  16.45317146\n",
      "   7.59678455  -1.55736601   8.36333496   5.02757004   6.82512629\n",
      "   5.52850426  -0.26647718   7.98034276   8.90988572  -3.03417415\n",
      "   5.12151029]\n"
     ]
    }
   ],
   "source": [
    "import numpy as np\n",
    "from scipy.optimize import minimize\n",
    "\n",
    "res = minimize(profits, prices, method='nelder-mead',\n",
    "     options={'xtol': 1e-8, 'disp': True})\n",
    "\n",
    "print(res.x) #doesn't seem right"
   ]
  },
  {
   "cell_type": "code",
   "execution_count": null,
   "metadata": {},
   "outputs": [],
   "source": [
    "#profits per enrollee\n",
    "#outside good shares\n",
    "#consumer surplus"
   ]
  },
  {
   "cell_type": "code",
   "execution_count": null,
   "metadata": {},
   "outputs": [],
   "source": []
  },
  {
   "cell_type": "code",
   "execution_count": 67,
   "metadata": {},
   "outputs": [
    {
     "name": "stdout",
     "output_type": "stream",
     "text": [
      "Plan_ID          47.138333\n",
      "PPO               2.720000\n",
      "Premium          13.562795\n",
      "exp_delta         6.297526\n",
      "sum_exp_delta    44.228315\n",
      "fitted_share      0.843098\n",
      "dtype: float64\n",
      "0.3211705667781474 0.04175067681732296 0.153290506773 0.0527060652944428\n"
     ]
    }
   ],
   "source": []
  },
  {
   "cell_type": "code",
   "execution_count": null,
   "metadata": {},
   "outputs": [],
   "source": []
  }
 ],
 "metadata": {
  "kernelspec": {
   "display_name": "Python 2",
   "language": "python",
   "name": "python2"
  },
  "language_info": {
   "codemirror_mode": {
    "name": "ipython",
    "version": 2
   },
   "file_extension": ".py",
   "mimetype": "text/x-python",
   "name": "python",
   "nbconvert_exporter": "python",
   "pygments_lexer": "ipython2",
   "version": "2.7.15"
  }
 },
 "nbformat": 4,
 "nbformat_minor": 2
}
