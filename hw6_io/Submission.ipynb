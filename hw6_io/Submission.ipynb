{
 "cells": [
  {
   "cell_type": "code",
   "execution_count": 1,
   "metadata": {},
   "outputs": [],
   "source": [
    "import pandas as pd\n",
    "import math\n",
    "import numpy as np\n",
    "import matplotlib.pyplot as plt\n",
    "import statsmodels.api as sm\n",
    "import statsmodels.formula.api as smf\n",
    "import scipy\n",
    "\n",
    "from statsmodels.sandbox.regression.gmm import GMM\n",
    "from sklearn.preprocessing import PolynomialFeatures\n",
    "from sklearn.linear_model import Ridge"
   ]
  },
  {
   "cell_type": "markdown",
   "metadata": {},
   "source": [
    " **Note**: In the final section, there is a table with all the coefficients together for comparison. However, first we complete each estimation procedure one by one. The individual tables for each estimation procedure contain standard errors as well as the estimated coefficients. The overall tables in the final section do not have parameters for inference\n",
    "\n",
    "\n",
    "# Part A: Ordinary Least Squares\n",
    "\n",
    "For this assignment we are interested in estimating\n",
    "\n",
    "$$y_{it} = \\beta^k k_{it} + \\beta^l l_{it} + \\omega_{it} + \\epsilon_{it}$$\n",
    "\n",
    "First we estimate OLS as a baseline model. As usual, we underestimate the coefficient on capital because capital investment is correlated with the trend $\\omega_{it}$. This is the motivation behind the various control function approaches which have become standard in the literature."
   ]
  },
  {
   "cell_type": "code",
   "execution_count": 2,
   "metadata": {},
   "outputs": [],
   "source": [
    "#load data into memory\n",
    "data = pd.read_stata('chile.dta')\n",
    "data = data.set_index(['id','year'], drop=False)"
   ]
  },
  {
   "cell_type": "code",
   "execution_count": 3,
   "metadata": {},
   "outputs": [],
   "source": [
    "ldata = data.copy()\n",
    "\n",
    "ldata[['routput', 'totlab', 'renerg','realmats',\n",
    "       'rcapstock']] = np.log(ldata.copy()[['routput','totlab', 'renerg','realmats','rcapstock']])\n",
    "\n",
    "ldata = ldata.dropna()"
   ]
  },
  {
   "cell_type": "markdown",
   "metadata": {},
   "source": [
    "## OLS: Estimated parameters"
   ]
  },
  {
   "cell_type": "code",
   "execution_count": 4,
   "metadata": {},
   "outputs": [
    {
     "data": {
      "text/html": [
       "<table class=\"simpletable\">\n",
       "<caption>OLS Regression Results</caption>\n",
       "<tr>\n",
       "  <th>Dep. Variable:</th>         <td>routput</td>     <th>  R-squared:         </th> <td>   0.963</td> \n",
       "</tr>\n",
       "<tr>\n",
       "  <th>Model:</th>                   <td>OLS</td>       <th>  Adj. R-squared:    </th> <td>   0.963</td> \n",
       "</tr>\n",
       "<tr>\n",
       "  <th>Method:</th>             <td>Least Squares</td>  <th>  F-statistic:       </th> <td>1.359e+05</td>\n",
       "</tr>\n",
       "<tr>\n",
       "  <th>Date:</th>             <td>Wed, 15 May 2019</td> <th>  Prob (F-statistic):</th>  <td>  0.00</td>  \n",
       "</tr>\n",
       "<tr>\n",
       "  <th>Time:</th>                 <td>16:48:32</td>     <th>  Log-Likelihood:    </th> <td> -4619.4</td> \n",
       "</tr>\n",
       "<tr>\n",
       "  <th>No. Observations:</th>      <td> 20717</td>      <th>  AIC:               </th> <td>   9249.</td> \n",
       "</tr>\n",
       "<tr>\n",
       "  <th>Df Residuals:</th>          <td> 20712</td>      <th>  BIC:               </th> <td>   9289.</td> \n",
       "</tr>\n",
       "<tr>\n",
       "  <th>Df Model:</th>              <td>     4</td>      <th>                     </th>     <td> </td>    \n",
       "</tr>\n",
       "<tr>\n",
       "  <th>Covariance Type:</th>      <td>nonrobust</td>    <th>                     </th>     <td> </td>    \n",
       "</tr>\n",
       "</table>\n",
       "<table class=\"simpletable\">\n",
       "<tr>\n",
       "      <td></td>         <th>coef</th>     <th>std err</th>      <th>t</th>      <th>P>|t|</th>  <th>[0.025</th>    <th>0.975]</th>  \n",
       "</tr>\n",
       "<tr>\n",
       "  <th>Intercept</th> <td>    1.3535</td> <td>    0.015</td> <td>   89.079</td> <td> 0.000</td> <td>    1.324</td> <td>    1.383</td>\n",
       "</tr>\n",
       "<tr>\n",
       "  <th>totlab</th>    <td>    0.1643</td> <td>    0.004</td> <td>   42.376</td> <td> 0.000</td> <td>    0.157</td> <td>    0.172</td>\n",
       "</tr>\n",
       "<tr>\n",
       "  <th>renerg</th>    <td>    0.1025</td> <td>    0.002</td> <td>   45.094</td> <td> 0.000</td> <td>    0.098</td> <td>    0.107</td>\n",
       "</tr>\n",
       "<tr>\n",
       "  <th>realmats</th>  <td>    0.7352</td> <td>    0.003</td> <td>  290.483</td> <td> 0.000</td> <td>    0.730</td> <td>    0.740</td>\n",
       "</tr>\n",
       "<tr>\n",
       "  <th>rcapstock</th> <td>    0.0644</td> <td>    0.002</td> <td>   38.010</td> <td> 0.000</td> <td>    0.061</td> <td>    0.068</td>\n",
       "</tr>\n",
       "</table>\n",
       "<table class=\"simpletable\">\n",
       "<tr>\n",
       "  <th>Omnibus:</th>       <td>10161.910</td> <th>  Durbin-Watson:     </th>  <td>   1.031</td> \n",
       "</tr>\n",
       "<tr>\n",
       "  <th>Prob(Omnibus):</th>  <td> 0.000</td>   <th>  Jarque-Bera (JB):  </th> <td>136680.009</td>\n",
       "</tr>\n",
       "<tr>\n",
       "  <th>Skew:</th>           <td> 2.025</td>   <th>  Prob(JB):          </th>  <td>    0.00</td> \n",
       "</tr>\n",
       "<tr>\n",
       "  <th>Kurtosis:</th>       <td>14.914</td>   <th>  Cond. No.          </th>  <td>    124.</td> \n",
       "</tr>\n",
       "</table><br/><br/>Warnings:<br/>[1] Standard Errors assume that the covariance matrix of the errors is correctly specified."
      ],
      "text/plain": [
       "<class 'statsmodels.iolib.summary.Summary'>\n",
       "\"\"\"\n",
       "                            OLS Regression Results                            \n",
       "==============================================================================\n",
       "Dep. Variable:                routput   R-squared:                       0.963\n",
       "Model:                            OLS   Adj. R-squared:                  0.963\n",
       "Method:                 Least Squares   F-statistic:                 1.359e+05\n",
       "Date:                Wed, 15 May 2019   Prob (F-statistic):               0.00\n",
       "Time:                        16:48:32   Log-Likelihood:                -4619.4\n",
       "No. Observations:               20717   AIC:                             9249.\n",
       "Df Residuals:                   20712   BIC:                             9289.\n",
       "Df Model:                           4                                         \n",
       "Covariance Type:            nonrobust                                         \n",
       "==============================================================================\n",
       "                 coef    std err          t      P>|t|      [0.025      0.975]\n",
       "------------------------------------------------------------------------------\n",
       "Intercept      1.3535      0.015     89.079      0.000       1.324       1.383\n",
       "totlab         0.1643      0.004     42.376      0.000       0.157       0.172\n",
       "renerg         0.1025      0.002     45.094      0.000       0.098       0.107\n",
       "realmats       0.7352      0.003    290.483      0.000       0.730       0.740\n",
       "rcapstock      0.0644      0.002     38.010      0.000       0.061       0.068\n",
       "==============================================================================\n",
       "Omnibus:                    10161.910   Durbin-Watson:                   1.031\n",
       "Prob(Omnibus):                  0.000   Jarque-Bera (JB):           136680.009\n",
       "Skew:                           2.025   Prob(JB):                         0.00\n",
       "Kurtosis:                      14.914   Cond. No.                         124.\n",
       "==============================================================================\n",
       "\n",
       "Warnings:\n",
       "[1] Standard Errors assume that the covariance matrix of the errors is correctly specified.\n",
       "\"\"\""
      ]
     },
     "execution_count": 4,
     "metadata": {},
     "output_type": "execute_result"
    }
   ],
   "source": [
    "olsmodel = smf.ols('routput ~ totlab + renerg + realmats + rcapstock',ldata)\n",
    "olsresult = olsmodel.fit()\n",
    "olsresult.summary()"
   ]
  },
  {
   "cell_type": "markdown",
   "metadata": {},
   "source": [
    "## OLS: Hicks neutral shocks\n",
    "\n",
    "In this case the 'Hicks neutral' productivity shock is just the error term from the regression. We show a histogram and plot it over time."
   ]
  },
  {
   "cell_type": "code",
   "execution_count": 5,
   "metadata": {},
   "outputs": [
    {
     "data": {
      "image/png": "[encoded data removed]",
      "text/plain": [
       "<Figure size 432x288 with 1 Axes>"
      ]
     },
     "metadata": {},
     "output_type": "display_data"
    },
    {
     "data": {
      "image/png": "[encoded data removed]",
      "text/plain": [
       "<Figure size 432x288 with 1 Axes>"
      ]
     },
     "metadata": {},
     "output_type": "display_data"
    }
   ],
   "source": [
    "shockols = olsresult.resid\n",
    "plt.hist(shockols)\n",
    "plt.xlabel('Hicks neutral shock')\n",
    "plt.ylabel('Frequency')\n",
    "plt.title('Productive shocks')\n",
    "plt.show()\n",
    "\n",
    "mean_shockols = shockols.groupby('year').mean()\n",
    "plt.plot(mean_shockols)\n",
    "plt.title('Productive shocks v.s. time')\n",
    "plt.ylabel('Hicks neutral shock')\n",
    "plt.xlabel('Year')\n",
    "plt.show()"
   ]
  },
  {
   "cell_type": "markdown",
   "metadata": {},
   "source": [
    "# Part B: Fixed effects\n",
    "\n",
    "Next we perform the wthin transformation on the data i.e. \n",
    "\n",
    "$$\\ddot{y}_{it} = y_{it} - \\bar{y}_i$$ and $$\\ddot{x}_{it} =  x_{it} - \\bar{x}_i$$\n",
    "\n",
    "This differences out any 'firm-specific' characteristics. If $\\omega_{it}$ were constant within a firm, then this approach would consistently estimate the parameters. We see that the capital coefficient does increase when we use the fixed effects approach indicating that we have reduced the bias."
   ]
  },
  {
   "cell_type": "code",
   "execution_count": 6,
   "metadata": {},
   "outputs": [],
   "source": [
    "def add_fe(df, dfvars,groups):\n",
    "    \"\"\"apply the within transformation\"\"\"\n",
    "    for var in dfvars: #,\n",
    "        df[var+'fe'] = df[var]\n",
    "        for fe in groups:\n",
    "            dum = pd.get_dummies(fedata[fe])\n",
    "            means = np.tile(fedata[var],len(dum.columns)).reshape(len(dum.columns),fedata.shape[0])\n",
    "            means = np.array(means.transpose()*dum)\n",
    "            means = means.sum(axis=0)/dum.sum(axis=0)\n",
    "            means = np.tile(means,fedata.shape[0]).reshape(fedata.shape[0],len(dum.columns))\n",
    "            means = (means*dum).sum(axis=1)\n",
    "            df[var+'fe'] = df[var+'fe'] - means\n",
    "    return df\n",
    "\n",
    "\n",
    "fedata = ldata.copy()\n",
    "fedata = add_fe(fedata, ['routput','totlab', 'renerg','realmats','rcapstock'], ['id'])"
   ]
  },
  {
   "cell_type": "markdown",
   "metadata": {},
   "source": [
    "## FE: Estimated parameters"
   ]
  },
  {
   "cell_type": "code",
   "execution_count": 7,
   "metadata": {},
   "outputs": [
    {
     "data": {
      "text/html": [
       "<table class=\"simpletable\">\n",
       "<caption>OLS Regression Results</caption>\n",
       "<tr>\n",
       "  <th>Dep. Variable:</th>        <td>routputfe</td>    <th>  R-squared:         </th> <td>   0.745</td> \n",
       "</tr>\n",
       "<tr>\n",
       "  <th>Model:</th>                   <td>OLS</td>       <th>  Adj. R-squared:    </th> <td>   0.745</td> \n",
       "</tr>\n",
       "<tr>\n",
       "  <th>Method:</th>             <td>Least Squares</td>  <th>  F-statistic:       </th> <td>1.511e+04</td>\n",
       "</tr>\n",
       "<tr>\n",
       "  <th>Date:</th>             <td>Wed, 15 May 2019</td> <th>  Prob (F-statistic):</th>  <td>  0.00</td>  \n",
       "</tr>\n",
       "<tr>\n",
       "  <th>Time:</th>                 <td>16:48:45</td>     <th>  Log-Likelihood:    </th> <td>  3385.1</td> \n",
       "</tr>\n",
       "<tr>\n",
       "  <th>No. Observations:</th>      <td> 20717</td>      <th>  AIC:               </th> <td>  -6762.</td> \n",
       "</tr>\n",
       "<tr>\n",
       "  <th>Df Residuals:</th>          <td> 20713</td>      <th>  BIC:               </th> <td>  -6731.</td> \n",
       "</tr>\n",
       "<tr>\n",
       "  <th>Df Model:</th>              <td>     4</td>      <th>                     </th>     <td> </td>    \n",
       "</tr>\n",
       "<tr>\n",
       "  <th>Covariance Type:</th>      <td>nonrobust</td>    <th>                     </th>     <td> </td>    \n",
       "</tr>\n",
       "</table>\n",
       "<table class=\"simpletable\">\n",
       "<tr>\n",
       "       <td></td>          <th>coef</th>     <th>std err</th>      <th>t</th>      <th>P>|t|</th>  <th>[0.025</th>    <th>0.975]</th>  \n",
       "</tr>\n",
       "<tr>\n",
       "  <th>totlabfe</th>    <td>    0.1904</td> <td>    0.005</td> <td>   40.301</td> <td> 0.000</td> <td>    0.181</td> <td>    0.200</td>\n",
       "</tr>\n",
       "<tr>\n",
       "  <th>renergfe</th>    <td>    0.0626</td> <td>    0.002</td> <td>   27.477</td> <td> 0.000</td> <td>    0.058</td> <td>    0.067</td>\n",
       "</tr>\n",
       "<tr>\n",
       "  <th>realmatsfe</th>  <td>    0.6073</td> <td>    0.003</td> <td>  179.527</td> <td> 0.000</td> <td>    0.601</td> <td>    0.614</td>\n",
       "</tr>\n",
       "<tr>\n",
       "  <th>rcapstockfe</th> <td>    0.0508</td> <td>    0.003</td> <td>   18.381</td> <td> 0.000</td> <td>    0.045</td> <td>    0.056</td>\n",
       "</tr>\n",
       "</table>\n",
       "<table class=\"simpletable\">\n",
       "<tr>\n",
       "  <th>Omnibus:</th>       <td>4681.848</td> <th>  Durbin-Watson:     </th> <td>   1.560</td> \n",
       "</tr>\n",
       "<tr>\n",
       "  <th>Prob(Omnibus):</th>  <td> 0.000</td>  <th>  Jarque-Bera (JB):  </th> <td>49300.045</td>\n",
       "</tr>\n",
       "<tr>\n",
       "  <th>Skew:</th>           <td> 0.785</td>  <th>  Prob(JB):          </th> <td>    0.00</td> \n",
       "</tr>\n",
       "<tr>\n",
       "  <th>Kurtosis:</th>       <td>10.392</td>  <th>  Cond. No.          </th> <td>    2.58</td> \n",
       "</tr>\n",
       "</table><br/><br/>Warnings:<br/>[1] Standard Errors assume that the covariance matrix of the errors is correctly specified."
      ],
      "text/plain": [
       "<class 'statsmodels.iolib.summary.Summary'>\n",
       "\"\"\"\n",
       "                            OLS Regression Results                            \n",
       "==============================================================================\n",
       "Dep. Variable:              routputfe   R-squared:                       0.745\n",
       "Model:                            OLS   Adj. R-squared:                  0.745\n",
       "Method:                 Least Squares   F-statistic:                 1.511e+04\n",
       "Date:                Wed, 15 May 2019   Prob (F-statistic):               0.00\n",
       "Time:                        16:48:45   Log-Likelihood:                 3385.1\n",
       "No. Observations:               20717   AIC:                            -6762.\n",
       "Df Residuals:                   20713   BIC:                            -6731.\n",
       "Df Model:                           4                                         \n",
       "Covariance Type:            nonrobust                                         \n",
       "===============================================================================\n",
       "                  coef    std err          t      P>|t|      [0.025      0.975]\n",
       "-------------------------------------------------------------------------------\n",
       "totlabfe        0.1904      0.005     40.301      0.000       0.181       0.200\n",
       "renergfe        0.0626      0.002     27.477      0.000       0.058       0.067\n",
       "realmatsfe      0.6073      0.003    179.527      0.000       0.601       0.614\n",
       "rcapstockfe     0.0508      0.003     18.381      0.000       0.045       0.056\n",
       "==============================================================================\n",
       "Omnibus:                     4681.848   Durbin-Watson:                   1.560\n",
       "Prob(Omnibus):                  0.000   Jarque-Bera (JB):            49300.045\n",
       "Skew:                           0.785   Prob(JB):                         0.00\n",
       "Kurtosis:                      10.392   Cond. No.                         2.58\n",
       "==============================================================================\n",
       "\n",
       "Warnings:\n",
       "[1] Standard Errors assume that the covariance matrix of the errors is correctly specified.\n",
       "\"\"\""
      ]
     },
     "execution_count": 7,
     "metadata": {},
     "output_type": "execute_result"
    }
   ],
   "source": [
    "femodel = smf.ols('routputfe ~ totlabfe + renergfe + realmatsfe + rcapstockfe -1',fedata)\n",
    "feresult = femodel.fit()\n",
    "feresult.summary()"
   ]
  },
  {
   "cell_type": "markdown",
   "metadata": {},
   "source": [
    "## FE: Hicks neutral shocks"
   ]
  },
  {
   "cell_type": "code",
   "execution_count": 8,
   "metadata": {},
   "outputs": [
    {
     "data": {
      "image/png": "[encoded data removed]",
      "text/plain": [
       "<Figure size 432x288 with 1 Axes>"
      ]
     },
     "metadata": {},
     "output_type": "display_data"
    },
    {
     "data": {
      "image/png": "[encoded data removed]",
      "text/plain": [
       "<Figure size 432x288 with 1 Axes>"
      ]
     },
     "metadata": {},
     "output_type": "display_data"
    }
   ],
   "source": [
    "shockfe = feresult.resid\n",
    "plt.hist(shockfe)\n",
    "plt.xlabel('Hicks neutral shock')\n",
    "plt.ylabel('Frequency')\n",
    "plt.title('Productive shocks')\n",
    "plt.show()\n",
    "\n",
    "mean_shockfe = shockfe.groupby('year').mean()\n",
    "plt.plot(mean_shockfe)\n",
    "plt.title('Productive shocks v.s. time')\n",
    "plt.ylabel('Hicks neutral shock')\n",
    "plt.xlabel('Year')\n",
    "plt.show()"
   ]
  },
  {
   "cell_type": "markdown",
   "metadata": {},
   "source": [
    "# Part C: Levinsohn Petrin\n",
    "\n",
    "Following the literature we will use a control function approach for $\\omega_{it}$ in our estimation procedure. The idea behind Levinsohn and Petrin's control function involves using intermediate inputs $m_{it}$ as a proxy variable\n",
    "\n",
    "## LP: Stage 1\n",
    "\n",
    "The first stage of Levinsohn and Petrin involves non-parametrically estimating the relationship between $y_{it}$ and $m_{it}$, $k_{it}$  with an index coefficient on $l_{it}$\n",
    "$$y_{it} = \\beta^l l_{it} + f(k_{it},m_{it}) + \\epsilon_{it}$$ \n",
    "\n",
    "This model was first estimated by Robinson (1988).  In order to do this, we just use a third order polynomial to represent our estimated versions of $E(l_{it}|k_{it},m_{it})$ and  $E(y_{it}|k_{it},m_{it})$. Using $E(l_{it}|k_{it},m_{it})$ and  $E(y_{it}|k_{it},m_{it})$ we can regress each of these quantities on eachother to consistently estimate $\\beta^l$."
   ]
  },
  {
   "cell_type": "code",
   "execution_count": 9,
   "metadata": {},
   "outputs": [],
   "source": [
    "d1 = ldata['routput'],ldata[['renerg','totlab']],ldata[['rcapstock','realmats']]\n",
    "\n",
    "def np_resids(y,x):\n",
    "    \"\"\"residuals from a 3 order polynomial\"\"\"\n",
    "    y,x = y.dropna(),x.dropna()\n",
    "    \n",
    "    poly = PolynomialFeatures(degree=3)\n",
    "    x_poly = poly.fit_transform(x)\n",
    "    clf = Ridge(alpha=0.0)\n",
    "    clf.fit(x_poly, y) \n",
    "    resid = y-clf.predict(x_poly)\n",
    "    return resid"
   ]
  },
  {
   "cell_type": "code",
   "execution_count": 10,
   "metadata": {},
   "outputs": [
    {
     "data": {
      "text/html": [
       "<table class=\"simpletable\">\n",
       "<caption>OLS Regression Results</caption>\n",
       "<tr>\n",
       "  <th>Dep. Variable:</th>            <td>y</td>        <th>  R-squared:         </th> <td>   0.195</td>\n",
       "</tr>\n",
       "<tr>\n",
       "  <th>Model:</th>                   <td>OLS</td>       <th>  Adj. R-squared:    </th> <td>   0.195</td>\n",
       "</tr>\n",
       "<tr>\n",
       "  <th>Method:</th>             <td>Least Squares</td>  <th>  F-statistic:       </th> <td>   2512.</td>\n",
       "</tr>\n",
       "<tr>\n",
       "  <th>Date:</th>             <td>Wed, 15 May 2019</td> <th>  Prob (F-statistic):</th>  <td>  0.00</td> \n",
       "</tr>\n",
       "<tr>\n",
       "  <th>Time:</th>                 <td>16:48:46</td>     <th>  Log-Likelihood:    </th> <td> -3246.9</td>\n",
       "</tr>\n",
       "<tr>\n",
       "  <th>No. Observations:</th>      <td> 20717</td>      <th>  AIC:               </th> <td>   6498.</td>\n",
       "</tr>\n",
       "<tr>\n",
       "  <th>Df Residuals:</th>          <td> 20715</td>      <th>  BIC:               </th> <td>   6514.</td>\n",
       "</tr>\n",
       "<tr>\n",
       "  <th>Df Model:</th>              <td>     2</td>      <th>                     </th>     <td> </td>   \n",
       "</tr>\n",
       "<tr>\n",
       "  <th>Covariance Type:</th>      <td>nonrobust</td>    <th>                     </th>     <td> </td>   \n",
       "</tr>\n",
       "</table>\n",
       "<table class=\"simpletable\">\n",
       "<tr>\n",
       "     <td></td>       <th>coef</th>     <th>std err</th>      <th>t</th>      <th>P>|t|</th>  <th>[0.025</th>    <th>0.975]</th>  \n",
       "</tr>\n",
       "<tr>\n",
       "  <th>renerg</th> <td>    0.0858</td> <td>    0.002</td> <td>   39.327</td> <td> 0.000</td> <td>    0.082</td> <td>    0.090</td>\n",
       "</tr>\n",
       "<tr>\n",
       "  <th>totlab</th> <td>    0.1688</td> <td>    0.004</td> <td>   45.672</td> <td> 0.000</td> <td>    0.162</td> <td>    0.176</td>\n",
       "</tr>\n",
       "</table>\n",
       "<table class=\"simpletable\">\n",
       "<tr>\n",
       "  <th>Omnibus:</th>       <td>6304.969</td> <th>  Durbin-Watson:     </th> <td>   1.064</td> \n",
       "</tr>\n",
       "<tr>\n",
       "  <th>Prob(Omnibus):</th>  <td> 0.000</td>  <th>  Jarque-Bera (JB):  </th> <td>60355.585</td>\n",
       "</tr>\n",
       "<tr>\n",
       "  <th>Skew:</th>           <td> 1.186</td>  <th>  Prob(JB):          </th> <td>    0.00</td> \n",
       "</tr>\n",
       "<tr>\n",
       "  <th>Kurtosis:</th>       <td>11.018</td>  <th>  Cond. No.          </th> <td>    1.83</td> \n",
       "</tr>\n",
       "</table><br/><br/>Warnings:<br/>[1] Standard Errors assume that the covariance matrix of the errors is correctly specified."
      ],
      "text/plain": [
       "<class 'statsmodels.iolib.summary.Summary'>\n",
       "\"\"\"\n",
       "                            OLS Regression Results                            \n",
       "==============================================================================\n",
       "Dep. Variable:                      y   R-squared:                       0.195\n",
       "Model:                            OLS   Adj. R-squared:                  0.195\n",
       "Method:                 Least Squares   F-statistic:                     2512.\n",
       "Date:                Wed, 15 May 2019   Prob (F-statistic):               0.00\n",
       "Time:                        16:48:46   Log-Likelihood:                -3246.9\n",
       "No. Observations:               20717   AIC:                             6498.\n",
       "Df Residuals:                   20715   BIC:                             6514.\n",
       "Df Model:                           2                                         \n",
       "Covariance Type:            nonrobust                                         \n",
       "==============================================================================\n",
       "                 coef    std err          t      P>|t|      [0.025      0.975]\n",
       "------------------------------------------------------------------------------\n",
       "renerg         0.0858      0.002     39.327      0.000       0.082       0.090\n",
       "totlab         0.1688      0.004     45.672      0.000       0.162       0.176\n",
       "==============================================================================\n",
       "Omnibus:                     6304.969   Durbin-Watson:                   1.064\n",
       "Prob(Omnibus):                  0.000   Jarque-Bera (JB):            60355.585\n",
       "Skew:                           1.186   Prob(JB):                         0.00\n",
       "Kurtosis:                      11.018   Cond. No.                         1.83\n",
       "==============================================================================\n",
       "\n",
       "Warnings:\n",
       "[1] Standard Errors assume that the covariance matrix of the errors is correctly specified.\n",
       "\"\"\""
      ]
     },
     "execution_count": 10,
     "metadata": {},
     "output_type": "execute_result"
    }
   ],
   "source": [
    "def robinson(dta):\n",
    "    \"\"\"y is dependent variable\n",
    "    x has parametric coefficients\n",
    "    z is nonparameteric variables\"\"\"\n",
    "    \n",
    "    y,x,z = dta\n",
    "    \n",
    "    y_resid = np_resids(y,z)\n",
    "    x_resid = []\n",
    "    for col in x.columns:\n",
    "        resid = np_resids(x[col],z)\n",
    "        x_resid.append(resid)\n",
    "    x_resid = np.array(x_resid).transpose()\n",
    "    x_resid = pd.DataFrame(data=x_resid,columns=x.columns)\n",
    "    return sm.OLS(np.array(y_resid),x_resid)\n",
    "\n",
    "\n",
    "d = ldata['routput'],ldata[['renerg','totlab']],ldata[['rcapstock','realmats']]\n",
    "stage1 = robinson(d)\n",
    "stage1_res = stage1.fit()\n",
    "stage1_res.summary()"
   ]
  },
  {
   "cell_type": "markdown",
   "metadata": {},
   "source": [
    "## LP: Stage 2\n",
    "\n",
    "Now we estimate the parameters on $m_{it}$ and $k_{it}$ following appendix C in the paper. To do this we  'predict' $E(\\omega_{it}|\\omega_{it-1})$ to construct valid moments that can estimate the system. As we can see the coefficient on capital is almost double that estimated by OLS."
   ]
  },
  {
   "cell_type": "code",
   "execution_count": 11,
   "metadata": {},
   "outputs": [],
   "source": [
    "def lpobj(zparams, xparams, dta):\n",
    "    \"\"\"Note: z are the instruments in the stage 1 control function\n",
    "    i.e. materials and capital\n",
    "    \n",
    "    x are the productive inputs who's effect was\n",
    "    estimated in the first stage\"\"\"\n",
    "    \n",
    "    y,x,z = dta\n",
    "    #########compute production trend and shock ##############\n",
    "    shock1 = y - x.mul(xparams,axis=1).sum(axis=1) - z.mul(zparams,axis=1).sum(axis=1)\n",
    "\n",
    "    ######  compute trend and shock ############\n",
    "    #compute the value added by z + shock\n",
    "    zvalue = y - x.mul(xparams,axis=1).sum(axis=1)\n",
    "    \n",
    "    ##### predict the value added by z############3\n",
    "    zvalue_predict = zvalue - np_resids(zvalue, z)\n",
    "    \n",
    "    ######### predict the difference#########\n",
    "    shock2 = zvalue_predict - z.mul(zparams,axis=1).sum(axis=1)\n",
    "\n",
    "    #####compute expected production trend############\n",
    "    shock2lag = shock2.groupby('id').shift(1)\n",
    "    both_shocks = pd.concat((shock1,shock2lag),axis=1).dropna()\n",
    "    trend = shock1 - np_resids(both_shocks[[0]],both_shocks[[1]])[0]\n",
    "    \n",
    "    ####subtract this trend from the shock ###########\n",
    "    shock3 = shock1 - trend\n",
    "    \n",
    "    #####multiply by lags to get moment condition #########\n",
    "    moments  = pd.concat((x,z),axis=1).groupby('id').shift(1)\n",
    "    moments = moments.mul(shock3,axis=0) \n",
    "    return moments.dropna()"
   ]
  },
  {
   "cell_type": "code",
   "execution_count": 12,
   "metadata": {},
   "outputs": [
    {
     "name": "stdout",
     "output_type": "stream",
     "text": [
      "Optimization terminated successfully.\n",
      "         Current function value: 0.000147\n",
      "         Iterations: 27\n",
      "         Function evaluations: 53\n",
      "Optimization terminated successfully.\n",
      "         Current function value: 0.000842\n",
      "         Iterations: 28\n",
      "         Function evaluations: 53\n",
      "Optimization terminated successfully.\n",
      "         Current function value: 0.000842\n",
      "         Iterations: 18\n",
      "         Function evaluations: 35\n",
      "Optimization terminated successfully.\n",
      "         Current function value: 0.000842\n",
      "         Iterations: 19\n",
      "         Function evaluations: 36\n"
     ]
    },
    {
     "data": {
      "text/html": [
       "<table class=\"simpletable\">\n",
       "<caption>LP Results</caption>\n",
       "<tr>\n",
       "  <th>Dep. Variable:</th>         <td>routput</td>     <th>  Hansen J:          </th> <td>   15.20</td>\n",
       "</tr>\n",
       "<tr>\n",
       "  <th>Model:</th>                   <td>LP</td>        <th>  Prob (Hansen J):   </th> <td>0.000501</td>\n",
       "</tr>\n",
       "<tr>\n",
       "  <th>Method:</th>                  <td>GMM</td>       <th>                     </th>     <td> </td>   \n",
       "</tr>\n",
       "<tr>\n",
       "  <th>Date:</th>             <td>Wed, 15 May 2019</td> <th>                     </th>     <td> </td>   \n",
       "</tr>\n",
       "<tr>\n",
       "  <th>Time:</th>                 <td>16:49:03</td>     <th>                     </th>     <td> </td>   \n",
       "</tr>\n",
       "<tr>\n",
       "  <th>No. Observations:</th>      <td> 20717</td>      <th>                     </th>     <td> </td>   \n",
       "</tr>\n",
       "</table>\n",
       "<table class=\"simpletable\">\n",
       "<tr>\n",
       "      <td></td>         <th>coef</th>     <th>std err</th>      <th>z</th>      <th>P>|z|</th>  <th>[0.025</th>    <th>0.975]</th>  \n",
       "</tr>\n",
       "<tr>\n",
       "  <th>rcapstock</th> <td>    0.1346</td> <td>    0.060</td> <td>    2.262</td> <td> 0.024</td> <td>    0.018</td> <td>    0.251</td>\n",
       "</tr>\n",
       "<tr>\n",
       "  <th>realmats</th>  <td>    0.6137</td> <td>    0.091</td> <td>    6.770</td> <td> 0.000</td> <td>    0.436</td> <td>    0.791</td>\n",
       "</tr>\n",
       "</table>"
      ],
      "text/plain": [
       "<class 'statsmodels.iolib.summary.Summary'>\n",
       "\"\"\"\n",
       "                                  LP Results                                  \n",
       "==============================================================================\n",
       "Dep. Variable:                routput   Hansen J:                        15.20\n",
       "Model:                             LP   Prob (Hansen J):              0.000501\n",
       "Method:                           GMM                                         \n",
       "Date:                Wed, 15 May 2019                                         \n",
       "Time:                        16:49:03                                         \n",
       "No. Observations:               20717                                         \n",
       "==============================================================================\n",
       "                 coef    std err          z      P>|z|      [0.025      0.975]\n",
       "------------------------------------------------------------------------------\n",
       "rcapstock      0.1346      0.060      2.262      0.024       0.018       0.251\n",
       "realmats       0.6137      0.091      6.770      0.000       0.436       0.791\n",
       "==============================================================================\n",
       "\"\"\""
      ]
     },
     "execution_count": 12,
     "metadata": {},
     "output_type": "execute_result"
    }
   ],
   "source": [
    "class LP(GMM):\n",
    "    \n",
    "    def __init__(self, dta, stage1_params, *args, **kwds):\n",
    "        # set appropriate counts for moment conditions and parameters\n",
    "        y,x,z = dta\n",
    "        super(LP, self).__init__(y,x,z, x.shape[1] +z.shape[1],*args, **kwds)\n",
    "        self.endog = y\n",
    "        self.exog = x\n",
    "        self.instr = z\n",
    "        self.stage1_params = stage1_params\n",
    "        \n",
    "        self.data.xnames = [col for col in z.columns]\n",
    "        \n",
    "    def momcond(self, params):\n",
    "        d = self.endog, self.exog, self.instr\n",
    "        return np.array(lpobj(params, self.stage1_params , d))\n",
    "        \n",
    "        \n",
    "d = ldata['routput'],ldata[['renerg','totlab']],ldata[['rcapstock','realmats']]\n",
    "lpmodel = LP(d,stage1_res.params)\n",
    "lpresult = lpmodel.fit(np.array([.1,.5]),optim_method='nm')\n",
    "lpresult.summary()"
   ]
  },
  {
   "cell_type": "markdown",
   "metadata": {},
   "source": [
    "## LP: Hicks neutral shocks"
   ]
  },
  {
   "cell_type": "code",
   "execution_count": 13,
   "metadata": {},
   "outputs": [
    {
     "data": {
      "image/png": "[encoded data removed]",
      "text/plain": [
       "<Figure size 432x288 with 1 Axes>"
      ]
     },
     "metadata": {},
     "output_type": "display_data"
    },
    {
     "data": {
      "image/png": "[encoded data removed]",
      "text/plain": [
       "<Figure size 432x288 with 1 Axes>"
      ]
     },
     "metadata": {},
     "output_type": "display_data"
    }
   ],
   "source": [
    "shocklp =  (lpobj(lpresult.params,stage1_res.params, d)['renerg']).div(ldata['renerg'])\n",
    "shocklp = shocklp.dropna()\n",
    "\n",
    "plt.hist(shocklp)\n",
    "plt.xlabel('Hicks neutral shock')\n",
    "plt.ylabel('Frequency')\n",
    "plt.title('Productive shocks')\n",
    "plt.show()\n",
    "\n",
    "\n",
    "mean_shocklp = shocklp.groupby('year').mean()\n",
    "plt.plot(mean_shocklp)\n",
    "plt.title('Productive shocks v.s. time')\n",
    "plt.ylabel('Hicks neutral shock')\n",
    "plt.xlabel('Year')\n",
    "plt.show()"
   ]
  },
  {
   "cell_type": "markdown",
   "metadata": {},
   "source": [
    "# Part D: Ackerberg Caves Frazer\n",
    "\n",
    "Now we use Ackerberg Caves and Frazer's approach to estimating production functions. This approach does not involve estimating any parameters as part of the control function. Instead it estimates all the parameters in the second stage of the estimation procedure. In particular it uses the fact that\n",
    "\n",
    "$$E\\left[y_{it} - \\beta_0 - \\beta^k k_{it} - \\beta^l l_{it} - \\rho( \\tilde{\\Phi}(k_{it-1},l_{it-1},m_{it-1}) - \\beta_0 - \\beta^k k_{it-1} - \\beta^l l_{it-1}) \\right] = 0$$ \n",
    "\n",
    "\n",
    "Here $\\tilde{\\Phi}$ is estimated in the first stage (again using a third order polynomial). We have also assumed that $\\omega_{it}$ is an AR(1) process with parameter $\\rho$. Our estimates using the procedure seem high. This might be related to the fact that we are looking at gross $y_{it}$ for the sake of comparability with the other sections instead of a value added production function."
   ]
  },
  {
   "cell_type": "code",
   "execution_count": 14,
   "metadata": {},
   "outputs": [],
   "source": [
    "def acfobj(params, stage1_resids, dta):\n",
    "    y,x = dta\n",
    "    \n",
    "    rho = params[-1]\n",
    "    theta = params[:-1]\n",
    "    \n",
    "    xlag= x.groupby('id').shift(1)\n",
    "    \n",
    "    ####### compute the value of the control function from stage 1\n",
    "    control = y - stage1_resids\n",
    "    controllag = control.groupby('id').shift(1)\n",
    "    \n",
    "    ####### compute the value of the shock #########\n",
    "    #this is just the moment condition computed above\n",
    "    shock = (y - x.mul(theta,axis=1).sum(axis=1) \n",
    "             - rho*(controllag- xlag.mul(theta,axis=1).sum(axis=1) ) )    \n",
    "\n",
    "    #####multiply to get moment condition #########\n",
    "    moments = pd.concat((x, controllag),axis=1)\n",
    "    moments = moments.mul(shock,axis=0)\n",
    "    return moments.dropna()"
   ]
  },
  {
   "cell_type": "code",
   "execution_count": 15,
   "metadata": {},
   "outputs": [
    {
     "name": "stdout",
     "output_type": "stream",
     "text": [
      "Optimization terminated successfully.\n",
      "         Current function value: 0.000016\n",
      "         Iterations: 229\n",
      "         Function evaluations: 404\n",
      "Optimization terminated successfully.\n",
      "         Current function value: 0.000000\n",
      "         Iterations: 142\n",
      "         Function evaluations: 240\n",
      "Optimization terminated successfully.\n",
      "         Current function value: 0.000000\n",
      "         Iterations: 80\n",
      "         Function evaluations: 132\n",
      "Optimization terminated successfully.\n",
      "         Current function value: 0.000000\n",
      "         Iterations: 80\n",
      "         Function evaluations: 132\n"
     ]
    },
    {
     "data": {
      "text/html": [
       "<table class=\"simpletable\">\n",
       "<caption>ACF Results</caption>\n",
       "<tr>\n",
       "  <th>Dep. Variable:</th>         <td>routput</td>     <th>  Hansen J:          </th> <td>2.094e-07</td>\n",
       "</tr>\n",
       "<tr>\n",
       "  <th>Model:</th>                   <td>ACF</td>       <th>  Prob (Hansen J):   </th>  <td>   nan</td>  \n",
       "</tr>\n",
       "<tr>\n",
       "  <th>Method:</th>                  <td>GMM</td>       <th>                     </th>     <td> </td>    \n",
       "</tr>\n",
       "<tr>\n",
       "  <th>Date:</th>             <td>Wed, 15 May 2019</td> <th>                     </th>     <td> </td>    \n",
       "</tr>\n",
       "<tr>\n",
       "  <th>Time:</th>                 <td>16:49:21</td>     <th>                     </th>     <td> </td>    \n",
       "</tr>\n",
       "<tr>\n",
       "  <th>No. Observations:</th>      <td> 20717</td>      <th>                     </th>     <td> </td>    \n",
       "</tr>\n",
       "</table>\n",
       "<table class=\"simpletable\">\n",
       "<tr>\n",
       "      <td></td>         <th>coef</th>     <th>std err</th>      <th>z</th>      <th>P>|z|</th>  <th>[0.025</th>    <th>0.975]</th>  \n",
       "</tr>\n",
       "<tr>\n",
       "  <th>const</th>     <td>    4.9447</td> <td>    0.187</td> <td>   26.485</td> <td> 0.000</td> <td>    4.579</td> <td>    5.311</td>\n",
       "</tr>\n",
       "<tr>\n",
       "  <th>rcapstock</th> <td>    0.4232</td> <td>    0.022</td> <td>   19.429</td> <td> 0.000</td> <td>    0.380</td> <td>    0.466</td>\n",
       "</tr>\n",
       "<tr>\n",
       "  <th>totlab</th>    <td>    0.6008</td> <td>    0.025</td> <td>   24.425</td> <td> 0.000</td> <td>    0.553</td> <td>    0.649</td>\n",
       "</tr>\n",
       "<tr>\n",
       "  <th>rho</th>       <td>    0.9356</td> <td>    0.006</td> <td>  154.331</td> <td> 0.000</td> <td>    0.924</td> <td>    0.947</td>\n",
       "</tr>\n",
       "</table>"
      ],
      "text/plain": [
       "<class 'statsmodels.iolib.summary.Summary'>\n",
       "\"\"\"\n",
       "                                 ACF Results                                  \n",
       "==============================================================================\n",
       "Dep. Variable:                routput   Hansen J:                    2.094e-07\n",
       "Model:                            ACF   Prob (Hansen J):                   nan\n",
       "Method:                           GMM                                         \n",
       "Date:                Wed, 15 May 2019                                         \n",
       "Time:                        16:49:21                                         \n",
       "No. Observations:               20717                                         \n",
       "==============================================================================\n",
       "                 coef    std err          z      P>|z|      [0.025      0.975]\n",
       "------------------------------------------------------------------------------\n",
       "const          4.9447      0.187     26.485      0.000       4.579       5.311\n",
       "rcapstock      0.4232      0.022     19.429      0.000       0.380       0.466\n",
       "totlab         0.6008      0.025     24.425      0.000       0.553       0.649\n",
       "rho            0.9356      0.006    154.331      0.000       0.924       0.947\n",
       "==============================================================================\n",
       "\"\"\""
      ]
     },
     "execution_count": 15,
     "metadata": {},
     "output_type": "execute_result"
    }
   ],
   "source": [
    "class ACF(GMM):\n",
    "    \n",
    "    def __init__(self, dta, stage1_resid, *args, **kwds):\n",
    "        # set appropriate counts for moment conditions and parameters\n",
    "        y,x = dta\n",
    "        super(ACF, self).__init__(y,x,stage1_resid, x.shape[1] + 1 ,*args, **kwds)\n",
    "        self.endog = y\n",
    "        self.exog = x\n",
    "        self.instr = stage1_resid\n",
    "        self.data.xnames = list(x.columns) + ['rho']\n",
    "        \n",
    "    def momcond(self, params):\n",
    "        d = self.endog, self.exog\n",
    "        return np.array( acfobj(params, self.instr , d) )\n",
    "\n",
    "    \n",
    "#in the first stage get the fitted residuals\n",
    "acf_resids = np_resids(ldata['routput'],ldata[['totlab','rcapstock','renerg','realmats']])    \n",
    "d = ldata['routput'],sm.add_constant( ldata[['rcapstock','totlab']])\n",
    " \n",
    "# in the second stage do the actual estimation\n",
    "d = ldata['routput'],sm.add_constant( ldata[['rcapstock','totlab']])\n",
    "acfmodel = ACF(d, acf_resids)\n",
    "acfresult = acfmodel.fit(np.array([2]+2*[.5]+[1]),optim_method='nm')\n",
    "acfresult.summary()"
   ]
  },
  {
   "cell_type": "markdown",
   "metadata": {},
   "source": [
    "# ACF: Hicks neutral shocks"
   ]
  },
  {
   "cell_type": "code",
   "execution_count": 16,
   "metadata": {},
   "outputs": [
    {
     "data": {
      "image/png": "[encoded data removed]",
      "text/plain": [
       "<Figure size 432x288 with 1 Axes>"
      ]
     },
     "metadata": {},
     "output_type": "display_data"
    },
    {
     "data": {
      "image/png": "[encoded data removed]",
      "text/plain": [
       "<Figure size 432x288 with 1 Axes>"
      ]
     },
     "metadata": {},
     "output_type": "display_data"
    }
   ],
   "source": [
    "shockacf =  acfobj(acfresult.params, acf_resids, d)['const']\n",
    "plt.hist(shockacf)\n",
    "plt.xlabel('Hicks neutral shock')\n",
    "plt.ylabel('Frequency')\n",
    "plt.title('Productive shocks')\n",
    "plt.show()\n",
    "\n",
    "mean_shockacf = shockacf.groupby('year').mean()\n",
    "plt.plot(mean_shockacf)\n",
    "plt.title('Productive shocks v.s. time')\n",
    "plt.ylabel('Hicks neutral shock')\n",
    "plt.xlabel('Year')\n",
    "plt.show()"
   ]
  },
  {
   "cell_type": "markdown",
   "metadata": {},
   "source": [
    "# Summary \n",
    "\n",
    "Below we summarize the results from the various estimation routines (without standard errors). The standard errors are in the tables in the individual sections that describe the procedure."
   ]
  },
  {
   "cell_type": "code",
   "execution_count": 17,
   "metadata": {},
   "outputs": [
    {
     "name": "stdout",
     "output_type": "stream",
     "text": [
      "######## OLS ########\n",
      "Intercept    1.353477\n",
      "totlab       0.164328\n",
      "renerg       0.102450\n",
      "realmats     0.735187\n",
      "rcapstock    0.064443\n",
      "dtype: float64\n",
      "######## FE #########\n",
      "totlabfe       0.190441\n",
      "renergfe       0.062644\n",
      "realmatsfe     0.607337\n",
      "rcapstockfe    0.050753\n",
      "dtype: float64\n",
      "######## LP #########\n",
      "                  0\n",
      "renerg     0.085776\n",
      "totlab     0.168798\n",
      "rcapstock  0.134580\n",
      "realmats   0.613693\n",
      "######## ACF ########\n",
      "                  0\n",
      "Intercept  4.944699\n",
      "rcapstock  0.423175\n",
      "totlab     0.600755\n",
      "rho        0.935611\n"
     ]
    }
   ],
   "source": [
    "print '######## OLS ########'\n",
    "print olsresult.params\n",
    "print '######## FE #########'\n",
    "print feresult.params\n",
    "print '######## LP #########'\n",
    "print pd.DataFrame(np.concatenate((stage1_res.params,lpresult.params)),['renerg','totlab','rcapstock','realmats'])\n",
    "print '######## ACF ########'\n",
    "print pd.DataFrame(acfresult.params,['Intercept','rcapstock','totlab','rho'])"
   ]
  },
  {
   "cell_type": "code",
   "execution_count": 18,
   "metadata": {},
   "outputs": [
    {
     "data": {
      "image/png": "[encoded data removed]",
      "text/plain": [
       "<Figure size 432x288 with 1 Axes>"
      ]
     },
     "metadata": {},
     "output_type": "display_data"
    }
   ],
   "source": [
    "mean_shockacf = shockacf.groupby('year').mean()\n",
    "plt.plot(mean_shockacf,label='ACF')\n",
    "plt.plot(mean_shocklp,label='LP')\n",
    "plt.plot(mean_shockols,label='OLS')\n",
    "plt.plot(mean_shockfe,label='FE')\n",
    "plt.title('Productive shocks v.s. time')\n",
    "plt.ylabel('Hicks neutral shock')\n",
    "plt.xlabel('Year')\n",
    "plt.legend()\n",
    "plt.show()"
   ]
  },
  {
   "cell_type": "code",
   "execution_count": null,
   "metadata": {},
   "outputs": [],
   "source": []
  }
 ],
 "metadata": {
  "kernelspec": {
   "display_name": "Python 2",
   "language": "python",
   "name": "python2"
  },
  "language_info": {
   "codemirror_mode": {
    "name": "ipython",
    "version": 2
   },
   "file_extension": ".py",
   "mimetype": "text/x-python",
   "name": "python",
   "nbconvert_exporter": "python",
   "pygments_lexer": "ipython2",
   "version": "2.7.15"
  }
 },
 "nbformat": 4,
 "nbformat_minor": 2
}
