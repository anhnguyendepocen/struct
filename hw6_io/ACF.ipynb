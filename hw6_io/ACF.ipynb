{
 "cells": [
  {
   "cell_type": "code",
   "execution_count": 1,
   "metadata": {},
   "outputs": [],
   "source": [
    "import pandas as pd\n",
    "import math\n",
    "import numpy as np\n",
    "import matplotlib.pyplot as plt\n",
    "import statsmodels.api as sm\n",
    "import statsmodels.formula.api as smf\n",
    "import scipy\n",
    "\n",
    "from statsmodels.sandbox.regression.gmm import GMM\n",
    "from sklearn.preprocessing import PolynomialFeatures\n",
    "from sklearn.linear_model import Ridge"
   ]
  },
  {
   "cell_type": "code",
   "execution_count": 2,
   "metadata": {},
   "outputs": [],
   "source": [
    "data = pd.read_stata('chile.dta')"
   ]
  },
  {
   "cell_type": "code",
   "execution_count": 3,
   "metadata": {},
   "outputs": [],
   "source": [
    "ldata = data.copy()\n",
    "\n",
    "ldata[['routput', 'totlab', 'renerg','realmats',\n",
    "       'rcapstock']] = np.log(data[['routput','totlab', 'renerg','realmats','rcapstock']])\n",
    "\n",
    "ldata = ldata.dropna()"
   ]
  },
  {
   "cell_type": "markdown",
   "metadata": {},
   "source": [
    "do a non-parametric regression with $l_{it}$, $m_{it}$, $k_{it}$ on $y_{it}$ and save residual, and fitted value\n",
    "\n",
    "given a guess of beta1 and beta2 compute an implied omega i.e. productive shock\n",
    "get wit-1 (i.e. without estimating a function)\n",
    "the residuals should be exogenous\n",
    "these are the moment conditions\n",
    "\n",
    "https://www.aeaweb.org/content/file?id=3015"
   ]
  },
  {
   "cell_type": "code",
   "execution_count": 19,
   "metadata": {},
   "outputs": [],
   "source": [
    "d = ldata['routput'],ldata[['totlab']],ldata[['rcapstock','realmats','renerg']],ldata[['id','year']]\n",
    "\n",
    "def np_resids(y,x):\n",
    "    \"\"\"residuals from lasso\"\"\"\n",
    "    poly = PolynomialFeatures(degree=4)\n",
    "    x_poly = poly.fit_transform(x)\n",
    "    clf = Ridge(alpha=1.0)\n",
    "    clf.fit(x_poly, y) \n",
    "    resid = y-clf.predict(x_poly)\n",
    "    return resid\n",
    "\n",
    "stage1_resids = np_resids(ldata['routput'],ldata[['totlab','rcapstock','realmats','renerg']])"
   ]
  },
  {
   "cell_type": "code",
   "execution_count": 12,
   "metadata": {},
   "outputs": [
    {
     "data": {
      "text/plain": [
       "(18044,)"
      ]
     },
     "execution_count": 12,
     "metadata": {},
     "output_type": "execute_result"
    }
   ],
   "source": [
    "def stage2obj(params, stage1_resids, dta):\n",
    "    \n",
    "    y,x,label = dta\n",
    "    t = label['year']\n",
    "    \n",
    "    #compute value addeed to production by shock and all terms\n",
    "    value = y - stage1_resids\n",
    "    \n",
    "    #compute implied value of endogenous shock\n",
    "    params_tile = np.tile(params,x.shape[0]).reshape(x.shape[0],x.shape[1])\n",
    "    shock = value - (params_tile*x).sum(axis=1)\n",
    "    shock = np.array(shock).reshape((shock.shape[0],1))\n",
    "    \n",
    "    #calc shock (mostly formating correctly)\n",
    "    shocklag = zvalue_predict - (zparams_tile*z).sum(axis=1)\n",
    "    shocklag = np.array(shocklag).reshape((shocklag.shape[0],1))\n",
    "    \n",
    "    shocklag = np.concatenate((shocklag,label[['id','year']]),axis=1)\n",
    "    shocklag = pd.DataFrame(shocklag,columns=['shock2','id','year'])\n",
    "    shocklag = shocklag.set_index(['id','year'])\n",
    "    shocklag = shocklag.groupby('id').shift(1)\n",
    "    \n",
    "    #clean 'exogenous' portion of production shock\n",
    "    both_shocks = np.concatenate((shocklag,shock),axis=1)\n",
    "    both_shocks = both_shocks[~np.isnan(both_shocks).any(axis=1)]\n",
    "    shocklag = both_shocks[:,0].reshape(both_shocks.shape[0],1)\n",
    "    npshocklag = np.concatenate((shocklag,shocklag**2,shocklag**3),axis=1)\n",
    "    npshocklag = sm.add_constant(npshocklag)\n",
    "    \n",
    "    return sm.OLS(both_shocks[:,1],npshocklag).fit().resid\n",
    "    \n",
    "    \n",
    "d = ldata['routput'],ldata[['rcapstock','totlab']],ldata[['id','year']]\n",
    "\n",
    "stage2obj(np.array([.5,.5]),stage1_resids, d).shape"
   ]
  },
  {
   "cell_type": "code",
   "execution_count": 13,
   "metadata": {},
   "outputs": [
    {
     "name": "stdout",
     "output_type": "stream",
     "text": [
      "(20717, 2)\n",
      "Optimization terminated successfully.\n",
      "         Current function value: 0.000000\n",
      "         Iterations: 6\n",
      "         Function evaluations: 8\n",
      "         Gradient evaluations: 8\n",
      "Optimization terminated successfully.\n",
      "         Current function value: 0.000000\n",
      "         Iterations: 0\n",
      "         Function evaluations: 1\n",
      "         Gradient evaluations: 1\n",
      "Optimization terminated successfully.\n",
      "         Current function value: 0.000000\n",
      "         Iterations: 0\n",
      "         Function evaluations: 1\n",
      "         Gradient evaluations: 1\n",
      "Optimization terminated successfully.\n",
      "         Current function value: 0.000000\n",
      "         Iterations: 0\n",
      "         Function evaluations: 1\n",
      "         Gradient evaluations: 1\n",
      "                                 ACF Results                                  \n",
      "==============================================================================\n",
      "Dep. Variable:                routput   Hansen J:                    1.378e-07\n",
      "Model:                            ACF   Prob (Hansen J):                   nan\n",
      "Method:                           GMM                                         \n",
      "Date:                Tue, 14 May 2019                                         \n",
      "Time:                        10:26:57                                         \n",
      "No. Observations:               20717                                         \n",
      "==============================================================================\n",
      "                 coef    std err          z      P>|z|      [0.025      0.975]\n",
      "------------------------------------------------------------------------------\n",
      "rcapstock      0.1667   1.51e+05   1.11e-06      1.000   -2.95e+05    2.95e+05\n",
      "totlab         0.5101   2.39e+05   2.14e-06      1.000   -4.68e+05    4.68e+05\n",
      "==============================================================================\n"
     ]
    }
   ],
   "source": [
    "class ACF(GMM):\n",
    "    \n",
    "    def __init__(self, dta, stage1_resids, *args, **kwds):\n",
    "        # set appropriate counts for moment conditions and parameters\n",
    "        y,x,z,label = dta\n",
    "        super(ACF, self).__init__(y,x,z, x.shape[1],*args, **kwds)\n",
    "        self.endog = y\n",
    "        self.exog = x\n",
    "        self.instr = z\n",
    "        self.ids = label\n",
    "        self.stage1_resids =  stage1_resids\n",
    "        \n",
    "        #self up a lag variable\n",
    "        exogs = np.concatenate((x, label[['id','year']]),axis=1)\n",
    "        colnames = ['x'+str(i) for i in range(self.nmoms)]\n",
    "        colnames = colnames + ['id','year']\n",
    "        exogs = pd.DataFrame(exogs, columns= colnames )\n",
    "        exogs = exogs.set_index(['id','year'])\n",
    "        exogs = exogs.groupby('id').shift(1)\n",
    "        print exogs.shape\n",
    "        self.exoglag = exogs.dropna()\n",
    "        self.data.xnames = [col for col in x.columns]\n",
    "        \n",
    "        \n",
    "    def momcond(self, params):\n",
    "        d = self.endog, self.exog, self.ids\n",
    "        resids = stage2obj(params, self.stage1_resids , d)\n",
    "        resids_tile = np.repeat(resids,self.nmoms)\n",
    "        resids_tile = resids_tile.reshape((resids.shape[0],self.nmoms))\n",
    "        return resids_tile*self.exoglag\n",
    "        \n",
    "    \n",
    "d = ldata['routput'],ldata[['rcapstock','totlab']],ldata[['realmats','renerg']],ldata[['id','year']]\n",
    "acfmodel = ACF(d, stage1_resids)\n",
    "acfresult = acfmodel.fit(np.array([.5,.5]))\n",
    "print acfresult.summary()"
   ]
  },
  {
   "cell_type": "code",
   "execution_count": null,
   "metadata": {},
   "outputs": [],
   "source": []
  }
 ],
 "metadata": {
  "kernelspec": {
   "display_name": "Python 2",
   "language": "python",
   "name": "python2"
  },
  "language_info": {
   "codemirror_mode": {
    "name": "ipython",
    "version": 2
   },
   "file_extension": ".py",
   "mimetype": "text/x-python",
   "name": "python",
   "nbconvert_exporter": "python",
   "pygments_lexer": "ipython2",
   "version": "2.7.15"
  }
 },
 "nbformat": 4,
 "nbformat_minor": 2
}
