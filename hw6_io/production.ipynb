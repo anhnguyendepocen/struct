{
 "cells": [
  {
   "cell_type": "code",
   "execution_count": 2,
   "metadata": {},
   "outputs": [],
   "source": [
    "import pandas as pd\n",
    "import math\n",
    "import numpy as np\n",
    "import matplotlib.pyplot as plt\n",
    "import statsmodels.api as sm\n",
    "import statsmodels.formula.api as smf\n",
    "\n",
    "from scipy import stats\n",
    "from scipy.interpolate import interp1d\n",
    "from scipy.optimize import fsolve\n",
    "from scipy.optimize import minimize"
   ]
  },
  {
   "cell_type": "code",
   "execution_count": 3,
   "metadata": {},
   "outputs": [],
   "source": [
    "data = fpa_data = pd.read_stata('chile.dta')"
   ]
  },
  {
   "cell_type": "code",
   "execution_count": 4,
   "metadata": {},
   "outputs": [
    {
     "data": {
      "text/html": [
       "<table class=\"simpletable\">\n",
       "<caption>OLS Regression Results</caption>\n",
       "<tr>\n",
       "  <th>Dep. Variable:</th>         <td>routput</td>     <th>  R-squared:         </th> <td>   0.769</td> \n",
       "</tr>\n",
       "<tr>\n",
       "  <th>Model:</th>                   <td>OLS</td>       <th>  Adj. R-squared:    </th> <td>   0.769</td> \n",
       "</tr>\n",
       "<tr>\n",
       "  <th>Method:</th>             <td>Least Squares</td>  <th>  F-statistic:       </th> <td>3.452e+04</td>\n",
       "</tr>\n",
       "<tr>\n",
       "  <th>Date:</th>             <td>Wed, 08 May 2019</td> <th>  Prob (F-statistic):</th>  <td>  0.00</td>  \n",
       "</tr>\n",
       "<tr>\n",
       "  <th>Time:</th>                 <td>11:23:30</td>     <th>  Log-Likelihood:    </th> <td> -23690.</td> \n",
       "</tr>\n",
       "<tr>\n",
       "  <th>No. Observations:</th>      <td> 20730</td>      <th>  AIC:               </th> <td>4.739e+04</td>\n",
       "</tr>\n",
       "<tr>\n",
       "  <th>Df Residuals:</th>          <td> 20727</td>      <th>  BIC:               </th> <td>4.741e+04</td>\n",
       "</tr>\n",
       "<tr>\n",
       "  <th>Df Model:</th>              <td>     2</td>      <th>                     </th>     <td> </td>    \n",
       "</tr>\n",
       "<tr>\n",
       "  <th>Covariance Type:</th>      <td>nonrobust</td>    <th>                     </th>     <td> </td>    \n",
       "</tr>\n",
       "</table>\n",
       "<table class=\"simpletable\">\n",
       "<tr>\n",
       "      <td></td>         <th>coef</th>     <th>std err</th>      <th>t</th>      <th>P>|t|</th>  <th>[0.025</th>    <th>0.975]</th>  \n",
       "</tr>\n",
       "<tr>\n",
       "  <th>Intercept</th> <td>    5.1804</td> <td>    0.024</td> <td>  214.199</td> <td> 0.000</td> <td>    5.133</td> <td>    5.228</td>\n",
       "</tr>\n",
       "<tr>\n",
       "  <th>totlab</th>    <td>    0.8194</td> <td>    0.008</td> <td>  102.168</td> <td> 0.000</td> <td>    0.804</td> <td>    0.835</td>\n",
       "</tr>\n",
       "<tr>\n",
       "  <th>rcapstock</th> <td>    0.3317</td> <td>    0.004</td> <td>   91.134</td> <td> 0.000</td> <td>    0.325</td> <td>    0.339</td>\n",
       "</tr>\n",
       "</table>\n",
       "<table class=\"simpletable\">\n",
       "<tr>\n",
       "  <th>Omnibus:</th>       <td>1840.946</td> <th>  Durbin-Watson:     </th> <td>   0.531</td>\n",
       "</tr>\n",
       "<tr>\n",
       "  <th>Prob(Omnibus):</th>  <td> 0.000</td>  <th>  Jarque-Bera (JB):  </th> <td>3645.736</td>\n",
       "</tr>\n",
       "<tr>\n",
       "  <th>Skew:</th>           <td> 0.597</td>  <th>  Prob(JB):          </th> <td>    0.00</td>\n",
       "</tr>\n",
       "<tr>\n",
       "  <th>Kurtosis:</th>       <td> 4.672</td>  <th>  Cond. No.          </th> <td>    47.3</td>\n",
       "</tr>\n",
       "</table><br/><br/>Warnings:<br/>[1] Standard Errors assume that the covariance matrix of the errors is correctly specified."
      ],
      "text/plain": [
       "<class 'statsmodels.iolib.summary.Summary'>\n",
       "\"\"\"\n",
       "                            OLS Regression Results                            \n",
       "==============================================================================\n",
       "Dep. Variable:                routput   R-squared:                       0.769\n",
       "Model:                            OLS   Adj. R-squared:                  0.769\n",
       "Method:                 Least Squares   F-statistic:                 3.452e+04\n",
       "Date:                Wed, 08 May 2019   Prob (F-statistic):               0.00\n",
       "Time:                        11:23:30   Log-Likelihood:                -23690.\n",
       "No. Observations:               20730   AIC:                         4.739e+04\n",
       "Df Residuals:                   20727   BIC:                         4.741e+04\n",
       "Df Model:                           2                                         \n",
       "Covariance Type:            nonrobust                                         \n",
       "==============================================================================\n",
       "                 coef    std err          t      P>|t|      [0.025      0.975]\n",
       "------------------------------------------------------------------------------\n",
       "Intercept      5.1804      0.024    214.199      0.000       5.133       5.228\n",
       "totlab         0.8194      0.008    102.168      0.000       0.804       0.835\n",
       "rcapstock      0.3317      0.004     91.134      0.000       0.325       0.339\n",
       "==============================================================================\n",
       "Omnibus:                     1840.946   Durbin-Watson:                   0.531\n",
       "Prob(Omnibus):                  0.000   Jarque-Bera (JB):             3645.736\n",
       "Skew:                           0.597   Prob(JB):                         0.00\n",
       "Kurtosis:                       4.672   Cond. No.                         47.3\n",
       "==============================================================================\n",
       "\n",
       "Warnings:\n",
       "[1] Standard Errors assume that the covariance matrix of the errors is correctly specified.\n",
       "\"\"\""
      ]
     },
     "execution_count": 4,
     "metadata": {},
     "output_type": "execute_result"
    }
   ],
   "source": [
    "olsdata = data.copy()\n",
    "olsdata[['routput','totlab','rcapstock']] = np.log(olsdata[['routput','totlab','rcapstock']])\n",
    "\n",
    "olsmodel = smf.ols('routput ~totlab + rcapstock',olsdata)\n",
    "olsresult = olsmodel.fit()\n",
    "olsresult.summary()"
   ]
  },
  {
   "cell_type": "code",
   "execution_count": 44,
   "metadata": {},
   "outputs": [],
   "source": [
    "fedata = olsdata.copy()\n",
    "\n",
    "#apply the within transformation\n",
    "for var in ['routput','totlab','rcapstock']:\n",
    "    fedata[var+'fe'] = fedata[var]\n",
    "    for fe in ['year']:\n",
    "        dum = pd.get_dummies(fedata[fe])\n",
    "        means = np.tile(fedata[var],len(dum.columns)).reshape(fedata.shape[0],len(dum.columns))\n",
    "        means = np.array(means*dum)\n",
    "        means = means.sum(axis=0)/dum.sum(axis=0)\n",
    "        \n",
    "        means = np.tile(means,fedata.shape[0]).reshape(fedata.shape[0],len(dum.columns))\n",
    "        means = (means*dum).sum(axis=1)\n",
    "        fedata[var+'fe'] = fedata[var+'fe'] - means"
   ]
  },
  {
   "cell_type": "code",
   "execution_count": 50,
   "metadata": {},
   "outputs": [
    {
     "data": {
      "text/html": [
       "<table class=\"simpletable\">\n",
       "<caption>OLS Regression Results</caption>\n",
       "<tr>\n",
       "  <th>Dep. Variable:</th>        <td>routputfe</td>    <th>  R-squared:         </th> <td>   0.769</td> \n",
       "</tr>\n",
       "<tr>\n",
       "  <th>Model:</th>                   <td>OLS</td>       <th>  Adj. R-squared:    </th> <td>   0.769</td> \n",
       "</tr>\n",
       "<tr>\n",
       "  <th>Method:</th>             <td>Least Squares</td>  <th>  F-statistic:       </th> <td>3.443e+04</td>\n",
       "</tr>\n",
       "<tr>\n",
       "  <th>Date:</th>             <td>Wed, 08 May 2019</td> <th>  Prob (F-statistic):</th>  <td>  0.00</td>  \n",
       "</tr>\n",
       "<tr>\n",
       "  <th>Time:</th>                 <td>12:24:52</td>     <th>  Log-Likelihood:    </th> <td> -23722.</td> \n",
       "</tr>\n",
       "<tr>\n",
       "  <th>No. Observations:</th>      <td> 20730</td>      <th>  AIC:               </th> <td>4.745e+04</td>\n",
       "</tr>\n",
       "<tr>\n",
       "  <th>Df Residuals:</th>          <td> 20728</td>      <th>  BIC:               </th> <td>4.746e+04</td>\n",
       "</tr>\n",
       "<tr>\n",
       "  <th>Df Model:</th>              <td>     2</td>      <th>                     </th>     <td> </td>    \n",
       "</tr>\n",
       "<tr>\n",
       "  <th>Covariance Type:</th>      <td>nonrobust</td>    <th>                     </th>     <td> </td>    \n",
       "</tr>\n",
       "</table>\n",
       "<table class=\"simpletable\">\n",
       "<tr>\n",
       "       <td></td>          <th>coef</th>     <th>std err</th>      <th>t</th>      <th>P>|t|</th>  <th>[0.025</th>    <th>0.975]</th>  \n",
       "</tr>\n",
       "<tr>\n",
       "  <th>totlabfe</th>    <td>    0.8206</td> <td>    0.008</td> <td>  102.206</td> <td> 0.000</td> <td>    0.805</td> <td>    0.836</td>\n",
       "</tr>\n",
       "<tr>\n",
       "  <th>rcapstockfe</th> <td>    0.3316</td> <td>    0.004</td> <td>   91.017</td> <td> 0.000</td> <td>    0.325</td> <td>    0.339</td>\n",
       "</tr>\n",
       "</table>\n",
       "<table class=\"simpletable\">\n",
       "<tr>\n",
       "  <th>Omnibus:</th>       <td>1822.259</td> <th>  Durbin-Watson:     </th> <td>   0.532</td>\n",
       "</tr>\n",
       "<tr>\n",
       "  <th>Prob(Omnibus):</th>  <td> 0.000</td>  <th>  Jarque-Bera (JB):  </th> <td>3590.014</td>\n",
       "</tr>\n",
       "<tr>\n",
       "  <th>Skew:</th>           <td> 0.594</td>  <th>  Prob(JB):          </th> <td>    0.00</td>\n",
       "</tr>\n",
       "<tr>\n",
       "  <th>Kurtosis:</th>       <td> 4.657</td>  <th>  Cond. No.          </th> <td>    3.60</td>\n",
       "</tr>\n",
       "</table><br/><br/>Warnings:<br/>[1] Standard Errors assume that the covariance matrix of the errors is correctly specified."
      ],
      "text/plain": [
       "<class 'statsmodels.iolib.summary.Summary'>\n",
       "\"\"\"\n",
       "                            OLS Regression Results                            \n",
       "==============================================================================\n",
       "Dep. Variable:              routputfe   R-squared:                       0.769\n",
       "Model:                            OLS   Adj. R-squared:                  0.769\n",
       "Method:                 Least Squares   F-statistic:                 3.443e+04\n",
       "Date:                Wed, 08 May 2019   Prob (F-statistic):               0.00\n",
       "Time:                        12:24:52   Log-Likelihood:                -23722.\n",
       "No. Observations:               20730   AIC:                         4.745e+04\n",
       "Df Residuals:                   20728   BIC:                         4.746e+04\n",
       "Df Model:                           2                                         \n",
       "Covariance Type:            nonrobust                                         \n",
       "===============================================================================\n",
       "                  coef    std err          t      P>|t|      [0.025      0.975]\n",
       "-------------------------------------------------------------------------------\n",
       "totlabfe        0.8206      0.008    102.206      0.000       0.805       0.836\n",
       "rcapstockfe     0.3316      0.004     91.017      0.000       0.325       0.339\n",
       "==============================================================================\n",
       "Omnibus:                     1822.259   Durbin-Watson:                   0.532\n",
       "Prob(Omnibus):                  0.000   Jarque-Bera (JB):             3590.014\n",
       "Skew:                           0.594   Prob(JB):                         0.00\n",
       "Kurtosis:                       4.657   Cond. No.                         3.60\n",
       "==============================================================================\n",
       "\n",
       "Warnings:\n",
       "[1] Standard Errors assume that the covariance matrix of the errors is correctly specified.\n",
       "\"\"\""
      ]
     },
     "execution_count": 50,
     "metadata": {},
     "output_type": "execute_result"
    }
   ],
   "source": [
    "femodel = smf.ols('routputfe ~totlabfe + rcapstockfe -1',fedata)\n",
    "feresult = femodel.fit()\n",
    "feresult.summary()"
   ]
  },
  {
   "cell_type": "code",
   "execution_count": 31,
   "metadata": {},
   "outputs": [
    {
     "name": "stdout",
     "output_type": "stream",
     "text": [
      "          Mixed Linear Model Regression Results\n",
      "=========================================================\n",
      "Model:            MixedLM Dependent Variable: routput    \n",
      "No. Observations: 20730   Method:             REML       \n",
      "No. Groups:       2673    Scale:              0.1335     \n",
      "Min. group size:  1       Likelihood:         -12895.3255\n",
      "Max. group size:  18      Converged:          Yes        \n",
      "Mean group size:  7.8                                    \n",
      "----------------------------------------------------------\n",
      "           Coef.  Std.Err.     z     P>|z|  [0.025  0.975]\n",
      "----------------------------------------------------------\n",
      "Intercept  7.116     0.045  157.791  0.000   7.027   7.204\n",
      "totlab     0.616     0.007   85.294  0.000   0.602   0.630\n",
      "rcapstock  0.194     0.004   43.859  0.000   0.186   0.203\n",
      "Group Var  0.641     0.059                                \n",
      "=========================================================\n",
      "\n"
     ]
    }
   ],
   "source": [
    "femodel = smf.mixedlm('routput ~ totlab +rcapstock', olsdata, groups=data['id'])\n",
    "feresult = femodel.fit()\n",
    "print feresult.summary()"
   ]
  },
  {
   "cell_type": "code",
   "execution_count": 25,
   "metadata": {},
   "outputs": [
    {
     "ename": "ImportError",
     "evalue": "No module named stats.plm",
     "output_type": "error",
     "traceback": [
      "\u001b[0;31m---------------------------------------------------------------------------\u001b[0m",
      "\u001b[0;31mImportError\u001b[0m                               Traceback (most recent call last)",
      "\u001b[0;32m<ipython-input-25-7bdbafe9f43c>\u001b[0m in \u001b[0;36m<module>\u001b[0;34m()\u001b[0m\n\u001b[0;32m----> 1\u001b[0;31m \u001b[0;32mfrom\u001b[0m \u001b[0mpandas\u001b[0m\u001b[0;34m.\u001b[0m\u001b[0mstats\u001b[0m\u001b[0;34m.\u001b[0m\u001b[0mplm\u001b[0m \u001b[0;32mimport\u001b[0m \u001b[0mPanelOLS\u001b[0m\u001b[0;34m\u001b[0m\u001b[0m\n\u001b[0m",
      "\u001b[0;31mImportError\u001b[0m: No module named stats.plm"
     ]
    }
   ],
   "source": []
  },
  {
   "cell_type": "code",
   "execution_count": null,
   "metadata": {},
   "outputs": [],
   "source": []
  }
 ],
 "metadata": {
  "kernelspec": {
   "display_name": "Python 2",
   "language": "python",
   "name": "python2"
  },
  "language_info": {
   "codemirror_mode": {
    "name": "ipython",
    "version": 2
   },
   "file_extension": ".py",
   "mimetype": "text/x-python",
   "name": "python",
   "nbconvert_exporter": "python",
   "pygments_lexer": "ipython2",
   "version": "2.7.15"
  }
 },
 "nbformat": 4,
 "nbformat_minor": 2
}
