{
 "cells": [
  {
   "cell_type": "code",
   "execution_count": 4,
   "metadata": {},
   "outputs": [],
   "source": [
    "import pandas as pd\n",
    "import math\n",
    "import numpy as np\n",
    "import matplotlib.pyplot as plt\n",
    "import statsmodels.api as sm\n",
    "import statsmodels.formula.api as smf\n",
    "\n",
    "from scipy import stats\n",
    "from scipy.interpolate import interp1d\n",
    "from scipy.optimize import fsolve\n",
    "from scipy.optimize import minimize"
   ]
  },
  {
   "cell_type": "code",
   "execution_count": 5,
   "metadata": {},
   "outputs": [],
   "source": [
    "data = fpa_data = pd.read_stata('chile.dta')"
   ]
  },
  {
   "cell_type": "code",
   "execution_count": 8,
   "metadata": {},
   "outputs": [
    {
     "data": {
      "text/html": [
       "<table class=\"simpletable\">\n",
       "<caption>OLS Regression Results</caption>\n",
       "<tr>\n",
       "  <th>Dep. Variable:</th>         <td>routput</td>     <th>  R-squared:         </th> <td>   0.769</td> \n",
       "</tr>\n",
       "<tr>\n",
       "  <th>Model:</th>                   <td>OLS</td>       <th>  Adj. R-squared:    </th> <td>   0.769</td> \n",
       "</tr>\n",
       "<tr>\n",
       "  <th>Method:</th>             <td>Least Squares</td>  <th>  F-statistic:       </th> <td>3.452e+04</td>\n",
       "</tr>\n",
       "<tr>\n",
       "  <th>Date:</th>             <td>Wed, 08 May 2019</td> <th>  Prob (F-statistic):</th>  <td>  0.00</td>  \n",
       "</tr>\n",
       "<tr>\n",
       "  <th>Time:</th>                 <td>08:35:58</td>     <th>  Log-Likelihood:    </th> <td> -23690.</td> \n",
       "</tr>\n",
       "<tr>\n",
       "  <th>No. Observations:</th>      <td> 20730</td>      <th>  AIC:               </th> <td>4.739e+04</td>\n",
       "</tr>\n",
       "<tr>\n",
       "  <th>Df Residuals:</th>          <td> 20727</td>      <th>  BIC:               </th> <td>4.741e+04</td>\n",
       "</tr>\n",
       "<tr>\n",
       "  <th>Df Model:</th>              <td>     2</td>      <th>                     </th>     <td> </td>    \n",
       "</tr>\n",
       "<tr>\n",
       "  <th>Covariance Type:</th>      <td>nonrobust</td>    <th>                     </th>     <td> </td>    \n",
       "</tr>\n",
       "</table>\n",
       "<table class=\"simpletable\">\n",
       "<tr>\n",
       "      <td></td>         <th>coef</th>     <th>std err</th>      <th>t</th>      <th>P>|t|</th>  <th>[0.025</th>    <th>0.975]</th>  \n",
       "</tr>\n",
       "<tr>\n",
       "  <th>Intercept</th> <td>    5.1804</td> <td>    0.024</td> <td>  214.199</td> <td> 0.000</td> <td>    5.133</td> <td>    5.228</td>\n",
       "</tr>\n",
       "<tr>\n",
       "  <th>totlab</th>    <td>    0.8194</td> <td>    0.008</td> <td>  102.168</td> <td> 0.000</td> <td>    0.804</td> <td>    0.835</td>\n",
       "</tr>\n",
       "<tr>\n",
       "  <th>rcapstock</th> <td>    0.3317</td> <td>    0.004</td> <td>   91.134</td> <td> 0.000</td> <td>    0.325</td> <td>    0.339</td>\n",
       "</tr>\n",
       "</table>\n",
       "<table class=\"simpletable\">\n",
       "<tr>\n",
       "  <th>Omnibus:</th>       <td>1840.946</td> <th>  Durbin-Watson:     </th> <td>   0.531</td>\n",
       "</tr>\n",
       "<tr>\n",
       "  <th>Prob(Omnibus):</th>  <td> 0.000</td>  <th>  Jarque-Bera (JB):  </th> <td>3645.736</td>\n",
       "</tr>\n",
       "<tr>\n",
       "  <th>Skew:</th>           <td> 0.597</td>  <th>  Prob(JB):          </th> <td>    0.00</td>\n",
       "</tr>\n",
       "<tr>\n",
       "  <th>Kurtosis:</th>       <td> 4.672</td>  <th>  Cond. No.          </th> <td>    47.3</td>\n",
       "</tr>\n",
       "</table><br/><br/>Warnings:<br/>[1] Standard Errors assume that the covariance matrix of the errors is correctly specified."
      ],
      "text/plain": [
       "<class 'statsmodels.iolib.summary.Summary'>\n",
       "\"\"\"\n",
       "                            OLS Regression Results                            \n",
       "==============================================================================\n",
       "Dep. Variable:                routput   R-squared:                       0.769\n",
       "Model:                            OLS   Adj. R-squared:                  0.769\n",
       "Method:                 Least Squares   F-statistic:                 3.452e+04\n",
       "Date:                Wed, 08 May 2019   Prob (F-statistic):               0.00\n",
       "Time:                        08:35:58   Log-Likelihood:                -23690.\n",
       "No. Observations:               20730   AIC:                         4.739e+04\n",
       "Df Residuals:                   20727   BIC:                         4.741e+04\n",
       "Df Model:                           2                                         \n",
       "Covariance Type:            nonrobust                                         \n",
       "==============================================================================\n",
       "                 coef    std err          t      P>|t|      [0.025      0.975]\n",
       "------------------------------------------------------------------------------\n",
       "Intercept      5.1804      0.024    214.199      0.000       5.133       5.228\n",
       "totlab         0.8194      0.008    102.168      0.000       0.804       0.835\n",
       "rcapstock      0.3317      0.004     91.134      0.000       0.325       0.339\n",
       "==============================================================================\n",
       "Omnibus:                     1840.946   Durbin-Watson:                   0.531\n",
       "Prob(Omnibus):                  0.000   Jarque-Bera (JB):             3645.736\n",
       "Skew:                           0.597   Prob(JB):                         0.00\n",
       "Kurtosis:                       4.672   Cond. No.                         47.3\n",
       "==============================================================================\n",
       "\n",
       "Warnings:\n",
       "[1] Standard Errors assume that the covariance matrix of the errors is correctly specified.\n",
       "\"\"\""
      ]
     },
     "execution_count": 8,
     "metadata": {},
     "output_type": "execute_result"
    }
   ],
   "source": [
    "olsdata = data.copy()\n",
    "olsdata[['routput','totlab','rcapstock']] = np.log(olsdata[['routput','totlab','rcapstock']])\n",
    "\n",
    "olsmodel = smf.ols('routput ~totlab + rcapstock',olsdata)\n",
    "olsresult = olsmodel.fit()\n",
    "olsresult.summary()"
   ]
  },
  {
   "cell_type": "code",
   "execution_count": 46,
   "metadata": {},
   "outputs": [
    {
     "name": "stdout",
     "output_type": "stream",
     "text": [
      "Index([u'ciiu_3d', u'id', u'year', u'routput', u'totlab', u'renerg',\n",
      "       u'realmats', u'rcapstock', u'rinvest', u'routputfe', u'totlabfe',\n",
      "       u'rcapstockfe'],\n",
      "      dtype='object')\n"
     ]
    }
   ],
   "source": [
    "fedata = olsdata.copy()\n",
    "\n",
    "for var in ['routput','totlab','rcapstock']:\n",
    "    fedata[var+'fe'] = fedata[var]\n",
    "    for fe in ['id']:\n",
    "        dum = pd.get_dummies(fedata[fe])\n",
    "        means = np.tile(fedata[var],len(dum.columns)).reshape(fedata.shape[0],len(dum.columns))\n",
    "        means = np.array(means*dum)\n",
    "        fedata[var+'fe'] = fedata[var+'fe'] - means.sum(axis=1)/np.array(dum.sum(axis=1))\n",
    "       \n",
    "        \n",
    "print fedata.columns"
   ]
  },
  {
   "cell_type": "code",
   "execution_count": 48,
   "metadata": {},
   "outputs": [
    {
     "data": {
      "text/html": [
       "<table class=\"simpletable\">\n",
       "<caption>OLS Regression Results</caption>\n",
       "<tr>\n",
       "  <th>Dep. Variable:</th>        <td>routputfe</td>    <th>  R-squared:         </th> <td>   0.769</td> \n",
       "</tr>\n",
       "<tr>\n",
       "  <th>Model:</th>                   <td>OLS</td>       <th>  Adj. R-squared:    </th> <td>   0.769</td> \n",
       "</tr>\n",
       "<tr>\n",
       "  <th>Method:</th>             <td>Least Squares</td>  <th>  F-statistic:       </th> <td>3.445e+04</td>\n",
       "</tr>\n",
       "<tr>\n",
       "  <th>Date:</th>             <td>Wed, 08 May 2019</td> <th>  Prob (F-statistic):</th>  <td>  0.00</td>  \n",
       "</tr>\n",
       "<tr>\n",
       "  <th>Time:</th>                 <td>08:55:28</td>     <th>  Log-Likelihood:    </th> <td> -30908.</td> \n",
       "</tr>\n",
       "<tr>\n",
       "  <th>No. Observations:</th>      <td> 20730</td>      <th>  AIC:               </th> <td>6.182e+04</td>\n",
       "</tr>\n",
       "<tr>\n",
       "  <th>Df Residuals:</th>          <td> 20727</td>      <th>  BIC:               </th> <td>6.185e+04</td>\n",
       "</tr>\n",
       "<tr>\n",
       "  <th>Df Model:</th>              <td>     2</td>      <th>                     </th>     <td> </td>    \n",
       "</tr>\n",
       "<tr>\n",
       "  <th>Covariance Type:</th>      <td>nonrobust</td>    <th>                     </th>     <td> </td>    \n",
       "</tr>\n",
       "</table>\n",
       "<table class=\"simpletable\">\n",
       "<tr>\n",
       "       <td></td>          <th>coef</th>     <th>std err</th>      <th>t</th>      <th>P>|t|</th>  <th>[0.025</th>    <th>0.975]</th>  \n",
       "</tr>\n",
       "<tr>\n",
       "  <th>Intercept</th>   <td>    0.0069</td> <td>    0.007</td> <td>    0.923</td> <td> 0.356</td> <td>   -0.008</td> <td>    0.022</td>\n",
       "</tr>\n",
       "<tr>\n",
       "  <th>totlabfe</th>    <td>    0.8197</td> <td>    0.008</td> <td>  101.653</td> <td> 0.000</td> <td>    0.804</td> <td>    0.835</td>\n",
       "</tr>\n",
       "<tr>\n",
       "  <th>rcapstockfe</th> <td>    0.3329</td> <td>    0.004</td> <td>   91.215</td> <td> 0.000</td> <td>    0.326</td> <td>    0.340</td>\n",
       "</tr>\n",
       "</table>\n",
       "<table class=\"simpletable\">\n",
       "<tr>\n",
       "  <th>Omnibus:</th>       <td>361.177</td> <th>  Durbin-Watson:     </th> <td>   1.273</td> \n",
       "</tr>\n",
       "<tr>\n",
       "  <th>Prob(Omnibus):</th> <td> 0.000</td>  <th>  Jarque-Bera (JB):  </th> <td> 739.416</td> \n",
       "</tr>\n",
       "<tr>\n",
       "  <th>Skew:</th>          <td>-0.019</td>  <th>  Prob(JB):          </th> <td>2.74e-161</td>\n",
       "</tr>\n",
       "<tr>\n",
       "  <th>Kurtosis:</th>      <td> 3.924</td>  <th>  Cond. No.          </th> <td>    3.62</td> \n",
       "</tr>\n",
       "</table><br/><br/>Warnings:<br/>[1] Standard Errors assume that the covariance matrix of the errors is correctly specified."
      ],
      "text/plain": [
       "<class 'statsmodels.iolib.summary.Summary'>\n",
       "\"\"\"\n",
       "                            OLS Regression Results                            \n",
       "==============================================================================\n",
       "Dep. Variable:              routputfe   R-squared:                       0.769\n",
       "Model:                            OLS   Adj. R-squared:                  0.769\n",
       "Method:                 Least Squares   F-statistic:                 3.445e+04\n",
       "Date:                Wed, 08 May 2019   Prob (F-statistic):               0.00\n",
       "Time:                        08:55:28   Log-Likelihood:                -30908.\n",
       "No. Observations:               20730   AIC:                         6.182e+04\n",
       "Df Residuals:                   20727   BIC:                         6.185e+04\n",
       "Df Model:                           2                                         \n",
       "Covariance Type:            nonrobust                                         \n",
       "===============================================================================\n",
       "                  coef    std err          t      P>|t|      [0.025      0.975]\n",
       "-------------------------------------------------------------------------------\n",
       "Intercept       0.0069      0.007      0.923      0.356      -0.008       0.022\n",
       "totlabfe        0.8197      0.008    101.653      0.000       0.804       0.835\n",
       "rcapstockfe     0.3329      0.004     91.215      0.000       0.326       0.340\n",
       "==============================================================================\n",
       "Omnibus:                      361.177   Durbin-Watson:                   1.273\n",
       "Prob(Omnibus):                  0.000   Jarque-Bera (JB):              739.416\n",
       "Skew:                          -0.019   Prob(JB):                    2.74e-161\n",
       "Kurtosis:                       3.924   Cond. No.                         3.62\n",
       "==============================================================================\n",
       "\n",
       "Warnings:\n",
       "[1] Standard Errors assume that the covariance matrix of the errors is correctly specified.\n",
       "\"\"\""
      ]
     },
     "execution_count": 48,
     "metadata": {},
     "output_type": "execute_result"
    }
   ],
   "source": [
    "femodel = smf.ols('routputfe ~totlabfe + rcapstockfe',fedata)\n",
    "feresult = femodel.fit()\n",
    "feresult.summary()"
   ]
  },
  {
   "cell_type": "code",
   "execution_count": 43,
   "metadata": {},
   "outputs": [
    {
     "name": "stdout",
     "output_type": "stream",
     "text": [
      "          Mixed Linear Model Regression Results\n",
      "=========================================================\n",
      "Model:            MixedLM Dependent Variable: routput    \n",
      "No. Observations: 20730   Method:             REML       \n",
      "No. Groups:       2673    Scale:              0.1335     \n",
      "Min. group size:  1       Likelihood:         -12895.3255\n",
      "Max. group size:  18      Converged:          Yes        \n",
      "Mean group size:  7.8                                    \n",
      "----------------------------------------------------------\n",
      "           Coef.  Std.Err.     z     P>|z|  [0.025  0.975]\n",
      "----------------------------------------------------------\n",
      "Intercept  7.116     0.045  157.791  0.000   7.027   7.204\n",
      "totlab     0.616     0.007   85.294  0.000   0.602   0.630\n",
      "rcapstock  0.194     0.004   43.859  0.000   0.186   0.203\n",
      "Group Var  0.641     0.059                                \n",
      "=========================================================\n",
      "\n"
     ]
    }
   ],
   "source": [
    "femodel = smf.mixedlm('routput ~ totlab +rcapstock', olsdata, groups=data['id'])\n",
    "feresult = femodel.fit()\n",
    "print feresult.summary()"
   ]
  },
  {
   "cell_type": "code",
   "execution_count": null,
   "metadata": {},
   "outputs": [],
   "source": []
  }
 ],
 "metadata": {
  "kernelspec": {
   "display_name": "Python 2",
   "language": "python",
   "name": "python2"
  },
  "language_info": {
   "codemirror_mode": {
    "name": "ipython",
    "version": 2
   },
   "file_extension": ".py",
   "mimetype": "text/x-python",
   "name": "python",
   "nbconvert_exporter": "python",
   "pygments_lexer": "ipython2",
   "version": "2.7.15"
  }
 },
 "nbformat": 4,
 "nbformat_minor": 2
}
