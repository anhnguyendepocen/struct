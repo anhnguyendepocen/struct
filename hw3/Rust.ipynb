{
 "cells": [
  {
   "cell_type": "code",
   "execution_count": 1,
   "metadata": {},
   "outputs": [],
   "source": [
    "import pandas as pd\n",
    "import math\n",
    "import numpy as np\n",
    "import statsmodels.api as sm\n",
    "import matplotlib.pyplot as plt\n",
    "\n",
    "from scipy.interpolate import interp1d #pre written interpolation function"
   ]
  },
  {
   "cell_type": "code",
   "execution_count": 5,
   "metadata": {},
   "outputs": [],
   "source": [
    "data = np.loadtxt(\"data.asc\")"
   ]
  },
  {
   "cell_type": "code",
   "execution_count": 7,
   "metadata": {},
   "outputs": [
    {
     "ename": "NameError",
     "evalue": "name 'calc_v0' is not defined",
     "output_type": "error",
     "traceback": [
      "\u001b[0;31m---------------------------------------------------------------------------\u001b[0m",
      "\u001b[0;31mNameError\u001b[0m                                 Traceback (most recent call last)",
      "\u001b[0;32m<ipython-input-7-0227381a17c7>\u001b[0m in \u001b[0;36m<module>\u001b[0;34m()\u001b[0m\n\u001b[1;32m     32\u001b[0m \u001b[0;34m\u001b[0m\u001b[0m\n\u001b[1;32m     33\u001b[0m \u001b[0;34m\u001b[0m\u001b[0m\n\u001b[0;32m---> 34\u001b[0;31m \u001b[0mf0\u001b[0m \u001b[0;34m=\u001b[0m \u001b[0mcalc_v0\u001b[0m\u001b[0;34m(\u001b[0m\u001b[0ma\u001b[0m\u001b[0;34m,\u001b[0m\u001b[0mtheta1\u001b[0m\u001b[0;34m,\u001b[0m\u001b[0mcost\u001b[0m\u001b[0;34m,\u001b[0m \u001b[0;34m[\u001b[0m\u001b[0;36m0\u001b[0m\u001b[0;34m]\u001b[0m\u001b[0;34m,\u001b[0m \u001b[0mmaxiter\u001b[0m\u001b[0;34m)\u001b[0m\u001b[0;34m\u001b[0m\u001b[0m\n\u001b[0m\u001b[1;32m     35\u001b[0m \u001b[0mf1\u001b[0m \u001b[0;34m=\u001b[0m \u001b[0mcalc_v1\u001b[0m\u001b[0;34m(\u001b[0m\u001b[0ma\u001b[0m\u001b[0;34m,\u001b[0m\u001b[0mtheta1\u001b[0m\u001b[0;34m,\u001b[0m\u001b[0mcost\u001b[0m\u001b[0;34m,\u001b[0m \u001b[0;34m[\u001b[0m\u001b[0;36m0\u001b[0m\u001b[0;34m]\u001b[0m\u001b[0;34m,\u001b[0m \u001b[0mmaxiter\u001b[0m\u001b[0;34m)\u001b[0m\u001b[0;34m\u001b[0m\u001b[0m\n",
      "\u001b[0;31mNameError\u001b[0m: name 'calc_v0' is not defined"
     ]
    }
   ],
   "source": [
    "BETA = .9\n",
    "GAMMA = .5772 #euler's constant\n",
    "\n",
    "def calc_f0(a, theta1, cost, f0_prev, max_a):\n",
    "    \n",
    "    if a > max_a: #max no of periods\n",
    "        return  f0_prev\n",
    "    \n",
    "    else:\n",
    "        f0 = calc_f0(a+1,theta1, cost)\n",
    "        f1 = calc_f1(a+1,theta1, cost)\n",
    "\n",
    "        sim_value = a*theta1 + BETA*(GAMMA + np.log( np.exp(f1[0]) + np.exp(f0[0]) ))  \n",
    "        \n",
    "        return np.concatenate( ([sim_value],v1) )\n",
    "        \n",
    "        \n",
    "def calc_f1(a,theta1,cost, f1_prev, max_a):\n",
    "    a = np.maximum(a, max_a)\n",
    "    \n",
    "    if a > max_a: #max no of periods\n",
    "        return  f1_prev\n",
    "    \n",
    "    else:\n",
    "        f0 = calc_f0(a+1,theta1, cost)\n",
    "        f1 = calc_f1(a+1,theta1, cost)\n",
    "\n",
    "        sim_value = R + BETA*(GAMMA + np.log(  np.exp(f1[0]) + np.exp(f0[0]) ))   \n",
    "        return np.concatenate( ([sim_value],f0) )\n",
    "\n",
    "f0 = calc_v0(a,theta1,cost, [0], maxiter)\n",
    "f1 = calc_v1(a,theta1,cost, [0], maxiter)"
   ]
  },
  {
   "cell_type": "code",
   "execution_count": 4,
   "metadata": {},
   "outputs": [
    {
     "data": {
      "text/plain": [
       "array([1, 1])"
      ]
     },
     "execution_count": 4,
     "metadata": {},
     "output_type": "execute_result"
    }
   ],
   "source": [
    "def value_function(v_prev,  error, maxiter, theta1, cost, max_a):\n",
    "    \n",
    "    f1_prev, f0_prev = v_prev\n",
    "    \n",
    "    f1 = calc_f1(0, theta1, cost, f0_prev[-1], max_a)\n",
    "    f0 = calc_f0(0, theta1, cost, f1_prev[-1], max_a)\n",
    "    \n",
    "    \n",
    "    if ( abs( f1_prev[-1] - f1[-1] )  > error\n",
    "        or abs( f0_prev[-1] - f0[-1] )  > error\n",
    "        and maxiter >= 0 ):\n",
    "        \n",
    "        v_new = (f1,f0)\n",
    "        return value_function(v_new, error, theta1, cost, maxiter) \n",
    "        \n",
    "    return (f0,f1)"
   ]
  },
  {
   "cell_type": "code",
   "execution_count": null,
   "metadata": {},
   "outputs": [],
   "source": []
  }
 ],
 "metadata": {
  "kernelspec": {
   "display_name": "Python 2",
   "language": "python",
   "name": "python2"
  },
  "language_info": {
   "codemirror_mode": {
    "name": "ipython",
    "version": 2
   },
   "file_extension": ".py",
   "mimetype": "text/x-python",
   "name": "python",
   "nbconvert_exporter": "python",
   "pygments_lexer": "ipython2",
   "version": "2.7.15"
  }
 },
 "nbformat": 4,
 "nbformat_minor": 2
}
