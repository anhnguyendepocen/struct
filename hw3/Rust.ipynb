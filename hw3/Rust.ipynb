{
 "cells": [
  {
   "cell_type": "code",
   "execution_count": 15,
   "metadata": {},
   "outputs": [],
   "source": [
    "import pandas as pd\n",
    "import math\n",
    "import numpy as np\n",
    "import statsmodels.api as sm\n",
    "import matplotlib.pyplot as plt\n",
    "\n",
    "from scipy.interpolate import interp1d #pre written interpolation function\n",
    "from statsmodels.base.model import GenericLikelihoodModel"
   ]
  },
  {
   "cell_type": "markdown",
   "metadata": {},
   "source": [
    "## Part 1"
   ]
  },
  {
   "cell_type": "markdown",
   "metadata": {},
   "source": [
    "## Part 2"
   ]
  },
  {
   "cell_type": "markdown",
   "metadata": {},
   "source": [
    "## Part 3"
   ]
  },
  {
   "cell_type": "code",
   "execution_count": 26,
   "metadata": {},
   "outputs": [
    {
     "name": "stdout",
     "output_type": "stream",
     "text": [
      "[0. 0.]\n",
      "[2.14331246 2.14331246]\n"
     ]
    }
   ],
   "source": [
    "BETA = .9\n",
    "GAMMA = .5772 #euler's constant\n",
    "\n",
    "def value_helper(a, theta1, cost, v_init):\n",
    "    \"\"\"helper function for calculating value function\n",
    "    given the value for the final period, calculate back a periods\"\"\"\n",
    "    if a <= 0: #we have reacahed the last period\n",
    "        return  v_init\n",
    "    \n",
    "    else:\n",
    "        v_prev = value_helper(a-1,theta1, cost, v_init)\n",
    "                \n",
    "        sim_0 = a*theta1 + BETA*(GAMMA + np.log( np.exp(v_prev[0][0]) + np.exp(v_prev[0][1]) ))  \n",
    "        sim_1 = cost + BETA*(GAMMA + np.log(  np.exp(v_prev[0][0]) + np.exp(v_prev[0][1]) )) \n",
    "        \n",
    "        return np.concatenate( ( [[sim_0,sim_1]],v_prev) )\n",
    "\n",
    "\n",
    "v = value_helper(6, 1, 1, [[0,0]])\n",
    "print v[-1]\n",
    "print v[-2]"
   ]
  },
  {
   "cell_type": "code",
   "execution_count": 27,
   "metadata": {},
   "outputs": [
    {
     "name": "stdout",
     "output_type": "stream",
     "text": [
      "[[-10.9934144   -8.9934144 ]\n",
      " [ -8.54981102  -7.54981102]\n",
      " [ -6.32569276  -6.32569276]\n",
      " [ -4.58567587  -5.58567587]\n",
      " [ -3.5771012   -5.5771012 ]\n",
      " [ -3.56757379  -5.56757379]]\n"
     ]
    }
   ],
   "source": [
    "def value_function(theta1, cost, v_init, error, maxiter, max_periods = 5):\n",
    "    \"\"\"solve for the value function using a contraction mapping. \n",
    "    You can choose how far into the future it goes by setting max_periods\"\"\"\n",
    "    \n",
    "    #only need to iterate 5 periods into the future\n",
    "    #for this problem\n",
    "    v = value_helper(max_periods, theta1, cost, v_init)\n",
    "    \n",
    "    #stop iterating when the last two periods look the same\n",
    "    while ( maxiter > 0  \n",
    "           or ( abs( v[-1,0] - v[-2,0] )  > error\n",
    "           and abs( v[-1,1] - v[-2,1] )  > error) ):\n",
    "        \n",
    "        return value_function(theta1, cost, [v[-2,:]], error, maxiter-1) \n",
    "        \n",
    "    return v\n",
    "\n",
    "\n",
    "print value_function(-1, -3, [[0,0]] , .01 , 2)"
   ]
  },
  {
   "cell_type": "markdown",
   "metadata": {},
   "source": [
    "## Part 4"
   ]
  },
  {
   "cell_type": "code",
   "execution_count": 43,
   "metadata": {},
   "outputs": [
    {
     "name": "stdout",
     "output_type": "stream",
     "text": [
      "[[-10.9934144   -8.9934144 ]\n",
      " [ -8.54981102  -7.54981102]\n",
      " [ -6.32569276  -6.32569276]\n",
      " [ -4.58567587  -5.58567587]\n",
      " [ -3.5771012   -5.5771012 ]\n",
      " [ -3.56757379  -5.56757379]]\n",
      "(6, 2)\n",
      "-1.0\n",
      "0.7310585786300049\n",
      "-5.219391079298751\n"
     ]
    }
   ],
   "source": [
    "v = value_function(-1, -3, [[0,0]] , .01 , 2)\n",
    "print v\n",
    "print v.shape\n",
    "\n",
    "#difference between e0 and e1\n",
    "diff = v[1,0] - v[1,1]\n",
    "print diff\n",
    "\n",
    "#probability of this different\n",
    "print np.exp(-diff)/(1+np.exp(-diff))\n",
    "\n",
    "#PDV at = 4, e0= 1, e1=-1.5\n",
    "print np.maximum(-3 + 1 + BETA*v[4,0], -4 + -1.5 +BETA*v[4,1] )"
   ]
  },
  {
   "cell_type": "code",
   "execution_count": 29,
   "metadata": {},
   "outputs": [
    {
     "name": "stdout",
     "output_type": "stream",
     "text": [
      "(1000, 2)\n",
      "\n"
     ]
    }
   ],
   "source": [
    "data = np.loadtxt(\"data.asc\")\n",
    "print data.shape"
   ]
  },
  {
   "cell_type": "code",
   "execution_count": 85,
   "metadata": {},
   "outputs": [
    {
     "name": "stdout",
     "output_type": "stream",
     "text": [
      "(3, 2)\n",
      "(3, 1, 2)\n",
      "[[[1 1]\n",
      "  [1 1]\n",
      "  [1 1]]\n",
      "\n",
      " [[2 2]\n",
      "  [2 2]\n",
      "  [2 2]]\n",
      "\n",
      " [[3 3]\n",
      "  [3 3]\n",
      "  [3 3]]]\n",
      "[[1 1]\n",
      " [3 3]\n",
      " [2 2]]\n"
     ]
    }
   ],
   "source": [
    "v = np.array([[1,1],[2,2],[3,3]])\n",
    "print v.shape\n",
    "v = v.reshape(v.shape[0],1,v.shape[1])\n",
    "print v.shape\n",
    "v = np.tile(v,(1,3,1))\n",
    "\n",
    "print v\n",
    "\n",
    "print v[[0,2,1],0,:]"
   ]
  },
  {
   "cell_type": "code",
   "execution_count": 96,
   "metadata": {},
   "outputs": [
    {
     "name": "stdout",
     "output_type": "stream",
     "text": [
      "[[-3.9372299   0.0627701 ]\n",
      " [-2.44493169  0.55506831]\n",
      " [-0.97627433  1.02372567]\n",
      " [ 0.35812239  1.35812239]\n",
      " [ 1.34978881  1.34978881]\n",
      " [ 1.34052927  1.34052927]]\n",
      "[4 4]\n",
      "(6, 1000, 2)\n",
      "(1000,)\n"
     ]
    },
    {
     "data": {
      "text/plain": [
       "array([[ 1.34978881,  1.34978881],\n",
       "       [ 1.34978881,  1.34978881],\n",
       "       [ 0.35812239,  1.35812239],\n",
       "       ...,\n",
       "       [-0.97627433,  1.02372567],\n",
       "       [ 1.34052927,  1.34052927],\n",
       "       [-0.97627433,  1.02372567]])"
      ]
     },
     "execution_count": 96,
     "metadata": {},
     "output_type": "execute_result"
    }
   ],
   "source": [
    "v = value_function(-1, -1, [[0,0]] , .01 , 2)\n",
    "\n",
    "print v\n",
    "\n",
    "print a[0:2]\n",
    "\n",
    "a = data[:,0].astype(int)\n",
    "        \n",
    " #v = v.reshape(v.shape[0],1,v.shape[1])\n",
    "        #v = np.tile(v,(1,a.shape[0],1))\n",
    "        \n",
    "        #use 3d slicing to calc its value each period\n",
    "        #v = v[a,0,:]\n",
    "        #diff = v[:,1] - v[:,0]"
   ]
  },
  {
   "cell_type": "code",
   "execution_count": 116,
   "metadata": {},
   "outputs": [
    {
     "name": "stderr",
     "output_type": "stream",
     "text": [
      "/home/erichschulman/anaconda2/lib/python2.7/site-packages/ipykernel_launcher.py:11: RuntimeWarning: invalid value encountered in double_scalars\n",
      "  # This is added back by InteractiveShellApp.init_path()\n",
      "/home/erichschulman/anaconda2/lib/python2.7/site-packages/scipy/interpolate/interpolate.py:610: RuntimeWarning: invalid value encountered in subtract\n",
      "  slope = (y_hi - y_lo) / (x_hi - x_lo)[:, None]\n",
      "/home/erichschulman/anaconda2/lib/python2.7/site-packages/scipy/interpolate/interpolate.py:613: RuntimeWarning: invalid value encountered in multiply\n",
      "  y_new = slope*(x_new - x_lo)[:, None] + y_lo\n",
      "/home/erichschulman/anaconda2/lib/python2.7/site-packages/scipy/interpolate/interpolate.py:613: RuntimeWarning: invalid value encountered in add\n",
      "  y_new = slope*(x_new - x_lo)[:, None] + y_lo\n",
      "/home/erichschulman/anaconda2/lib/python2.7/site-packages/ipykernel_launcher.py:13: RuntimeWarning: overflow encountered in double_scalars\n",
      "  del sys.path[0]\n",
      "/home/erichschulman/anaconda2/lib/python2.7/site-packages/ipykernel_launcher.py:14: RuntimeWarning: overflow encountered in double_scalars\n",
      "  \n"
     ]
    },
    {
     "name": "stdout",
     "output_type": "stream",
     "text": [
      "Optimization terminated successfully.\n",
      "         Current function value: -0.811994\n",
      "         Iterations: 88\n",
      "         Function evaluations: 164\n",
      "                                 Rust Results                                 \n",
      "==============================================================================\n",
      "Dep. Variable:                      y   Log-Likelihood:                 811.99\n",
      "Model:                           Rust   AIC:                            -1622.\n",
      "Method:            Maximum Likelihood   BIC:                            -1617.\n",
      "Date:                Mon, 17 Dec 2018                                         \n",
      "Time:                        17:38:07                                         \n",
      "No. Observations:                1000                                         \n",
      "Df Residuals:                     999                                         \n",
      "Df Model:                           0                                         \n",
      "==============================================================================\n",
      "                 coef    std err          z      P>|z|      [0.025      0.975]\n",
      "------------------------------------------------------------------------------\n",
      "theta_1       19.8131        nan        nan        nan         nan         nan\n",
      "R             69.4883        nan        nan        nan         nan         nan\n",
      "==============================================================================\n"
     ]
    },
    {
     "name": "stderr",
     "output_type": "stream",
     "text": [
      "/home/erichschulman/anaconda2/lib/python2.7/site-packages/statsmodels/base/model.py:488: HessianInversionWarning: Inverting hessian failed, no bse or cov_params available\n",
      "  'available', HessianInversionWarning)\n"
     ]
    }
   ],
   "source": [
    "class Rust(GenericLikelihoodModel):\n",
    "    \"\"\"class for estimating the values of R and theta\"\"\"\n",
    "    \n",
    "    def nloglikeobs(self, params, v=False):\n",
    "        \n",
    "        theta1, R = params\n",
    "        \n",
    "        # Input our data into the model\n",
    "        i = self.exog[:,0] #reshape\n",
    "        a = self.endog.astype(int)\n",
    "        v = value_function(theta1, R, [[0,0]] , .01 , 2)\n",
    "        \n",
    "        #solve value function based on params\n",
    "        v0 = interp1d(range(1,7), v[:,0],fill_value=\"extrapolate\")\n",
    "        v1 = interp1d(range(1,7), v[:,1],fill_value=\"extrapolate\")\n",
    "        \n",
    "        v0_a = v0(a)\n",
    "        v1_a = v1(a)\n",
    "        \n",
    "           \n",
    "        diff = v1_a - v0_a\n",
    "    \n",
    "        #calculate likelihood of each obs\n",
    "        pr0 = 1/(1+np.exp(diff))\n",
    "        pr1 = np.exp(diff)/(1+np.exp(diff))\n",
    "\n",
    "        likelihood = (1-i)*pr0 + i*pr1\n",
    "\n",
    "        \n",
    "        return -likelihood.sum()\n",
    "    \n",
    "    \n",
    "    def fit(self, start_params=None, maxiter=1000, maxfun=5000, **kwds):\n",
    "        if start_params == None:\n",
    "            start_params = [1,1]\n",
    "        return super(Rust, self).fit(start_params=start_params,\n",
    "                                       maxiter=maxiter, maxfun=maxfun, **kwds)\n",
    "    \n",
    "    \n",
    "model = Rust(data[:,0],data[:,1])\n",
    "\n",
    "result = model.fit()\n",
    "print(result.summary(xname=['theta_1', 'R']))"
   ]
  },
  {
   "cell_type": "code",
   "execution_count": null,
   "metadata": {},
   "outputs": [],
   "source": []
  }
 ],
 "metadata": {
  "kernelspec": {
   "display_name": "Python 2",
   "language": "python",
   "name": "python2"
  },
  "language_info": {
   "codemirror_mode": {
    "name": "ipython",
    "version": 2
   },
   "file_extension": ".py",
   "mimetype": "text/x-python",
   "name": "python",
   "nbconvert_exporter": "python",
   "pygments_lexer": "ipython2",
   "version": "2.7.15"
  }
 },
 "nbformat": 4,
 "nbformat_minor": 2
}
