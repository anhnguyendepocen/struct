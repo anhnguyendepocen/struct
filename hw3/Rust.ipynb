{
 "cells": [
  {
   "cell_type": "code",
   "execution_count": 1,
   "metadata": {},
   "outputs": [],
   "source": [
    "import pandas as pd\n",
    "import math\n",
    "import numpy as np\n",
    "import statsmodels.api as sm\n",
    "import matplotlib.pyplot as plt\n",
    "\n",
    "from scipy.interpolate import interp1d #pre written interpolation function\n",
    "from statsmodels.base.model import GenericLikelihoodModel"
   ]
  },
  {
   "cell_type": "markdown",
   "metadata": {},
   "source": [
    "## Part 1"
   ]
  },
  {
   "cell_type": "markdown",
   "metadata": {},
   "source": [
    "## Part 2"
   ]
  },
  {
   "cell_type": "markdown",
   "metadata": {},
   "source": [
    "## Part 3"
   ]
  },
  {
   "cell_type": "code",
   "execution_count": 18,
   "metadata": {},
   "outputs": [],
   "source": [
    "BETA = .9\n",
    "GAMMA = .5772 #euler's constant\n",
    "\n",
    "def value_helper(a, theta1, cost, v_init):\n",
    "    \"\"\"helper function for calculating value function.\n",
    "    \n",
    "    given the value for the first period, calculate forward \n",
    "    'a' periods\"\"\"\n",
    "    if a <= 0: #we have reacahed the last period\n",
    "        return  v_init\n",
    "    \n",
    "    else:\n",
    "        v_next = value_helper(a-1, theta1, cost, v_init)\n",
    "        sim_0 = a*theta1 + BETA*(GAMMA + np.log( np.exp(v_next[-1][0]) + np.exp(v_next[-1][1]) ))  \n",
    "        sim_1 = cost + BETA*(GAMMA + np.log(  np.exp(v_next[-1][0]) + np.exp(v_next[-1][1]) )) \n",
    "        \n",
    "        return np.concatenate( ( v_next,[[sim_0,sim_1]]) )\n",
    "\n",
    "\n",
    "v = value_helper(5, -1, -3, [[0,0]])"
   ]
  },
  {
   "cell_type": "code",
   "execution_count": 17,
   "metadata": {},
   "outputs": [
    {
     "name": "stdout",
     "output_type": "stream",
     "text": [
      "[[-3.5771012  -5.5771012 ]\n",
      " [-3.58567587 -5.58567587]\n",
      " [-4.59339307 -5.59339307]\n",
      " [-6.33263825 -6.33263825]\n",
      " [-8.55606196 -7.55606196]]\n"
     ]
    }
   ],
   "source": [
    "def value_function(a, theta1, cost, v_init, error, maxiter):\n",
    "    \"\"\"solve for the first period of the value function\n",
    "    with the contraction mapping loop\n",
    "    \n",
    "     You can choose how far into the future it goes by setting max_periods\"\"\"\n",
    "    \n",
    "    #only need to iterate 1 periods into the future\n",
    "    v = value_helper(1, theta1, cost, v_init)\n",
    "    \n",
    "    #stop iterating when the last two periods look the same\n",
    "    while ( maxiter >= 0  \n",
    "           and ( abs(  v[1,0] - v[0,0] )  > error\n",
    "           or abs(  v[1,1] - v[0,1] )  > error) ):\n",
    "        \n",
    "        #recompute value function until convergence\n",
    "        v = value_loop(theta1, cost, [v[1,:]], error, maxiter-1)  \n",
    "    \n",
    "    return value_helper(a-1, theta1, cost, [v[1,:]])\n",
    "\n",
    "\n",
    "print value_function(5, -1, -3, [[0,0]],.01, 100)"
   ]
  },
  {
   "cell_type": "markdown",
   "metadata": {},
   "source": [
    "## Part 4"
   ]
  },
  {
   "cell_type": "code",
   "execution_count": 8,
   "metadata": {},
   "outputs": [
    {
     "name": "stdout",
     "output_type": "stream",
     "text": [
      "[[-10.9934144   -8.9934144 ]\n",
      " [ -8.54981102  -7.54981102]\n",
      " [ -6.32569276  -6.32569276]\n",
      " [ -4.58567587  -5.58567587]\n",
      " [ -3.5771012   -5.5771012 ]\n",
      " [ -3.56757379  -5.56757379]]\n",
      "(6, 2)\n",
      "-1.0\n",
      "0.7310585786300049\n",
      "-5.219391079298751\n"
     ]
    }
   ],
   "source": [
    "v = value_function(-1, -3, [[0,0]] , .01 , 2)\n",
    "print v\n",
    "print v.shape\n",
    "\n",
    "#difference between e0 and e1\n",
    "diff = v[1,0] - v[1,1]\n",
    "print diff\n",
    "\n",
    "#probability of this different\n",
    "print np.exp(-diff)/(1+np.exp(-diff))\n",
    "\n",
    "#PDV at = 4, e0= 1, e1=-1.5\n",
    "print np.maximum(-3 + 1 + BETA*v[4,0], -4 + -1.5 +BETA*v[4,1] )"
   ]
  },
  {
   "cell_type": "code",
   "execution_count": 21,
   "metadata": {},
   "outputs": [
    {
     "name": "stdout",
     "output_type": "stream",
     "text": [
      "(1000, 2)\n"
     ]
    }
   ],
   "source": [
    "data = np.loadtxt(\"data.asc\")\n",
    "print data.shape"
   ]
  },
  {
   "cell_type": "code",
   "execution_count": 25,
   "metadata": {},
   "outputs": [
    {
     "name": "stdout",
     "output_type": "stream",
     "text": [
      "Optimization terminated successfully.\n",
      "         Current function value: 0.452716\n",
      "         Iterations: 53\n",
      "         Function evaluations: 104\n",
      "                                 Rust Results                                 \n",
      "==============================================================================\n",
      "Dep. Variable:                      y   Log-Likelihood:                -452.72\n",
      "Model:                           Rust   AIC:                             907.4\n",
      "Method:            Maximum Likelihood   BIC:                             912.3\n",
      "Date:                Tue, 18 Dec 2018                                         \n",
      "Time:                        10:35:51                                         \n",
      "No. Observations:                1000                                         \n",
      "Df Residuals:                     999                                         \n",
      "Df Model:                           0                                         \n",
      "==============================================================================\n",
      "                 coef    std err          z      P>|z|      [0.025      0.975]\n",
      "------------------------------------------------------------------------------\n",
      "theta_1       -1.6753      0.107    -15.727      0.000      -1.884      -1.467\n",
      "R             -2.7554      0.188    -14.633      0.000      -3.125      -2.386\n",
      "==============================================================================\n"
     ]
    }
   ],
   "source": [
    "class Rust(GenericLikelihoodModel):\n",
    "    \"\"\"class for estimating the values of R and theta\"\"\"\n",
    "    \n",
    "    def nloglikeobs(self, params, v=False):\n",
    "        \n",
    "        theta1, R = params\n",
    "        \n",
    "        # Input our data into the model\n",
    "        i = self.exog[:,0] #reshape\n",
    "        a = self.endog.astype(int)\n",
    "        \n",
    "        #solve value function based on params\n",
    "        v = value_function(5, theta1, R, [[0,0]] , .01 , 100)\n",
    "        \n",
    "        #interpolate using scipy (easier than indexing)\n",
    "        v0 = interp1d(range(1,6), v[:,0],fill_value=\"extrapolate\")\n",
    "        v1 = interp1d(range(1,6), v[:,1],fill_value=\"extrapolate\")\n",
    "        \n",
    "        diff = v1(a) - v0(a)\n",
    "    \n",
    "        #calculate likelihood of each obs\n",
    "        pr0 = 1/(1+np.exp(diff))\n",
    "        pr1 = np.exp(diff)/(1+np.exp(diff))\n",
    "\n",
    "        likelihood = (1-i)*pr0 + i*pr1\n",
    "        return -np.log(likelihood).sum()\n",
    "    \n",
    "    \n",
    "    def fit(self, start_params=None, maxiter=1000, maxfun=5000, **kwds):\n",
    "        if start_params == None:\n",
    "            start_params = [1,1]\n",
    "        return super(Rust, self).fit(start_params=start_params,\n",
    "                                       maxiter=maxiter, maxfun=maxfun, **kwds)\n",
    "    \n",
    "    \n",
    "model = Rust(data[:,0],data[:,1])\n",
    "\n",
    "result = model.fit()\n",
    "print(result.summary(xname=['theta_1', 'R']))"
   ]
  },
  {
   "cell_type": "code",
   "execution_count": null,
   "metadata": {},
   "outputs": [],
   "source": []
  }
 ],
 "metadata": {
  "kernelspec": {
   "display_name": "Python 2",
   "language": "python",
   "name": "python2"
  },
  "language_info": {
   "codemirror_mode": {
    "name": "ipython",
    "version": 2
   },
   "file_extension": ".py",
   "mimetype": "text/x-python",
   "name": "python",
   "nbconvert_exporter": "python",
   "pygments_lexer": "ipython2",
   "version": "2.7.15"
  }
 },
 "nbformat": 4,
 "nbformat_minor": 2
}
