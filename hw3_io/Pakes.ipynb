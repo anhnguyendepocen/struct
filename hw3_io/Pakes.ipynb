{
 "cells": [
  {
   "cell_type": "markdown",
   "metadata": {},
   "source": [
    "# Homework 3 - Pakes 1986\n",
    "Solutions to ECO 384k Problem set 3 at the Universtiy of Texas by Eric Schulman"
   ]
  },
  {
   "cell_type": "code",
   "execution_count": 1,
   "metadata": {},
   "outputs": [],
   "source": [
    "import pandas as pd\n",
    "import math\n",
    "import numpy as np\n",
    "import statsmodels.api as sm"
   ]
  },
  {
   "cell_type": "code",
   "execution_count": 9,
   "metadata": {},
   "outputs": [],
   "source": [
    "#load data from schedule/coefficients/set up states\n",
    "\n",
    "coef = pd.read_csv('coef.csv',index_col=0)\n",
    "schedule = pd.read_csv('schedule.csv')\n",
    "states = np.array(range(0,2000,20))"
   ]
  },
  {
   "cell_type": "code",
   "execution_count": null,
   "metadata": {},
   "outputs": [],
   "source": [
    "#intialize VA(RA) = states (i.e. just RA>CA)\n",
    "\n",
    "#first step: calculate Va(ra) = max(0, ra + beta* E V(ra+1 | ra ) - ca )\n",
    "\n",
    "#initialize an array for each value accross the state space\n",
    "\n",
    "#E(V(ra+1|ra) ) =  V ( max(delta*ra,z) )* (1-exp(-theta*ra))\n",
    "\n",
    "#now calculate E(V(ra-1)|ra-2) )\n",
    "#I can do this because because I know the value of Va-1(ra-1) and the likelihood of ra-1 given ra\n",
    "\n",
    "#E(z) = sigma_a * exp(-gamma/sigma_a)\n",
    "#sigma_a = simga phi**(a-1)\n",
    "\n",
    "\n",
    "#repeat this step using the previously computed values for E(V(rl+1)|rl)\n",
    "#use these values to calculate 20 steps backward"
   ]
  },
  {
   "cell_type": "code",
   "execution_count": null,
   "metadata": {},
   "outputs": [],
   "source": [
    "#calculate the cut off values \n",
    "\n",
    "#rl_bar = c_l - beta E(VL+1|r_l)?\n",
    "#search over V(r_l) to find the value of r_l where V(r_l) > 0\n",
    "\n",
    "#find the rl-1 that solves this expression\n",
    "#r_l = E V(rl+1|rl) - cl"
   ]
  }
 ],
 "metadata": {
  "kernelspec": {
   "display_name": "Python 2",
   "language": "python",
   "name": "python2"
  },
  "language_info": {
   "codemirror_mode": {
    "name": "ipython",
    "version": 2
   },
   "file_extension": ".py",
   "mimetype": "text/x-python",
   "name": "python",
   "nbconvert_exporter": "python",
   "pygments_lexer": "ipython2",
   "version": "2.7.15"
  }
 },
 "nbformat": 4,
 "nbformat_minor": 2
}
