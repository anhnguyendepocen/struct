{
 "cells": [
  {
   "cell_type": "code",
   "execution_count": 1,
   "metadata": {},
   "outputs": [],
   "source": [
    "import pandas as pd\n",
    "import math\n",
    "import numpy as np\n",
    "from scipy.optimize import minimize\n",
    "from scipy.optimize import fsolve\n",
    "import statsmodels.api as sm\n",
    "from scipy.stats import norm\n",
    "from statsmodels.sandbox.regression.gmm import GMM"
   ]
  },
  {
   "cell_type": "code",
   "execution_count": 2,
   "metadata": {},
   "outputs": [],
   "source": [
    "def comp_outside_good(data,name):\n",
    "    #pre-processing to calculate outside good shares\n",
    "    shares = data[['Market_ID',name]].copy()\n",
    "\n",
    "    group_shares = shares.groupby('Market_ID').sum()\n",
    "    group_shares['Outside Good Share'] = 1 - group_shares[name]\n",
    "\n",
    "    data = pd.merge(data,group_shares[['Outside Good Share']], \n",
    "                right_index=True, left_on = 'Market_ID')\n",
    "    return data\n",
    "\n",
    "data = pd.read_csv('data.csv')\n",
    "data = comp_outside_good(data,'Inside Good Share')"
   ]
  },
  {
   "cell_type": "code",
   "execution_count": 3,
   "metadata": {},
   "outputs": [],
   "source": [
    "def setup_data(data):\n",
    "    \"\"\"simplify setting up data correctly\"\"\"\n",
    "    #calculate hausmann insturments\n",
    "    mkt_dum = pd.get_dummies(data['Market_ID'],prefix='mkt',drop_first=True)\n",
    "    plan_dum = pd.get_dummies(data['Plan_ID'],prefix='plan',drop_first=True)\n",
    "    exog = np.array( data[['Network Score','Satisfaction Score', 'PPO']])\n",
    "    \n",
    "    #concat hausman instr with exog variables\n",
    "    #hausman_instr = np.concatenate( (exog, np.array(plan_dum)), axis =1 )\n",
    "    \n",
    "    hausman_instr = plan_dum\n",
    "    \n",
    "    #set up x and y\n",
    "    y = data[['Inside Good Share','Outside Good Share']]\n",
    "    x =  data[['Network Score','Satisfaction Score','PPO','Premium']]\n",
    "    return x,y,hausman_instr\n",
    "\n",
    "x,y,z =  setup_data(data)"
   ]
  },
  {
   "cell_type": "code",
   "execution_count": 13,
   "metadata": {},
   "outputs": [
    {
     "name": "stdout",
     "output_type": "stream",
     "text": [
      "600 16 3300\n"
     ]
    }
   ],
   "source": [
    "#set up useful global variables \n",
    "NMKTS = data['Market_ID'].nunique()\n",
    "NPLANS = data['Plan_ID'].nunique()\n",
    "NOBS = data['Plan_ID'].count()\n",
    "NSIM = 20\n",
    "\n",
    "theta2 = np.array([3,2,1]) # initialize theta2 for testing purposes\n",
    "delta = np.ones(NOBS)*(-2)\n",
    "\n",
    "#print global variables\n",
    "print NMKTS,NPLANS,NOBS"
   ]
  },
  {
   "cell_type": "code",
   "execution_count": 34,
   "metadata": {},
   "outputs": [],
   "source": [
    "#set up v\n",
    "v0 = np.genfromtxt('simulations.csv', delimiter=',')\n",
    "v = np.tile(v0.reshape(NSIM,3,1) , (1,1,NOBS))"
   ]
  },
  {
   "cell_type": "code",
   "execution_count": 15,
   "metadata": {},
   "outputs": [],
   "source": [
    "def cal_sim_s(data, v, delta, theta2):\n",
    "    \"\"\"calculate market share for each simulated consumer\"\"\"\n",
    "    \n",
    "    #copy x and delta for simulations using tiling\n",
    "    x =  np.array(data.copy()[['Network Score','Satisfaction Score','PPO']]).transpose()\n",
    "    x  = np.tile(x,(NSIM,1,1))\n",
    "    theta2 = np.tile( np.array([theta2]).transpose()  ,(NSIM,1,3300))\n",
    "    delta  = np.tile( delta  ,(NSIM,1))\n",
    "    \n",
    "    #add to calcualte market shares\n",
    "    sim_exp = pd.DataFrame( np.exp(delta + (theta2*v*x).sum(axis=1)).transpose() ) \n",
    "    \n",
    "    #sum up between markets\n",
    "    sim_exp['mkt_id'] = data['Market_ID']\n",
    "    sum_exp = sim_exp.groupby('mkt_id').sum() \n",
    "    sum_exp = pd.merge(data.copy()[['Market_ID']], sum_exp, \n",
    "                       right_index=True, left_on = 'Market_ID')\n",
    "    \n",
    "    #format so I can broadcast\n",
    "    sim_exp = np.array(sim_exp).transpose()[:-1]\n",
    "    sum_exp = np.array(sum_exp).transpose()[1:] + 1\n",
    "    \n",
    "    return sim_exp/sum_exp\n",
    "\n",
    "def cal_s(data, v, delta, theta2):\n",
    "    \"\"\"Calculate market share\n",
    "    Calculates individual choice probability first, then take sum\"\"\"\n",
    "    \n",
    "    shares = (1./NSIM)*cal_sim_s(data, v, delta, theta2).sum(axis=0)\n",
    "    return shares\n",
    "\n",
    "\n",
    "s = cal_s(data, v, delta, theta2)"
   ]
  },
  {
   "cell_type": "code",
   "execution_count": 16,
   "metadata": {},
   "outputs": [
    {
     "name": "stdout",
     "output_type": "stream",
     "text": [
      "(3300,)\n",
      "2.6566766164\n"
     ]
    }
   ],
   "source": [
    "def cal_delta(data, v, theta2, error = 1e-3, maxiter = 500):\n",
    "    \"\"\"Calculate mean utility via contraction mapping\"\"\"\n",
    "\n",
    "    niter = 0\n",
    "    \n",
    "    #initialize loop parameters\n",
    "    delta = np.zeros(NOBS)\n",
    "    s = cal_s(data, v, delta, theta2)\n",
    "    diff = np.log(data['Inside Good Share']) - np.log(s)\n",
    "    \n",
    "    \n",
    "    while ((abs(diff).max() > 1e-6) #this is easier to converge\n",
    "           and (abs(diff).mean() > error) \n",
    "           and niter < maxiter):\n",
    "        \n",
    "        s = cal_s(data, v, delta, theta2)\n",
    "        diff = np.log(data['Inside Good Share']) - np.log(s)\n",
    "\n",
    "        if np.isnan(diff).sum():\n",
    "            raise Exception('nan in diffs')\n",
    "            \n",
    "        delta += diff\n",
    "        niter += 1\n",
    "\n",
    "    return delta\n",
    "\n",
    "\n",
    "delta = cal_delta(data, v, theta2)\n",
    "print delta.shape\n",
    "print delta.mean()"
   ]
  },
  {
   "cell_type": "code",
   "execution_count": 17,
   "metadata": {},
   "outputs": [],
   "source": [
    "theta1 = np.array([3.56297634,  2.0886027 ,  0.88453571, -2.09580927])\n",
    "theta2 = np.array([0.21248441, 0.07349874,  1.16047725])"
   ]
  },
  {
   "cell_type": "markdown",
   "metadata": {},
   "source": [
    "# Part 2 - Elasticities"
   ]
  },
  {
   "cell_type": "code",
   "execution_count": 21,
   "metadata": {},
   "outputs": [],
   "source": [
    "delta = cal_delta(data, v, theta2)\n",
    "\n",
    "def cal_price_deriv(data, v, delta, theta1, theta2):\n",
    "\n",
    "    sim_shares = cal_sim_s(data, v, delta, theta2)\n",
    "    \n",
    "    #print sim_shares[1][2]\n",
    "    sim_shares1 = sim_shares.reshape((NSIM,NOBS,1))\n",
    "    sim_shares1 = np.tile(sim_shares1,(1,1,NOBS))\n",
    "    \n",
    "    print sim_shares1.shape\n",
    "    \n",
    "    sim_shares2 = sim_shares.reshape((NSIM,1,NOBS))\n",
    "    sim_shares2 = np.tile(sim_shares2,(1,NOBS,1))\n",
    "    \n",
    "    sim_derivs = sim_shares1*sim_shares2\n",
    "    print sim_derivs.shape\n",
    "    \n",
    "    #sim_derivs = sim_derivs.reshape((NSIM,))\n",
    "    #alpha = abs(theta1[-1])\n",
    "    #constant_deriv = alpha*data['Inside Good Share']/data['Premium']\n",
    "    #shares = (1./NSIM)*(sim_exp/sum_exp).sum(axis=0)\n",
    "    \n",
    "    #compute sj * sk in each simulation\n",
    "    \n",
    "    #compute (1-sj)sj in each simulation\n",
    "    \n",
    "    return sim_shares.sum(axis=0)\n",
    "\n",
    "\n",
    "#deriv = cal_price_deriv(data, v, delta, theta1, theta2)\n",
    "#print deriv.mean(), deriv.min(), deriv.max(), deriv.shape"
   ]
  },
  {
   "cell_type": "code",
   "execution_count": 45,
   "metadata": {},
   "outputs": [
    {
     "name": "stdout",
     "output_type": "stream",
     "text": [
      "[[-1.44434335  0.53505077  0.47741104 ...  0.13903751  0.23267281\n",
      "   0.21160912]\n",
      " [ 0.53505077 -1.91813266  0.72645931 ...  0.21158369  0.35470662\n",
      "   0.32201726]\n",
      " [ 0.47741104  0.72645931 -1.82411033 ...  0.34877944  0.2056258\n",
      "   0.53170395]\n",
      " ...\n",
      " [ 0.13903751  0.21158369  0.34877944 ... -0.79708811  0.07119705\n",
      "   0.12396949]\n",
      " [ 0.23267281  0.35470662  0.2056258  ...  0.07119705 -0.89393626\n",
      "   0.10825663]\n",
      " [ 0.21160912  0.32201726  0.53170395 ...  0.12396949  0.10825663\n",
      "  -1.14909503]]\n"
     ]
    }
   ],
   "source": [
    "def cal_price_deriv(data, v, delta, theta1, theta2):\n",
    "    \n",
    "    alpha = theta1[-1]\n",
    "    \n",
    "    sim_shares = cal_sim_s(data, v, delta, theta2)\n",
    "    cross_deriv = np.zeros((NOBS,NOBS))\n",
    "    for sim_share in sim_shares:\n",
    "        sim_share = sim_share.reshape((NOBS,1))\n",
    "        cross_deriv = cross_deriv + sim_share.dot(sim_share.transpose())\n",
    "        \n",
    "    own = np.identity(NOBS)\n",
    "    cross = (1 - own)\n",
    "    own_deriv  = -(1-sim_shares) * sim_shares\n",
    "    own_deriv = own_deriv.sum(axis=0)\n",
    "    \n",
    "    share = np.array(data['Inside Good Share'])\n",
    "    price = np.array([data['Premium']]).transpose()\n",
    "    \n",
    "    share.dot(1/price)\n",
    "    \n",
    "    sim_deriv = share.dot(1/price) * 1./(NSIM*NSIM) * (cross_deriv*cross +own_deriv*own )\n",
    "    return sim_deriv\n",
    "\n",
    "deriv = cal_price_deriv(data, v, delta, theta1, theta2)\n",
    "\n",
    "print deriv"
   ]
  },
  {
   "cell_type": "code",
   "execution_count": null,
   "metadata": {},
   "outputs": [],
   "source": []
  },
  {
   "cell_type": "code",
   "execution_count": 95,
   "metadata": {},
   "outputs": [
    {
     "name": "stdout",
     "output_type": "stream",
     "text": [
      "[[-1.49732294  0.12728626  0.41411709  0.3095944   0.1547665   0.19754667\n",
      "   0.32067288  0.21322011  0.32678837  0.12193248  0.16520995  0.37841886\n",
      "   0.26466345  0.17790976  0.3734235   0.16959571]\n",
      " [ 0.12728626 -0.97735135  0.16983297  0.12965351  0.14514568  0.18799143\n",
      "   0.15438375  0.21077964  0.12676017  0.11262117  0.16367497  0.14683126\n",
      "   0.12068152  0.1752993   0.16399192  0.17361678]\n",
      " [ 0.41411709  0.16983297 -1.57401919  0.31138511  0.16701607  0.21493282\n",
      "   0.35596671  0.19919582  0.34985842  0.12428661  0.17683102  0.37231915\n",
      "   0.35281195  0.18890545  0.39982836  0.20715252]\n",
      " [ 0.3095944   0.12965351  0.31138511 -1.29677679  0.13771118  0.19184232\n",
      "   0.33664351  0.16112531  0.31228311  0.10450438  0.1511304   0.33852241\n",
      "   0.23736973  0.14399064  0.3507113   0.15561161]\n",
      " [ 0.1547665   0.14514568  0.16701607  0.13771118 -1.01576912  0.1846128\n",
      "   0.15649563  0.17806099  0.12636066  0.12903282  0.13680736  0.14563459\n",
      "   0.13895067  0.19364788  0.17484246  0.20545552]\n",
      " [ 0.19754667  0.18799143  0.21493282  0.19184232  0.1846128  -1.24614835\n",
      "   0.18424206  0.2361757   0.17114283  0.16185317  0.19710886  0.19140918\n",
      "   0.19564556  0.22276707  0.17916966  0.23329132]\n",
      " [ 0.32067288  0.15438375  0.35596671  0.33664351  0.15649563  0.18424206\n",
      "  -1.48543914  0.18777771  0.32671761  0.12629174  0.16822523  0.35540432\n",
      "   0.30452808  0.18034249  0.39748182  0.1912348 ]\n",
      " [ 0.21322011  0.21077964  0.19919582  0.16112531  0.17806099  0.2361757\n",
      "   0.18777771 -1.25883578  0.16431058  0.15736015  0.19990855  0.18690107\n",
      "   0.14708046  0.21906303  0.20357187  0.1985248 ]\n",
      " [ 0.32678837  0.12676017  0.34985842  0.31228311  0.12636066  0.17114283\n",
      "   0.32671761  0.16431058 -1.31433009  0.10625581  0.16387357  0.30408543\n",
      "   0.26787646  0.15816784  0.33624602  0.17330415]\n",
      " [ 0.12193248  0.11262117  0.12428661  0.10450438  0.12903282  0.16185317\n",
      "   0.12629174  0.15736015  0.10625581 -0.82624071  0.13984418  0.10993991\n",
      "   0.11793965  0.12520404  0.1321493   0.16050367]\n",
      " [ 0.16520995  0.16367497  0.17683102  0.1511304   0.13680736  0.19710886\n",
      "   0.16822523  0.19990855  0.16387357  0.13984418 -1.05363539  0.15087795\n",
      "   0.14689757  0.18756179  0.15497367  0.19545145]\n",
      " [ 0.37841886  0.14683126  0.37231915  0.33852241  0.14563459  0.19140918\n",
      "   0.35540432  0.18690107  0.30408543  0.10993991  0.15087795 -1.4703306\n",
      "   0.27612609  0.17881454  0.37390741  0.17621685]\n",
      " [ 0.26466345  0.12068152  0.35281195  0.23736973  0.13895067  0.19564556\n",
      "   0.30452808  0.14708046  0.26787646  0.11793965  0.14689757  0.27612609\n",
      "  -1.20444473  0.14075855  0.30360661  0.15760282]\n",
      " [ 0.17790976  0.1752993   0.18890545  0.14399064  0.19364788  0.22276707\n",
      "   0.18034249  0.21906303  0.15816784  0.12520404  0.18756179  0.17881454\n",
      "   0.14075855 -1.15368688  0.18658646  0.19913153]\n",
      " [ 0.3734235   0.16399192  0.39982836  0.3507113   0.17484246  0.17916966\n",
      "   0.39748182  0.20357187  0.33624602  0.1321493   0.15497367  0.37390741\n",
      "   0.30360661  0.18658646 -1.55907639  0.20776807]\n",
      " [ 0.16959571  0.17361678  0.20715252  0.15561161  0.20545552  0.23329132\n",
      "   0.1912348   0.1985248   0.17330415  0.16050367  0.19545145  0.17621685\n",
      "   0.15760282  0.19913153  0.20776807 -1.17657949]]\n"
     ]
    }
   ],
   "source": [
    "#need to think about getting average elasticity\n",
    "\n",
    "def comp_avg_elasticity(data, v, delta, theta1, theta2):\n",
    "    elast = cal_price_deriv(data, v, delta, theta1, theta2)\n",
    "    \n",
    "    #who cares about run time?\n",
    "    avg_elasticity = np.zeros((NPLANS,NPLANS))\n",
    "    \n",
    "    same_mkt = np.array([data['Market_ID']],dtype=np.float32 )\n",
    "    same_mkt = (same_mkt.transpose()).dot( 1/same_mkt)\n",
    "    same_mkt = np.equal(same_mkt,np.ones((NOBS,NOBS)) )\n",
    "    same_mkt = same_mkt.astype(np.float32)\n",
    "    \n",
    "    elast = elast*same_mkt\n",
    "    \n",
    "    \n",
    "    plan_mkt = np.array(data[['Plan_ID']])\n",
    "    for plan_j in range(1,NPLANS+1):\n",
    "        for plan_k in range(1,NPLANS+1):\n",
    "            data_k = data[ (data['Plan_ID'] == plan_k) ].index.values\n",
    "            data_j = data[ (data['Plan_ID'] == plan_j)].index.values\n",
    "            if len(data_k) >0 and len(data_j) > 0:\n",
    "                lenobs = 0\n",
    "                for ind_j in data_j:\n",
    "                    for ind_k in data_k:\n",
    "                        avg_elasticity[plan_j-1][plan_k-1] = (avg_elasticity[plan_j-1][plan_k-1]\n",
    "                                                               + elast[ind_j][ind_k]) \n",
    "                        lenobs = lenobs + same_mkt[ind_j][ind_k]\n",
    "                avg_elasticity[plan_j-1][plan_k-1] =  (avg_elasticity[plan_j-1][plan_k-1]\n",
    "                                                        /lenobs)\n",
    "                \n",
    "    return avg_elasticity\n",
    "                \n",
    "avg_elasticity = comp_avg_elasticity(data, v, delta, theta1, theta2)\n",
    "np.savetxt(\"elasticity.csv\", avg_elasticity, delimiter=\",\")\n",
    "print avg_elasticity"
   ]
  },
  {
   "cell_type": "code",
   "execution_count": 96,
   "metadata": {},
   "outputs": [
    {
     "name": "stdout",
     "output_type": "stream",
     "text": [
      "[[-1.49732294  0.12728626  0.41411709  0.3095944   0.1547665   0.19754667\n",
      "   0.32067288  0.21322011  0.32678837  0.12193248  0.16520995  0.37841886\n",
      "   0.26466345  0.17790976  0.3734235   0.16959571]\n",
      " [ 0.12728626 -0.97735135  0.16983297  0.12965351  0.14514568  0.18799143\n",
      "   0.15438375  0.21077964  0.12676017  0.11262117  0.16367497  0.14683126\n",
      "   0.12068152  0.1752993   0.16399192  0.17361678]\n",
      " [ 0.41411709  0.16983297 -1.57401919  0.31138511  0.16701607  0.21493282\n",
      "   0.35596671  0.19919582  0.34985842  0.12428661  0.17683102  0.37231915\n",
      "   0.35281195  0.18890545  0.39982836  0.20715252]\n",
      " [ 0.3095944   0.12965351  0.31138511 -1.29677679  0.13771118  0.19184232\n",
      "   0.33664351  0.16112531  0.31228311  0.10450438  0.1511304   0.33852241\n",
      "   0.23736973  0.14399064  0.3507113   0.15561161]\n",
      " [ 0.1547665   0.14514568  0.16701607  0.13771118 -1.01576912  0.1846128\n",
      "   0.15649563  0.17806099  0.12636066  0.12903282  0.13680736  0.14563459\n",
      "   0.13895067  0.19364788  0.17484246  0.20545552]\n",
      " [ 0.19754667  0.18799143  0.21493282  0.19184232  0.1846128  -1.24614835\n",
      "   0.18424206  0.2361757   0.17114283  0.16185317  0.19710886  0.19140918\n",
      "   0.19564556  0.22276707  0.17916966  0.23329132]\n",
      " [ 0.32067288  0.15438375  0.35596671  0.33664351  0.15649563  0.18424206\n",
      "  -1.48543914  0.18777771  0.32671761  0.12629174  0.16822523  0.35540432\n",
      "   0.30452808  0.18034249  0.39748182  0.1912348 ]\n",
      " [ 0.21322011  0.21077964  0.19919582  0.16112531  0.17806099  0.2361757\n",
      "   0.18777771 -1.25883578  0.16431058  0.15736015  0.19990855  0.18690107\n",
      "   0.14708046  0.21906303  0.20357187  0.1985248 ]\n",
      " [ 0.32678837  0.12676017  0.34985842  0.31228311  0.12636066  0.17114283\n",
      "   0.32671761  0.16431058 -1.31433009  0.10625581  0.16387357  0.30408543\n",
      "   0.26787646  0.15816784  0.33624602  0.17330415]\n",
      " [ 0.12193248  0.11262117  0.12428661  0.10450438  0.12903282  0.16185317\n",
      "   0.12629174  0.15736015  0.10625581 -0.82624071  0.13984418  0.10993991\n",
      "   0.11793965  0.12520404  0.1321493   0.16050367]\n",
      " [ 0.16520995  0.16367497  0.17683102  0.1511304   0.13680736  0.19710886\n",
      "   0.16822523  0.19990855  0.16387357  0.13984418 -1.05363539  0.15087795\n",
      "   0.14689757  0.18756179  0.15497367  0.19545145]\n",
      " [ 0.37841886  0.14683126  0.37231915  0.33852241  0.14563459  0.19140918\n",
      "   0.35540432  0.18690107  0.30408543  0.10993991  0.15087795 -1.4703306\n",
      "   0.27612609  0.17881454  0.37390741  0.17621685]\n",
      " [ 0.26466345  0.12068152  0.35281195  0.23736973  0.13895067  0.19564556\n",
      "   0.30452808  0.14708046  0.26787646  0.11793965  0.14689757  0.27612609\n",
      "  -1.20444473  0.14075855  0.30360661  0.15760282]\n",
      " [ 0.17790976  0.1752993   0.18890545  0.14399064  0.19364788  0.22276707\n",
      "   0.18034249  0.21906303  0.15816784  0.12520404  0.18756179  0.17881454\n",
      "   0.14075855 -1.15368688  0.18658646  0.19913153]\n",
      " [ 0.3734235   0.16399192  0.39982836  0.3507113   0.17484246  0.17916966\n",
      "   0.39748182  0.20357187  0.33624602  0.1321493   0.15497367  0.37390741\n",
      "   0.30360661  0.18658646 -1.55907639  0.20776807]\n",
      " [ 0.16959571  0.17361678  0.20715252  0.15561161  0.20545552  0.23329132\n",
      "   0.1912348   0.1985248   0.17330415  0.16050367  0.19545145  0.17621685\n",
      "   0.15760282  0.19913153  0.20776807 -1.17657949]]\n"
     ]
    }
   ],
   "source": [
    "print avg_elasticity"
   ]
  },
  {
   "cell_type": "markdown",
   "metadata": {},
   "source": [
    "# Part 3 - Marginal Costs"
   ]
  },
  {
   "cell_type": "markdown",
   "metadata": {},
   "source": [
    "# Part 4 - Counterfactuals"
   ]
  },
  {
   "cell_type": "code",
   "execution_count": null,
   "metadata": {},
   "outputs": [],
   "source": [
    "#will need to compute the change in delta based on the difference in old and new prices\n",
    "#multiply by alpha\n",
    "#i.e. delta_new = delta_old - alpha*(p_new - p_old)\n",
    "#cal_s(data, v, delta, theta2)"
   ]
  }
 ],
 "metadata": {
  "kernelspec": {
   "display_name": "Python 2",
   "language": "python",
   "name": "python2"
  },
  "language_info": {
   "codemirror_mode": {
    "name": "ipython",
    "version": 2
   },
   "file_extension": ".py",
   "mimetype": "text/x-python",
   "name": "python",
   "nbconvert_exporter": "python",
   "pygments_lexer": "ipython2",
   "version": "2.7.15"
  }
 },
 "nbformat": 4,
 "nbformat_minor": 2
}
