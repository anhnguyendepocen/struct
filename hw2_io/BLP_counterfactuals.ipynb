{
 "cells": [
  {
   "cell_type": "code",
   "execution_count": 19,
   "metadata": {},
   "outputs": [],
   "source": [
    "import pandas as pd\n",
    "import math\n",
    "import numpy as np\n",
    "from scipy.optimize import minimize\n",
    "from scipy.optimize import fsolve\n",
    "import statsmodels.api as sm\n",
    "from scipy.stats import norm\n",
    "from statsmodels.sandbox.regression.gmm import GMM"
   ]
  },
  {
   "cell_type": "code",
   "execution_count": 20,
   "metadata": {},
   "outputs": [],
   "source": [
    "def comp_outside_good(data,name):\n",
    "    #pre-processing to calculate outside good shares\n",
    "    shares = data[['Market_ID',name]].copy()\n",
    "\n",
    "    group_shares = shares.groupby('Market_ID').sum()\n",
    "    group_shares['Outside Good Share'] = 1 - group_shares[name]\n",
    "\n",
    "    data = pd.merge(data,group_shares[['Outside Good Share']], \n",
    "                right_index=True, left_on = 'Market_ID')\n",
    "    return data\n",
    "\n",
    "data = pd.read_csv('data.csv')\n",
    "data = comp_outside_good(data,'Inside Good Share')"
   ]
  },
  {
   "cell_type": "code",
   "execution_count": 21,
   "metadata": {},
   "outputs": [],
   "source": [
    "def setup_data(data):\n",
    "    \"\"\"simplify setting up data correctly\"\"\"\n",
    "    #calculate hausmann insturments\n",
    "    mkt_dum = pd.get_dummies(data['Market_ID'],prefix='mkt',drop_first=True)\n",
    "    plan_dum = pd.get_dummies(data['Plan_ID'],prefix='plan',drop_first=True)\n",
    "    exog = np.array( data[['Network Score','Satisfaction Score', 'PPO']])\n",
    "    \n",
    "    #concat hausman instr with exog variables\n",
    "    #hausman_instr = np.concatenate( (exog, np.array(plan_dum)), axis =1 )\n",
    "    \n",
    "    hausman_instr = plan_dum\n",
    "    \n",
    "    #set up x and y\n",
    "    y = data[['Inside Good Share','Outside Good Share']]\n",
    "    x =  data[['Network Score','Satisfaction Score','PPO','Premium']]\n",
    "    return x,y,hausman_instr\n",
    "\n",
    "x,y,z =  setup_data(data)"
   ]
  },
  {
   "cell_type": "code",
   "execution_count": 80,
   "metadata": {},
   "outputs": [
    {
     "name": "stdout",
     "output_type": "stream",
     "text": [
      "600 16 3300\n"
     ]
    }
   ],
   "source": [
    "#set up useful global variables \n",
    "NMKTS = data['Market_ID'].nunique()\n",
    "NPLANS = data['Plan_ID'].nunique()\n",
    "NOBS = data['Plan_ID'].count()\n",
    "NSIM = 30\n",
    "\n",
    "theta2 = np.array([3,2,1]) # initialize theta2 for testing purposes\n",
    "delta = np.ones(NOBS)*(-2)\n",
    "\n",
    "#print global variables\n",
    "print NMKTS,NPLANS,NOBS"
   ]
  },
  {
   "cell_type": "code",
   "execution_count": 81,
   "metadata": {},
   "outputs": [],
   "source": [
    "#set up v\n",
    "v = np.genfromtxt('simulations.csv', delimiter=',').reshape(NSIM,3,3300)"
   ]
  },
  {
   "cell_type": "code",
   "execution_count": 82,
   "metadata": {},
   "outputs": [],
   "source": [
    "def cal_sim_s(data, v, delta, theta2):\n",
    "    \"\"\"calculate market share for each simulated consumer\"\"\"\n",
    "    \n",
    "    #copy x and delta for simulations using tiling\n",
    "    x =  np.array(data.copy()[['Network Score','Satisfaction Score','PPO']]).transpose()\n",
    "    x  = np.tile(x,(NSIM,1,1))\n",
    "    theta2 = np.tile( np.array([theta2]).transpose()  ,(NSIM,1,3300))\n",
    "    delta  = np.tile( delta  ,(NSIM,1))\n",
    "    \n",
    "    #add to calcualte market shares\n",
    "    sim_exp = pd.DataFrame( np.exp(delta + (theta2*v*x).sum(axis=1)).transpose() ) \n",
    "    \n",
    "    #sum up between markets\n",
    "    sim_exp['mkt_id'] = data['Market_ID']\n",
    "    sum_exp = sim_exp.groupby('mkt_id').sum() \n",
    "    sum_exp = pd.merge(data.copy()[['Market_ID']], sum_exp, \n",
    "                       right_index=True, left_on = 'Market_ID')\n",
    "    \n",
    "    #format so I can broadcast\n",
    "    sim_exp = np.array(sim_exp).transpose()[:-1]\n",
    "    sum_exp = np.array(sum_exp).transpose()[1:] + 1\n",
    "    \n",
    "    return sim_exp/sum_exp\n",
    "\n",
    "def cal_s(data, v, delta, theta2):\n",
    "    \"\"\"Calculate market share\n",
    "    Calculates individual choice probability first, then take sum\"\"\"\n",
    "    \n",
    "    shares = (1./NSIM)*cal_sim_s(data, v, delta, theta2).sum(axis=0)\n",
    "    return shares\n",
    "\n",
    "\n",
    "s = cal_s(data, v, delta, theta2)"
   ]
  },
  {
   "cell_type": "code",
   "execution_count": 83,
   "metadata": {},
   "outputs": [
    {
     "name": "stdout",
     "output_type": "stream",
     "text": [
      "(3300,)\n",
      "2.1218050845\n"
     ]
    }
   ],
   "source": [
    "def cal_delta(data, v, theta2, error = 1e-3, maxiter = 500):\n",
    "    \"\"\"Calculate mean utility via contraction mapping\"\"\"\n",
    "\n",
    "    niter = 0\n",
    "    \n",
    "    #initialize loop parameters\n",
    "    delta = np.zeros(NOBS)\n",
    "    s = cal_s(data, v, delta, theta2)\n",
    "    diff = np.log(data['Inside Good Share']) - np.log(s)\n",
    "    \n",
    "    \n",
    "    while ((abs(diff).max() > 1e-6) #this is easier to converge\n",
    "           and (abs(diff).mean() > error) \n",
    "           and niter < maxiter):\n",
    "        \n",
    "        s = cal_s(data, v, delta, theta2)\n",
    "        diff = np.log(data['Inside Good Share']) - np.log(s)\n",
    "\n",
    "        if np.isnan(diff).sum():\n",
    "            raise Exception('nan in diffs')\n",
    "            \n",
    "        delta += diff\n",
    "        niter += 1\n",
    "\n",
    "    return delta\n",
    "\n",
    "\n",
    "delta = cal_delta(data, v, theta2)\n",
    "print delta.shape\n",
    "print delta.mean()"
   ]
  },
  {
   "cell_type": "code",
   "execution_count": 84,
   "metadata": {},
   "outputs": [],
   "source": [
    "theta1 = np.array([3.56297634,  2.0886027 ,  0.88453571, -2.09580927])\n",
    "theta2 = np.array([0.21248441, 0.07349874,  1.16047725])"
   ]
  },
  {
   "cell_type": "markdown",
   "metadata": {},
   "source": [
    "# Part 2 - Elasticities"
   ]
  },
  {
   "cell_type": "code",
   "execution_count": 87,
   "metadata": {},
   "outputs": [],
   "source": [
    "delta = cal_delta(data, v, theta2)\n",
    "\n",
    "def cal_price_deriv(data, v, delta, theta1, theta2):\n",
    "\n",
    "    sim_shares = cal_sim_s(data, v, delta, theta2)\n",
    "    \n",
    "    #print sim_shares[1][2]\n",
    "    sim_shares1 = sim_shares.reshape((NSIM,NOBS,1))\n",
    "    sim_shares1 = np.tile(sim_shares1,(1,1,NOBS))\n",
    "    \n",
    "    print sim_shares1.shape\n",
    "    \n",
    "    sim_shares2 = sim_shares.reshape((NSIM,1,NOBS))\n",
    "    sim_shares2 = np.tile(sim_shares2,(1,NOBS,1))\n",
    "    \n",
    "    sim_derivs = sim_shares1*sim_shares2\n",
    "    print sim_derivs.shape\n",
    "    \n",
    "    #sim_derivs = sim_derivs.reshape((NSIM,))\n",
    "    #alpha = abs(theta1[-1])\n",
    "    #constant_deriv = alpha*data['Inside Good Share']/data['Premium']\n",
    "    #shares = (1./NSIM)*(sim_exp/sum_exp).sum(axis=0)\n",
    "    \n",
    "    #compute sj * sk in each simulation\n",
    "    \n",
    "    #compute (1-sj)sj in each simulation\n",
    "    \n",
    "    return sim_shares.sum(axis=0)\n",
    "\n",
    "\n",
    "#deriv = cal_price_deriv(data, v, delta, theta1, theta2)\n",
    "#print deriv.mean(), deriv.min(), deriv.max(), deriv.shape"
   ]
  },
  {
   "cell_type": "code",
   "execution_count": 89,
   "metadata": {},
   "outputs": [
    {
     "name": "stdout",
     "output_type": "stream",
     "text": [
      "(3300, 3300)\n",
      "30\n"
     ]
    }
   ],
   "source": [
    "def cal_price_deriv(data, v, delta, theta1, theta2):\n",
    "    sim_shares = cal_sim_s(data, v, delta, theta2)\n",
    "    sim_deriv = np.zeros((NOBS,NOBS))\n",
    "    for sim_share in sim_shares:\n",
    "        sim_share = sim_share.reshape((NOBS,1))\n",
    "        sim_deriv = sim_deriv + sim_share.dot(sim_share.transpose())\n",
    "    return sim_deriv\n",
    "\n",
    "deriv = cal_price_deriv(data, v, delta, theta1, theta2)\n",
    "print deriv.shape\n",
    "print NSIM"
   ]
  },
  {
   "cell_type": "code",
   "execution_count": null,
   "metadata": {},
   "outputs": [],
   "source": [
    "def comp_elasticity(shares, prices, alpha):\n",
    "    #set up matrix skeleton\n",
    "    own_price = np.identity(len(shares))\n",
    "    cross_price = 1 - own_price\n",
    "\n",
    "    #actually calculate elasticity\n",
    "    cross_elasticity = shares * alpha * prices\n",
    "    own_elasticity  = -(1-shares) * alpha * prices\n",
    "\n",
    "    return cross_price*cross_elasticity + own_price *own_elasticity\n",
    "\n",
    "\n",
    "#agregate elasticities\n",
    "elasticity = comp_elasticity(shares, prices, alpha)\n",
    "\n",
    "#average elasticity\n",
    "avg_shares =  np.array( comp_shares(observ,prices,alpha,beta,\n",
    "                                    labels=True).groupby(\n",
    "    'Plan_ID').mean()['fitted_share']).squeeze()\n",
    "avg_price = np.array( data[['Plan_ID','Premium']].groupby(\n",
    "    'Plan_ID').mean() ).squeeze()\n",
    "avg_elasticity = comp_elasticity(avg_shares, avg_price, alpha)"
   ]
  },
  {
   "cell_type": "markdown",
   "metadata": {},
   "source": [
    "# Part 3 - Marginal Costs"
   ]
  },
  {
   "cell_type": "markdown",
   "metadata": {},
   "source": [
    "# Part 4 - Counterfactuals"
   ]
  },
  {
   "cell_type": "code",
   "execution_count": null,
   "metadata": {},
   "outputs": [],
   "source": [
    "#will need to compute the change in delta based on the difference in old and new prices\n",
    "#multiply by alpha\n",
    "#i.e. delta_new = delta_old - alpha*(p_new - p_old)\n",
    "#cal_s(data, v, delta, theta2)"
   ]
  }
 ],
 "metadata": {
  "kernelspec": {
   "display_name": "Python 2",
   "language": "python",
   "name": "python2"
  },
  "language_info": {
   "codemirror_mode": {
    "name": "ipython",
    "version": 2
   },
   "file_extension": ".py",
   "mimetype": "text/x-python",
   "name": "python",
   "nbconvert_exporter": "python",
   "pygments_lexer": "ipython2",
   "version": "2.7.15"
  }
 },
 "nbformat": 4,
 "nbformat_minor": 2
}
