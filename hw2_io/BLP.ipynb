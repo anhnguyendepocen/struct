{
 "cells": [
  {
   "cell_type": "code",
   "execution_count": null,
   "metadata": {},
   "outputs": [],
   "source": [
    "import pandas as pd\n",
    "import math\n",
    "import numpy as np\n",
    "from scipy.optimize import minimize\n",
    "from scipy.optimize import fsolve\n",
    "import statsmodels.api as sm\n",
    "from scipy.stats import norm\n",
    "from statsmodels.sandbox.regression.gmm import GMM\n",
    "from statsmodels.base.model import GenericLikelihoodModel"
   ]
  },
  {
   "cell_type": "code",
   "execution_count": null,
   "metadata": {},
   "outputs": [],
   "source": [
    "def comp_outside_good(data,name):\n",
    "    #pre-processing to calculate outside good shares\n",
    "    shares = data[['Market_ID',name]].copy()\n",
    "\n",
    "    group_shares = shares.groupby('Market_ID').sum()\n",
    "    group_shares['Outside Good Share'] = 1 - group_shares[name]\n",
    "\n",
    "    data = pd.merge(data,group_shares[['Outside Good Share']], \n",
    "                right_index=True, left_on = 'Market_ID')\n",
    "    return data\n",
    "\n",
    "\n",
    "data = pd.read_csv('data.csv')\n",
    "data = comp_outside_good(data,'Inside Good Share')"
   ]
  },
  {
   "cell_type": "code",
   "execution_count": null,
   "metadata": {},
   "outputs": [],
   "source": [
    "#calculate hausmann insturments\n",
    "mkt_dum = pd.get_dummies(data['Market_ID'],prefix='mkt',drop_first=True)\n",
    "plan_dum = pd.get_dummies(data['Plan_ID'],prefix='plan',drop_first=True)\n",
    "hausman_instr = plan_dum\n",
    "\n",
    "#set up x and y\n",
    "y = data[['Inside Good Share','Outside Good Share']]\n",
    "x =  data[['Network Score','Satisfaction Score','PPO','Premium']]"
   ]
  },
  {
   "cell_type": "markdown",
   "metadata": {},
   "source": [
    "# Calculating $\\theta_2$\n",
    "\n",
    "i.e. $\\Sigma$ as in Nevo. For the purposes of this assignment, we do not have population charactersistics $D_i$\n",
    "\n",
    "For now I am only looking at the diagnoal elements in $\\Sigma$\n",
    "\n",
    "I plan to make theta a $k \\times 1$ vector of variance elements"
   ]
  },
  {
   "cell_type": "code",
   "execution_count": null,
   "metadata": {},
   "outputs": [],
   "source": [
    "def cal_mu(v, x, sigma):\n",
    "        \"\"\"Calculate individual-specific utility\"\"\"\n",
    "\n",
    "        pi = theta2\n",
    "        sigma = np.diag(theta_2)  # off-diagonals of sigma are zero\n",
    "\n",
    "        # these are nmkts by nsiminds by nvars arrays \n",
    "        sigma_v = (np.matmul(sigma,v))    \n",
    "    return mu"
   ]
  },
  {
   "cell_type": "code",
   "execution_count": null,
   "metadata": {},
   "outputs": [],
   "source": [
    "    def _cal_s(self, delta, mu):\n",
    "        \"\"\"Calculate market share\n",
    "        Calculates individual choice probability first, then take sum\"\"\"       nsiminds = self.nsiminds\n",
    "        ind_choice_prob = self.ind_choice_prob \n",
    "\n",
    "        _BLP.cal_ind_choice_prob(delta, mu, ind_choice_prob)\n",
    "        s = ind_choice_prob.sum(axis=1) / nsiminds\n",
    "\n",
    "        return s\n"
   ]
  },
  {
   "cell_type": "code",
   "execution_count": null,
   "metadata": {},
   "outputs": [],
   "source": [
    "def cal_delta(v, x, sigma):\n",
    "        \"\"\"Calculate mean utility via contraction mapping\"\"\"\n",
    "\n",
    "        niter = 0\n",
    "\n",
    "        error = 1e-13  # tight tolerance\n",
    "\n",
    "        mu cal_mu(v, x, sigma)\n",
    "\n",
    "        while True:\n",
    "            s = self._cal_s(delta, mu)\n",
    "            diff = ln_s_jt - np.log(s)\n",
    "\n",
    "            if np.isnan(diff).sum():\n",
    "                raise Exception('nan in diffs')\n",
    "\n",
    "            delta += diff\n",
    "\n",
    "            if (abs(diff).max() < error) and (abs(diff).mean() < 1e-3):\n",
    "                break\n",
    "\n",
    "            niter += 1\n",
    "\n",
    "        print('contraction mapping finished in {} iterations'.format(niter))\n",
    "\n",
    "return delta"
   ]
  },
  {
   "cell_type": "markdown",
   "metadata": {},
   "source": [
    "# Calculating $\\theta_1$\n",
    "\n",
    "i.e. $(\\alpha, \\beta)$ as in Nevo"
   ]
  },
  {
   "cell_type": "code",
   "execution_count": null,
   "metadata": {},
   "outputs": [],
   "source": []
  }
 ],
 "metadata": {
  "kernelspec": {
   "display_name": "Python 2",
   "language": "python",
   "name": "python2"
  },
  "language_info": {
   "codemirror_mode": {
    "name": "ipython",
    "version": 2
   },
   "file_extension": ".py",
   "mimetype": "text/x-python",
   "name": "python",
   "nbconvert_exporter": "python",
   "pygments_lexer": "ipython2",
   "version": "2.7.15"
  }
 },
 "nbformat": 4,
 "nbformat_minor": 2
}
