{
 "cells": [
  {
   "cell_type": "code",
   "execution_count": 1,
   "metadata": {},
   "outputs": [],
   "source": [
    "import pandas as pd\n",
    "import math\n",
    "import numpy as np\n",
    "from scipy.optimize import minimize\n",
    "from scipy.optimize import fsolve\n",
    "import statsmodels.api as sm\n",
    "from scipy.stats import norm\n",
    "from statsmodels.sandbox.regression.gmm import GMM"
   ]
  },
  {
   "cell_type": "code",
   "execution_count": 2,
   "metadata": {},
   "outputs": [],
   "source": [
    "def comp_outside_good(data,name):\n",
    "    #pre-processing to calculate outside good shares\n",
    "    shares = data[['Market_ID',name]].copy()\n",
    "\n",
    "    group_shares = shares.groupby('Market_ID').sum()\n",
    "    group_shares['Outside Good Share'] = 1 - group_shares[name]\n",
    "\n",
    "    data = pd.merge(data,group_shares[['Outside Good Share']], \n",
    "                right_index=True, left_on = 'Market_ID')\n",
    "    return data\n",
    "\n",
    "data = pd.read_csv('data.csv')\n",
    "data = comp_outside_good(data,'Inside Good Share')"
   ]
  },
  {
   "cell_type": "code",
   "execution_count": 29,
   "metadata": {},
   "outputs": [
    {
     "name": "stdout",
     "output_type": "stream",
     "text": [
      "[[0.86       0.8        0.         2.3401279  2.57971287]\n",
      " [0.88       0.865      0.         2.36602798 2.57971287]\n",
      " [0.91       0.875      1.         2.59650666 2.57971287]\n",
      " ...\n",
      " [0.9        0.85       1.         2.59559199 2.49469234]\n",
      " [0.92       0.925      0.         2.41005585 2.49469234]\n",
      " [0.875      0.91       1.         2.60064909 2.49469234]]\n"
     ]
    }
   ],
   "source": [
    "def setup_data(data):\n",
    "    \"\"\"simplify setting up data correctly\"\"\"\n",
    "    #set up x and y\n",
    "    y = data[['Inside Good Share','Outside Good Share']]\n",
    "    x =  data[['Network Score','Satisfaction Score','PPO','Premium']]\n",
    "    return x,y\n",
    "\n",
    "\n",
    "def setup_hausman(data):\n",
    "    #calculate hausmann insturments\n",
    "    price = data['Premium']\n",
    "    \n",
    "    mkt_dum = pd.get_dummies(data['Market_ID'],prefix='mkt',drop_first=True)\n",
    "    plan_dum = pd.get_dummies(data['Plan_ID'],prefix='plan',drop_first=True)\n",
    "    exog = np.array( data[['Network Score','Satisfaction Score', 'PPO']])\n",
    "    \n",
    "    #calc avg price in other markets\n",
    "    hausman_mod1 = sm.OLS(price, sm.add_constant(plan_dum))\n",
    "    hausman_fit1 = hausman_mod1.fit()\n",
    "    hausman_instr1 = hausman_fit1.fittedvalues\n",
    "    hausman_instr1 = np.array([hausman_instr1]).transpose()\n",
    "    \n",
    "    hausman_mod2 = sm.OLS(price, sm.add_constant(mkt_dum))\n",
    "    hausman_fit2 = hausman_mod2.fit()\n",
    "    hausman_instr2 = hausman_fit2.fittedvalues\n",
    "    hausman_instr2 = np.array([hausman_instr2]).transpose()\n",
    "    \n",
    "    #concat hausman instr with exog variables\n",
    "    instr = np.concatenate( (exog, hausman_instr1, hausman_instr2), axis =1 )\n",
    "    \n",
    "    return instr\n",
    "\n",
    "x,y =  setup_data(data)\n",
    "z = setup_hausman(data)"
   ]
  },
  {
   "cell_type": "code",
   "execution_count": 4,
   "metadata": {},
   "outputs": [
    {
     "name": "stdout",
     "output_type": "stream",
     "text": [
      "600 16 3300\n"
     ]
    }
   ],
   "source": [
    "#set up useful global variables \n",
    "NMKTS = data['Market_ID'].nunique()\n",
    "NPLANS = data['Plan_ID'].nunique()\n",
    "NOBS = data['Plan_ID'].count()\n",
    "NSIM = 20\n",
    "\n",
    "theta1 = np.array([3.5,2,1,-2])\n",
    "theta2 = np.array([.15,.1,.5]) # initialize theta2 for testing purposes\n",
    "delta = np.ones(NOBS)*(-2)\n",
    "\n",
    "#print global variables\n",
    "print NMKTS,NPLANS,NOBS"
   ]
  },
  {
   "cell_type": "code",
   "execution_count": 5,
   "metadata": {},
   "outputs": [],
   "source": [
    "#set up random draws v\n",
    "v = np.random.normal(size=(NSIM,3)) #same simulation for all markets\n",
    "#np.savetxt(\"simulations.csv\", v, delimiter=\",\")\n",
    "#use same simulations each time\n",
    "v = np.genfromtxt('simulations.csv', delimiter=',')\n",
    "v = np.tile(v.reshape(NSIM,3,1) , (1,1,NOBS))"
   ]
  },
  {
   "cell_type": "markdown",
   "metadata": {},
   "source": [
    "# Part 1 - Estimation"
   ]
  },
  {
   "cell_type": "markdown",
   "metadata": {},
   "source": [
    "## Calculating $\\delta_{jt}$, $\\xi_{jt}$"
   ]
  },
  {
   "cell_type": "code",
   "execution_count": 6,
   "metadata": {},
   "outputs": [],
   "source": [
    "def cal_sim_s(data, v, delta, theta2):\n",
    "    \"\"\"calculate market share for each simulated consumer\"\"\"\n",
    "    \n",
    "    #copy x and delta for simulations using tiling\n",
    "    x =  np.array(data.copy()[['Network Score','Satisfaction Score','PPO']]).transpose()\n",
    "    x  = np.tile(x,(NSIM,1,1))\n",
    "    theta2 = np.tile( np.array([theta2]).transpose()  ,(NSIM,1,3300))\n",
    "    delta  = np.tile( delta  ,(NSIM,1))\n",
    "    \n",
    "    #add to calcualte market shares\n",
    "    sim_exp = pd.DataFrame( np.exp(delta + (theta2*v*x).sum(axis=1)).transpose() ) \n",
    "    \n",
    "    #sum up between markets\n",
    "    sim_exp['mkt_id'] = data['Market_ID']\n",
    "    sum_exp = sim_exp.groupby('mkt_id').sum() \n",
    "    sum_exp = pd.merge(data.copy()[['Market_ID']], sum_exp, \n",
    "                       right_index=True, left_on = 'Market_ID')\n",
    "    \n",
    "    #format so I can broadcast\n",
    "    sim_exp = np.array(sim_exp).transpose()[:-1]\n",
    "    sum_exp = np.array(sum_exp).transpose()[1:] + 1\n",
    "    \n",
    "    return sim_exp/sum_exp\n",
    "\n",
    "\n",
    "def cal_s(data, v, delta, theta2):\n",
    "    \"\"\"Calculate market share\n",
    "    Calculates individual choice probability first, then take sum\"\"\"\n",
    "    \n",
    "    shares = (1./NSIM)*cal_sim_s(data, v, delta, theta2).sum(axis=0)\n",
    "    return shares\n",
    "\n",
    "\n",
    "s = cal_s(data, v, delta, theta2)"
   ]
  },
  {
   "cell_type": "code",
   "execution_count": 14,
   "metadata": {},
   "outputs": [
    {
     "name": "stdout",
     "output_type": "stream",
     "text": [
      "(3300,)\n",
      "0.0537547330113\n"
     ]
    }
   ],
   "source": [
    "def cal_delta(data, v, theta2, error = 1e-3, maxiter = 500):\n",
    "    \"\"\"Calculate mean utility via contraction mapping\"\"\"\n",
    "\n",
    "    niter = 0\n",
    "    \n",
    "    #initialize loop parameters\n",
    "    delta = np.zeros(NOBS)\n",
    "    s = cal_s(data, v, delta, theta2)\n",
    "    diff = np.log(data['Inside Good Share']) - np.log(s)\n",
    "    \n",
    "    \n",
    "    while ((abs(diff).max() > 1e-6) #this is easier to converge\n",
    "           and (abs(diff).mean() > error) \n",
    "           and niter < maxiter):\n",
    "        \n",
    "        s = cal_s(data, v, delta, theta2)\n",
    "        diff = np.log(data['Inside Good Share']) - np.log(s)\n",
    "\n",
    "        if np.isnan(diff).sum():\n",
    "            raise Exception('nan in diffs')\n",
    "            \n",
    "        delta += diff\n",
    "        niter += 1\n",
    "\n",
    "    return delta\n",
    "\n",
    "\n",
    "delta = cal_delta(data, v, theta2)\n",
    "print delta.shape\n",
    "print delta.mean()"
   ]
  },
  {
   "cell_type": "code",
   "execution_count": 24,
   "metadata": {},
   "outputs": [
    {
     "name": "stdout",
     "output_type": "stream",
     "text": [
      "-4.4521914495928865 -6.374717985796533 -5.17496647911\n"
     ]
    }
   ],
   "source": [
    "#initialize theta1 i.e. alpha and beta\n",
    "def cal_xi(data, delta, theta1):\n",
    "    \"\"\"Calculate xi with F.O.C\"\"\"\n",
    "    x,y =  setup_data(data)\n",
    "    \n",
    "    xi = np.matmul(np.array(x),theta1)\n",
    "    \n",
    "    xi = delta - np.matmul(np.array(x),theta1)\n",
    "    \n",
    "    return  xi\n",
    "\n",
    "xi = cal_xi(data, delta,  theta1)\n",
    "print xi.max(), xi.min(), xi.mean()"
   ]
  },
  {
   "cell_type": "markdown",
   "metadata": {},
   "source": [
    "## Calculating  $\\theta_1,\\theta_2$\n",
    "\n",
    "where $\\theta_1 = (\\alpha, \\beta)$\n",
    "\n",
    "I only solve GMM over $\\theta_2$, the non-linear parameters"
   ]
  },
  {
   "cell_type": "code",
   "execution_count": 25,
   "metadata": {},
   "outputs": [
    {
     "name": "stdout",
     "output_type": "stream",
     "text": [
      "[ 3.47270033  2.06911418  0.74765472 -2.06193438]\n"
     ]
    }
   ],
   "source": [
    "def cal_theta1(data, delta, z, T):\n",
    "    \"\"\"  calculate theta 1 using FOCs (X1'Z T Z'X )^-1 X1'Z T Z' delta \"\"\"\n",
    "    \n",
    "    #set up variables\n",
    "    x,y =  setup_data(data)\n",
    "    X,Z = np.array(x), np.array(z)\n",
    "    \n",
    "    #build up to main equation\n",
    "    XtZ = X.transpose().dot(Z)\n",
    "    ZtX = Z.transpose().dot(X)\n",
    "        \n",
    "    first_exp = np.linalg.inv( XtZ.dot(T).dot(ZtX))\n",
    "    second_exp = XtZ.dot(T).dot(Z.transpose()).dot(delta)\n",
    "    theta1 = first_exp.dot(second_exp)\n",
    "    return theta1\n",
    "\n",
    "T =  np.linalg.inv( z.transpose().dot(z) )\n",
    "print cal_theta1(data, delta, z, T)"
   ]
  },
  {
   "cell_type": "code",
   "execution_count": 26,
   "metadata": {},
   "outputs": [
    {
     "name": "stdout",
     "output_type": "stream",
     "text": [
      "10.455671339528664 23.376142580102762 18.8577714415\n",
      "4.937593130071156 18.42140026285697 13.5763471447\n",
      "[ 39051.20222722  37758.43088955  23087.17764858 110680.10681694]\n",
      "[ 39051.20222722  37758.43088955  23087.17764858 110680.10681694]\n",
      "609283.5421247376\n"
     ]
    },
    {
     "data": {
      "text/plain": [
       "609283.5421247376"
      ]
     },
     "execution_count": 26,
     "metadata": {},
     "output_type": "execute_result"
    }
   ],
   "source": [
    "def gmm_objective(theta2_init, data,  v, z,  T):\n",
    "    \"\"\"w' z phi z' w, of theta2\"\"\"\n",
    "    #set up variables\n",
    "    x,y =  setup_data(data)\n",
    "    X,Z = np.array(x), np.array(z)\n",
    "    \n",
    "    #do calculations\n",
    "    delta = cal_delta(data, v, theta2_init)\n",
    "    print   delta.min(),  delta.max(),  delta.mean()\n",
    "\n",
    "    theta1 = cal_theta1(data, delta, z, T)\n",
    "    xi = cal_xi(data, delta, theta1)\n",
    "    \n",
    "    print xi.min(),  xi.max(),  xi.mean()\n",
    "    \n",
    "    xitZ = xi.transpose().dot(Z)\n",
    "    Ztxi = Z.transpose().dot(xi)\n",
    "    \n",
    "    print xitZ\n",
    "    print Ztxi\n",
    "    print xitZ.dot(T).dot(Ztxi)\n",
    "    \n",
    "    return xitZ.dot(T).dot(Ztxi)\n",
    "    \n",
    "\n",
    "def calc_theta2(data, v, T, theta2_init):\n",
    "    \"\"\"calculate theta2 using scipy\"\"\"\n",
    "    z= setup_hausman(data)\n",
    "    theta2 = minimize(gmm_objective, theta2_init, args=(data,  v, z, T), method='Nelder-Mead',\n",
    "                      options={'maxiter':10, 'disp': True, 'xatol':1e-3, 'fatol':1})\n",
    "    #theta2 = minimize(gmm_objective, theta2_init, args=(data, v,  T), method='BFGS',\n",
    "    #                  options={'maxiter':100, 'disp': True})\n",
    "    return abs(theta2.x)\n",
    "\n",
    "\n",
    "\n",
    "#run some tests\n",
    "#theta2_init = np.array([1,.5,2])\n",
    "#theta2_test = calc_theta2( data, v, T, theta2_init)\n",
    "# print theta2_test\n",
    "\n",
    "\n",
    "theta2_init = np.array([1,1,1])\n",
    "gmm_objective(theta2_init, data,  v, z,  T)"
   ]
  },
  {
   "cell_type": "code",
   "execution_count": 27,
   "metadata": {
    "scrolled": true
   },
   "outputs": [
    {
     "name": "stdout",
     "output_type": "stream",
     "text": [
      "-0.8537285064161964 1.1270680905440538 0.581544414486\n",
      "-5.782728714085071 -4.030809545184476 -4.50849910224\n",
      "[-12969.96763397 -12540.60307023  -7667.8803669  -36759.87732177]\n",
      "[-12969.96763397 -12540.60307023  -7667.8803669  -36759.87732177]\n",
      "67209.15182664497\n",
      "-0.8298112620899851 1.148687898470888 0.608185481656\n",
      "-5.760099842864588 -3.9950891946469778 -4.46997777478\n",
      "[-12859.15707396 -12433.46084071  -7602.3688605  -36445.81465738]\n",
      "[-12859.15707396 -12433.46084071  -7602.3688605  -36445.81465738]\n",
      "66065.63787175258\n",
      "-0.8307429683557706 1.1547561166681986 0.608459649169\n",
      "-5.76605056296218 -4.008888047554314 -4.47850006741\n",
      "[-12883.67147777 -12457.16370693  -7616.86184314 -36515.29412736]\n",
      "[-12883.67147777 -12457.16370693  -7616.86184314 -36515.29412736]\n",
      "66317.77002342064\n",
      "-0.854491890637719 1.1427292762379668 0.577596377555\n",
      "-5.79189571098172 -4.04877825057725 -4.52985012302\n",
      "[-13031.38686848 -12599.98905042  -7704.19158646 -36933.95358699]\n",
      "[-13031.38686848 -12599.98905042  -7704.19158646 -36933.95358699]\n",
      "67847.19637447149\n",
      "-0.8216629416403589 1.1460640832241187 0.621527462813\n",
      "-5.747222961106492 -3.97551943251246 -4.44231888544\n",
      "[-12779.59188827 -12356.52962238  -7555.32970494 -36220.30858464]\n",
      "[-12779.59188827 -12356.52962238  -7555.32970494 -36220.30858464]\n",
      "65250.61360316006\n",
      "-0.8050662476497386 1.1495439308827267 0.643459381746\n",
      "-5.722656845805343 -3.9388132621534373 -4.39869737693\n",
      "[-12654.10901154 -12235.20079615  -7481.14388474 -35864.66119332]\n",
      "[-12654.10901154 -12235.20079615  -7481.14388474 -35864.66119332]\n",
      "63975.51239812235\n",
      "-0.7897556425561745 1.1747469440797842 0.658624635683\n",
      "-5.715517151949326 -3.930083702296134 -4.38861147274\n",
      "[-12625.0962409  -12207.14847938  -7463.99145532 -35782.43231506]\n",
      "[-12625.0962409  -12207.14847938  -7463.99145532 -35782.43231506]\n",
      "63682.48835868814\n",
      "-0.7567854537968475 1.2016164719803557 0.698698477952\n",
      "-5.680710861838735 -3.879919632749486 -4.32818732032\n",
      "[-12451.27857151 -12039.08496065  -7361.2299734  -35289.79298214]\n",
      "[-12451.27857151 -12039.08496065  -7361.2299734  -35289.79298214]\n",
      "61941.04519388288\n",
      "-0.7622686712775555 1.1863925048200241 0.694128851546\n",
      "-5.673719836554962 -3.8678069457542685 -4.31916221478\n",
      "[-12425.31711507 -12013.98294578  -7345.88148929 -35216.21223153]\n",
      "[-12425.31711507 -12013.98294578  -7345.88148929 -35216.21223153]\n",
      "61683.01493946853\n",
      "-0.7254965324346139 1.2208161039778975 0.740332628607\n",
      "-5.621077177377097 -3.797307659195383 -4.23844519437\n",
      "[-12193.12497456 -11789.47741482  -7208.60886026 -34558.12619453]\n",
      "[-12193.12497456 -11789.47741482  -7208.60886026 -34558.12619453]\n",
      "59399.21155852607\n",
      "-0.6943767321242409 1.2580694015691158 0.780653320828\n",
      "-5.582740674816373 -3.7504294221168375 -4.1754534632\n",
      "[-12011.91997732 -11614.27112219  -7101.47996989 -34044.54947202]\n",
      "[-12011.91997732 -11614.27112219  -7101.47996989 -34044.54947202]\n",
      "57646.837990101085\n",
      "-0.623307848485259 1.3519686581752661 0.871498874303\n",
      "-5.483762237235226 -3.632630992574657 -4.03183852114\n",
      "[-11598.79245953 -11214.81999292  -6857.23785056 -32873.65087761]\n",
      "[-11598.79245953 -11214.81999292  -6857.23785056 -32873.65087761]\n",
      "53749.717391649305\n",
      "-0.594177306647298 1.3880739196485707 0.902351447811\n",
      "-5.457914080156412 -3.598050136149025 -3.99526560564\n",
      "[-11493.58772182 -11113.09800764  -6795.04052165 -32575.47640554]\n",
      "[-11493.58772182 -11113.09800764  -6795.04052165 -32575.47640554]\n",
      "52779.085343001374\n",
      "-0.49069607733122256 1.5357979534600057 1.04129407501\n",
      "-5.305012602317518 -3.426979183423814 -3.79115313225\n",
      "[-10906.43334842 -10545.38109843  -6447.91324892 -30911.34559625]\n",
      "[-10906.43334842 -10545.38109843  -6447.91324892 -30911.34559625]\n",
      "47524.343835878375\n",
      "-0.4538794179449219 1.577917825358287 1.08038004215\n",
      "-5.235139810117026 -3.362781168965742 -3.72091382643\n",
      "[-10704.381177   -10350.01776733  -6328.45945212 -30338.6831777 ]\n",
      "[-10704.381177   -10350.01776733  -6328.45945212 -30338.6831777 ]\n",
      "45779.78633614798\n",
      "-0.28734743919524997 1.8291273952051377 1.2885162331\n",
      "-4.988282559368227 -3.0851186676913938 -3.44133822839\n",
      "[ -9900.14883761  -9572.40915417  -5852.99509171 -28059.3033852 ]\n",
      "[ -9900.14883761  -9572.40915417  -5852.99509171 -28059.3033852 ]\n",
      "39159.22405252417\n",
      "-0.19453848712055377 1.9696586741908497 1.40308217689\n",
      "-4.884203827063109 -2.942799547280423 -3.30587715816\n",
      "[ -9510.47521274  -9195.63548793  -5622.61897806 -26954.87852849]\n",
      "[ -9510.47521274  -9195.63548793  -5622.61897806 -26954.87852849]\n",
      "36137.247156647245\n",
      "0.07837811617563606 2.385318137493117 1.74645186086\n",
      "-4.540795454987482 -2.570371067662034 -2.93734083638\n",
      "[ -8450.33477155  -8170.59048806  -4995.86104739 -23950.19619914]\n",
      "[ -8450.33477155  -8170.59048806  -4995.86104739 -23950.19619914]\n",
      "28529.782380333738\n",
      "0.18680075307992272 2.525828912250161 1.87339731349\n",
      "-4.4138263068418375 -2.4214984289895045 -2.79161317899\n",
      "[ -8031.13830918  -7765.27132371  -4748.0309514  -22762.09681714]\n",
      "[ -8031.13830918  -7765.27132371  -4748.0309514  -22762.09681714]\n",
      "25769.431666598284\n",
      "0.592895250497087 3.197136094586533 2.38613959794\n",
      "-4.015651329587278 -1.9295706129073338 -2.35429953372\n",
      "[ -6773.15773349  -6548.9355922   -4004.30939168 -19196.68995256]\n",
      "[ -6773.15773349  -6548.9355922   -4004.30939168 -19196.68995256]\n",
      "18328.756821311337\n",
      "0.7021780437194498 3.5058589321131857 2.55200298497\n",
      "-3.94162640462255 -1.8605628070987672 -2.33185460657\n",
      "[ -6708.58999815  -6486.5053408   -3966.13676981 -19013.69011038]\n",
      "[ -6708.58999815  -6486.5053408   -3966.13676981 -19013.69011038]\n",
      "17980.97059310553\n",
      "0.9328155643264171 4.699986933316574 3.24892464641\n",
      "-3.586443570647885 -1.3097947587137186 -2.03349758209\n",
      "[ -5850.33816353  -5656.66552192  -3458.73593596 -16581.20661913]\n",
      "[ -5850.33816353  -5656.66552192  -3458.73593596 -16581.20661913]\n",
      "13674.535094972314\n",
      "Warning: Maximum number of iterations has been exceeded.\n"
     ]
    },
    {
     "ename": "TypeError",
     "evalue": "cal_theta1() takes exactly 4 arguments (3 given)",
     "output_type": "error",
     "traceback": [
      "\u001b[0;31m---------------------------------------------------------------------------\u001b[0m",
      "\u001b[0;31mTypeError\u001b[0m                                 Traceback (most recent call last)",
      "\u001b[0;32m<ipython-input-27-ebbc567a97da>\u001b[0m in \u001b[0;36m<module>\u001b[0;34m()\u001b[0m\n\u001b[1;32m     27\u001b[0m \u001b[0;34m\u001b[0m\u001b[0m\n\u001b[1;32m     28\u001b[0m \u001b[0;34m\u001b[0m\u001b[0m\n\u001b[0;32m---> 29\u001b[0;31m \u001b[0mtheta\u001b[0m \u001b[0;34m=\u001b[0m \u001b[0mcalc_theta\u001b[0m\u001b[0;34m(\u001b[0m\u001b[0mdata\u001b[0m\u001b[0;34m,\u001b[0m \u001b[0mv\u001b[0m\u001b[0;34m,\u001b[0m \u001b[0mtheta2_init\u001b[0m\u001b[0;34m)\u001b[0m\u001b[0;34m\u001b[0m\u001b[0m\n\u001b[0m\u001b[1;32m     30\u001b[0m \u001b[0;34m\u001b[0m\u001b[0m\n\u001b[1;32m     31\u001b[0m \u001b[0;32mprint\u001b[0m \u001b[0mtheta\u001b[0m\u001b[0;34m\u001b[0m\u001b[0m\n",
      "\u001b[0;32m<ipython-input-27-ebbc567a97da>\u001b[0m in \u001b[0;36mcalc_theta\u001b[0;34m(data, v, theta2_init)\u001b[0m\n\u001b[1;32m     22\u001b[0m         \u001b[0mtheta2\u001b[0m \u001b[0;34m=\u001b[0m \u001b[0mcalc_theta2\u001b[0m\u001b[0;34m(\u001b[0m\u001b[0mdata\u001b[0m\u001b[0;34m,\u001b[0m \u001b[0mv\u001b[0m\u001b[0;34m,\u001b[0m \u001b[0mT\u001b[0m\u001b[0;34m,\u001b[0m \u001b[0mtheta2\u001b[0m\u001b[0;34m)\u001b[0m\u001b[0;34m\u001b[0m\u001b[0m\n\u001b[1;32m     23\u001b[0m         \u001b[0mdelta\u001b[0m \u001b[0;34m=\u001b[0m \u001b[0mcal_delta\u001b[0m\u001b[0;34m(\u001b[0m\u001b[0mdata\u001b[0m\u001b[0;34m,\u001b[0m \u001b[0mv\u001b[0m\u001b[0;34m,\u001b[0m \u001b[0mtheta2\u001b[0m\u001b[0;34m)\u001b[0m\u001b[0;34m\u001b[0m\u001b[0m\n\u001b[0;32m---> 24\u001b[0;31m         \u001b[0mtheta1\u001b[0m \u001b[0;34m=\u001b[0m \u001b[0mcal_theta1\u001b[0m\u001b[0;34m(\u001b[0m\u001b[0mdata\u001b[0m\u001b[0;34m,\u001b[0m \u001b[0mdelta\u001b[0m\u001b[0;34m,\u001b[0m \u001b[0mT\u001b[0m\u001b[0;34m)\u001b[0m\u001b[0;34m\u001b[0m\u001b[0m\n\u001b[0m\u001b[1;32m     25\u001b[0m \u001b[0;34m\u001b[0m\u001b[0m\n\u001b[1;32m     26\u001b[0m     \u001b[0;32mreturn\u001b[0m \u001b[0mtheta1\u001b[0m\u001b[0;34m,\u001b[0m \u001b[0mtheta2\u001b[0m\u001b[0;34m\u001b[0m\u001b[0m\n",
      "\u001b[0;31mTypeError\u001b[0m: cal_theta1() takes exactly 4 arguments (3 given)"
     ]
    }
   ],
   "source": [
    "theta2_init = np.array([1,1,1])\n",
    "\n",
    "def calc_theta(data, v, theta2_init):\n",
    "    \n",
    "    #initialize theta\n",
    "    x,y =  setup_data(data)\n",
    "    z = setup_hausman(data)\n",
    "    \n",
    "    X,Z = np.array(x), np.array(z)\n",
    "    theta2 = theta2_init \n",
    "    \n",
    "    #on first step, use consistent approximation of T\n",
    "    T =  np.linalg.inv( z.transpose().dot(z) )\n",
    "    for i in range(2):  \n",
    "       \n",
    "        #on second use T using estimated xi\n",
    "        if i==1:\n",
    "            xi = cal_xi(data, delta, theta1)\n",
    "            xi =np.array([xi]).transpose()\n",
    "            T =  np.linalg.inv( Z.transpose().dot(xi).dot(xi.transpose()).dot(Z) )\n",
    "        \n",
    "        theta2 = calc_theta2(data, v, T, theta2)\n",
    "        delta = cal_delta(data, v, theta2)\n",
    "        theta1 = cal_theta1(data, delta, T)\n",
    "        \n",
    "    return theta1, theta2\n",
    "\n",
    "\n",
    "theta = calc_theta(data, v, theta2_init)\n",
    "\n",
    "print theta"
   ]
  },
  {
   "cell_type": "markdown",
   "metadata": {},
   "source": [
    "## Calculate Standard Errors"
   ]
  },
  {
   "cell_type": "markdown",
   "metadata": {},
   "source": []
  },
  {
   "cell_type": "code",
   "execution_count": null,
   "metadata": {},
   "outputs": [],
   "source": []
  },
  {
   "cell_type": "code",
   "execution_count": null,
   "metadata": {},
   "outputs": [],
   "source": []
  },
  {
   "cell_type": "code",
   "execution_count": null,
   "metadata": {},
   "outputs": [],
   "source": []
  },
  {
   "cell_type": "code",
   "execution_count": null,
   "metadata": {},
   "outputs": [],
   "source": []
  },
  {
   "cell_type": "code",
   "execution_count": null,
   "metadata": {},
   "outputs": [],
   "source": []
  }
 ],
 "metadata": {
  "kernelspec": {
   "display_name": "Python 2",
   "language": "python",
   "name": "python2"
  },
  "language_info": {
   "codemirror_mode": {
    "name": "ipython",
    "version": 2
   },
   "file_extension": ".py",
   "mimetype": "text/x-python",
   "name": "python",
   "nbconvert_exporter": "python",
   "pygments_lexer": "ipython2",
   "version": "2.7.15"
  }
 },
 "nbformat": 4,
 "nbformat_minor": 2
}
