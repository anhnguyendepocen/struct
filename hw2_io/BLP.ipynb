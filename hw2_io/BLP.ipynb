{
 "cells": [
  {
   "cell_type": "code",
   "execution_count": 1,
   "metadata": {},
   "outputs": [],
   "source": [
    "import pandas as pd\n",
    "import math\n",
    "import numpy as np\n",
    "from scipy.optimize import minimize\n",
    "from scipy.optimize import fsolve\n",
    "import statsmodels.api as sm\n",
    "from scipy.stats import norm\n",
    "from statsmodels.sandbox.regression.gmm import GMM"
   ]
  },
  {
   "cell_type": "code",
   "execution_count": 2,
   "metadata": {},
   "outputs": [],
   "source": [
    "def comp_outside_good(data,name):\n",
    "    #pre-processing to calculate outside good shares\n",
    "    shares = data[['Market_ID',name]].copy()\n",
    "\n",
    "    group_shares = shares.groupby('Market_ID').sum()\n",
    "    group_shares['Outside Good Share'] = 1 - group_shares[name]\n",
    "\n",
    "    data = pd.merge(data,group_shares[['Outside Good Share']], \n",
    "                right_index=True, left_on = 'Market_ID')\n",
    "    return data\n",
    "\n",
    "data = pd.read_csv('data.csv')\n",
    "data = comp_outside_good(data,'Inside Good Share')"
   ]
  },
  {
   "cell_type": "code",
   "execution_count": 3,
   "metadata": {},
   "outputs": [],
   "source": [
    "def setup_data(data):\n",
    "    \"\"\"simplify setting up data correctly\"\"\"\n",
    "    #calculate hausmann insturments\n",
    "    mkt_dum = pd.get_dummies(data['Market_ID'],prefix='mkt',drop_first=True)\n",
    "    plan_dum = pd.get_dummies(data['Plan_ID'],prefix='plan',drop_first=True)\n",
    "    hausman_instr = plan_dum\n",
    "\n",
    "    #set up x and y\n",
    "    y = data[['Inside Good Share','Outside Good Share']]\n",
    "    x =  data[['Network Score','Satisfaction Score','PPO','Premium']]\n",
    "    return x,y,hausman_instr\n",
    "\n",
    "x,y,z =  setup_data(data)"
   ]
  },
  {
   "cell_type": "markdown",
   "metadata": {},
   "source": [
    "# Calculating $\\delta$, $\\theta_1$, $\\xi_{jt}$\n",
    "\n",
    "Where $\\theta_1$ = $(\\alpha,\\beta)$"
   ]
  },
  {
   "cell_type": "code",
   "execution_count": 4,
   "metadata": {},
   "outputs": [
    {
     "name": "stdout",
     "output_type": "stream",
     "text": [
      "600 16 3300\n"
     ]
    }
   ],
   "source": [
    "#set up useful global variables \n",
    "NMKTS = data['Market_ID'].nunique()\n",
    "NPLANS = data['Plan_ID'].nunique()\n",
    "NOBS = data['Plan_ID'].count()\n",
    "NSIM = 20\n",
    "\n",
    "theta2 = np.array([3,2,1]) # initialize theta2 for testing purposes\n",
    "delta = np.ones(NOBS)*(-2)\n",
    "\n",
    "#print global variables\n",
    "print NMKTS,NPLANS,NOBS"
   ]
  },
  {
   "cell_type": "code",
   "execution_count": 5,
   "metadata": {},
   "outputs": [
    {
     "name": "stdout",
     "output_type": "stream",
     "text": [
      "(20, 3, 3300)\n"
     ]
    }
   ],
   "source": [
    "#set up random draws v\n",
    "mkt_ids = np.array(data['Market_ID'])\n",
    "v = [0]*NOBS\n",
    "\n",
    "for mkt in range(1,601):\n",
    "    v_i = np.random.normal(size=(3,NSIM))\n",
    "    for i in range(NOBS):\n",
    "        if mkt_ids[i] == mkt:\n",
    "            v[i] = v_i\n",
    "        \n",
    "v = np.array(v).transpose()\n",
    "print v.shape"
   ]
  },
  {
   "cell_type": "code",
   "execution_count": 6,
   "metadata": {},
   "outputs": [
    {
     "name": "stdout",
     "output_type": "stream",
     "text": [
      "0.08594089477368333 0.030724838843884536 0.2681433769789094 (3300,)\n"
     ]
    }
   ],
   "source": [
    "def cal_s(data, v, delta, theta2):\n",
    "    \"\"\"Calculate market share\n",
    "    Calculates individual choice probability first, then take sum\"\"\"\n",
    "    \n",
    "    #copy x and delta for simulations using tiling\n",
    "    x =  np.array(data.copy()[['Network Score','Satisfaction Score','PPO']]).transpose()\n",
    "    x  = np.tile(x,(NSIM,1,1))\n",
    "    theta2 = np.tile( np.array([theta2]).transpose()  ,(NSIM,1,3300))\n",
    "    delta  = np.tile( delta  ,(NSIM,1))\n",
    "    \n",
    "    #add to calcualte market shares\n",
    "    sim_exp = pd.DataFrame( np.exp(delta + (theta2*v*x).sum(axis=1)).transpose() ) \n",
    "    \n",
    "    #sum up between markets\n",
    "    sim_exp['mkt_id'] = data['Market_ID']\n",
    "    sum_exp = sim_exp.groupby('mkt_id').sum() \n",
    "    sum_exp = pd.merge(data.copy()[['Market_ID']], sum_exp, \n",
    "                       right_index=True, left_on = 'Market_ID')\n",
    "    \n",
    "    #format so I can broadcast\n",
    "    sim_exp = np.array(sim_exp).transpose()[:-1]\n",
    "    sum_exp = np.array(sum_exp).transpose()[1:] + 1\n",
    "    \n",
    "    shares = (1./NSIM)*(sim_exp/sum_exp).sum(axis=0)\n",
    "    return shares\n",
    "\n",
    "\n",
    "s = cal_s(data, v, delta, theta2)\n",
    "\n",
    "print s.mean(), s.min(), s.max(), s.shape"
   ]
  },
  {
   "cell_type": "code",
   "execution_count": 7,
   "metadata": {},
   "outputs": [
    {
     "name": "stdout",
     "output_type": "stream",
     "text": [
      "(3300,)\n",
      "2.08637190192\n"
     ]
    }
   ],
   "source": [
    "def cal_delta(data, v, theta2, error = 1e-3, maxiter = 500):\n",
    "    \"\"\"Calculate mean utility via contraction mapping\"\"\"\n",
    "\n",
    "    niter = 0\n",
    "    \n",
    "    #initialize loop parameters\n",
    "    delta = np.zeros(NOBS)\n",
    "    s = cal_s(data, v, delta, theta2)\n",
    "    diff = np.log(data['Inside Good Share']) - np.log(s)\n",
    "    \n",
    "    \n",
    "    while ((abs(diff).max() > 1e-6) #this is easier to converge\n",
    "           and (abs(diff).mean() > error) \n",
    "           and niter < maxiter):\n",
    "        \n",
    "        s = cal_s(data, v, delta, theta2)\n",
    "        diff = np.log(data['Inside Good Share']) - np.log(s)\n",
    "\n",
    "        if np.isnan(diff).sum():\n",
    "            raise Exception('nan in diffs')\n",
    "            \n",
    "        delta += diff\n",
    "        niter += 1\n",
    "\n",
    "    return delta\n",
    "\n",
    "\n",
    "delta = cal_delta(data, v, theta2)\n",
    "print delta.shape\n",
    "print delta.mean()"
   ]
  },
  {
   "cell_type": "code",
   "execution_count": 8,
   "metadata": {},
   "outputs": [
    {
     "name": "stdout",
     "output_type": "stream",
     "text": [
      "5.002521648309545 -1.0403798003429399 2.22526702241\n"
     ]
    }
   ],
   "source": [
    "#initialize theta1 i.e. alpha and beta\n",
    "theta1 = np.array([3,2,1,-2])\n",
    "\n",
    "def cal_xi(data, delta, theta1):\n",
    "    \"\"\"Calculate xi with F.O.C\"\"\"\n",
    "    x,y,z =  setup_data(data)\n",
    "    xi = delta - np.matmul(np.array(x),theta1)\n",
    "    return  xi\n",
    "\n",
    "\n",
    "xi = cal_xi(data, delta,  theta1)\n",
    "print xi.max(), xi.min(), xi.mean()"
   ]
  },
  {
   "cell_type": "markdown",
   "metadata": {},
   "source": [
    "# Calculating  $\\theta_2$\n",
    "\n",
    "\n",
    "Use GMM over $\\theta_2$, the non-linear parameters. "
   ]
  },
  {
   "cell_type": "code",
   "execution_count": 18,
   "metadata": {},
   "outputs": [
    {
     "name": "stdout",
     "output_type": "stream",
     "text": [
      "[ 3.5210287   1.53549582  0.62325933 -1.04963271]\n"
     ]
    }
   ],
   "source": [
    "def cal_theta1(data, delta, T):\n",
    "    \"\"\"  calculate theta 1 using FOCs (X1'Z T Z'X )^-1 X1'Z T Z' delta \"\"\"\n",
    "    #set up variables\n",
    "    x,y,z =  setup_data(data)\n",
    "    X,Z = np.array(x), np.array(z)\n",
    "    \n",
    "    #build up to main equation\n",
    "    XtZ = X.transpose().dot(Z)\n",
    "    ZtX = Z.transpose().dot(X)\n",
    "        \n",
    "    first_exp = np.linalg.inv( XtZ.dot(T).dot(ZtX))\n",
    "    second_exp = XtZ.dot(T).dot(Z.transpose()).dot(delta)\n",
    "    theta1 = first_exp.dot(second_exp)\n",
    "    return theta1\n",
    "\n",
    "\n",
    "\n",
    "T =  np.linalg.inv( z.transpose().dot(z) )\n",
    "print cal_theta1(data, delta, T)\n",
    "\n"
   ]
  },
  {
   "cell_type": "code",
   "execution_count": 33,
   "metadata": {},
   "outputs": [
    {
     "name": "stdout",
     "output_type": "stream",
     "text": [
      "Optimization terminated successfully.\n",
      "         Current function value: 0.281188\n",
      "         Iterations: 11\n",
      "         Function evaluations: 60\n",
      "         Gradient evaluations: 12\n",
      "[0.16019059 0.08523177 0.90731871]\n"
     ]
    }
   ],
   "source": [
    "def gmm_objective(theta2_init, data, v,  T):\n",
    "    \"\"\"Z'ww'Z of theta2\"\"\"\n",
    "    #set up variables\n",
    "    x,y,z =  setup_data(data)\n",
    "    X,Z = np.array(x), np.array(z)\n",
    "    \n",
    "    #do calculations\n",
    "    delta = cal_delta(data, v, theta2_init)\n",
    "    theta1 = cal_theta1(data, delta, T)\n",
    "    xi = cal_xi(data, delta, theta1)\n",
    "    return xi.dot(Z).dot(T).dot(Z.transpose()).dot(xi)\n",
    "    \n",
    "\n",
    "def calc_theta2(data, v, T, theta2_init):\n",
    "    \"\"\"calculate theta2 using scipy\"\"\"\n",
    "    theta2 = minimize(gmm_objective, theta2_init, args=(data, v,  T), method='BFGS',\n",
    "                      options={'maxiter':100, 'disp': True})\n",
    "    return theta2.x\n",
    "\n",
    "\n",
    "\n",
    "#run some tests\n",
    "theta2_init = np.array([3,2,1])\n",
    "theta2_test = calc_theta2( data, v, T, theta2_init)\n",
    "\n",
    "print theta2_test"
   ]
  },
  {
   "cell_type": "code",
   "execution_count": 36,
   "metadata": {},
   "outputs": [
    {
     "name": "stdout",
     "output_type": "stream",
     "text": [
      "Optimization terminated successfully.\n",
      "         Current function value: 0.281188\n",
      "         Iterations: 11\n",
      "         Function evaluations: 60\n",
      "         Gradient evaluations: 12\n",
      "Warning: Desired error not necessarily achieved due to precision loss.\n",
      "         Current function value: 0.103191\n",
      "         Iterations: 1\n",
      "         Function evaluations: 372\n",
      "         Gradient evaluations: 72\n",
      "(array([ 3.68008423,  2.06858434,  0.86110783, -2.13258096]), array([0.16019059, 0.08523177, 0.9073187 ]))\n"
     ]
    }
   ],
   "source": [
    "def calc_theta(data, v, theta2_init):\n",
    "    \n",
    "    #initialize theta\n",
    "    x,y,z =  setup_data(data)\n",
    "    X,Z = np.array(x), np.array(z)\n",
    "    theta2 = theta2_init \n",
    "    \n",
    "    #on first step, use consistent approximation of T\n",
    "    T =  np.linalg.inv( z.transpose().dot(z) )\n",
    "    for i in range(2):  \n",
    "       \n",
    "        #on second use T using estimated xi\n",
    "        if i==1:\n",
    "            xi = cal_xi(data, delta, theta1)\n",
    "            xi =np.array([xi]).transpose()\n",
    "            T =  np.linalg.inv( Z.transpose().dot(xi).dot(xi.transpose()).dot(Z) )\n",
    "        \n",
    "        theta2 = calc_theta2(data, v, T, theta2)\n",
    "        delta = cal_delta(data, v, theta2)\n",
    "        theta1 = cal_theta1(data, delta, T)\n",
    "        \n",
    "    return theta1, theta2\n",
    "\n",
    "\n",
    "theta = calc_theta(data, v, theta2_init)\n",
    "\n",
    "print theta"
   ]
  },
  {
   "cell_type": "code",
   "execution_count": null,
   "metadata": {},
   "outputs": [],
   "source": []
  }
 ],
 "metadata": {
  "kernelspec": {
   "display_name": "Python 2",
   "language": "python",
   "name": "python2"
  },
  "language_info": {
   "codemirror_mode": {
    "name": "ipython",
    "version": 2
   },
   "file_extension": ".py",
   "mimetype": "text/x-python",
   "name": "python",
   "nbconvert_exporter": "python",
   "pygments_lexer": "ipython2",
   "version": "2.7.15"
  }
 },
 "nbformat": 4,
 "nbformat_minor": 2
}
