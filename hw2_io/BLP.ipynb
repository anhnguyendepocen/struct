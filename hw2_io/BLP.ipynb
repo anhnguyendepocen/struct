{
 "cells": [
  {
   "cell_type": "code",
   "execution_count": 2,
   "metadata": {},
   "outputs": [],
   "source": [
    "import pandas as pd\n",
    "import math\n",
    "import numpy as np\n",
    "from scipy.optimize import minimize\n",
    "from scipy.optimize import fsolve\n",
    "import statsmodels.api as sm\n",
    "from scipy.stats import norm\n",
    "from statsmodels.sandbox.regression.gmm import GMM"
   ]
  },
  {
   "cell_type": "code",
   "execution_count": 3,
   "metadata": {},
   "outputs": [],
   "source": [
    "def comp_outside_good(data,name):\n",
    "    #pre-processing to calculate outside good shares\n",
    "    shares = data[['Market_ID',name]].copy()\n",
    "\n",
    "    group_shares = shares.groupby('Market_ID').sum()\n",
    "    group_shares['Outside Good Share'] = 1 - group_shares[name]\n",
    "\n",
    "    data = pd.merge(data,group_shares[['Outside Good Share']], \n",
    "                right_index=True, left_on = 'Market_ID')\n",
    "    return data\n",
    "\n",
    "data = pd.read_csv('data.csv')\n",
    "data = comp_outside_good(data,'Inside Good Share')"
   ]
  },
  {
   "cell_type": "code",
   "execution_count": 4,
   "metadata": {},
   "outputs": [],
   "source": [
    "def setup_data(data):\n",
    "    \"\"\"simplify setting up data correctly\"\"\"\n",
    "    #set up x and y\n",
    "    y = data[['Inside Good Share','Outside Good Share']]\n",
    "    x =  data[['Network Score','Satisfaction Score','PPO','Premium']]\n",
    "    return x,y\n",
    "\n",
    "\n",
    "def setup_hausman(data):\n",
    "    #calculate hausmann insturments\n",
    "    price = data['Premium']\n",
    "    \n",
    "    mkt_dum = pd.get_dummies(data['Market_ID'],prefix='mkt',drop_first=True)\n",
    "    plan_dum = pd.get_dummies(data['Plan_ID'],prefix='plan',drop_first=True)\n",
    "    exog = np.array( data[['Network Score','Satisfaction Score', 'PPO']])\n",
    "    \n",
    "    #calc avg price in other markets\n",
    "    hausman_mod1 = sm.OLS(price, sm.add_constant(plan_dum))\n",
    "    hausman_fit1 = hausman_mod1.fit()\n",
    "    hausman_instr1 = hausman_fit1.fittedvalues\n",
    "    hausman_instr1 = np.array([hausman_instr1]).transpose()\n",
    "    \n",
    "    #avg price in same mkt\n",
    "    hausman_mod2 = sm.OLS(price, sm.add_constant(mkt_dum))\n",
    "    hausman_fit2 = hausman_mod2.fit()\n",
    "    hausman_instr2 = hausman_fit2.fittedvalues\n",
    "    hausman_instr2 = np.array([hausman_instr2]).transpose()\n",
    "    \n",
    "    #concat hausman instr with exog variables\n",
    "    instr = np.concatenate( (exog, hausman_instr1, hausman_instr2), axis =1 )\n",
    "    \n",
    "    return instr\n",
    "\n",
    "x,y =  setup_data(data)\n",
    "z = setup_hausman(data)"
   ]
  },
  {
   "cell_type": "code",
   "execution_count": 5,
   "metadata": {},
   "outputs": [
    {
     "name": "stdout",
     "output_type": "stream",
     "text": [
      "600 16 3300\n"
     ]
    }
   ],
   "source": [
    "#set up useful global variables \n",
    "NMKTS = data['Market_ID'].nunique()\n",
    "NPLANS = data['Plan_ID'].nunique()\n",
    "NOBS = data['Plan_ID'].count()\n",
    "NSIM = 20\n",
    "\n",
    "theta1 = np.array([3.5,2,1,-2])\n",
    "theta2 = np.array([.15,.1,.5]) # initialize theta2 for testing purposes\n",
    "delta = np.ones(NOBS)*(-2)\n",
    "\n",
    "#print global variables\n",
    "print NMKTS,NPLANS,NOBS"
   ]
  },
  {
   "cell_type": "code",
   "execution_count": 6,
   "metadata": {},
   "outputs": [],
   "source": [
    "#set up random draws v\n",
    "v = np.random.normal(size=(NSIM,3)) #same simulation for all markets\n",
    "#np.savetxt(\"simulations.csv\", v, delimiter=\",\")\n",
    "\n",
    "#use same simulations each time\n",
    "v = np.genfromtxt('simulations.csv', delimiter=',')\n",
    "v = np.tile(v.reshape(NSIM,3,1) , (1,1,NOBS))"
   ]
  },
  {
   "cell_type": "markdown",
   "metadata": {},
   "source": [
    "# Part 1 - Estimation"
   ]
  },
  {
   "cell_type": "markdown",
   "metadata": {},
   "source": [
    "## Calculating $\\delta_{jt}$, $\\xi_{jt}$"
   ]
  },
  {
   "cell_type": "code",
   "execution_count": 7,
   "metadata": {},
   "outputs": [],
   "source": [
    "def cal_sim_s(data, v, delta, theta2):\n",
    "    \"\"\"calculate market share for each simulated consumer\"\"\"\n",
    "    \n",
    "    #copy x and delta for simulations using tiling\n",
    "    x =  np.array(data.copy()[['Network Score','Satisfaction Score','PPO']]).transpose()\n",
    "    x  = np.tile(x,(NSIM,1,1))\n",
    "    theta2 = np.tile( np.array([theta2]).transpose()  ,(NSIM,1,3300))\n",
    "    delta  = np.tile( delta  ,(NSIM,1))\n",
    "    \n",
    "    #add to calcualte market shares\n",
    "    sim_exp = pd.DataFrame( np.exp(delta + (theta2*v*x).sum(axis=1)).transpose() ) \n",
    "    \n",
    "    #sum up between markets\n",
    "    sim_exp['mkt_id'] = data['Market_ID']\n",
    "    sum_exp = sim_exp.groupby('mkt_id').sum() \n",
    "    sum_exp = pd.merge(data.copy()[['Market_ID']], sum_exp, \n",
    "                       right_index=True, left_on = 'Market_ID')\n",
    "    \n",
    "    #format so I can broadcast\n",
    "    sim_exp = np.array(sim_exp).transpose()[:-1]\n",
    "    sum_exp = np.array(sum_exp).transpose()[1:] + 1\n",
    "    \n",
    "    return sim_exp/sum_exp\n",
    "\n",
    "\n",
    "def cal_s(data, v, delta, theta2):\n",
    "    \"\"\"Calculate market share\n",
    "    Calculates individual choice probability first, then take sum\"\"\"\n",
    "    \n",
    "    shares = (1./NSIM)*cal_sim_s(data, v, delta, theta2).sum(axis=0)\n",
    "    return shares\n",
    "\n",
    "\n",
    "s = cal_s(data, v, delta, theta2)"
   ]
  },
  {
   "cell_type": "code",
   "execution_count": 8,
   "metadata": {},
   "outputs": [
    {
     "name": "stdout",
     "output_type": "stream",
     "text": [
      "(3300,)\n",
      "0.0537547330113\n"
     ]
    }
   ],
   "source": [
    "def cal_delta(data, v, theta2, error = 1e-3, maxiter = 500):\n",
    "    \"\"\"Calculate mean utility via contraction mapping\"\"\"\n",
    "\n",
    "    niter = 0\n",
    "    \n",
    "    #initialize loop parameters\n",
    "    delta = np.zeros(NOBS)\n",
    "    s = cal_s(data, v, delta, theta2)\n",
    "    diff = np.log(data['Inside Good Share']) - np.log(s)\n",
    "    \n",
    "    \n",
    "    while ((abs(diff).max() > 1e-6) #this is easier to converge\n",
    "           and (abs(diff).mean() > error) \n",
    "           and niter < maxiter):\n",
    "        \n",
    "        s = cal_s(data, v, delta, theta2)\n",
    "        diff = np.log(data['Inside Good Share']) - np.log(s)\n",
    "\n",
    "        if np.isnan(diff).sum():\n",
    "            raise Exception('nan in diffs')\n",
    "            \n",
    "        delta += diff\n",
    "        niter += 1\n",
    "\n",
    "    return delta\n",
    "\n",
    "\n",
    "delta = cal_delta(data, v, theta2)\n",
    "print delta.shape\n",
    "print delta.mean()"
   ]
  },
  {
   "cell_type": "code",
   "execution_count": 9,
   "metadata": {},
   "outputs": [
    {
     "name": "stdout",
     "output_type": "stream",
     "text": [
      "0.37984154348916377 -0.7035693264545015 -0.243041055595\n"
     ]
    }
   ],
   "source": [
    "#initialize theta1 i.e. alpha and beta\n",
    "def cal_xi(data, delta, theta1):\n",
    "    \"\"\"Calculate xi with F.O.C\"\"\"\n",
    "    x,y =  setup_data(data)\n",
    "    \n",
    "    xi = np.matmul(np.array(x),theta1)\n",
    "    \n",
    "    xi = delta - np.matmul(np.array(x),theta1)\n",
    "    \n",
    "    return  xi\n",
    "\n",
    "xi = cal_xi(data, delta,  theta1)\n",
    "print xi.max(), xi.min(), xi.mean()"
   ]
  },
  {
   "cell_type": "markdown",
   "metadata": {},
   "source": [
    "## Calculating  $\\theta_1,\\theta_2$\n",
    "\n",
    "where $\\theta_1 = (\\alpha, \\beta)$\n",
    "\n",
    "I only solve GMM over $\\theta_2$, the non-linear parameters"
   ]
  },
  {
   "cell_type": "code",
   "execution_count": 10,
   "metadata": {},
   "outputs": [
    {
     "name": "stdout",
     "output_type": "stream",
     "text": [
      "[ 2.65526242  1.96570924  0.67239952 -1.72223237]\n"
     ]
    }
   ],
   "source": [
    "def cal_theta1(data, delta, z, T):\n",
    "    \"\"\"  calculate theta 1 using FOCs (X1'Z T Z'X )^-1 X1'Z T Z' delta \"\"\"\n",
    "    \n",
    "    #set up variables\n",
    "    x,y =  setup_data(data)\n",
    "    X,Z = np.array(x), np.array(z)\n",
    "    \n",
    "    #build up to main equation\n",
    "    XtZ = X.transpose().dot(Z)\n",
    "    ZtX = Z.transpose().dot(X)\n",
    "        \n",
    "    first_exp = np.linalg.inv( XtZ.dot(T).dot(ZtX))\n",
    "    second_exp = XtZ.dot(T).dot(Z.transpose()).dot(delta)\n",
    "    theta1 = first_exp.dot(second_exp)\n",
    "    return theta1\n",
    "\n",
    "T =  np.linalg.inv( z.transpose().dot(z) )\n",
    "print cal_theta1(data, delta, z, T)"
   ]
  },
  {
   "cell_type": "code",
   "execution_count": 11,
   "metadata": {},
   "outputs": [
    {
     "name": "stdout",
     "output_type": "stream",
     "text": [
      "Optimization terminated successfully.\n",
      "         Current function value: 0.000000\n",
      "         Iterations: 44\n",
      "         Function evaluations: 88\n"
     ]
    },
    {
     "data": {
      "text/plain": [
       "array([1.38684589, 1.21411172, 0.51646302])"
      ]
     },
     "execution_count": 11,
     "metadata": {},
     "output_type": "execute_result"
    }
   ],
   "source": [
    "def gmm_objective(theta2_init, data,  v, z,  T):\n",
    "    \"\"\"w' z phi z' w, of theta2\"\"\"\n",
    "    #set up variables\n",
    "    x,y =  setup_data(data)\n",
    "    X,Z = np.array(x), np.array(z)\n",
    "    \n",
    "    #do calculations\n",
    "    delta = cal_delta(data, v, theta2_init)\n",
    "    theta1 = cal_theta1(data, delta, z, T)\n",
    "    xi = cal_xi(data, delta, theta1)\n",
    "        \n",
    "    xitZ = xi.transpose().dot(Z)\n",
    "    Ztxi = Z.transpose().dot(xi)\n",
    "    return xitZ.dot(T).dot(Ztxi)\n",
    "    \n",
    "\n",
    "def calc_theta2(data, v, z, T, theta2_init,NM=True):\n",
    "    \"\"\"calculate theta2 using scipy\"\"\"\n",
    "    if NM:\n",
    "        theta2 = minimize(gmm_objective, theta2_init, args=(data,  v, z, T), method='Nelder-Mead',\n",
    "                      options={'maxiter':1000, 'disp': True, 'xatol':1e-4, 'fatol':1})\n",
    "    else:\n",
    "        theta2 = minimize(gmm_objective, theta2_init, args=(data,  v, z, T), method='BFGS',\n",
    "                      options={'maxiter':100, 'disp': True})\n",
    "    return theta2.x\n",
    "\n",
    "\n",
    "\n",
    "#run some tests\n",
    "#theta2_init = np.array([1,.5,2])\n",
    "#theta2_test = calc_theta2( data, v, T, theta2_init)\n",
    "# print theta2_test\n",
    "\n",
    "\n",
    "theta2_init = np.array([1,1,1])\n",
    "calc_theta2(data, v, z, T, theta2_init)"
   ]
  },
  {
   "cell_type": "code",
   "execution_count": 12,
   "metadata": {
    "scrolled": true
   },
   "outputs": [
    {
     "name": "stdout",
     "output_type": "stream",
     "text": [
      "Optimization terminated successfully.\n",
      "         Current function value: 0.000000\n",
      "         Iterations: 44\n",
      "         Function evaluations: 88\n",
      "Optimization terminated successfully.\n",
      "         Current function value: -2363861164543129600.000000\n",
      "         Iterations: 125\n",
      "         Function evaluations: 336\n",
      "(array([ 3.34952545,  1.95632696,  0.6506052 , -1.5642128 ]), array([1.43279579, 1.25336653, 0.50565619]))\n"
     ]
    }
   ],
   "source": [
    "theta2_init = np.array([1,1,1])\n",
    "\n",
    "def calc_theta(data, v, theta2_init):\n",
    "    \n",
    "    #initialize theta\n",
    "    x,y =  setup_data(data)\n",
    "    z = setup_hausman(data)\n",
    "    \n",
    "    X,Z = np.array(x), np.array(z)\n",
    "    theta2 = theta2_init \n",
    "    \n",
    "    #on first step, use consistent approximation of T\n",
    "    T =  np.linalg.inv( z.transpose().dot(z) )\n",
    "    for i in range(2):  \n",
    "       \n",
    "        #on second use T using estimated xi\n",
    "        if i==1:\n",
    "            xi = cal_xi(data, delta, theta1)\n",
    "            xi =np.array([xi]).transpose()\n",
    "            T =  np.linalg.inv( Z.transpose().dot(xi).dot(xi.transpose()).dot(Z) )\n",
    "        \n",
    "        theta2 = calc_theta2(data, v, z, T, theta2)\n",
    "        delta = cal_delta(data, v, theta2)\n",
    "        theta1 = cal_theta1(data, delta, z, T)\n",
    "        \n",
    "    return theta1, theta2\n",
    "\n",
    "theta = calc_theta(data, v, theta2_init)\n",
    "\n",
    "\n",
    "print theta"
   ]
  },
  {
   "cell_type": "code",
   "execution_count": 13,
   "metadata": {},
   "outputs": [],
   "source": [
    "#save xi and write to array for counterfactuals\n",
    "theta1_est, theta2_est = theta\n",
    "\n",
    "delta_est = cal_delta(data, v, theta2_est)\n",
    "xi_est = cal_xi(data, delta_est, theta1_est)\n",
    "\n",
    "np.savetxt(\"xi.csv\", xi_est, delimiter=\",\")\n",
    "#print data['Inside Good Share'] - cal_s(data, v, delta, theta2)"
   ]
  },
  {
   "cell_type": "markdown",
   "metadata": {},
   "source": [
    "## Calculate Standard Errors"
   ]
  },
  {
   "cell_type": "code",
   "execution_count": null,
   "metadata": {},
   "outputs": [],
   "source": []
  },
  {
   "cell_type": "code",
   "execution_count": null,
   "metadata": {},
   "outputs": [],
   "source": []
  },
  {
   "cell_type": "code",
   "execution_count": null,
   "metadata": {},
   "outputs": [],
   "source": []
  },
  {
   "cell_type": "code",
   "execution_count": null,
   "metadata": {},
   "outputs": [],
   "source": []
  },
  {
   "cell_type": "code",
   "execution_count": null,
   "metadata": {},
   "outputs": [],
   "source": []
  }
 ],
 "metadata": {
  "kernelspec": {
   "display_name": "Python 2",
   "language": "python",
   "name": "python2"
  },
  "language_info": {
   "codemirror_mode": {
    "name": "ipython",
    "version": 2
   },
   "file_extension": ".py",
   "mimetype": "text/x-python",
   "name": "python",
   "nbconvert_exporter": "python",
   "pygments_lexer": "ipython2",
   "version": "2.7.15"
  }
 },
 "nbformat": 4,
 "nbformat_minor": 2
}
