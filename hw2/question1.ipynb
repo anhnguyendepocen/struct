{
 "cells": [
  {
   "cell_type": "markdown",
   "metadata": {},
   "source": [
    "# Assignment 2 Structural Econometrics: Question 1\n",
    "## November 9, 2018 \n",
    "## Eric Schulman "
   ]
  },
  {
   "cell_type": "code",
   "execution_count": 21,
   "metadata": {},
   "outputs": [],
   "source": [
    "import pandas as pd\n",
    "import math\n",
    "import numpy as np\n",
    "import matplotlib.pyplot as plt\n",
    "import statsmodels.api as sm\n",
    "from scipy.stats import norm\n",
    "from statsmodels.sandbox.regression.gmm import GMM\n",
    "from statsmodels.base.model import GenericLikelihoodModel"
   ]
  },
  {
   "cell_type": "code",
   "execution_count": 28,
   "metadata": {},
   "outputs": [
    {
     "name": "stdout",
     "output_type": "stream",
     "text": [
      "y      0.568393\n",
      "x1    42.537849\n",
      "x2    12.286853\n",
      "z      9.029880\n",
      "dtype: float64\n"
     ]
    }
   ],
   "source": [
    "#load data into memory\n",
    "data = pd.DataFrame(data = np.genfromtxt('ps2.dat', delimiter='  '), columns=['y','x1','x2','z'])\n",
    "\n",
    "#summary statistics\n",
    "print data.mean()"
   ]
  },
  {
   "cell_type": "markdown",
   "metadata": {},
   "source": [
    "### Part a"
   ]
  },
  {
   "cell_type": "code",
   "execution_count": 32,
   "metadata": {},
   "outputs": [
    {
     "name": "stdout",
     "output_type": "stream",
     "text": [
      "Optimization terminated successfully.\n",
      "         Current function value: 0.664055\n",
      "         Iterations 4\n",
      "                          Probit Regression Results                           \n",
      "==============================================================================\n",
      "Dep. Variable:                      y   No. Observations:                  753\n",
      "Model:                         Probit   Df Residuals:                      750\n",
      "Method:                           MLE   Df Model:                            2\n",
      "Date:                Fri, 19 Oct 2018   Pseudo R-squ.:                 0.02882\n",
      "Time:                        19:08:07   Log-Likelihood:                -500.03\n",
      "converged:                       True   LL-Null:                       -514.87\n",
      "                                        LLR p-value:                 3.590e-07\n",
      "==============================================================================\n",
      "                 coef    std err          z      P>|z|      [0.025      0.975]\n",
      "------------------------------------------------------------------------------\n",
      "const         -0.7080      0.380     -1.864      0.062      -1.453       0.037\n",
      "x1            -0.0092      0.006     -1.592      0.111      -0.021       0.002\n",
      "x2             0.1040      0.021      4.905      0.000       0.062       0.146\n",
      "==============================================================================\n"
     ]
    }
   ],
   "source": [
    "#fit a simple probit\n",
    "probit_mod = sm.Probit(data['y'], sm.add_constant(data[['x1','x2']]),missing='drop')\n",
    "\n",
    "probit_results = probit_mod.fit()\n",
    "print probit_results.summary()"
   ]
  },
  {
   "cell_type": "markdown",
   "metadata": {},
   "source": [
    "### Part b"
   ]
  },
  {
   "cell_type": "code",
   "execution_count": 35,
   "metadata": {},
   "outputs": [
    {
     "name": "stdout",
     "output_type": "stream",
     "text": [
      "       Probit Marginal Effects       \n",
      "=====================================\n",
      "Dep. Variable:                      y\n",
      "Method:                          dydx\n",
      "At:                              mean\n",
      "==============================================================================\n",
      "                dy/dx    std err          z      P>|z|      [0.025      0.975]\n",
      "------------------------------------------------------------------------------\n",
      "x1            -0.0036      0.002     -1.592      0.111      -0.008       0.001\n",
      "x2             0.0408      0.008      4.907      0.000       0.025       0.057\n",
      "==============================================================================\n"
     ]
    }
   ],
   "source": [
    "#calculate marginal effects\n",
    "probit_margeff = probit_results.get_margeff(at='mean',dummy=True)\n",
    "print probit_margeff.summary()"
   ]
  },
  {
   "cell_type": "markdown",
   "metadata": {},
   "source": [
    "For a woman of mean age and education, the marginal effect of an additional year of education on the probability of working is about 4.1%. "
   ]
  },
  {
   "cell_type": "markdown",
   "metadata": {},
   "source": [
    "### Part c"
   ]
  },
  {
   "cell_type": "code",
   "execution_count": 39,
   "metadata": {},
   "outputs": [
    {
     "name": "stdout",
     "output_type": "stream",
     "text": [
      "Optimization terminated successfully.\n",
      "         Current function value: 0.664044\n",
      "         Iterations 5\n",
      "                           Logit Regression Results                           \n",
      "==============================================================================\n",
      "Dep. Variable:                      y   No. Observations:                  753\n",
      "Model:                          Logit   Df Residuals:                      750\n",
      "Method:                           MLE   Df Model:                            2\n",
      "Date:                Fri, 19 Oct 2018   Pseudo R-squ.:                 0.02884\n",
      "Time:                        19:12:32   Log-Likelihood:                -500.03\n",
      "converged:                       True   LL-Null:                       -514.87\n",
      "                                        LLR p-value:                 3.561e-07\n",
      "==============================================================================\n",
      "                 coef    std err          z      P>|z|      [0.025      0.975]\n",
      "------------------------------------------------------------------------------\n",
      "const         -1.1322      0.614     -1.843      0.065      -2.336       0.072\n",
      "x1            -0.0152      0.009     -1.624      0.104      -0.034       0.003\n",
      "x2             0.1681      0.035      4.819      0.000       0.100       0.237\n",
      "==============================================================================\n"
     ]
    }
   ],
   "source": [
    "#fit a simple logit\n",
    "logit_mod = sm.Logit(data['y'], sm.add_constant(data[['x1','x2']]),missing='drop')\n",
    "\n",
    "logit_results = logit_mod.fit()\n",
    "print logit_results.summary()"
   ]
  },
  {
   "cell_type": "markdown",
   "metadata": {},
   "source": [
    "* Why are there big differences in the ratio of estimated coefficients? \n",
    "\n",
    "The tails on the logit distribution are thicker. However, the estimated marignal effect should be roughly the same between the two models.  The partial effects in both cases are given by $\\frac{\\partial{p(x)}}{\\partial x_j} = g(x\\beta)\\beta_j$ where $g(x\\beta)$ is the pdf. As a result the coefficeints for logit model are bigger in magnitude. \n",
    "\n",
    "* What about the ratio of estimated coefficients?\n",
    "\n",
    "More over, since the estimated marignal effect should be roughly the same between the two models. As a result, the coefficients have roughly the same ratio. \n",
    "\n",
    "\n",
    "\n"
   ]
  },
  {
   "cell_type": "code",
   "execution_count": null,
   "metadata": {},
   "outputs": [],
   "source": []
  }
 ],
 "metadata": {
  "kernelspec": {
   "display_name": "Python 2",
   "language": "python",
   "name": "python2"
  },
  "language_info": {
   "codemirror_mode": {
    "name": "ipython",
    "version": 2
   },
   "file_extension": ".py",
   "mimetype": "text/x-python",
   "name": "python",
   "nbconvert_exporter": "python",
   "pygments_lexer": "ipython2",
   "version": "2.7.15"
  }
 },
 "nbformat": 4,
 "nbformat_minor": 2
}
