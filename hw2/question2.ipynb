{
 "cells": [
  {
   "cell_type": "code",
   "execution_count": 5,
   "metadata": {},
   "outputs": [],
   "source": [
    "import pandas as pd\n",
    "import matplotlib.pyplot as plt\n",
    "import numpy as np\n",
    "import math\n",
    "\n",
    "import statsmodels.api as sm\n",
    "from statsmodels.sandbox.regression.gmm import GMM\n",
    "from statsmodels.base.model import GenericLikelihoodModel\n",
    "\n",
    "from scipy.stats import norm\n",
    "from scipy.stats import multivariate_normal"
   ]
  },
  {
   "cell_type": "code",
   "execution_count": 6,
   "metadata": {},
   "outputs": [
    {
     "name": "stdout",
     "output_type": "stream",
     "text": [
      "y      0.568393\n",
      "x1    42.537849\n",
      "x2    12.286853\n",
      "z      9.029880\n",
      "dtype: float64\n"
     ]
    }
   ],
   "source": [
    "#load data into memory\n",
    "data = pd.DataFrame(data = np.genfromtxt('ps2.dat', delimiter='  '), columns=['y','x1','x2','z'])\n",
    "\n",
    "print data.mean()"
   ]
  },
  {
   "cell_type": "markdown",
   "metadata": {},
   "source": [
    "# Part a\n",
    "\n",
    "An economic story where $x_{2i}$ is correlated with $\\epsilon_i$ involves simultaneity between the decision of an education level and years they want to work. Women who intend to stay in the labor force longer may have select more education."
   ]
  },
  {
   "cell_type": "markdown",
   "metadata": {},
   "source": [
    "# Part b"
   ]
  },
  {
   "cell_type": "markdown",
   "metadata": {},
   "source": [
    "# Part c\n",
    "\n",
    "$\\rho$ represents the correlation between the two error terms. The intrument is relevant it should be non-zero. Since, one would expect parents education to be positively related to your education, you would expect $\\rho$ to be positive."
   ]
  },
  {
   "cell_type": "markdown",
   "metadata": {},
   "source": [
    "# Part d"
   ]
  },
  {
   "cell_type": "code",
   "execution_count": 17,
   "metadata": {},
   "outputs": [
    {
     "name": "stdout",
     "output_type": "stream",
     "text": [
      "Optimization terminated successfully.\n",
      "         Current function value: 2.101981\n",
      "         Iterations: 1586\n",
      "         Function evaluations: 2391\n",
      "                                part_d Results                                \n",
      "==============================================================================\n",
      "Dep. Variable:            ['y', 'x2']   Log-Likelihood:                -1582.8\n",
      "Model:                         part_d   AIC:                             3170.\n",
      "Method:            Maximum Likelihood   BIC:                             3179.\n",
      "Date:                Sat, 20 Oct 2018                                         \n",
      "Time:                        12:32:38                                         \n",
      "No. Observations:                 753                                         \n",
      "Df Residuals:                     751                                         \n",
      "Df Model:                           1                                         \n",
      "==============================================================================\n",
      "                 coef    std err          z      P>|z|      [0.025      0.975]\n",
      "------------------------------------------------------------------------------\n",
      "theta_0      -15.3035        nan        nan        nan         nan         nan\n",
      "theta_1       12.7769        nan        nan        nan         nan         nan\n",
      "theta_2        1.6790        nan        nan        nan         nan         nan\n",
      "theta_3        9.1255        nan        nan        nan         nan         nan\n",
      "theta_4       -0.0031        nan        nan        nan         nan         nan\n",
      "theta_5        0.3649        nan        nan        nan         nan         nan\n",
      "rho            1.4064        nan        nan        nan         nan         nan\n",
      "sigma          1.9799        nan        nan        nan         nan         nan\n",
      "==============================================================================\n"
     ]
    },
    {
     "name": "stderr",
     "output_type": "stream",
     "text": [
      "/home/erichschulman/anaconda2/lib/python2.7/site-packages/statsmodels/base/model.py:488: HessianInversionWarning: Inverting hessian failed, no bse or cov_params available\n",
      "  'available', HessianInversionWarning)\n"
     ]
    }
   ],
   "source": [
    "class part_d(GenericLikelihoodModel):\n",
    "    \"\"\"class for evaluating question 1 part b\"\"\"\n",
    "    \n",
    "    def nloglikeobs(self, params):\n",
    "        \n",
    "        t0,t1,t2,t3,t4,t5,rho,sigma = params\n",
    "\n",
    "        y,x2 = self.endog.transpose()\n",
    "        x1,z = self.exog.transpose()\n",
    "        \n",
    "        #pr(eta | ....)\n",
    "        eta = x2 - t3 - t4*x1 - t5*z\n",
    "        pr_eta = norm(0,sigma).logpdf(eta).sum()\n",
    "        \n",
    "        #pr(y|x2 ... )\n",
    "        c = t0 + t2*t3 + (t1 + t2*t4)*x1 + t2*t5*z\n",
    "        pr_epsilon = norm(eta*rho/sigma,1-rho**2/sigma).logcdf(t2*eta + c).sum()\n",
    "        \n",
    "        return -(pr_eta+pr_epsilon)\n",
    "    \n",
    "    \n",
    "    def fit(self, start_params=None, maxiter=10000, maxfun=5000, **kwds):\n",
    "        # we have one additional parameter and we need to add it for summary\n",
    "        if start_params == None:\n",
    "            start_params = [.5,.5,.5,.5,.5,.5,.5,.5]\n",
    "        return super(part_d, self).fit(start_params=start_params,\n",
    "                                       maxiter=maxiter, maxfun=maxfun, **kwds)\n",
    "\n",
    "    \n",
    "model_d = part_d(data[['y','x2']],data[['x1','z']])\n",
    "\n",
    "result_d = model_d.fit()\n",
    "print(result_d.summary(xname=['theta_0', 'theta_1', 'theta_2',\n",
    "                              'theta_3','theta_4','theta_5',\n",
    "                              'rho', 'sigma']))"
   ]
  },
  {
   "cell_type": "code",
   "execution_count": 19,
   "metadata": {},
   "outputs": [
    {
     "data": {
      "text/plain": [
       "-16.013631199228037"
      ]
     },
     "execution_count": 19,
     "metadata": {},
     "output_type": "execute_result"
    }
   ],
   "source": [
    "var = multivariate_normal(mean=[0,0], cov=[[1,0],[0,1]])\n",
    "joint_distr = multivariate_normal(mean=[0,0], cov=[[1,rho],[rho,sigma]]) \n",
    "a = np.array([[0,1,3],[1,1,3]]).transpose()\n",
    "np.log(var.pdf(a)).sum()"
   ]
  },
  {
   "cell_type": "code",
   "execution_count": 13,
   "metadata": {},
   "outputs": [
    {
     "name": "stdout",
     "output_type": "stream",
     "text": [
      "[0.84134475 0.69146246 0.63055866]\n"
     ]
    }
   ],
   "source": [
    "print norm(0,[1,2,3]).cdf([1,1,1])"
   ]
  },
  {
   "cell_type": "code",
   "execution_count": null,
   "metadata": {},
   "outputs": [],
   "source": []
  }
 ],
 "metadata": {
  "kernelspec": {
   "display_name": "Python 2",
   "language": "python",
   "name": "python2"
  },
  "language_info": {
   "codemirror_mode": {
    "name": "ipython",
    "version": 2
   },
   "file_extension": ".py",
   "mimetype": "text/x-python",
   "name": "python",
   "nbconvert_exporter": "python",
   "pygments_lexer": "ipython2",
   "version": "2.7.15"
  }
 },
 "nbformat": 4,
 "nbformat_minor": 2
}
