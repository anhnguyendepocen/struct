{
 "cells": [
  {
   "cell_type": "code",
   "execution_count": 2,
   "metadata": {},
   "outputs": [],
   "source": [
    "import pandas as pd\n",
    "import matplotlib.pyplot as plt\n",
    "import numpy as np\n",
    "import math\n",
    "\n",
    "import statsmodels.api as sm\n",
    "from statsmodels.sandbox.regression.gmm import GMM\n",
    "from statsmodels.base.model import GenericLikelihoodModel\n",
    "\n",
    "from scipy.stats import norm\n",
    "from scipy.stats import multivariate_normal"
   ]
  },
  {
   "cell_type": "code",
   "execution_count": 3,
   "metadata": {},
   "outputs": [
    {
     "name": "stdout",
     "output_type": "stream",
     "text": [
      "y      0.568393\n",
      "x1    42.537849\n",
      "x2    12.286853\n",
      "z      9.029880\n",
      "dtype: float64\n"
     ]
    }
   ],
   "source": [
    "#load data into memory\n",
    "data = pd.DataFrame(data = np.genfromtxt('ps2.dat', delimiter='  '), columns=['y','x1','x2','z'])\n",
    "\n",
    "print data.mean()"
   ]
  },
  {
   "cell_type": "markdown",
   "metadata": {},
   "source": [
    "# Part a\n",
    "\n",
    "An economic story where $x_{2i}$ is correlated with $\\epsilon_i$ involves simultaneity between the decision of an education level and years they want to work. Women who intend to stay in the labor force longer may have select more education."
   ]
  },
  {
   "cell_type": "markdown",
   "metadata": {},
   "source": [
    "# Part b"
   ]
  },
  {
   "cell_type": "markdown",
   "metadata": {},
   "source": [
    "# Part c\n",
    "\n",
    "$\\rho$ represents the correlation between the two error terms. The intrument is relevant it should be non-zero. Since, one would expect parents education to be positively related to your education, you would expect $\\rho$ to be positive."
   ]
  },
  {
   "cell_type": "markdown",
   "metadata": {},
   "source": [
    "# Part d"
   ]
  },
  {
   "cell_type": "code",
   "execution_count": 9,
   "metadata": {},
   "outputs": [
    {
     "name": "stdout",
     "output_type": "stream",
     "text": [
      "                            OLS Regression Results                            \n",
      "==============================================================================\n",
      "Dep. Variable:                     x2   R-squared:                       0.245\n",
      "Model:                            OLS   Adj. R-squared:                  0.243\n",
      "Method:                 Least Squares   F-statistic:                     121.7\n",
      "Date:                Thu, 25 Oct 2018   Prob (F-statistic):           1.63e-46\n",
      "Time:                        17:03:49   Log-Likelihood:                -1582.8\n",
      "No. Observations:                 753   AIC:                             3172.\n",
      "Df Residuals:                     750   BIC:                             3185.\n",
      "Df Model:                           2                                         \n",
      "Covariance Type:            nonrobust                                         \n",
      "==============================================================================\n",
      "                 coef    std err          t      P>|t|      [0.025      0.975]\n",
      "------------------------------------------------------------------------------\n",
      "const          9.1255      0.493     18.507      0.000       8.157      10.093\n",
      "x1            -0.0031      0.009     -0.341      0.733      -0.021       0.015\n",
      "z              0.3649      0.024     15.137      0.000       0.318       0.412\n",
      "==============================================================================\n",
      "Omnibus:                       14.540   Durbin-Watson:                   1.961\n",
      "Prob(Omnibus):                  0.001   Jarque-Bera (JB):               26.395\n",
      "Skew:                           0.037   Prob(JB):                     1.86e-06\n",
      "Kurtosis:                       3.914   Cond. No.                         302.\n",
      "==============================================================================\n",
      "\n",
      "Warnings:\n",
      "[1] Standard Errors assume that the covariance matrix of the errors is correctly specified.\n"
     ]
    }
   ],
   "source": [
    "#run ols first to help fit\n",
    "\n",
    "model_d_stage1 = sm.OLS(data['x2'],sm.add_constant(data[['x1','z']]) )\n",
    "model_d_stage1_fit = model_d_stage1.fit()\n",
    "data['eta'] = model_d_stage1_fit.resid\n",
    "T3, T4, T5 = model_d_stage1_fit.params\n",
    "\n",
    "print model_d_stage1_fit.summary()"
   ]
  },
  {
   "cell_type": "code",
   "execution_count": 14,
   "metadata": {},
   "outputs": [
    {
     "name": "stdout",
     "output_type": "stream",
     "text": [
      "Optimization terminated successfully.\n",
      "         Current function value: 2.591876\n",
      "         Iterations: 113\n",
      "         Function evaluations: 204\n",
      "                                part_d Results                                \n",
      "==============================================================================\n",
      "Dep. Variable:            ['y', 'x2']   Log-Likelihood:                -1951.7\n",
      "Model:                         part_d   AIC:                             3909.\n",
      "Method:            Maximum Likelihood   BIC:                             3923.\n",
      "Date:                Thu, 25 Oct 2018                                         \n",
      "Time:                        17:41:25                                         \n",
      "No. Observations:                 753                                         \n",
      "Df Residuals:                     750                                         \n",
      "Df Model:                           2                                         \n",
      "==============================================================================\n",
      "                 coef    std err          z      P>|z|      [0.025      0.975]\n",
      "------------------------------------------------------------------------------\n",
      "theta_0       -0.4012        nan        nan        nan         nan         nan\n",
      "theta_1        0.2982        nan        nan        nan         nan         nan\n",
      "theta_2        0.1988        nan        nan        nan         nan         nan\n",
      "theta_3        9.1250        nan        nan        nan         nan         nan\n",
      "theta_4       -0.0031        nan        nan        nan         nan         nan\n",
      "theta_5        0.3649        nan        nan        nan         nan         nan\n",
      "rho            0.1193        nan        nan        nan         nan         nan\n",
      "sigma          1.4000        nan        nan        nan         nan         nan\n",
      "==============================================================================\n"
     ]
    },
    {
     "name": "stderr",
     "output_type": "stream",
     "text": [
      "/home/erichschulman/anaconda2/lib/python2.7/site-packages/statsmodels/base/model.py:488: HessianInversionWarning: Inverting hessian failed, no bse or cov_params available\n",
      "  'available', HessianInversionWarning)\n"
     ]
    }
   ],
   "source": [
    "class part_d(GenericLikelihoodModel):\n",
    "    \"\"\"class for evaluating question 1 part b\"\"\"\n",
    "    \n",
    "    def nloglikeobs(self, params, v=False):\n",
    "        \n",
    "        t0,t1,t2,t3,t4,t5,rho,sigma = params\n",
    "\n",
    "        y,x2 = self.endog.transpose()\n",
    "        x1,z,eta = self.exog.transpose()\n",
    "        \n",
    "        mu_epsilon = (rho/sigma**2)*eta\n",
    "        var_epsilon = np.sqrt(abs(1 - (rho/sigma)**2))\n",
    "        \n",
    "        #pr(eta | ... )\n",
    "        recalc_eta = x2 - t3 - t4*x1 - t5*z\n",
    "        pr_eta = norm(0,sigma).pdf(recalc_eta)/sigma\n",
    "        \n",
    "        #pr(y|x2 ... )\n",
    "        gamma = t0 + t2*t3 + (t1 + t2*t4)*x1 + t2*t5*z + t2*eta\n",
    "        \n",
    "        pr_epsilon = 1 - norm(mu_epsilon,var_epsilon).cdf(-gamma)\n",
    "        #if v: print pr_epsilon.max(), pr_epsilon.min(), pr_epsilon.mean(), '\\n'\n",
    "        \n",
    "        #likelihood = np.log( pr_eta * np.maximum(pr_epsilon,.0001) )\n",
    "        likelihood = np.log( pr_epsilon*pr_eta )\n",
    "\n",
    "        \n",
    "        if v: raise Exception('Stop drop and roll')\n",
    "        \n",
    "        return -( likelihood.sum() ) \n",
    "    \n",
    "    \n",
    "    def fit(self, start_params=None, maxiter=500, maxfun=5000, **kwds):\n",
    "        # we have one additional parameter and we need to add it for summary\n",
    "        if start_params == None:\n",
    "            start_params = [-.4,.3,.2,T3,T4,T5,.12,1.33]\n",
    "            \n",
    "        return super(part_d, self).fit(start_params=start_params,\n",
    "                                       maxiter=maxiter, maxfun=maxfun, **kwds)\n",
    "\n",
    "    \n",
    "model_d = part_d(data[['y','x2']],data[['x1','z','eta']])\n",
    "\n",
    "result_d = model_d.fit()\n",
    "print(result_d.summary(xname=['theta_0', 'theta_1', 'theta_2',\n",
    "                              'theta_3','theta_4','theta_5',\n",
    "                              'rho', 'sigma']))"
   ]
  },
  {
   "cell_type": "code",
   "execution_count": null,
   "metadata": {},
   "outputs": [],
   "source": []
  },
  {
   "cell_type": "code",
   "execution_count": null,
   "metadata": {},
   "outputs": [],
   "source": []
  },
  {
   "cell_type": "code",
   "execution_count": null,
   "metadata": {},
   "outputs": [],
   "source": []
  },
  {
   "cell_type": "code",
   "execution_count": null,
   "metadata": {},
   "outputs": [],
   "source": []
  }
 ],
 "metadata": {
  "kernelspec": {
   "display_name": "Python 2",
   "language": "python",
   "name": "python2"
  },
  "language_info": {
   "codemirror_mode": {
    "name": "ipython",
    "version": 2
   },
   "file_extension": ".py",
   "mimetype": "text/x-python",
   "name": "python",
   "nbconvert_exporter": "python",
   "pygments_lexer": "ipython2",
   "version": "2.7.15"
  }
 },
 "nbformat": 4,
 "nbformat_minor": 2
}
