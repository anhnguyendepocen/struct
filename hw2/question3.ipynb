{
 "cells": [
  {
   "cell_type": "code",
   "execution_count": 1,
   "metadata": {},
   "outputs": [],
   "source": [
    "import pandas as pd\n",
    "import matplotlib.pyplot as plt\n",
    "import numpy as np\n",
    "import math\n",
    "\n",
    "import statsmodels.api as sm\n",
    "from statsmodels.sandbox.regression.gmm import GMM\n",
    "from statsmodels.base.model import GenericLikelihoodModel\n",
    "\n",
    "from scipy.stats import norm\n",
    "from scipy.stats import multivariate_normal"
   ]
  },
  {
   "cell_type": "code",
   "execution_count": 26,
   "metadata": {},
   "outputs": [],
   "source": [
    "#load data into memory\n",
    "data = pd.DataFrame(data = np.genfromtxt('sim3.dat', delimiter='  '), columns=['i','t','y_t','p_t'])\n",
    "\n",
    "#set up lag\n",
    "shift_data = data[['i','y_t','p_t']]\n",
    "shift_data['t'] = data['t'] + 1\n",
    "data = data.merge(shift_data,how='left',on=['i','t'],suffixes=['','-1'])\n",
    "data = data.dropna()"
   ]
  },
  {
   "cell_type": "code",
   "execution_count": 79,
   "metadata": {},
   "outputs": [
    {
     "name": "stdout",
     "output_type": "stream",
     "text": [
      "Optimization terminated successfully.\n",
      "         Current function value: -0.000000\n",
      "         Iterations: 9\n",
      "         Function evaluations: 53\n",
      "                                part_d Results                                \n",
      "==============================================================================\n",
      "Dep. Variable:                    y_t   Log-Likelihood:                 0.0000\n",
      "Model:                         part_d   AIC:                             4.000\n",
      "Method:            Maximum Likelihood   BIC:                             15.10\n",
      "Date:                Thu, 25 Oct 2018                                         \n",
      "Time:                        09:56:51                                         \n",
      "No. Observations:                1900                                         \n",
      "Df Residuals:                    1898                                         \n",
      "Df Model:                           1                                         \n",
      "==============================================================================\n",
      "                 coef    std err          z      P>|z|      [0.025      0.975]\n",
      "------------------------------------------------------------------------------\n",
      "theta_0        0.5000        nan        nan        nan         nan         nan\n",
      "theta_1        0.5000        nan        nan        nan         nan         nan\n",
      "theta_2        0.5000        nan        nan        nan         nan         nan\n",
      "sigma          0.5000        nan        nan        nan         nan         nan\n",
      "==============================================================================\n"
     ]
    },
    {
     "name": "stderr",
     "output_type": "stream",
     "text": [
      "/home/erichschulman/anaconda2/lib/python2.7/site-packages/statsmodels/base/model.py:488: HessianInversionWarning: Inverting hessian failed, no bse or cov_params available\n",
      "  'available', HessianInversionWarning)\n"
     ]
    }
   ],
   "source": [
    "#fix alpha ahead of time\n",
    "alpha = np.random.normal(0,1 ,(1900,20))\n",
    "    \n",
    "\n",
    "class part_d(GenericLikelihoodModel):\n",
    "    \"\"\"class for evaluating question 3 part d\"\"\"\n",
    "    \n",
    "    def nloglikeobs(self, params, v=False):\n",
    "        t0, t1, t2, sigma = params\n",
    "        \n",
    "        y = np.array([self.endog]).transpose()\n",
    "        exog = self.exog\n",
    "        \n",
    "        #calculate the mean 'delta' for the inside good\n",
    "        U1 = t0 + ([t1,t2]*exog).sum(axis=1)\n",
    "        U1 = np.array([U1]).transpose()\n",
    "        U1 = sigma*alpha + U1\n",
    "        \n",
    "        #calculate ll, for each simulation\n",
    "        likelihood_sims = y*U1/(1+U1) + (1-y)/(1+U1)\n",
    "        if v: print likelihood_sims.shape\n",
    "        \n",
    "        likelihood = likelihood_sims.prod(axis=0)\n",
    "        if v: print likelihood.shape\n",
    "            \n",
    "        if v: raise Exception('Stop drop and roll')\n",
    "        return - likelihood.sum()\n",
    "        \n",
    "        \n",
    "        \n",
    "        \n",
    "\n",
    "    \n",
    "    def fit(self, start_params=None, maxiter=100, maxfun=5000, **kwds):\n",
    "        # we have one additional parameter and we need to add it for summary\n",
    "        if start_params == None:\n",
    "            start_params = [.5,.5,.5,.5]\n",
    "        return super(part_d, self).fit(start_params=start_params,\n",
    "                                       maxiter=maxiter, maxfun=maxfun, **kwds)\n",
    "    \n",
    "\n",
    "\n",
    "model_d = part_d(data['y_t'],data[['p_t','y_t-1']])\n",
    "\n",
    "result_d = model_d.fit()\n",
    "print(result_d.summary(xname=['theta_0', 'theta_1', 'theta_2', 'sigma']))"
   ]
  },
  {
   "cell_type": "code",
   "execution_count": 61,
   "metadata": {},
   "outputs": [
    {
     "name": "stdout",
     "output_type": "stream",
     "text": [
      "(1900, 20)\n",
      "(1900, 1)\n",
      "[[ 0.77993296 -0.55684051 -0.5804267  ... -0.21692896  0.88024991\n",
      "   3.45831548]\n",
      " [ 0.81187536  1.30116026  2.4717956  ...  1.00261135  0.25495392\n",
      "   0.93911685]\n",
      " [ 2.77424023  2.17276168  2.05435477 ...  2.14385061  1.14664104\n",
      "   2.46350566]\n",
      " ...\n",
      " [ 1.47288051 -1.17222709  0.2247417  ... -0.10256321 -1.4774177\n",
      "  -1.47303492]\n",
      " [ 1.25801197  3.00978794 -1.45741467 ...  0.94023556  3.11960666\n",
      "   1.77865705]\n",
      " [ 1.2208654  -0.02527841  1.26710997 ...  2.40579482  2.8560812\n",
      "   3.60237498]]\n"
     ]
    }
   ],
   "source": [
    "s = np.random.normal(0,1 ,(1900,20))\n",
    "t = np.random.normal(0,1 ,(1900,1))\n",
    "print s.shape\n",
    "print t.shape\n",
    "print s + t"
   ]
  },
  {
   "cell_type": "code",
   "execution_count": null,
   "metadata": {},
   "outputs": [],
   "source": []
  }
 ],
 "metadata": {
  "kernelspec": {
   "display_name": "Python 2",
   "language": "python",
   "name": "python2"
  },
  "language_info": {
   "codemirror_mode": {
    "name": "ipython",
    "version": 2
   },
   "file_extension": ".py",
   "mimetype": "text/x-python",
   "name": "python",
   "nbconvert_exporter": "python",
   "pygments_lexer": "ipython2",
   "version": "2.7.15"
  }
 },
 "nbformat": 4,
 "nbformat_minor": 2
}
