{
 "cells": [
  {
   "cell_type": "code",
   "execution_count": 39,
   "metadata": {},
   "outputs": [],
   "source": [
    "import pandas as pd\n",
    "import math\n",
    "import numpy as np\n",
    "import statsmodels.api as sm\n",
    "import matplotlib.pyplot as plt\n",
    "\n",
    "from scipy.interpolate import interp1d #pre written interpolation function\n",
    "from statsmodels.base.model import GenericLikelihoodModel\n",
    "from scipy import stats #for kernel function"
   ]
  },
  {
   "cell_type": "code",
   "execution_count": 40,
   "metadata": {},
   "outputs": [],
   "source": [
    "#TODO:\n",
    "\n",
    "#debug value function\n",
    "#debug kappa function\n",
    "\n",
    "#paramterize cost function (for different specs)\n",
    "\n",
    "#implement class using statsmodles\n",
    "#iterate AM style"
   ]
  },
  {
   "cell_type": "markdown",
   "metadata": {},
   "source": [
    "The code below references the following two sources.\n",
    "\n",
    "John Rust's website:\n",
    "https://editorialexpress.com/jrust/nfxp.html\n",
    "\n",
    "Victor Aguirregabiria and Pedro Mira's website:\n",
    "http://individual.utoronto.ca/vaguirre/wpapers/program_code_survey_joe_2008.html\n",
    "\n",
    "Victor Aguirregabiria and Pedro Mira's 2002 paper\n",
    "https://www.jstor.org/stable/3082006\n"
   ]
  },
  {
   "cell_type": "code",
   "execution_count": 41,
   "metadata": {},
   "outputs": [
    {
     "name": "stdout",
     "output_type": "stream",
     "text": [
      "id                              162\n",
      "group                        530875\n",
      "date            1985-04-01 00:00:00\n",
      "replace                           1\n",
      "miles                        388254\n",
      "replace_next                      1\n",
      "miles_next                   388254\n",
      "dtype: object\n",
      "id                               59\n",
      "group                            50\n",
      "date            1975-09-01 00:00:00\n",
      "replace                           0\n",
      "miles                             0\n",
      "replace_next                      0\n",
      "miles_next                        0\n",
      "dtype: object\n"
     ]
    }
   ],
   "source": [
    "#fix the bus .dat because Aguirregabiria and Mira hate everyone\n",
    "data = np.fromfile('bus1234.dat')\n",
    "data = data.reshape(len(data)/6,6)\n",
    "data = pd.DataFrame(data,columns=['id','group','year','month','replace','miles'])\n",
    "\n",
    "#save to .csv so other people don't need to be confused\n",
    "data.to_csv(\"bus1234.csv\")\n",
    "\n",
    "#switch to date time for ease \n",
    "data['date'] = pd.to_datetime(data[['year', 'month']].assign(Day=1))\n",
    "data = data[['id','group','date','replace','miles']]\n",
    "\n",
    "#lag date\n",
    "date_lag = data.copy()\n",
    "date_lag['date'] = date_lag['date'] - pd.DateOffset(months=1)\n",
    "data = data.merge(date_lag, how='left', on=['id','group','date'] , suffixes=('','_next'))\n",
    "data = data.dropna()\n",
    "\n",
    "print data.max()\n",
    "print data.min()"
   ]
  },
  {
   "cell_type": "code",
   "execution_count": 42,
   "metadata": {},
   "outputs": [],
   "source": [
    "#constants\n",
    "BETA = .97\n",
    "GAMMA = .5772 #euler's constant\n",
    "\n",
    "#size of step in discretization\n",
    "STEP = 3000"
   ]
  },
  {
   "cell_type": "code",
   "execution_count": 43,
   "metadata": {},
   "outputs": [],
   "source": [
    "def np_miles_pdf(i_obs, x_obs, x_next):\n",
    "    \"\"\"non-parametric estimation of mileage pdf.\n",
    "    in other words, the probability of jumping dx states\n",
    "    next period\n",
    "    \n",
    "    this corresponds to pdfdx in AM's code\"\"\"\n",
    "    \n",
    "    #figure out max number of steps\n",
    "    dx = (1-i_obs)*(x_next - x_obs) + i_obs*x_obs \n",
    "    discrete = (dx/STEP).astype(int)\n",
    "    \n",
    "    #make a dataframe with the discrete 'jumps' in mileage\n",
    "    frame = np.array([discrete, i_obs]).transpose()\n",
    "    frame = pd.DataFrame(frame, columns=('dx','i'))\n",
    "\n",
    "    #non-parametrically group jumps to make pdf\n",
    "    pdfdx = frame.groupby('dx')\n",
    "    pdfdx = pdfdx.count()/pdfdx.count().sum()\n",
    "    return  np.array(pdfdx)"
   ]
  },
  {
   "cell_type": "code",
   "execution_count": 44,
   "metadata": {},
   "outputs": [],
   "source": [
    "def miles_pdf(i_obs, x_obs, x_next):\n",
    "    \"\"\"estimation of mileage pdf following AM using the\n",
    "    kernel function\n",
    "    \n",
    "    this corresponds to pdfdx in AM's code\"\"\"\n",
    "    \n",
    "    #figure out max number of steps\n",
    "    dx = (1-i_obs)*(x_next - x_obs) + i_obs*x_obs \n",
    "    \n",
    "    #number of states\n",
    "    dx_states = np.arange(dx.min(),dx.max()  +1 ,STEP)\n",
    "    \n",
    "    #use kernel groups to make pdf\n",
    "    kernel1 = stats.gaussian_kde(dx, bw_method='silverman')\n",
    "    pdfdx = kernel1(dx_states)\n",
    "    \n",
    "    return np.array([pdfdx/pdfdx.sum()]).transpose()\n",
    "\n",
    "\n",
    "MILES_PDF = miles_pdf(data['replace'], data['miles'], data['miles_next'])"
   ]
  },
  {
   "cell_type": "code",
   "execution_count": 45,
   "metadata": {},
   "outputs": [],
   "source": [
    "def transition_1(i_obs, x_obs , x_next):\n",
    "    \"\"\"calculate transitions probabilities,\n",
    "    non-parametrically\n",
    "    \n",
    "    this corresponds to fmat1 and fmat2 in AM's code\"\"\"\n",
    "    \n",
    "    #transitions when i=1\n",
    "    num_states = (x_obs.max()/STEP).astype(int) + 1\n",
    "    pdfdx = miles_pdf(i_obs, x_obs, x_next).transpose()\n",
    "    \n",
    "    #zero probability of transitioning to large states\n",
    "    zeros = np.zeros( (num_states,num_states-pdfdx.shape[1]) )\n",
    "    \n",
    "    #transitioning to first state and 'jumping' dx states\n",
    "    fmat1 = np.tile(pdfdx,(num_states,1))\n",
    "    fmat1 = np.concatenate( (fmat1, zeros), axis=1 )\n",
    "\n",
    "    return fmat1\n",
    "\n",
    "FMAT1 = transition_1(data['replace'], data['miles'],data['miles_next'])"
   ]
  },
  {
   "cell_type": "code",
   "execution_count": 46,
   "metadata": {},
   "outputs": [],
   "source": [
    "def transition_0(i_obs, x_obs , x_next):\n",
    "    \"\"\"calculate transitions probabilities,\n",
    "    non-parametrically\n",
    "    \n",
    "    this corresponds to fmat1 and fmat2 in AM's code\"\"\"\n",
    "    \n",
    "    \n",
    "    num_states = (x_obs.max()/STEP).astype(int) + 1\n",
    "    pdfdx = miles_pdf(i_obs, x_obs, x_next).transpose()\n",
    "    \n",
    "    #initialize fmat array, transitions when i=0\n",
    "    end_zeros = np.zeros((1,num_states -pdfdx.shape[1]))\n",
    "    fmat0 = np.concatenate( (pdfdx,end_zeros), axis=1 )\n",
    "\n",
    "    for row in range(1,num_states):\n",
    "        \n",
    "        #this corresponds to colz i think\n",
    "        cutoff = (num_states - row - pdfdx.shape[1] )\n",
    "        \n",
    "        #case 1 far enough from the 'end' of the matrix\n",
    "        if cutoff >= 0:\n",
    "            start_zeros = np.zeros((1,row))\n",
    "            end_zeros = np.zeros((1,num_states -pdfdx.shape[1] - row))\n",
    "            fmat_new = np.concatenate( (start_zeros,pdfdx,end_zeros), axis=1 )\n",
    "            fmat0 = np.concatenate((fmat0,fmat_new))\n",
    "       \n",
    "        #case 2, too far from the end and need to adjust probs\n",
    "        else:\n",
    "            pdf_adj = pdfdx[:,0:cutoff]\n",
    "            pdf_adj = pdf_adj/pdf_adj.sum(axis=1)\n",
    "            \n",
    "            start_zeros = np.zeros((1,row))\n",
    "            fmat_new = np.concatenate( (start_zeros,pdf_adj), axis=1 )\n",
    "            fmat0 = np.concatenate((fmat0,fmat_new))\n",
    "\n",
    "\n",
    "    return fmat0\n",
    "\n",
    "FMAT0 = transition_0(data['replace'],data['miles'],data['miles_next'])\n",
    "\n",
    "PR_TRANS = FMAT0, FMAT1"
   ]
  },
  {
   "cell_type": "code",
   "execution_count": 47,
   "metadata": {},
   "outputs": [],
   "source": [
    "def np_initial_pr(i_obs, x_obs):\n",
    "    \"\"\"truly non-parametric\n",
    "    initial the probability of view a given state\n",
    "    May delete later\"\"\"\n",
    "    \n",
    "    num_states = ( x_obs.max()/STEP).astype(int) + 1\n",
    "    discrete = (x_obs/STEP).astype(int)\n",
    "    \n",
    "    df = np.array([discrete, i_obs]).transpose()\n",
    "    df = pd.DataFrame(df, columns=('x','i'))\n",
    "    pr_obs = df.groupby('x')\n",
    "    pr_obs = pr_obs.sum()/(1.*pr_obs.count())\n",
    "\n",
    "    return  np.array(pr_obs)\n",
    "\n",
    "PR_OBS = np_initial_pr(data['replace'], data['miles'])"
   ]
  },
  {
   "cell_type": "code",
   "execution_count": 48,
   "metadata": {},
   "outputs": [
    {
     "name": "stdout",
     "output_type": "stream",
     "text": [
      "Optimization terminated successfully.\n",
      "         Current function value: 0.036201\n",
      "         Iterations 14\n",
      "                           Logit Regression Results                           \n",
      "==============================================================================\n",
      "Dep. Variable:                replace   No. Observations:                 8156\n",
      "Model:                          Logit   Df Residuals:                     8153\n",
      "Method:                           MLE   Df Model:                            2\n",
      "Date:                Fri, 11 Jan 2019   Pseudo R-squ.:                  0.1671\n",
      "Time:                        16:55:54   Log-Likelihood:                -295.26\n",
      "converged:                       True   LL-Null:                       -354.51\n",
      "                                        LLR p-value:                 1.853e-26\n",
      "==============================================================================\n",
      "                 coef    std err          z      P>|z|      [0.025      0.975]\n",
      "------------------------------------------------------------------------------\n",
      "const        -17.3136      4.188     -4.134      0.000     -25.522      -9.105\n",
      "x1             0.0001   5.67e-05      2.634      0.008    3.82e-05       0.000\n",
      "x2         -5.531e-10   2.46e-10     -2.250      0.024   -1.03e-09   -7.13e-11\n",
      "x3          6.976e-16   3.41e-16      2.047      0.041    2.95e-17    1.37e-15\n",
      "==============================================================================\n",
      "\n",
      "Possibly complete quasi-separation: A fraction 0.37 of observations can be\n",
      "perfectly predicted. This might indicate that there is complete\n",
      "quasi-separation. In this case some parameters will not be identified.\n"
     ]
    }
   ],
   "source": [
    "def initial_pr(i_obs, x_obs, d=0):\n",
    "    \"\"\"initial the probability of view a given state following AM.\n",
    "    Seems like it just involves logit to predict\n",
    "    \n",
    "    Third arugment involves display\"\"\"\n",
    "    \n",
    "    X = np.array([x_obs, x_obs**2, x_obs**3]).transpose()\n",
    "    X = sm.add_constant(X)\n",
    "    \n",
    "    model = sm.Logit(i_obs,X)\n",
    "    fit = model.fit(disp=d)\n",
    "    if d: print fit.summary()\n",
    "    \n",
    "    states = np.arange(x_obs.min(),x_obs.max(), STEP)\n",
    "    \n",
    "    states = np.array([states, states**2, states**3]).transpose()\n",
    "    states = sm.add_constant(states)\n",
    "    \n",
    "    return fit.predict(states)\n",
    "\n",
    "PR_OBS = initial_pr(data['replace'], data['miles'], d=1)"
   ]
  },
  {
   "cell_type": "code",
   "execution_count": 55,
   "metadata": {},
   "outputs": [],
   "source": [
    "def hm_value(theta1, cost, i_obs, x_obs, pr_obs, pr_trans):\n",
    "    \"\"\"calculate value function using hotz miller approach\"\"\"\n",
    "    \n",
    "    #set up matrices, transition is deterministic\n",
    "    trans0, trans1 = pr_trans\n",
    "    \n",
    "    #should probably make these class parameters\n",
    "    num_states = ( x_obs.max()/STEP).astype(int) + 1\n",
    "    x = np.arange(x_obs.min(),x_obs.max(), STEP)\n",
    "    \n",
    "    \n",
    "    #calculate value function for all state\n",
    "    pr_tile = np.tile( pr_obs.reshape(num_states,1), (1,num_states))\n",
    "    \n",
    "    denom = (np.identity(num_states) - BETA*(1-pr_tile)*trans0 - BETA*trans1*pr_tile)\n",
    "    \n",
    "    numer = ( (1-pr_obs)*(theta1*x  + GAMMA - np.log(1-pr_obs)) + \n",
    "                 pr_obs*(cost+ GAMMA - np.log(pr_obs) ) )\n",
    "    \n",
    "    value = np.linalg.inv(denom).dot(numer)\n",
    "    return value\n",
    "\n",
    "\n",
    "VALUE = hm_value(-.004, -10.47, data['replace'], data['miles'], PR_OBS, PR_TRANS)"
   ]
  },
  {
   "cell_type": "code",
   "execution_count": 56,
   "metadata": {},
   "outputs": [
    {
     "name": "stdout",
     "output_type": "stream",
     "text": [
      "[-13445.40200143 -13691.26048343 -13935.21164651 -14177.11334271\n",
      " -14416.81817434 -14654.25086443 -14889.3592585  -15122.0896604\n",
      " -15352.46089279 -15580.59438957 -15806.51037108 -16030.03665223\n",
      " -16250.98974167 -16469.27012947 -16684.81982154 -16897.58774896\n",
      " -17107.52264362 -17314.56875186 -17518.66693187 -17719.795545\n",
      " -17917.97778196 -18113.18897093 -18305.33202884 -18494.28366765\n",
      " -18679.93431319 -18862.20955501 -19041.0568086  -19216.42977061\n",
      " -19388.28522956 -19556.5921755  -19721.33026153 -19882.45963239\n",
      " -20039.91768361 -20193.64600045 -20343.61397034 -20489.83125262\n",
      " -20632.32570577 -20771.11765924 -20906.21141066 -21037.616854\n",
      " -21165.39152432 -21289.63541299 -21410.45663965 -21527.94789635\n",
      " -21642.20912143 -21753.40801192 -21861.74985818 -21967.4046146\n",
      " -22070.56479772 -22171.46408779 -22270.34047249 -22367.41027367\n",
      " -22462.72694126 -22556.27777874 -22648.21624037 -22738.80423297\n",
      " -22828.26744057 -22916.73340195 -23004.2379491  -23090.7922929\n",
      " -23176.46583257 -23261.28665223 -23345.26029339 -23428.52341307\n",
      " -23511.26284467 -23593.53706596 -23675.2906113  -23756.38951494\n",
      " -23836.45916004 -23915.17083094 -23992.49535338 -24068.46886014\n",
      " -24143.0669799  -24216.16301795 -24287.48898118 -24356.72076549\n",
      " -24423.51035847 -24487.40963081 -24548.07838596 -24605.30377376\n",
      " -24658.75006851 -24708.09299417 -24753.0413357  -24793.27600393\n",
      " -24828.58718117 -24858.82648208 -24883.79401207 -24903.21018772\n",
      " -24916.6319746  -24923.51623385 -24923.44542165 -24916.24828691\n",
      " -24901.91214172 -24880.37853333 -24851.49801157 -24815.09597442\n",
      " -24771.00864599 -24719.09054743 -24659.21618987 -24591.28133703\n",
      " -24515.20433168 -24430.9275332  -24338.4188981  -24237.67373937\n",
      " -24128.71670518 -24011.60402333 -23886.42606558 -23753.31029505\n",
      " -23612.42467218 -23463.98160971 -23308.24258709 -23145.52356033\n",
      " -22976.20133664 -22800.72112756 -22619.6055523  -22433.46544151\n",
      " -22243.0128982  -22049.07720946 -21852.62438974 -21654.78151032\n",
      " -21456.86720631 -21260.42913886 -21067.29472414 -20879.64726466\n",
      " -20700.05987929 -20531.56243613 -20378.58435461 -20245.96347773\n",
      " -20131.47554017 -20023.10282967]\n"
     ]
    }
   ],
   "source": [
    "print VALUE"
   ]
  },
  {
   "cell_type": "code",
   "execution_count": 57,
   "metadata": {},
   "outputs": [
    {
     "name": "stderr",
     "output_type": "stream",
     "text": [
      "/home/erichschulman/anaconda2/lib/python2.7/site-packages/ipykernel_launcher.py:15: RuntimeWarning: invalid value encountered in divide\n",
      "  from ipykernel import kernelapp as app\n"
     ]
    },
    {
     "data": {
      "text/plain": [
       "(130,)"
      ]
     },
     "execution_count": 57,
     "metadata": {},
     "output_type": "execute_result"
    }
   ],
   "source": [
    "def hm_prob(theta1, cost, i_obs, x_obs, pr_obs, pr_trans):\n",
    "    \"\"\"calculate kappa using value function\"\"\"\n",
    "    \n",
    "    value = hm_value(theta1, cost, i_obs, x_obs, pr_obs, pr_trans)\n",
    "    trans0, trans1 = pr_trans\n",
    "    \n",
    "    #should probably make these class parameters\n",
    "    num_states = ( x_obs.max()/STEP).astype(int) + 1\n",
    "    x = np.arange(x_obs.min(),x_obs.max(), STEP)\n",
    "    \n",
    "    delta1 = np.exp( cost + BETA*trans1.dot(value))\n",
    "    delta0 = np.exp( x*theta1 + BETA*trans0.dot(value) )\n",
    "    \n",
    "    \n",
    "    return delta1/(delta1+delta0)\n",
    "\n",
    "\n",
    "hm_prob(-.004, -10.47, data['replace'], data['miles'], PR_OBS, PR_TRANS).shape"
   ]
  },
  {
   "cell_type": "code",
   "execution_count": 58,
   "metadata": {},
   "outputs": [
    {
     "name": "stdout",
     "output_type": "stream",
     "text": [
      "\n",
      " theta_1:-0.004, R:-10.0\n"
     ]
    },
    {
     "name": "stderr",
     "output_type": "stream",
     "text": [
      "/home/erichschulman/anaconda2/lib/python2.7/site-packages/ipykernel_launcher.py:15: RuntimeWarning: invalid value encountered in divide\n",
      "  from ipykernel import kernelapp as app\n"
     ]
    }
   ],
   "source": [
    "from scipy.optimize import minimize\n",
    "\n",
    "class HotzMiller():\n",
    "    \"\"\"class for estimating the values of R and theta\n",
    "    using the Hotz Miller routine and the helper functions\n",
    "    above\"\"\"\n",
    "    \n",
    "    def __init__(self, i, x, x_next):\n",
    "        \n",
    "        #transitions\n",
    "        self.pr_obs = initial_pr(i, x)\n",
    "        self.trans =  transition_1(i,x,x_next), transition_1(i,x,x_next)\n",
    "        \n",
    "        #should probably make these class parameters\n",
    "        self.num_states = ( x.max()/STEP).astype(int) + 1\n",
    "        self.states = np.arange(x.min(),x.max(), STEP)\n",
    "        \n",
    "        #data\n",
    "        self.x = x\n",
    "        self.x_next = x\n",
    "        self.i = i\n",
    "        \n",
    "        #parameters\n",
    "        self.theta1 = 0\n",
    "        self.R = 0\n",
    "        \n",
    "        \n",
    "    def likelihood(self, params): \n",
    "        theta1, R = params\n",
    "        \n",
    "        # Input our data into the model\n",
    "        i = self.i\n",
    "        x = (self.x/STEP).astype(int)\n",
    "        \n",
    "        #set up hm state pr\n",
    "        prob = hm_prob(theta1, R, self.i, self.x, self.pr_obs, self.trans).transpose()\n",
    "        prob = interp1d(self.states, prob, fill_value=\"extrapolate\")\n",
    "        \n",
    "        log_likelihood = (1-i)*np.log(1-prob(x)) + i*np.log(prob(x))\n",
    "        \n",
    "        return -log_likelihood.sum()\n",
    "    \n",
    "    \n",
    "    def fit(self):\n",
    "        result = minimize(self.likelihood, [-.004,-10], method = 'Nelder-Mead', options={'disp': False})\n",
    "        self.theta1, self.R = result.x\n",
    "\n",
    "        \n",
    "model_hm = HotzMiller(data['replace'], data['miles'],data['miles_next'])\n",
    "model_hm.fit()\n",
    "\n",
    "\n",
    "print '\\n theta_1:%s, R:%s'%(round(model_hm.theta1,4) , round(model_hm.R,4))"
   ]
  },
  {
   "cell_type": "code",
   "execution_count": null,
   "metadata": {},
   "outputs": [],
   "source": []
  }
 ],
 "metadata": {
  "kernelspec": {
   "display_name": "Python 2",
   "language": "python",
   "name": "python2"
  },
  "language_info": {
   "codemirror_mode": {
    "name": "ipython",
    "version": 2
   },
   "file_extension": ".py",
   "mimetype": "text/x-python",
   "name": "python",
   "nbconvert_exporter": "python",
   "pygments_lexer": "ipython2",
   "version": "2.7.15"
  }
 },
 "nbformat": 4,
 "nbformat_minor": 2
}
