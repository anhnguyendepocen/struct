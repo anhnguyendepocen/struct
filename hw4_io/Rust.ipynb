{
 "cells": [
  {
   "cell_type": "code",
   "execution_count": 2,
   "metadata": {},
   "outputs": [],
   "source": [
    "import pandas as pd\n",
    "import math\n",
    "import numpy as np\n",
    "import statsmodels.api as sm\n",
    "import matplotlib.pyplot as plt\n",
    "\n",
    "from scipy.interpolate import interp1d #pre written interpolation function\n",
    "from statsmodels.base.model import GenericLikelihoodModel"
   ]
  },
  {
   "cell_type": "markdown",
   "metadata": {},
   "source": [
    "The code below references the following two sources:\n",
    "\n",
    "John Rust's website\n",
    "https://editorialexpress.com/jrust/nfxp.html\n",
    "\n",
    "Victor Aguirregabiria and Pedro Mira's website\n",
    "http://individual.utoronto.ca/vaguirre/wpapers/program_code_survey_joe_2008.html"
   ]
  },
  {
   "cell_type": "code",
   "execution_count": 15,
   "metadata": {},
   "outputs": [
    {
     "name": "stdout",
     "output_type": "stream",
     "text": [
      "388254.0 0.0\n"
     ]
    }
   ],
   "source": [
    "#fix the bus .dat because Aguirregabiria and Mira hate everyone\n",
    "data = np.fromfile('bus1234.dat')\n",
    "data = data.reshape(len(data)/6,6)\n",
    "data = pd.DataFrame(data,columns=['id','group','year','month','replace','miles'])\n",
    "\n",
    "#save to .csv so other people don't need to be confused\n",
    "data.to_csv(\"bus1234.csv\")\n",
    "\n",
    "#constants\n",
    "BETA = .97\n",
    "MAX_X = data['miles'].max()\n",
    "MIN_X = data['miles'].min()\n",
    "STATES = 5\n",
    "\n",
    "print MAX_X, MIN_X"
   ]
  },
  {
   "cell_type": "code",
   "execution_count": 22,
   "metadata": {},
   "outputs": [
    {
     "name": "stdout",
     "output_type": "stream",
     "text": [
      "77651\n",
      "[[0.        ]\n",
      " [0.00296108]\n",
      " [0.01472393]\n",
      " [0.0290404 ]\n",
      " [0.03225806]]\n"
     ]
    }
   ],
   "source": [
    "def hm_initial_pr(x_obs, i_obs):\n",
    "    \"\"\"calculate state pr\"\"\"\n",
    "    \n",
    "    interval = int(MAX_X/STATES) + 1\n",
    "    print interval\n",
    "    \n",
    "    x_discrete = (x_obs/interval).astype(int)\n",
    "    \n",
    "    df = np.array([x_discrete, i_obs]).transpose()\n",
    "    df = pd.DataFrame(df, columns=('x','i'))\n",
    "    pr_obs = df.groupby('x')\n",
    "    pr_obs = pr_obs.sum()/(1.*pr_obs .count())\n",
    "\n",
    "    return  np.array(pr_obs)\n",
    "\n",
    "result1 = hm_initial_pr(data['miles'],data['replace'])\n",
    "print result1"
   ]
  },
  {
   "cell_type": "code",
   "execution_count": 27,
   "metadata": {},
   "outputs": [
    {
     "name": "stdout",
     "output_type": "stream",
     "text": [
      "            i\n",
      "x x_next     \n",
      "1 2       1.0\n",
      "2 3       1.0\n",
      "3 4       1.0\n",
      "4 5       1.0\n",
      "5 5       1.0\n"
     ]
    }
   ],
   "source": [
    "def hm_transitions(x_obs,x_next,i_obs):\n",
    "    \"\"\"calculate transitions, deterministic\n",
    "    in this case\"\"\"\n",
    "    pass"
   ]
  },
  {
   "cell_type": "code",
   "execution_count": null,
   "metadata": {},
   "outputs": [],
   "source": [
    "def hm_value(a_max, theta1, cost, pr_obs):\n",
    "    \"\"\"calculate value function using hotz miller approach\"\"\"\n",
    "    \n",
    "    #set up matrices, transition is deterministic\n",
    "    trans0, trans1 = hm_transitions(a_max)\n",
    "    a = np.arange(1,a_max+1).reshape(a_max,1)\n",
    "    \n",
    "    #calculate value function for all state\n",
    "    pr_tile = np.tile( pr_obs.reshape(a_max,1), (1,a_max))\n",
    "    \n",
    "    denom = (np.identity(a_max) - BETA*(1-pr_tile)*trans0 - BETA*trans1*pr_tile)\n",
    "        \n",
    "    numer = ( (1-pr_obs)*(theta1*a  + GAMMA - np.log(1-pr_obs)) + \n",
    "                 pr_obs*(cost+ GAMMA - np.log(pr_obs) ) )\n",
    "    \n",
    "    value = np.linalg.inv(denom).dot(numer)\n",
    "    return value\n",
    "\n",
    "\n",
    "def hm_prob(a_max, theta1, cost, pr_obs):\n",
    "    \"\"\"calculate kappa using value function\"\"\"\n",
    "    \n",
    "    value = hm_value(a_max, theta1, cost, pr_obs)\n",
    "    trans0,trans1 = hm_transitions(a_max)\n",
    "    a = np.arange(1,a_max+1).reshape(a_max,1)\n",
    "\n",
    "    delta1 = np.exp( cost + BETA*trans1.dot(value))\n",
    "    delta0 = np.exp( a*theta1 + BETA*trans0.dot(value) )\n",
    "    \n",
    "    return delta1/(delta1+delta0)"
   ]
  }
 ],
 "metadata": {
  "kernelspec": {
   "display_name": "Python 2",
   "language": "python",
   "name": "python2"
  },
  "language_info": {
   "codemirror_mode": {
    "name": "ipython",
    "version": 2
   },
   "file_extension": ".py",
   "mimetype": "text/x-python",
   "name": "python",
   "nbconvert_exporter": "python",
   "pygments_lexer": "ipython2",
   "version": "2.7.15"
  }
 },
 "nbformat": 4,
 "nbformat_minor": 2
}
