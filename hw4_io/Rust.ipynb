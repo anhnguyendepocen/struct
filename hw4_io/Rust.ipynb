{
 "cells": [
  {
   "cell_type": "code",
   "execution_count": 31,
   "metadata": {},
   "outputs": [],
   "source": [
    "import pandas as pd\n",
    "import math\n",
    "import numpy as np\n",
    "import statsmodels.api as sm\n",
    "import matplotlib.pyplot as plt\n",
    "\n",
    "from scipy.interpolate import interp1d #pre written interpolation function\n",
    "from statsmodels.base.model import GenericLikelihoodModel"
   ]
  },
  {
   "cell_type": "code",
   "execution_count": 32,
   "metadata": {},
   "outputs": [],
   "source": [
    "#TODO:\n",
    "\n",
    "# add state as parameters\n",
    "# figure out max x using function\n",
    "#does state start at 0 or at 1?\n",
    "\n",
    "# parametrize cost function correctly\n",
    "# what is the correct measure of distance\n",
    "# fix class to extend generic likelihood model\n",
    "# \n",
    " \n",
    "# dropping data\n",
    "# "
   ]
  },
  {
   "cell_type": "markdown",
   "metadata": {},
   "source": [
    "The code below references the following two sources.\n",
    "\n",
    "John Rust's website:\n",
    "https://editorialexpress.com/jrust/nfxp.html\n",
    "\n",
    "Victor Aguirregabiria and Pedro Mira's website:\n",
    "http://individual.utoronto.ca/vaguirre/wpapers/program_code_survey_joe_2008.html"
   ]
  },
  {
   "cell_type": "code",
   "execution_count": 33,
   "metadata": {},
   "outputs": [],
   "source": [
    "#fix the bus .dat because Aguirregabiria and Mira hate everyone\n",
    "data = np.fromfile('bus1234.dat')\n",
    "data = data.reshape(len(data)/6,6)\n",
    "data = pd.DataFrame(data,columns=['id','group','year','month','replace','miles'])\n",
    "\n",
    "#save to .csv so other people don't need to be confused\n",
    "data.to_csv(\"bus1234.csv\")\n",
    "\n",
    "#switch to date time for ease \n",
    "data['date'] = pd.to_datetime(data[['year', 'month']].assign(Day=1))\n",
    "data = data[['id','group','date','replace','miles']]\n",
    "\n",
    "#lag date\n",
    "date_lag = data.copy()\n",
    "date_lag['date'] = date_lag['date'] - pd.DateOffset(months=1)\n",
    "data = data.merge(date_lag, how='left', on=['id','group','date'] , suffixes=('','_next'))\n",
    "data = data.dropna()"
   ]
  },
  {
   "cell_type": "code",
   "execution_count": 63,
   "metadata": {},
   "outputs": [
    {
     "name": "stdout",
     "output_type": "stream",
     "text": [
      "id                              162\n",
      "group                        530875\n",
      "date            1985-04-01 00:00:00\n",
      "replace                           1\n",
      "miles                        388254\n",
      "replace_next                      1\n",
      "miles_next                   388254\n",
      "dtype: object\n"
     ]
    }
   ],
   "source": [
    "#constants\n",
    "BETA = .97\n",
    "GAMMA = .5772 #euler's constant\n",
    "\n",
    "#size of step in discretization\n",
    "STEP = 1000"
   ]
  },
  {
   "cell_type": "code",
   "execution_count": 62,
   "metadata": {},
   "outputs": [],
   "source": [
    "def miles_pdf(x_obs, x_next, i_obs):\n",
    "    \"\"\"non-parametric estimation of mileage pdf.\n",
    "    in other words, the probability of jumping dx states\n",
    "    next period\n",
    "    \n",
    "    this corresponds to pdfdx in AM's code\"\"\"\n",
    "    \n",
    "    #figure out max number of steps\n",
    "    dx = (1-i_obs)*(x_next - x_obs) + i_obs*x_obs \n",
    "    discrete = (dx/STEP).astype(int)\n",
    "    \n",
    "    #make a dataframe with the discrete 'jumps' in mileage\n",
    "    frame = np.array([discrete, i_obs]).transpose()\n",
    "    frame = pd.DataFrame(frame, columns=('dx','i'))\n",
    "\n",
    "    #non-parametrically group jumps to make pdf\n",
    "    pdfdx = frame.groupby('dx')\n",
    "    pdfdx = pdfdx.count()/pdfdx.count().sum()\n",
    "    return  np.array(pdfdx)\n",
    "\n",
    "\n",
    "MILES_PDF = miles_pdf(data['miles'], data['miles_next'], data['replace'])"
   ]
  },
  {
   "cell_type": "code",
   "execution_count": 100,
   "metadata": {},
   "outputs": [],
   "source": [
    "def transition_1(x_obs , x_next, i_obs):\n",
    "    \"\"\"calculate transitions probabilities,\n",
    "    non-parametrically\n",
    "    \n",
    "    this corresponds to fmat1 and fmat2 in AM's code\"\"\"\n",
    "    \n",
    "    #transitions when i=1\n",
    "    num_states = (x_obs.max()/STEP).astype(int) + 1\n",
    "    pdfdx = miles_pdf(x_obs, x_next, i_obs).transpose()\n",
    "    \n",
    "    #zero probability of transitioning to large states\n",
    "    zeros = np.zeros( (num_states,num_states-pdfdx.shape[1]) )\n",
    "    \n",
    "    #transitioning to first state and 'jumping' dx states\n",
    "    fmat1 = np.tile(pdfdx,(num_states,1))\n",
    "    fmat1 = np.concatenate( (fmat1, zeros), axis=1 )\n",
    "\n",
    "    return fmat1\n",
    "\n",
    "FMAT1 = transition_1(data['miles'],data['miles_next'],data['replace'])"
   ]
  },
  {
   "cell_type": "code",
   "execution_count": 142,
   "metadata": {},
   "outputs": [],
   "source": [
    "def transition_0(x_obs , x_next, i_obs):\n",
    "    \"\"\"calculate transitions probabilities,\n",
    "    non-parametrically\n",
    "    \n",
    "    this corresponds to fmat1 and fmat2 in AM's code\"\"\"\n",
    "    \n",
    "    \n",
    "    num_states = (x_obs.max()/STEP).astype(int) + 1\n",
    "    pdfdx = miles_pdf(x_obs, x_next, i_obs).transpose()\n",
    "    \n",
    "    #initialize fmat array, transitions when i=0\n",
    "    end_zeros = np.zeros((1,num_states -pdfdx.shape[1]))\n",
    "    fmat0 = np.concatenate( (pdfdx,end_zeros), axis=1 )\n",
    "\n",
    "    for row in range(1,num_states):\n",
    "        \n",
    "        #this corresponds to colz i think\n",
    "        cutoff = (num_states - row - pdfdx.shape[1] )\n",
    "        \n",
    "        #case 1 far enough from the 'end' of the matrix\n",
    "        if cutoff >= 0:\n",
    "            start_zeros = np.zeros((1,row))\n",
    "            end_zeros = np.zeros((1,num_states -pdfdx.shape[1] - row))\n",
    "            fmat_new = np.concatenate( (start_zeros,pdfdx,end_zeros), axis=1 )\n",
    "            fmat0 = np.concatenate((fmat0,fmat_new))\n",
    "       \n",
    "        #case 2, too far from the end and need to adjust probs\n",
    "        else:\n",
    "            pdf_adj = pdfdx[:,0:cutoff]\n",
    "            pdf_adj = pdf_adj/pdf_adj.sum(axis=1)\n",
    "            \n",
    "            start_zeros = np.zeros((1,row))\n",
    "            fmat_new = np.concatenate( (start_zeros,pdf_adj), axis=1 )\n",
    "            fmat0 = np.concatenate((fmat0,fmat_new))\n",
    "\n",
    "\n",
    "    return fmat0\n",
    "\n",
    "FMAT0 = transition_0(data['miles'],data['miles_next'],data['replace'])"
   ]
  },
  {
   "cell_type": "code",
   "execution_count": null,
   "metadata": {},
   "outputs": [],
   "source": [
    "def hm_initial_pr(a_obs, i_obs):\n",
    "    \"\"\"initial the probability of view a given state\n",
    "    following AM\n",
    "    \n",
    "    seems like it just involves multinomial logit\"\"\"\n",
    "    "
   ]
  },
  {
   "cell_type": "code",
   "execution_count": 28,
   "metadata": {},
   "outputs": [
    {
     "data": {
      "text/plain": [
       "array([[-26.23284597],\n",
       "       [-41.33685875],\n",
       "       [-50.35503324],\n",
       "       [-55.90815079],\n",
       "       [-64.53219932]])"
      ]
     },
     "execution_count": 28,
     "metadata": {},
     "output_type": "execute_result"
    }
   ],
   "source": [
    "def hm_value(theta1, cost, pr_obs, pr_trans):\n",
    "    \"\"\"calculate value function using hotz miller approach\"\"\"\n",
    "    \n",
    "    #set up matrices, transition is deterministic\n",
    "    trans0, trans1 = pr_trans\n",
    "    \n",
    "    x = np.arange(1,STATES+1).reshape(STATES,1)*(MAX_X/STATES)\n",
    "    \n",
    "\n",
    "    #calculate value function for all state\n",
    "    pr_tile = np.tile( pr_obs.reshape(STATES,1), (1,STATES))\n",
    "    \n",
    "    denom = (np.identity(STATES) - BETA*(1-pr_tile)*trans0 - BETA*trans1*pr_tile)\n",
    "    \n",
    "    numer = ( (1-pr_obs)*(theta1*x  + GAMMA - np.log(1-pr_obs)) + \n",
    "                 pr_obs*(cost+ GAMMA - np.log(pr_obs) ) )\n",
    "    \n",
    "    value = np.linalg.inv(denom).dot(numer)\n",
    "    return value\n",
    "\n",
    "\n",
    "\n",
    "hm_value(-1e-5, -3, PR_OBS, PR_TRANS)"
   ]
  },
  {
   "cell_type": "code",
   "execution_count": 33,
   "metadata": {},
   "outputs": [
    {
     "data": {
      "text/plain": [
       "array([[0.16389381],\n",
       "       [0.99999867],\n",
       "       [1.        ],\n",
       "       [1.        ],\n",
       "       [1.        ]])"
      ]
     },
     "execution_count": 33,
     "metadata": {},
     "output_type": "execute_result"
    }
   ],
   "source": [
    "def hm_prob(theta1, cost, pr_obs, pr_trans):\n",
    "    \"\"\"calculate kappa using value function\"\"\"\n",
    "    \n",
    "    value = hm_value(theta1, cost, pr_obs, pr_trans)\n",
    "    trans0, trans1 = pr_trans\n",
    "    x = np.arange(1,STATES+1).reshape(STATES,1)*(MAX_X/STATES)\n",
    "    \n",
    "    delta1 = np.exp( cost + BETA*trans1.dot(value))\n",
    "    delta0 = np.exp( x*theta1 + BETA*trans0.dot(value) )\n",
    "    \n",
    "    return delta1/(delta1+delta0)\n",
    "\n",
    "hm_prob(-1e-5, -3, PR_OBS, PR_TRANS)"
   ]
  },
  {
   "cell_type": "code",
   "execution_count": 39,
   "metadata": {},
   "outputs": [
    {
     "name": "stdout",
     "output_type": "stream",
     "text": [
      "\n",
      " theta_1:-0.0, R:-5.5657\n"
     ]
    },
    {
     "name": "stderr",
     "output_type": "stream",
     "text": [
      "/home/erichschulman/anaconda2/lib/python2.7/site-packages/ipykernel_launcher.py:39: RuntimeWarning: invalid value encountered in log\n"
     ]
    }
   ],
   "source": [
    "from scipy.optimize import minimize\n",
    "\n",
    "\n",
    "class HotzMiller():\n",
    "    \"\"\"class for estimating the values of R and theta\n",
    "    using the Hotz Miller routine and the helper functions\n",
    "    above\"\"\"\n",
    "    \n",
    "    def __init__(self, x, x_next, i):\n",
    "        \n",
    "        #transitions\n",
    "        self.pr_obs = hm_initial_pr(x,i)\n",
    "        self.trans =  hm_transitions(0,x,x_next,i), hm_transitions(1,x,x_next,i)\n",
    "\n",
    "        #data\n",
    "        self.x = x\n",
    "        self.x_next = x\n",
    "        self.i = i\n",
    "        \n",
    "        #parameters\n",
    "        self.theta1 = 0\n",
    "        self.R = 0\n",
    "        \n",
    "        \n",
    "    def likelihood(self, params): \n",
    "        theta1, R = params\n",
    "        \n",
    "        # Input our data into the model\n",
    "        interval = int(MAX_X/STATES) + 1\n",
    "        i = self.i\n",
    "        x = (self.x/interval).astype(int)\n",
    "        \n",
    "        #set up hm state pr\n",
    "        prob = hm_prob(theta1, R, self.pr_obs, self.trans).transpose()[0]\n",
    "        prob = interp1d(np.arange(1,STATES+1), prob,fill_value=\"extrapolate\")\n",
    "        \n",
    "        log_likelihood = (1-i)*np.log(1-prob(x)) + i*np.log(prob(x))\n",
    "        \n",
    "        return -log_likelihood.sum()\n",
    "    \n",
    "    \n",
    "    def fit(self):\n",
    "        result = minimize(self.likelihood, [-1e-5,-3], method = 'Nelder-Mead', options={'disp': False})\n",
    "        self.theta1, self.R = result.x\n",
    "\n",
    "        \n",
    "model_hm = HotzMiller(data_safe['miles'],data_safe['miles_next'], data_safe['replace'])\n",
    "model_hm.fit()\n",
    "\n",
    "\n",
    "print '\\n theta_1:%s, R:%s'%(round(model_hm.theta1,4) , round(model_hm.R,4))"
   ]
  },
  {
   "cell_type": "code",
   "execution_count": null,
   "metadata": {},
   "outputs": [],
   "source": []
  }
 ],
 "metadata": {
  "kernelspec": {
   "display_name": "Python 2",
   "language": "python",
   "name": "python2"
  },
  "language_info": {
   "codemirror_mode": {
    "name": "ipython",
    "version": 2
   },
   "file_extension": ".py",
   "mimetype": "text/x-python",
   "name": "python",
   "nbconvert_exporter": "python",
   "pygments_lexer": "ipython2",
   "version": "2.7.15"
  }
 },
 "nbformat": 4,
 "nbformat_minor": 2
}
