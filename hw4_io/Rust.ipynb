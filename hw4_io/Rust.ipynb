{
 "cells": [
  {
   "cell_type": "code",
   "execution_count": 1,
   "metadata": {},
   "outputs": [],
   "source": [
    "import pandas as pd\n",
    "import math\n",
    "import numpy as np\n",
    "import statsmodels.api as sm\n",
    "import matplotlib.pyplot as plt\n",
    "\n",
    "from scipy.interpolate import interp1d #pre written interpolation function\n",
    "from statsmodels.base.model import GenericLikelihoodModel"
   ]
  },
  {
   "cell_type": "markdown",
   "metadata": {},
   "source": [
    "The code below references the following two sources:\n",
    "\n",
    "John Rust's website\n",
    "https://editorialexpress.com/jrust/nfxp.html\n",
    "\n",
    "Victor Aguirregabiria and Pedro Mira's website\n",
    "http://individual.utoronto.ca/vaguirre/wpapers/program_code_survey_joe_2008.html"
   ]
  },
  {
   "cell_type": "code",
   "execution_count": 105,
   "metadata": {},
   "outputs": [],
   "source": [
    "#constants\n",
    "BETA = .97\n",
    "MAX_X = data['miles'].max()\n",
    "MIN_X = data['miles'].min()\n",
    "STATES = 5"
   ]
  },
  {
   "cell_type": "code",
   "execution_count": 106,
   "metadata": {},
   "outputs": [],
   "source": [
    "#fix the bus .dat because Aguirregabiria and Mira hate everyone\n",
    "data = np.fromfile('bus1234.dat')\n",
    "data = data.reshape(len(data)/6,6)\n",
    "data = pd.DataFrame(data,columns=['id','group','year','month','replace','miles'])\n",
    "\n",
    "#save to .csv so other people don't need to be confused\n",
    "data.to_csv(\"bus1234.csv\")"
   ]
  },
  {
   "cell_type": "code",
   "execution_count": 107,
   "metadata": {
    "scrolled": true
   },
   "outputs": [],
   "source": [
    "#switch to date time for ease \n",
    "data['date'] = pd.to_datetime(data[['year', 'month']].assign(Day=1))\n",
    "data = data[['id','group','date','replace','miles']]\n",
    "\n",
    "#lag date\n",
    "date_lag = data.copy()\n",
    "date_lag['date'] = date_lag['date'] - pd.DateOffset(months=1)\n",
    "data = data.merge(date_lag, how='left', on=['id','group','date'] , suffixes=('','_next'))"
   ]
  },
  {
   "cell_type": "code",
   "execution_count": 108,
   "metadata": {},
   "outputs": [
    {
     "name": "stdout",
     "output_type": "stream",
     "text": [
      "[[0.        ]\n",
      " [0.00296108]\n",
      " [0.01472393]\n",
      " [0.0290404 ]\n",
      " [0.03225806]]\n"
     ]
    }
   ],
   "source": [
    "def hm_initial_pr(x_obs, i_obs):\n",
    "    \"\"\"calculate state pr\"\"\"\n",
    "    \n",
    "    interval = int(MAX_X/STATES) + 1\n",
    "    \n",
    "    discrete = (x_obs/interval).astype(int)\n",
    "    \n",
    "    df = np.array([discrete, i_obs]).transpose()\n",
    "    df = pd.DataFrame(df, columns=('x','i'))\n",
    "    pr_obs = df.groupby('x')\n",
    "    pr_obs = pr_obs.sum()/(1.*pr_obs.count())\n",
    "\n",
    "    return  np.array(pr_obs)\n",
    "\n",
    "\n",
    "result1 = hm_initial_pr(data['miles'],data['replace'])\n",
    "print result1"
   ]
  },
  {
   "cell_type": "code",
   "execution_count": 109,
   "metadata": {},
   "outputs": [
    {
     "data": {
      "text/plain": [
       "array([[0.95945946, 0.04054054, 0.        , 0.        , 0.        ],\n",
       "       [0.        , 0.96289905, 0.03710095, 0.        , 0.        ],\n",
       "       [0.        , 0.        , 0.96802508, 0.03197492, 0.        ],\n",
       "       [0.        , 0.        , 0.        , 0.98537234, 0.01462766],\n",
       "       [0.        , 0.        , 0.        , 0.        , 1.        ]])"
      ]
     },
     "execution_count": 109,
     "metadata": {},
     "output_type": "execute_result"
    }
   ],
   "source": [
    "#dropna values from lag\n",
    "data_safe = data.dropna()\n",
    "\n",
    "def hm_transitions(i, x_obs , x_next, i_obs):\n",
    "    \"\"\"calculate transitions probabilities,\n",
    "    non-parametrically\"\"\"\n",
    "    \n",
    "    interval = int(MAX_X/STATES) + 1\n",
    "    discrete = (x_obs/interval).astype(int)\n",
    "    discrete_next = (x_next/interval).astype(int)\n",
    "    \n",
    "    #set up dataframe with columns\n",
    "    df = np.array([discrete, discrete_next, i_obs ]).transpose()\n",
    "    df = pd.DataFrame(df, columns=('x','x_next','i'))\n",
    "    \n",
    "    #transition for this value of i,\n",
    "    df = df.loc[df['i'] == i]\n",
    "    pr_obs = df.groupby(['x','x_next']).count()/df[['i','x']].groupby('x').count()\n",
    "    \n",
    "    #set up transitions matrix\n",
    "    trans = np.arange(STATES)\n",
    "    trans = np.transpose([np.repeat(trans, STATES), np.tile(trans, STATES)] )\n",
    "    trans = pd.DataFrame(trans,columns=('x','x_next'))\n",
    "    \n",
    "    #merge with transition pr, 0 if nothing observed\n",
    "    trans = trans.merge(pr_obs, how = 'left', on=['x','x_next'])\n",
    "    trans = np.array(trans.fillna(0)['i']).reshape(STATES,STATES)\n",
    "    \n",
    "    #prevent column from being 0\n",
    "    bad_cols = trans.sum(axis=1)\n",
    "    trans[:,] = np.maximum(trans,1-bad_cols)\n",
    "    \n",
    "    return trans\n",
    "\n",
    "\n",
    "hm_transitions(0,data_safe['miles'],data_safe['miles_next'],data_safe['replace'])"
   ]
  },
  {
   "cell_type": "code",
   "execution_count": 46,
   "metadata": {},
   "outputs": [],
   "source": [
    "def hm_value(a_max, theta1, cost, pr_obs):\n",
    "    \"\"\"calculate value function using hotz miller approach\"\"\"\n",
    "    \n",
    "    #set up matrices, transition is deterministic\n",
    "    trans0, trans1 = hm_transitions(a_max)\n",
    "    a = np.arange(1,a_max+1).reshape(a_max,1)\n",
    "    \n",
    "    #calculate value function for all state\n",
    "    pr_tile = np.tile( pr_obs.reshape(a_max,1), (1,a_max))\n",
    "    \n",
    "    denom = (np.identity(a_max) - BETA*(1-pr_tile)*trans0 - BETA*trans1*pr_tile)\n",
    "        \n",
    "    numer = ( (1-pr_obs)*(theta1*a  + GAMMA - np.log(1-pr_obs)) + \n",
    "                 pr_obs*(cost+ GAMMA - np.log(pr_obs) ) )\n",
    "    \n",
    "    value = np.linalg.inv(denom).dot(numer)\n",
    "    return value\n",
    "\n",
    "\n",
    "def hm_prob(a_max, theta1, cost, pr_obs):\n",
    "    \"\"\"calculate kappa using value function\"\"\"\n",
    "    \n",
    "    value = hm_value(a_max, theta1, cost, pr_obs)\n",
    "    trans0,trans1 = hm_transitions(a_max)\n",
    "    a = np.arange(1,a_max+1).reshape(a_max,1)\n",
    "\n",
    "    delta1 = np.exp( cost + BETA*trans1.dot(value))\n",
    "    delta0 = np.exp( a*theta1 + BETA*trans0.dot(value) )\n",
    "    \n",
    "    return delta1/(delta1+delta0)"
   ]
  },
  {
   "cell_type": "code",
   "execution_count": null,
   "metadata": {},
   "outputs": [],
   "source": []
  }
 ],
 "metadata": {
  "kernelspec": {
   "display_name": "Python 2",
   "language": "python",
   "name": "python2"
  },
  "language_info": {
   "codemirror_mode": {
    "name": "ipython",
    "version": 2
   },
   "file_extension": ".py",
   "mimetype": "text/x-python",
   "name": "python",
   "nbconvert_exporter": "python",
   "pygments_lexer": "ipython2",
   "version": "2.7.15"
  }
 },
 "nbformat": 4,
 "nbformat_minor": 2
}
