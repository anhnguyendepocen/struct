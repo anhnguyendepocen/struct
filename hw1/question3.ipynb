{
 "cells": [
  {
   "cell_type": "code",
   "execution_count": 1,
   "metadata": {},
   "outputs": [],
   "source": [
    "import pandas\n",
    "import math\n",
    "import numpy as np\n",
    "import matplotlib.pyplot as plt\n",
    "import statsmodels.api as sm\n",
    "from scipy.stats import norm\n",
    "from statsmodels.sandbox.regression.gmm import GMM\n",
    "from statsmodels.base.model import GenericLikelihoodModel"
   ]
  },
  {
   "cell_type": "code",
   "execution_count": 2,
   "metadata": {},
   "outputs": [],
   "source": [
    "data3 = np.genfromtxt('data3.dat', delimiter='  ')\n",
    "data3 = data3.transpose()\n",
    "drawsml = np.genfromtxt('drawsml.dat', delimiter='  ')\n",
    "drawsgmm = np.genfromtxt('drawsgmm.dat', delimiter='  ')"
   ]
  },
  {
   "cell_type": "code",
   "execution_count": 41,
   "metadata": {},
   "outputs": [
    {
     "name": "stdout",
     "output_type": "stream",
     "text": [
      "20\n",
      "20\n"
     ]
    },
    {
     "data": {
      "text/plain": [
       "array([0., 0., 0., 0., 0., 0.])"
      ]
     },
     "execution_count": 41,
     "metadata": {},
     "output_type": "execute_result"
    }
   ],
   "source": [
    "print len(drawsgmm[1][0:len(drawsgmm[1])/2])\n",
    "print len(drawsgmm[1][20:len(drawsgmm[1])])\n",
    "np.zeros(6)"
   ]
  },
  {
   "cell_type": "code",
   "execution_count": 52,
   "metadata": {},
   "outputs": [
    {
     "name": "stdout",
     "output_type": "stream",
     "text": [
      "Warning: Maximum number of iterations has been exceeded.\n"
     ]
    },
    {
     "name": "stderr",
     "output_type": "stream",
     "text": [
      "/home/erichschulman/anaconda2/lib/python2.7/site-packages/statsmodels/base/model.py:508: ConvergenceWarning: Maximum Likelihood optimization failed to converge. Check mle_retvals\n",
      "  \"Check mle_retvals\", ConvergenceWarning)\n"
     ]
    },
    {
     "name": "stdout",
     "output_type": "stream",
     "text": [
      "                                part_b Results                                \n",
      "==============================================================================\n",
      "Dep. Variable:                      y   Log-Likelihood:                -184.20\n",
      "Model:                         part_b   AIC:                             372.4\n",
      "Method:            Maximum Likelihood   BIC:                             376.2\n",
      "Date:                Thu, 20 Sep 2018                                         \n",
      "Time:                        18:04:32                                         \n",
      "No. Observations:                  50                                         \n",
      "Df Residuals:                      48                                         \n",
      "Df Model:                           1                                         \n",
      "==============================================================================\n",
      "                 coef    std err          z      P>|z|      [0.025      0.975]\n",
      "------------------------------------------------------------------------------\n",
      "x1             0.9000      0.114      7.863      0.000       0.676       1.124\n",
      "x2             1.0500      0.687      1.529      0.126      -0.296       2.396\n",
      "sigma          1.0500      0.291      3.613      0.000       0.480       1.620\n",
      "==============================================================================\n"
     ]
    }
   ],
   "source": [
    "def sim_pr(t1,t2,sigma,y,x1,x2,eps1):\n",
    "    sim_pr = 0\n",
    "    for s in range(len(eps1)):\n",
    "        #this expression may be wrong\n",
    "        mc1 = np.exp(t1 + t2*x1 + sigma*eps1[s])\n",
    "        f_inv =  (np.log( max(3*y - 100.0 - mc1, .0001 ) ) - t1 -t2*x2)/sigma\n",
    "        f_prime = (3.0/sigma)*max((3.0*y - 100.0 - mc1),.0001)\n",
    "        sim_l = norm(0,1).pdf(f_inv)*f_prime\n",
    "        # convert eps2 into a likelihood\n",
    "    return np.log(max(sim_l/len(eps1),.0001))\n",
    "\n",
    "\n",
    "def sim_ll(y,x1,x2,t1,t2,sigma,v=False):\n",
    "    #hard coded draws\n",
    "    eps1 = np.genfromtxt('drawsml.dat', delimiter='  ')\n",
    "    ll = 0\n",
    "    for i in range(len(eps1)):\n",
    "        #run simulation\n",
    "        ll = ll + sim_pr(t1,t2,sigma,y[i],x1[i],x2[i],eps1[i])\n",
    "        #if v: print 'xi1: %s, yi: %s, eps1i: %s, eps2: %s \\n'%(x1[i],y[i], eps1[i][1], eps2)\n",
    "    return ll\n",
    "\n",
    "\n",
    "class part_b(GenericLikelihoodModel):\n",
    "    \n",
    "    def nloglikeobs(self, params):\n",
    "        t1, t2, sigma = params\n",
    "        y = self.endog\n",
    "        x1,x2 = self.exog.transpose()\n",
    "        return -sim_ll(y, x1,x2,t1,t2,sigma)\n",
    "\n",
    "    \n",
    "    def fit(self, start_params=None, maxiter=10000, maxfun=5000, **kwds):\n",
    "        # we have one additional parameter and we need to add it for summary\n",
    "        self.exog_names.append('sigma')\n",
    "        if start_params == None:\n",
    "            # Reasonable starting values\n",
    "            start_params = np.append(np.zeros(self.exog.shape[1]), [.5])\n",
    "        return super(part_b, self).fit(start_params=start_params, maxiter=2, maxfun=maxfun, **kwds)\n",
    "\n",
    "    \n",
    "model_b = part_b(data3[0],data3[1:].transpose()).fit(start_params = [1,1,1])\n",
    "print(model_b.summary())"
   ]
  },
  {
   "cell_type": "code",
   "execution_count": 25,
   "metadata": {},
   "outputs": [
    {
     "name": "stdout",
     "output_type": "stream",
     "text": [
      "Optimization terminated successfully.\n",
      "         Current function value: 0.000000\n",
      "         Iterations: 42\n",
      "         Function evaluations: 84\n",
      "Optimization terminated successfully.\n",
      "         Current function value: 0.004433\n",
      "         Iterations: 73\n",
      "         Function evaluations: 136\n",
      "Optimization terminated successfully.\n",
      "         Current function value: 0.015908\n",
      "         Iterations: 55\n",
      "         Function evaluations: 104\n",
      "                                part_c Results                                \n",
      "==============================================================================\n",
      "Dep. Variable:                      y   Hansen J:                       0.7954\n",
      "Model:                         part_c   Prob (Hansen J):                 0.372\n",
      "Method:                           GMM                                         \n",
      "Date:                Thu, 20 Sep 2018                                         \n",
      "Time:                        15:35:52                                         \n",
      "No. Observations:                  50                                         \n",
      "==============================================================================\n",
      "                 coef    std err          z      P>|z|      [0.025      0.975]\n",
      "------------------------------------------------------------------------------\n",
      "theta_1        0.9993      0.010    100.468      0.000       0.980       1.019\n",
      "theta_2        1.0998      0.116      9.465      0.000       0.872       1.328\n",
      "sigma         -0.1010      0.008    -12.508      0.000      -0.117      -0.085\n",
      "==============================================================================\n"
     ]
    }
   ],
   "source": [
    "def sim_g(t1,t2,sigma,y,x1,x2,eps1,eps2):\n",
    "    g = 0\n",
    "    for s in range(len(eps1)):\n",
    "        #this expression may be wrong\n",
    "        y_hat = 1/3.0*(100 + np.exp(t1 + t2*x1 + sigma*eps1[s]) + np.exp(t1 + t2*x2 + sigma*eps2[s]) )\n",
    "        g = g + (y - y_hat)\n",
    "        \n",
    "    return g/ (len(eps1)*len(eps2))\n",
    "\n",
    "\n",
    "def sim_g_sq(t1,t2,sigma,y,x1,x2,eps1,eps2):\n",
    "    g = 0\n",
    "    for s in range(len(eps1)):\n",
    "        #this expression may be wrong\n",
    "        y_hat = 1/3.0*(100 + np.exp(t1 + t2*x1 + sigma*eps1[s]) + np.exp(t1 + t2*x2 + sigma*eps2[s]) )\n",
    "        g = g + (y**2-y_hat**2)\n",
    "    return g/(len(eps1)*len(eps2))\n",
    "\n",
    "\n",
    "class part_c(GMM):\n",
    "    def __init__(self, *args, **kwds):\n",
    "        # set appropriate counts for moment conditions and parameters\n",
    "        kwds.setdefault('k_moms', 4)\n",
    "        kwds.setdefault('k_params',3)\n",
    "        super(part_c, self).__init__(*args, **kwds)\n",
    "\n",
    "    def momcond(self, params):\n",
    "        t1,t2, sigma = params   \n",
    "        y = self.endog\n",
    "        x1,x2 = self.exog.transpose()\n",
    "        \n",
    "        #initialize draws\n",
    "        eps = np.genfromtxt('drawsgmm.dat', delimiter='  ').transpose()\n",
    "        eps1 = eps[0:len(eps)/2]\n",
    "        eps2 = eps[len(eps)/2:len(eps)]\n",
    "        #calc moment conditions\n",
    "        g = sim_g(t1,t2,sigma,y,x1,x2,eps1,eps2)\n",
    "        g_sq = sim_g_sq(t1,t2,sigma,y,x1,x2,eps1,eps2)\n",
    "        return np.column_stack((g,g*x1,g*x2,g_sq))\n",
    "\n",
    "\n",
    "model_c = part_c(data3[0],data3[1:].transpose(), None)\n",
    "model_c.set_param_names(['theta_1','theta_2','sigma'])\n",
    "beta0 = np.array([1, 1,1])\n",
    "resc = model_c.fit(beta0, maxiter=3, optim_method='nm', wargs=dict(centered=False))\n",
    "print(resc.summary())"
   ]
  },
  {
   "cell_type": "code",
   "execution_count": null,
   "metadata": {},
   "outputs": [],
   "source": []
  }
 ],
 "metadata": {
  "kernelspec": {
   "display_name": "Python 2",
   "language": "python",
   "name": "python2"
  },
  "language_info": {
   "codemirror_mode": {
    "name": "ipython",
    "version": 2
   },
   "file_extension": ".py",
   "mimetype": "text/x-python",
   "name": "python",
   "nbconvert_exporter": "python",
   "pygments_lexer": "ipython2",
   "version": "2.7.15"
  }
 },
 "nbformat": 4,
 "nbformat_minor": 2
}
